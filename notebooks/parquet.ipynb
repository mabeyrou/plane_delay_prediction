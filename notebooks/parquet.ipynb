{
 "cells": [
  {
   "cell_type": "code",
   "execution_count": 1,
   "id": "45b41472",
   "metadata": {},
   "outputs": [],
   "source": [
    "import pandas as pd\n",
    "from os.path import join\n",
    "import os\n",
    "from sklearn.model_selection import train_test_split"
   ]
  },
  {
   "cell_type": "code",
   "execution_count": 2,
   "id": "70f22d1a",
   "metadata": {},
   "outputs": [],
   "source": [
    "raw_data_path = join(\"..\", \"data\", \"raw\")"
   ]
  },
  {
   "cell_type": "code",
   "execution_count": 3,
   "id": "093caf79",
   "metadata": {},
   "outputs": [],
   "source": [
    "cols_to_int = [\n",
    "    \"YEAR\",\n",
    "    \"QUARTER\",\n",
    "    \"MONTH\",\n",
    "    \"DAY_OF_MONTH\",\n",
    "    \"DAY_OF_WEEK\",\n",
    "    \"AIRLINE_ID\",\n",
    "    \"FL_NUM\",\n",
    "    \"ORIGIN_AIRPORT_ID\",\n",
    "    \"ORIGIN_AIRPORT_SEQ_ID\",\n",
    "    \"ORIGIN_CITY_MARKET_ID\",\n",
    "    \"ORIGIN_STATE_FIPS\",\n",
    "    \"ORIGIN_WAC\",\n",
    "    \"DEST_AIRPORT_ID\",\n",
    "    \"DEST_AIRPORT_SEQ_ID\",\n",
    "    \"DEST_CITY_MARKET_ID\",\n",
    "    \"DEST_STATE_FIPS\",\n",
    "    \"DEST_WAC\",\n",
    "    \"CRS_DEP_TIME\",\n",
    "    \"DEP_TIME\",\n",
    "    \"DEP_DELAY\",\n",
    "    \"DEP_DELAY_NEW\",\n",
    "    \"DEP_DEL15\",\n",
    "    \"DEP_DELAY_GROUP\",\n",
    "    \"TAXI_OUT\",\n",
    "    \"WHEELS_OFF\",\n",
    "    \"WHEELS_ON\",\n",
    "    \"TAXI_IN\",\n",
    "    \"CRS_ARR_TIME\",\n",
    "    \"ARR_TIME\",\n",
    "    \"ARR_DELAY\",\n",
    "    \"ARR_DELAY_NEW\",\n",
    "    \"ARR_DEL15\",\n",
    "    \"ARR_DELAY_GROUP\",\n",
    "    \"CANCELLED\",\n",
    "    \"DIVERTED\",\n",
    "    \"CRS_ELAPSED_TIME\",\n",
    "    \"ACTUAL_ELAPSED_TIME\",\n",
    "    \"AIR_TIME\",\n",
    "    \"FLIGHTS\",\n",
    "    \"DISTANCE\",\n",
    "    \"DISTANCE_GROUP\",\n",
    "    \"CARRIER_DELAY\",\n",
    "    \"WEATHER_DELAY\",\n",
    "    \"NAS_DELAY\",\n",
    "    \"SECURITY_DELAY\",\n",
    "    \"LATE_AIRCRAFT_DELAY\",\n",
    "    \"FIRST_DEP_TIME\",\n",
    "    \"TOTAL_ADD_GTIME\",\n",
    "    \"LONGEST_ADD_GTIME\",\n",
    "]"
   ]
  },
  {
   "cell_type": "code",
   "execution_count": 4,
   "id": "a63dc9ab",
   "metadata": {},
   "outputs": [
    {
     "name": "stdout",
     "output_type": "stream",
     "text": [
      "Converti : ../data/raw/2016_01.csv -> 2016_01.parquet\n",
      "Converti : ../data/raw/2016_02.csv -> 2016_02.parquet\n",
      "Converti : ../data/raw/2016_03.csv -> 2016_03.parquet\n"
     ]
    },
    {
     "name": "stderr",
     "output_type": "stream",
     "text": [
      "/tmp/ipykernel_9475/3032748337.py:3: ParserWarning: Skipping line 121012: expected 65 fields, saw 75\n",
      "Skipping line 386249: expected 65 fields, saw 83\n",
      "Skipping line 388291: expected 65 fields, saw 78\n",
      "Skipping line 389371: expected 65 fields, saw 72\n",
      "Skipping line 389548: expected 65 fields, saw 81\n",
      "Skipping line 453858: expected 65 fields, saw 97\n",
      "\n",
      "  df = pd.read_csv(data_path, on_bad_lines=\"warn\", low_memory=False)\n"
     ]
    },
    {
     "name": "stdout",
     "output_type": "stream",
     "text": [
      "Converti : ../data/raw/2016_04.csv -> 2016_04.parquet\n",
      "Converti : ../data/raw/2016_05.csv -> 2016_05.parquet\n",
      "Converti : ../data/raw/2016_06.csv -> 2016_06.parquet\n",
      "Converti : ../data/raw/2016_07.csv -> 2016_07.parquet\n",
      "Converti : ../data/raw/2016_08.csv -> 2016_08.parquet\n",
      "Converti : ../data/raw/2016_09.csv -> 2016_09.parquet\n",
      "Converti : ../data/raw/2016_10.csv -> 2016_10.parquet\n",
      "Converti : ../data/raw/2016_11.csv -> 2016_11.parquet\n",
      "Converti : ../data/raw/2016_12.csv -> 2016_12.parquet\n"
     ]
    }
   ],
   "source": [
    "for month in range(1, 13):\n",
    "    data_path = join(raw_data_path, f\"2016_{month:02}.csv\")\n",
    "    df = pd.read_csv(data_path, on_bad_lines=\"warn\", low_memory=False)\n",
    "\n",
    "    df = df.drop(columns=[\"Unnamed: 64\"])\n",
    "\n",
    "    if month == 4:\n",
    "        df = df.drop(index=461814)\n",
    "        df = df[df[\"MONTH\"] != 3]\n",
    "\n",
    "    for col in cols_to_int:\n",
    "        if col in df.columns:\n",
    "            df[col] = pd.to_numeric(df[col], errors=\"coerce\").astype(\"Int64\")\n",
    "\n",
    "    parquet_path = data_path.replace(\".csv\", \".parquet\")\n",
    "    df.to_parquet(parquet_path)\n",
    "    print(f\"Converti : {data_path} -> {os.path.basename(parquet_path)}\")"
   ]
  },
  {
   "cell_type": "code",
   "execution_count": 5,
   "id": "4439721a",
   "metadata": {},
   "outputs": [
    {
     "name": "stdout",
     "output_type": "stream",
     "text": [
      "445827 lines loaded from ../data/raw/2016_01.parquet ✅\n",
      "--------------------------------------------------\n",
      "423889 lines loaded from ../data/raw/2016_02.parquet ✅\n",
      "--------------------------------------------------\n",
      "479122 lines loaded from ../data/raw/2016_03.parquet ✅\n",
      "--------------------------------------------------\n",
      "362832 lines loaded from ../data/raw/2016_04.parquet ✅\n",
      "--------------------------------------------------\n",
      "479358 lines loaded from ../data/raw/2016_05.parquet ✅\n",
      "--------------------------------------------------\n",
      "487637 lines loaded from ../data/raw/2016_06.parquet ✅\n",
      "--------------------------------------------------\n",
      "502457 lines loaded from ../data/raw/2016_07.parquet ✅\n",
      "--------------------------------------------------\n",
      "498347 lines loaded from ../data/raw/2016_08.parquet ✅\n",
      "--------------------------------------------------\n",
      "454878 lines loaded from ../data/raw/2016_09.parquet ✅\n",
      "--------------------------------------------------\n",
      "472626 lines loaded from ../data/raw/2016_10.parquet ✅\n",
      "--------------------------------------------------\n",
      "450938 lines loaded from ../data/raw/2016_11.parquet ✅\n",
      "--------------------------------------------------\n",
      "460949 lines loaded from ../data/raw/2016_12.parquet ✅\n",
      "--------------------------------------------------\n",
      "For a total lines count of: 5518860\n"
     ]
    }
   ],
   "source": [
    "pd.set_option(\"display.max_rows\", 65)\n",
    "pd.set_option(\"display.max_columns\", 65)\n",
    "\n",
    "df_list = []\n",
    "total_lines_count = 0\n",
    "\n",
    "for month in range(1, 13):\n",
    "    data_path = join(raw_data_path, f\"2016_{month:02}.parquet\")\n",
    "    try:\n",
    "        month_df = pd.read_parquet(data_path)\n",
    "        df_list.append(month_df)\n",
    "        lines_count = month_df.shape[0]\n",
    "        total_lines_count += lines_count\n",
    "        print(f\"{lines_count} lines loaded from {data_path} ✅\")\n",
    "    except pd.errors.ParserError as err:\n",
    "        print(f\"ParserError for {data_path}: {err}\")\n",
    "    print(\"-\" * 50)\n",
    "\n",
    "print(f\"For a total lines count of: {total_lines_count}\")\n"
   ]
  },
  {
   "cell_type": "code",
   "execution_count": 6,
   "id": "ca20b7a0",
   "metadata": {},
   "outputs": [],
   "source": [
    "concat_df = pd.concat(df_list, ignore_index=True)"
   ]
  },
  {
   "cell_type": "code",
   "execution_count": 7,
   "id": "d5382242",
   "metadata": {},
   "outputs": [],
   "source": [
    "concat_df.to_parquet(join(raw_data_path, \"complete.parquet\"))"
   ]
  }
 ],
 "metadata": {
  "kernelspec": {
   "display_name": ".venv (3.10.18)",
   "language": "python",
   "name": "python3"
  },
  "language_info": {
   "codemirror_mode": {
    "name": "ipython",
    "version": 3
   },
   "file_extension": ".py",
   "mimetype": "text/x-python",
   "name": "python",
   "nbconvert_exporter": "python",
   "pygments_lexer": "ipython3",
   "version": "3.10.18"
  }
 },
 "nbformat": 4,
 "nbformat_minor": 5
}
