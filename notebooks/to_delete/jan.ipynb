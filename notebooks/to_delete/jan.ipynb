{
 "cells": [
  {
   "cell_type": "markdown",
   "metadata": {},
   "source": [
    "# PREDICTION DES RETARDS DE VOL\n"
   ]
  },
  {
   "cell_type": "markdown",
   "metadata": {},
   "source": [
    "## 1. IMPORT DES LIBRAIRIES\n"
   ]
  },
  {
   "cell_type": "code",
   "execution_count": 1,
   "metadata": {},
   "outputs": [],
   "source": [
    "import pandas as pd\n",
    "from os.path import join\n",
    "from sklearn.model_selection import train_test_split"
   ]
  },
  {
   "cell_type": "markdown",
   "metadata": {},
   "source": [
    "## 2. CHARGEMENT DES DONNÉES\n"
   ]
  },
  {
   "cell_type": "code",
   "execution_count": 2,
   "metadata": {},
   "outputs": [],
   "source": [
    "raw_data_path = join(\"..\", \"data\", \"raw\")"
   ]
  },
  {
   "cell_type": "code",
   "execution_count": 3,
   "metadata": {},
   "outputs": [],
   "source": [
    "jan_data_path = join(raw_data_path, \"2016_01.csv\")"
   ]
  },
  {
   "cell_type": "code",
   "execution_count": 4,
   "metadata": {},
   "outputs": [
    {
     "data": {
      "application/vnd.microsoft.datawrangler.viewer.v0+json": {
       "columns": [
        {
         "name": "index",
         "rawType": "int64",
         "type": "integer"
        },
        {
         "name": "YEAR",
         "rawType": "int64",
         "type": "integer"
        },
        {
         "name": "QUARTER",
         "rawType": "int64",
         "type": "integer"
        },
        {
         "name": "MONTH",
         "rawType": "int64",
         "type": "integer"
        },
        {
         "name": "DAY_OF_MONTH",
         "rawType": "int64",
         "type": "integer"
        },
        {
         "name": "DAY_OF_WEEK",
         "rawType": "int64",
         "type": "integer"
        },
        {
         "name": "FL_DATE",
         "rawType": "object",
         "type": "string"
        },
        {
         "name": "UNIQUE_CARRIER",
         "rawType": "object",
         "type": "string"
        },
        {
         "name": "AIRLINE_ID",
         "rawType": "int64",
         "type": "integer"
        },
        {
         "name": "CARRIER",
         "rawType": "object",
         "type": "string"
        },
        {
         "name": "TAIL_NUM",
         "rawType": "object",
         "type": "string"
        },
        {
         "name": "FL_NUM",
         "rawType": "int64",
         "type": "integer"
        },
        {
         "name": "ORIGIN_AIRPORT_ID",
         "rawType": "int64",
         "type": "integer"
        },
        {
         "name": "ORIGIN_AIRPORT_SEQ_ID",
         "rawType": "int64",
         "type": "integer"
        },
        {
         "name": "ORIGIN_CITY_MARKET_ID",
         "rawType": "int64",
         "type": "integer"
        },
        {
         "name": "ORIGIN",
         "rawType": "object",
         "type": "string"
        },
        {
         "name": "ORIGIN_CITY_NAME",
         "rawType": "object",
         "type": "string"
        },
        {
         "name": "ORIGIN_STATE_ABR",
         "rawType": "object",
         "type": "string"
        },
        {
         "name": "ORIGIN_STATE_FIPS",
         "rawType": "int64",
         "type": "integer"
        },
        {
         "name": "ORIGIN_STATE_NM",
         "rawType": "object",
         "type": "string"
        },
        {
         "name": "ORIGIN_WAC",
         "rawType": "int64",
         "type": "integer"
        },
        {
         "name": "DEST_AIRPORT_ID",
         "rawType": "int64",
         "type": "integer"
        },
        {
         "name": "DEST_AIRPORT_SEQ_ID",
         "rawType": "int64",
         "type": "integer"
        },
        {
         "name": "DEST_CITY_MARKET_ID",
         "rawType": "int64",
         "type": "integer"
        },
        {
         "name": "DEST",
         "rawType": "object",
         "type": "string"
        },
        {
         "name": "DEST_CITY_NAME",
         "rawType": "object",
         "type": "string"
        },
        {
         "name": "DEST_STATE_ABR",
         "rawType": "object",
         "type": "string"
        },
        {
         "name": "DEST_STATE_FIPS",
         "rawType": "int64",
         "type": "integer"
        },
        {
         "name": "DEST_STATE_NM",
         "rawType": "object",
         "type": "string"
        },
        {
         "name": "DEST_WAC",
         "rawType": "int64",
         "type": "integer"
        },
        {
         "name": "CRS_DEP_TIME",
         "rawType": "int64",
         "type": "integer"
        },
        {
         "name": "DEP_TIME",
         "rawType": "float64",
         "type": "float"
        },
        {
         "name": "DEP_DELAY",
         "rawType": "float64",
         "type": "float"
        },
        {
         "name": "DEP_DELAY_NEW",
         "rawType": "float64",
         "type": "float"
        },
        {
         "name": "DEP_DEL15",
         "rawType": "float64",
         "type": "float"
        },
        {
         "name": "DEP_DELAY_GROUP",
         "rawType": "float64",
         "type": "float"
        },
        {
         "name": "DEP_TIME_BLK",
         "rawType": "object",
         "type": "string"
        },
        {
         "name": "TAXI_OUT",
         "rawType": "float64",
         "type": "float"
        },
        {
         "name": "WHEELS_OFF",
         "rawType": "float64",
         "type": "float"
        },
        {
         "name": "WHEELS_ON",
         "rawType": "float64",
         "type": "float"
        },
        {
         "name": "TAXI_IN",
         "rawType": "float64",
         "type": "float"
        },
        {
         "name": "CRS_ARR_TIME",
         "rawType": "int64",
         "type": "integer"
        },
        {
         "name": "ARR_TIME",
         "rawType": "float64",
         "type": "float"
        },
        {
         "name": "ARR_DELAY",
         "rawType": "float64",
         "type": "float"
        },
        {
         "name": "ARR_DELAY_NEW",
         "rawType": "float64",
         "type": "float"
        },
        {
         "name": "ARR_DEL15",
         "rawType": "float64",
         "type": "float"
        },
        {
         "name": "ARR_DELAY_GROUP",
         "rawType": "float64",
         "type": "float"
        },
        {
         "name": "ARR_TIME_BLK",
         "rawType": "object",
         "type": "string"
        },
        {
         "name": "CANCELLED",
         "rawType": "float64",
         "type": "float"
        },
        {
         "name": "CANCELLATION_CODE",
         "rawType": "object",
         "type": "unknown"
        },
        {
         "name": "DIVERTED",
         "rawType": "float64",
         "type": "float"
        },
        {
         "name": "CRS_ELAPSED_TIME",
         "rawType": "float64",
         "type": "float"
        },
        {
         "name": "ACTUAL_ELAPSED_TIME",
         "rawType": "float64",
         "type": "float"
        },
        {
         "name": "AIR_TIME",
         "rawType": "float64",
         "type": "float"
        },
        {
         "name": "FLIGHTS",
         "rawType": "float64",
         "type": "float"
        },
        {
         "name": "DISTANCE",
         "rawType": "float64",
         "type": "float"
        },
        {
         "name": "DISTANCE_GROUP",
         "rawType": "int64",
         "type": "integer"
        },
        {
         "name": "CARRIER_DELAY",
         "rawType": "float64",
         "type": "float"
        },
        {
         "name": "WEATHER_DELAY",
         "rawType": "float64",
         "type": "float"
        },
        {
         "name": "NAS_DELAY",
         "rawType": "float64",
         "type": "float"
        },
        {
         "name": "SECURITY_DELAY",
         "rawType": "float64",
         "type": "float"
        },
        {
         "name": "LATE_AIRCRAFT_DELAY",
         "rawType": "float64",
         "type": "float"
        },
        {
         "name": "FIRST_DEP_TIME",
         "rawType": "float64",
         "type": "float"
        },
        {
         "name": "TOTAL_ADD_GTIME",
         "rawType": "float64",
         "type": "float"
        },
        {
         "name": "LONGEST_ADD_GTIME",
         "rawType": "float64",
         "type": "float"
        },
        {
         "name": "Unnamed: 64",
         "rawType": "float64",
         "type": "float"
        }
       ],
       "ref": "8a720e34-6179-485e-8256-8bfb6a3232f6",
       "rows": [
        [
         "0",
         "2016",
         "1",
         "1",
         "6",
         "3",
         "2016-01-06",
         "AA",
         "19805",
         "AA",
         "N4YBAA",
         "43",
         "11298",
         "1129804",
         "30194",
         "DFW",
         "Dallas/Fort Worth, TX",
         "TX",
         "48",
         "Texas",
         "74",
         "11433",
         "1143302",
         "31295",
         "DTW",
         "Detroit, MI",
         "MI",
         "26",
         "Michigan",
         "43",
         "1100",
         "1057.0",
         "-3.0",
         "0.0",
         "0.0",
         "-1.0",
         "1100-1159",
         "15.0",
         "1112.0",
         "1424.0",
         "8.0",
         "1438",
         "1432.0",
         "-6.0",
         "0.0",
         "0.0",
         "-1.0",
         "1400-1459",
         "0.0",
         null,
         "0.0",
         "158.0",
         "155.0",
         "132.0",
         "1.0",
         "986.0",
         "4",
         null,
         null,
         null,
         null,
         null,
         null,
         null,
         null,
         null
        ],
        [
         "1",
         "2016",
         "1",
         "1",
         "7",
         "4",
         "2016-01-07",
         "AA",
         "19805",
         "AA",
         "N434AA",
         "43",
         "11298",
         "1129804",
         "30194",
         "DFW",
         "Dallas/Fort Worth, TX",
         "TX",
         "48",
         "Texas",
         "74",
         "11433",
         "1143302",
         "31295",
         "DTW",
         "Detroit, MI",
         "MI",
         "26",
         "Michigan",
         "43",
         "1100",
         "1056.0",
         "-4.0",
         "0.0",
         "0.0",
         "-1.0",
         "1100-1159",
         "14.0",
         "1110.0",
         "1416.0",
         "10.0",
         "1438",
         "1426.0",
         "-12.0",
         "0.0",
         "0.0",
         "-1.0",
         "1400-1459",
         "0.0",
         null,
         "0.0",
         "158.0",
         "150.0",
         "126.0",
         "1.0",
         "986.0",
         "4",
         null,
         null,
         null,
         null,
         null,
         null,
         null,
         null,
         null
        ],
        [
         "2",
         "2016",
         "1",
         "1",
         "8",
         "5",
         "2016-01-08",
         "AA",
         "19805",
         "AA",
         "N541AA",
         "43",
         "11298",
         "1129804",
         "30194",
         "DFW",
         "Dallas/Fort Worth, TX",
         "TX",
         "48",
         "Texas",
         "74",
         "11433",
         "1143302",
         "31295",
         "DTW",
         "Detroit, MI",
         "MI",
         "26",
         "Michigan",
         "43",
         "1100",
         "1055.0",
         "-5.0",
         "0.0",
         "0.0",
         "-1.0",
         "1100-1159",
         "21.0",
         "1116.0",
         "1431.0",
         "14.0",
         "1438",
         "1445.0",
         "7.0",
         "7.0",
         "0.0",
         "0.0",
         "1400-1459",
         "0.0",
         null,
         "0.0",
         "158.0",
         "170.0",
         "135.0",
         "1.0",
         "986.0",
         "4",
         null,
         null,
         null,
         null,
         null,
         null,
         null,
         null,
         null
        ],
        [
         "3",
         "2016",
         "1",
         "1",
         "9",
         "6",
         "2016-01-09",
         "AA",
         "19805",
         "AA",
         "N489AA",
         "43",
         "11298",
         "1129804",
         "30194",
         "DFW",
         "Dallas/Fort Worth, TX",
         "TX",
         "48",
         "Texas",
         "74",
         "11433",
         "1143302",
         "31295",
         "DTW",
         "Detroit, MI",
         "MI",
         "26",
         "Michigan",
         "43",
         "1100",
         "1102.0",
         "2.0",
         "2.0",
         "0.0",
         "0.0",
         "1100-1159",
         "13.0",
         "1115.0",
         "1424.0",
         "9.0",
         "1438",
         "1433.0",
         "-5.0",
         "0.0",
         "0.0",
         "-1.0",
         "1400-1459",
         "0.0",
         null,
         "0.0",
         "158.0",
         "151.0",
         "129.0",
         "1.0",
         "986.0",
         "4",
         null,
         null,
         null,
         null,
         null,
         null,
         null,
         null,
         null
        ],
        [
         "4",
         "2016",
         "1",
         "1",
         "10",
         "7",
         "2016-01-10",
         "AA",
         "19805",
         "AA",
         "N439AA",
         "43",
         "11298",
         "1129804",
         "30194",
         "DFW",
         "Dallas/Fort Worth, TX",
         "TX",
         "48",
         "Texas",
         "74",
         "11433",
         "1143302",
         "31295",
         "DTW",
         "Detroit, MI",
         "MI",
         "26",
         "Michigan",
         "43",
         "1100",
         "1240.0",
         "100.0",
         "100.0",
         "1.0",
         "6.0",
         "1100-1159",
         "20.0",
         "1300.0",
         "1617.0",
         "14.0",
         "1438",
         "1631.0",
         "113.0",
         "113.0",
         "1.0",
         "7.0",
         "1400-1459",
         "0.0",
         null,
         "0.0",
         "158.0",
         "171.0",
         "137.0",
         "1.0",
         "986.0",
         "4",
         "0.0",
         "0.0",
         "47.0",
         "0.0",
         "66.0",
         null,
         null,
         null,
         null
        ]
       ],
       "shape": {
        "columns": 65,
        "rows": 5
       }
      },
      "text/html": [
       "<div>\n",
       "<style scoped>\n",
       "    .dataframe tbody tr th:only-of-type {\n",
       "        vertical-align: middle;\n",
       "    }\n",
       "\n",
       "    .dataframe tbody tr th {\n",
       "        vertical-align: top;\n",
       "    }\n",
       "\n",
       "    .dataframe thead th {\n",
       "        text-align: right;\n",
       "    }\n",
       "</style>\n",
       "<table border=\"1\" class=\"dataframe\">\n",
       "  <thead>\n",
       "    <tr style=\"text-align: right;\">\n",
       "      <th></th>\n",
       "      <th>YEAR</th>\n",
       "      <th>QUARTER</th>\n",
       "      <th>MONTH</th>\n",
       "      <th>DAY_OF_MONTH</th>\n",
       "      <th>DAY_OF_WEEK</th>\n",
       "      <th>FL_DATE</th>\n",
       "      <th>UNIQUE_CARRIER</th>\n",
       "      <th>AIRLINE_ID</th>\n",
       "      <th>CARRIER</th>\n",
       "      <th>TAIL_NUM</th>\n",
       "      <th>...</th>\n",
       "      <th>DISTANCE_GROUP</th>\n",
       "      <th>CARRIER_DELAY</th>\n",
       "      <th>WEATHER_DELAY</th>\n",
       "      <th>NAS_DELAY</th>\n",
       "      <th>SECURITY_DELAY</th>\n",
       "      <th>LATE_AIRCRAFT_DELAY</th>\n",
       "      <th>FIRST_DEP_TIME</th>\n",
       "      <th>TOTAL_ADD_GTIME</th>\n",
       "      <th>LONGEST_ADD_GTIME</th>\n",
       "      <th>Unnamed: 64</th>\n",
       "    </tr>\n",
       "  </thead>\n",
       "  <tbody>\n",
       "    <tr>\n",
       "      <th>0</th>\n",
       "      <td>2016</td>\n",
       "      <td>1</td>\n",
       "      <td>1</td>\n",
       "      <td>6</td>\n",
       "      <td>3</td>\n",
       "      <td>2016-01-06</td>\n",
       "      <td>AA</td>\n",
       "      <td>19805</td>\n",
       "      <td>AA</td>\n",
       "      <td>N4YBAA</td>\n",
       "      <td>...</td>\n",
       "      <td>4</td>\n",
       "      <td>NaN</td>\n",
       "      <td>NaN</td>\n",
       "      <td>NaN</td>\n",
       "      <td>NaN</td>\n",
       "      <td>NaN</td>\n",
       "      <td>NaN</td>\n",
       "      <td>NaN</td>\n",
       "      <td>NaN</td>\n",
       "      <td>NaN</td>\n",
       "    </tr>\n",
       "    <tr>\n",
       "      <th>1</th>\n",
       "      <td>2016</td>\n",
       "      <td>1</td>\n",
       "      <td>1</td>\n",
       "      <td>7</td>\n",
       "      <td>4</td>\n",
       "      <td>2016-01-07</td>\n",
       "      <td>AA</td>\n",
       "      <td>19805</td>\n",
       "      <td>AA</td>\n",
       "      <td>N434AA</td>\n",
       "      <td>...</td>\n",
       "      <td>4</td>\n",
       "      <td>NaN</td>\n",
       "      <td>NaN</td>\n",
       "      <td>NaN</td>\n",
       "      <td>NaN</td>\n",
       "      <td>NaN</td>\n",
       "      <td>NaN</td>\n",
       "      <td>NaN</td>\n",
       "      <td>NaN</td>\n",
       "      <td>NaN</td>\n",
       "    </tr>\n",
       "    <tr>\n",
       "      <th>2</th>\n",
       "      <td>2016</td>\n",
       "      <td>1</td>\n",
       "      <td>1</td>\n",
       "      <td>8</td>\n",
       "      <td>5</td>\n",
       "      <td>2016-01-08</td>\n",
       "      <td>AA</td>\n",
       "      <td>19805</td>\n",
       "      <td>AA</td>\n",
       "      <td>N541AA</td>\n",
       "      <td>...</td>\n",
       "      <td>4</td>\n",
       "      <td>NaN</td>\n",
       "      <td>NaN</td>\n",
       "      <td>NaN</td>\n",
       "      <td>NaN</td>\n",
       "      <td>NaN</td>\n",
       "      <td>NaN</td>\n",
       "      <td>NaN</td>\n",
       "      <td>NaN</td>\n",
       "      <td>NaN</td>\n",
       "    </tr>\n",
       "    <tr>\n",
       "      <th>3</th>\n",
       "      <td>2016</td>\n",
       "      <td>1</td>\n",
       "      <td>1</td>\n",
       "      <td>9</td>\n",
       "      <td>6</td>\n",
       "      <td>2016-01-09</td>\n",
       "      <td>AA</td>\n",
       "      <td>19805</td>\n",
       "      <td>AA</td>\n",
       "      <td>N489AA</td>\n",
       "      <td>...</td>\n",
       "      <td>4</td>\n",
       "      <td>NaN</td>\n",
       "      <td>NaN</td>\n",
       "      <td>NaN</td>\n",
       "      <td>NaN</td>\n",
       "      <td>NaN</td>\n",
       "      <td>NaN</td>\n",
       "      <td>NaN</td>\n",
       "      <td>NaN</td>\n",
       "      <td>NaN</td>\n",
       "    </tr>\n",
       "    <tr>\n",
       "      <th>4</th>\n",
       "      <td>2016</td>\n",
       "      <td>1</td>\n",
       "      <td>1</td>\n",
       "      <td>10</td>\n",
       "      <td>7</td>\n",
       "      <td>2016-01-10</td>\n",
       "      <td>AA</td>\n",
       "      <td>19805</td>\n",
       "      <td>AA</td>\n",
       "      <td>N439AA</td>\n",
       "      <td>...</td>\n",
       "      <td>4</td>\n",
       "      <td>0.0</td>\n",
       "      <td>0.0</td>\n",
       "      <td>47.0</td>\n",
       "      <td>0.0</td>\n",
       "      <td>66.0</td>\n",
       "      <td>NaN</td>\n",
       "      <td>NaN</td>\n",
       "      <td>NaN</td>\n",
       "      <td>NaN</td>\n",
       "    </tr>\n",
       "  </tbody>\n",
       "</table>\n",
       "<p>5 rows × 65 columns</p>\n",
       "</div>"
      ],
      "text/plain": [
       "   YEAR  QUARTER  MONTH  DAY_OF_MONTH  DAY_OF_WEEK     FL_DATE UNIQUE_CARRIER  \\\n",
       "0  2016        1      1             6            3  2016-01-06             AA   \n",
       "1  2016        1      1             7            4  2016-01-07             AA   \n",
       "2  2016        1      1             8            5  2016-01-08             AA   \n",
       "3  2016        1      1             9            6  2016-01-09             AA   \n",
       "4  2016        1      1            10            7  2016-01-10             AA   \n",
       "\n",
       "   AIRLINE_ID CARRIER TAIL_NUM  ...  DISTANCE_GROUP  CARRIER_DELAY  \\\n",
       "0       19805      AA   N4YBAA  ...               4            NaN   \n",
       "1       19805      AA   N434AA  ...               4            NaN   \n",
       "2       19805      AA   N541AA  ...               4            NaN   \n",
       "3       19805      AA   N489AA  ...               4            NaN   \n",
       "4       19805      AA   N439AA  ...               4            0.0   \n",
       "\n",
       "   WEATHER_DELAY  NAS_DELAY SECURITY_DELAY LATE_AIRCRAFT_DELAY FIRST_DEP_TIME  \\\n",
       "0            NaN        NaN            NaN                 NaN            NaN   \n",
       "1            NaN        NaN            NaN                 NaN            NaN   \n",
       "2            NaN        NaN            NaN                 NaN            NaN   \n",
       "3            NaN        NaN            NaN                 NaN            NaN   \n",
       "4            0.0       47.0            0.0                66.0            NaN   \n",
       "\n",
       "   TOTAL_ADD_GTIME LONGEST_ADD_GTIME  Unnamed: 64  \n",
       "0              NaN               NaN          NaN  \n",
       "1              NaN               NaN          NaN  \n",
       "2              NaN               NaN          NaN  \n",
       "3              NaN               NaN          NaN  \n",
       "4              NaN               NaN          NaN  \n",
       "\n",
       "[5 rows x 65 columns]"
      ]
     },
     "execution_count": 4,
     "metadata": {},
     "output_type": "execute_result"
    }
   ],
   "source": [
    "df = pd.read_csv(jan_data_path)\n",
    "df.head()"
   ]
  },
  {
   "cell_type": "code",
   "execution_count": 9,
   "metadata": {},
   "outputs": [
    {
     "data": {
      "text/plain": [
       "Index(['YEAR', 'QUARTER', 'MONTH', 'DAY_OF_MONTH', 'DAY_OF_WEEK', 'AIRLINE_ID',\n",
       "       'FL_NUM', 'ORIGIN_AIRPORT_ID', 'ORIGIN_AIRPORT_SEQ_ID',\n",
       "       'ORIGIN_CITY_MARKET_ID', 'ORIGIN_STATE_FIPS', 'ORIGIN_WAC',\n",
       "       'DEST_AIRPORT_ID', 'DEST_AIRPORT_SEQ_ID', 'DEST_CITY_MARKET_ID',\n",
       "       'DEST_STATE_FIPS', 'DEST_WAC', 'CRS_DEP_TIME', 'DEP_TIME', 'DEP_DELAY',\n",
       "       'DEP_DELAY_NEW', 'DEP_DEL15', 'DEP_DELAY_GROUP', 'TAXI_OUT',\n",
       "       'WHEELS_OFF', 'WHEELS_ON', 'TAXI_IN', 'CRS_ARR_TIME', 'ARR_TIME',\n",
       "       'ARR_DELAY', 'ARR_DELAY_NEW', 'ARR_DEL15', 'ARR_DELAY_GROUP',\n",
       "       'CANCELLED', 'DIVERTED', 'CRS_ELAPSED_TIME', 'ACTUAL_ELAPSED_TIME',\n",
       "       'AIR_TIME', 'FLIGHTS', 'DISTANCE', 'DISTANCE_GROUP', 'CARRIER_DELAY',\n",
       "       'WEATHER_DELAY', 'NAS_DELAY', 'SECURITY_DELAY', 'LATE_AIRCRAFT_DELAY',\n",
       "       'FIRST_DEP_TIME', 'TOTAL_ADD_GTIME', 'LONGEST_ADD_GTIME',\n",
       "       'Unnamed: 64'],\n",
       "      dtype='object')"
      ]
     },
     "execution_count": 9,
     "metadata": {},
     "output_type": "execute_result"
    }
   ],
   "source": [
    "float_cols = df.select_dtypes(include=[\"float64\", \"float32\", \"int64\", \"int32\", \"int8\"]).columns\n",
    "float_cols"
   ]
  },
  {
   "cell_type": "code",
   "execution_count": null,
   "metadata": {},
   "outputs": [],
   "source": []
  },
  {
   "cell_type": "code",
   "execution_count": 7,
   "metadata": {},
   "outputs": [
    {
     "data": {
      "application/vnd.microsoft.datawrangler.viewer.v0+json": {
       "columns": [
        {
         "name": "TAXI_IN",
         "rawType": "float64",
         "type": "float"
        },
        {
         "name": "count",
         "rawType": "int64",
         "type": "integer"
        }
       ],
       "ref": "8e27a5a7-363e-47da-97ba-32c737e63584",
       "rows": [
        [
         "5.0",
         "73651"
        ],
        [
         "4.0",
         "70167"
        ],
        [
         "6.0",
         "60552"
        ],
        [
         "7.0",
         "46002"
        ],
        [
         "3.0",
         "38237"
        ],
        [
         "8.0",
         "33205"
        ],
        [
         "9.0",
         "23861"
        ],
        [
         "10.0",
         "17919"
        ],
        [
         "11.0",
         "13170"
        ],
        [
         "12.0",
         "9767"
        ],
        [
         "2.0",
         "7868"
        ],
        [
         "13.0",
         "7316"
        ],
        [
         "14.0",
         "5387"
        ],
        [
         "15.0",
         "4136"
        ],
        [
         "16.0",
         "3125"
        ],
        [
         "17.0",
         "2560"
        ],
        [
         "18.0",
         "2203"
        ],
        [
         "19.0",
         "1598"
        ],
        [
         "20.0",
         "1396"
        ],
        [
         "21.0",
         "1206"
        ],
        [
         "22.0",
         "1031"
        ],
        [
         "23.0",
         "919"
        ],
        [
         "24.0",
         "850"
        ],
        [
         "25.0",
         "729"
        ],
        [
         "26.0",
         "677"
        ],
        [
         "27.0",
         "568"
        ],
        [
         "28.0",
         "495"
        ],
        [
         "29.0",
         "494"
        ],
        [
         "30.0",
         "428"
        ],
        [
         "31.0",
         "392"
        ],
        [
         "1.0",
         "353"
        ],
        [
         "32.0",
         "338"
        ],
        [
         "33.0",
         "313"
        ],
        [
         "34.0",
         "242"
        ],
        [
         "35.0",
         "238"
        ],
        [
         "36.0",
         "224"
        ],
        [
         "37.0",
         "181"
        ],
        [
         "38.0",
         "177"
        ],
        [
         "39.0",
         "171"
        ],
        [
         "40.0",
         "133"
        ],
        [
         "41.0",
         "127"
        ],
        [
         "42.0",
         "121"
        ],
        [
         "43.0",
         "117"
        ],
        [
         "44.0",
         "113"
        ],
        [
         "45.0",
         "86"
        ],
        [
         "46.0",
         "74"
        ],
        [
         "49.0",
         "72"
        ],
        [
         "47.0",
         "72"
        ],
        [
         "52.0",
         "57"
        ],
        [
         "51.0",
         "57"
        ]
       ],
       "shape": {
        "columns": 1,
        "rows": 122
       }
      },
      "text/plain": [
       "TAXI_IN\n",
       "5.0      73651\n",
       "4.0      70167\n",
       "6.0      60552\n",
       "7.0      46002\n",
       "3.0      38237\n",
       "         ...  \n",
       "124.0        1\n",
       "105.0        1\n",
       "118.0        1\n",
       "133.0        1\n",
       "134.0        1\n",
       "Name: count, Length: 122, dtype: int64"
      ]
     },
     "execution_count": 7,
     "metadata": {},
     "output_type": "execute_result"
    }
   ],
   "source": [
    "df[\"TAXI_IN\"].value_counts()"
   ]
  },
  {
   "cell_type": "markdown",
   "metadata": {},
   "source": [
    "## 3. EXPLORATION DES DONNÉES\n"
   ]
  },
  {
   "cell_type": "code",
   "execution_count": 7,
   "metadata": {},
   "outputs": [
    {
     "data": {
      "text/plain": [
       "Index(['YEAR', 'QUARTER', 'MONTH', 'DAY_OF_MONTH', 'DAY_OF_WEEK', 'FL_DATE',\n",
       "       'UNIQUE_CARRIER', 'AIRLINE_ID', 'CARRIER', 'TAIL_NUM', 'FL_NUM',\n",
       "       'ORIGIN_AIRPORT_ID', 'ORIGIN_AIRPORT_SEQ_ID', 'ORIGIN_CITY_MARKET_ID',\n",
       "       'ORIGIN', 'ORIGIN_CITY_NAME', 'ORIGIN_STATE_ABR', 'ORIGIN_STATE_FIPS',\n",
       "       'ORIGIN_STATE_NM', 'ORIGIN_WAC', 'DEST_AIRPORT_ID',\n",
       "       'DEST_AIRPORT_SEQ_ID', 'DEST_CITY_MARKET_ID', 'DEST', 'DEST_CITY_NAME',\n",
       "       'DEST_STATE_ABR', 'DEST_STATE_FIPS', 'DEST_STATE_NM', 'DEST_WAC',\n",
       "       'CRS_DEP_TIME', 'DEP_TIME', 'DEP_DELAY', 'DEP_DELAY_NEW', 'DEP_DEL15',\n",
       "       'DEP_DELAY_GROUP', 'DEP_TIME_BLK', 'TAXI_OUT', 'WHEELS_OFF',\n",
       "       'WHEELS_ON', 'TAXI_IN', 'CRS_ARR_TIME', 'ARR_TIME', 'ARR_DELAY',\n",
       "       'ARR_DELAY_NEW', 'ARR_DEL15', 'ARR_DELAY_GROUP', 'ARR_TIME_BLK',\n",
       "       'CANCELLED', 'CANCELLATION_CODE', 'DIVERTED', 'CRS_ELAPSED_TIME',\n",
       "       'ACTUAL_ELAPSED_TIME', 'AIR_TIME', 'FLIGHTS', 'DISTANCE',\n",
       "       'DISTANCE_GROUP', 'CARRIER_DELAY', 'WEATHER_DELAY', 'NAS_DELAY',\n",
       "       'SECURITY_DELAY', 'LATE_AIRCRAFT_DELAY', 'FIRST_DEP_TIME',\n",
       "       'TOTAL_ADD_GTIME', 'LONGEST_ADD_GTIME', 'Unnamed: 64'],\n",
       "      dtype='object')"
      ]
     },
     "execution_count": 7,
     "metadata": {},
     "output_type": "execute_result"
    }
   ],
   "source": [
    "df.columns"
   ]
  },
  {
   "cell_type": "code",
   "execution_count": 25,
   "metadata": {},
   "outputs": [
    {
     "data": {
      "application/vnd.microsoft.datawrangler.viewer.v0+json": {
       "columns": [
        {
         "name": "ORIGIN_WAC",
         "rawType": "int64",
         "type": "integer"
        },
        {
         "name": "count",
         "rawType": "int64",
         "type": "integer"
        }
       ],
       "ref": "c110611e-77a3-4dd8-aad5-c5150150ebe0",
       "rows": [
        [
         "91",
         "56245"
        ],
        [
         "74",
         "48181"
        ],
        [
         "33",
         "40042"
        ],
        [
         "34",
         "30927"
        ],
        [
         "41",
         "25987"
        ],
        [
         "22",
         "20535"
        ],
        [
         "82",
         "19742"
        ],
        [
         "81",
         "14777"
        ],
        [
         "85",
         "13300"
        ],
        [
         "36",
         "12908"
        ],
        [
         "43",
         "11728"
        ],
        [
         "38",
         "11426"
        ],
        [
         "93",
         "10999"
        ],
        [
         "63",
         "10082"
        ],
        [
         "13",
         "9148"
        ],
        [
         "21",
         "9004"
        ],
        [
         "87",
         "8888"
        ],
        [
         "23",
         "8282"
        ],
        [
         "2",
         "8266"
        ],
        [
         "64",
         "7934"
        ],
        [
         "35",
         "7181"
        ],
        [
         "54",
         "6079"
        ],
        [
         "44",
         "5519"
        ],
        [
         "72",
         "5377"
        ],
        [
         "92",
         "4862"
        ],
        [
         "45",
         "4046"
        ],
        [
         "42",
         "3133"
        ],
        [
         "1",
         "2688"
        ],
        [
         "3",
         "2653"
        ],
        [
         "73",
         "2608"
        ],
        [
         "52",
         "2426"
        ],
        [
         "37",
         "2206"
        ],
        [
         "51",
         "1865"
        ],
        [
         "83",
         "1728"
        ],
        [
         "65",
         "1640"
        ],
        [
         "86",
         "1554"
        ],
        [
         "11",
         "1520"
        ],
        [
         "71",
         "1212"
        ],
        [
         "84",
         "1198"
        ],
        [
         "66",
         "1118"
        ],
        [
         "15",
         "996"
        ],
        [
         "53",
         "911"
        ],
        [
         "61",
         "898"
        ],
        [
         "88",
         "772"
        ],
        [
         "62",
         "740"
        ],
        [
         "67",
         "623"
        ],
        [
         "4",
         "546"
        ],
        [
         "14",
         "443"
        ],
        [
         "12",
         "383"
        ],
        [
         "16",
         "264"
        ]
       ],
       "shape": {
        "columns": 1,
        "rows": 52
       }
      },
      "text/plain": [
       "ORIGIN_WAC\n",
       "91    56245\n",
       "74    48181\n",
       "33    40042\n",
       "34    30927\n",
       "41    25987\n",
       "22    20535\n",
       "82    19742\n",
       "81    14777\n",
       "85    13300\n",
       "36    12908\n",
       "43    11728\n",
       "38    11426\n",
       "93    10999\n",
       "63    10082\n",
       "13     9148\n",
       "21     9004\n",
       "87     8888\n",
       "23     8282\n",
       "2      8266\n",
       "64     7934\n",
       "35     7181\n",
       "54     6079\n",
       "44     5519\n",
       "72     5377\n",
       "92     4862\n",
       "45     4046\n",
       "42     3133\n",
       "1      2688\n",
       "3      2653\n",
       "73     2608\n",
       "52     2426\n",
       "37     2206\n",
       "51     1865\n",
       "83     1728\n",
       "65     1640\n",
       "86     1554\n",
       "11     1520\n",
       "71     1212\n",
       "84     1198\n",
       "66     1118\n",
       "15      996\n",
       "53      911\n",
       "61      898\n",
       "88      772\n",
       "62      740\n",
       "67      623\n",
       "4       546\n",
       "14      443\n",
       "12      383\n",
       "16      264\n",
       "39      196\n",
       "5        41\n",
       "Name: count, dtype: int64"
      ]
     },
     "execution_count": 25,
     "metadata": {},
     "output_type": "execute_result"
    }
   ],
   "source": [
    "df[\"ORIGIN_WAC\"].value_counts()"
   ]
  },
  {
   "cell_type": "code",
   "execution_count": 12,
   "metadata": {},
   "outputs": [
    {
     "data": {
      "application/vnd.microsoft.datawrangler.viewer.v0+json": {
       "columns": [
        {
         "name": "index",
         "rawType": "int64",
         "type": "integer"
        },
        {
         "name": "ORIGIN",
         "rawType": "object",
         "type": "string"
        },
        {
         "name": "ORIGIN_CITY_NAME",
         "rawType": "object",
         "type": "string"
        },
        {
         "name": "ORIGIN_WAC",
         "rawType": "int64",
         "type": "integer"
        }
       ],
       "ref": "b14c452c-8935-42cf-b6d3-48ebf4c932a0",
       "rows": [
        [
         "0",
         "DFW",
         "Dallas/Fort Worth, TX",
         "74"
        ],
        [
         "26",
         "DTW",
         "Detroit, MI",
         "43"
        ],
        [
         "57",
         "SEA",
         "Seattle, WA",
         "93"
        ],
        [
         "88",
         "JFK",
         "New York, NY",
         "22"
        ],
        [
         "119",
         "SJC",
         "San Jose, CA",
         "91"
        ],
        [
         "122",
         "ORD",
         "Chicago, IL",
         "41"
        ],
        [
         "153",
         "PHX",
         "Phoenix, AZ",
         "81"
        ],
        [
         "184",
         "STL",
         "St. Louis, MO",
         "64"
        ],
        [
         "239",
         "LAX",
         "Los Angeles, CA",
         "91"
        ],
        [
         "301",
         "MCO",
         "Orlando, FL",
         "33"
        ],
        [
         "332",
         "DEN",
         "Denver, CO",
         "82"
        ],
        [
         "363",
         "MIA",
         "Miami, FL",
         "33"
        ],
        [
         "394",
         "KOA",
         "Kona, HI",
         "2"
        ],
        [
         "517",
         "IAH",
         "Houston, TX",
         "74"
        ],
        [
         "614",
         "AUS",
         "Austin, TX",
         "74"
        ],
        [
         "736",
         "LAS",
         "Las Vegas, NV",
         "85"
        ],
        [
         "918",
         "SLC",
         "Salt Lake City, UT",
         "87"
        ],
        [
         "980",
         "TUS",
         "Tucson, AZ",
         "81"
        ],
        [
         "1001",
         "STT",
         "Charlotte Amalie, VI",
         "4"
        ],
        [
         "1013",
         "BOS",
         "Boston, MA",
         "13"
        ],
        [
         "1161",
         "FLL",
         "Fort Lauderdale, FL",
         "33"
        ],
        [
         "1255",
         "SFO",
         "San Francisco, CA",
         "91"
        ],
        [
         "1431",
         "OGG",
         "Kahului, HI",
         "2"
        ],
        [
         "1528",
         "TPA",
         "Tampa, FL",
         "33"
        ],
        [
         "1563",
         "SNA",
         "Santa Ana, CA",
         "91"
        ],
        [
         "1775",
         "OKC",
         "Oklahoma City, OK",
         "73"
        ],
        [
         "1868",
         "HNL",
         "Honolulu, HI",
         "2"
        ],
        [
         "2261",
         "PHL",
         "Philadelphia, PA",
         "23"
        ],
        [
         "2473",
         "LGA",
         "New York, NY",
         "22"
        ],
        [
         "2895",
         "RDU",
         "Raleigh/Durham, NC",
         "36"
        ],
        [
         "3023",
         "DCA",
         "Washington, DC",
         "38"
        ],
        [
         "3321",
         "RIC",
         "Richmond, VA",
         "38"
        ],
        [
         "3510",
         "ATL",
         "Atlanta, GA",
         "34"
        ],
        [
         "3703",
         "LBB",
         "Lubbock, TX",
         "74"
        ],
        [
         "3817",
         "CLT",
         "Charlotte, NC",
         "36"
        ],
        [
         "3909",
         "ELP",
         "El Paso, TX",
         "74"
        ],
        [
         "4171",
         "SAN",
         "San Diego, CA",
         "91"
        ],
        [
         "4456",
         "BNA",
         "Nashville, TN",
         "54"
        ],
        [
         "4870",
         "JAC",
         "Jackson, WY",
         "88"
        ],
        [
         "5325",
         "SMF",
         "Sacramento, CA",
         "91"
        ],
        [
         "5867",
         "EWR",
         "Newark, NJ",
         "21"
        ],
        [
         "5894",
         "IAD",
         "Washington, DC",
         "38"
        ],
        [
         "5953",
         "LIH",
         "Lihue, HI",
         "2"
        ],
        [
         "5996",
         "SJU",
         "San Juan, PR",
         "3"
        ],
        [
         "6153",
         "ABQ",
         "Albuquerque, NM",
         "86"
        ],
        [
         "6203",
         "ORF",
         "Norfolk, VA",
         "38"
        ],
        [
         "6920",
         "JAX",
         "Jacksonville, FL",
         "33"
        ],
        [
         "6951",
         "MSY",
         "New Orleans, LA",
         "72"
        ],
        [
         "7319",
         "SAT",
         "San Antonio, TX",
         "74"
        ],
        [
         "7481",
         "MCI",
         "Kansas City, MO",
         "64"
        ]
       ],
       "shape": {
        "columns": 3,
        "rows": 294
       }
      },
      "text/html": [
       "<div>\n",
       "<style scoped>\n",
       "    .dataframe tbody tr th:only-of-type {\n",
       "        vertical-align: middle;\n",
       "    }\n",
       "\n",
       "    .dataframe tbody tr th {\n",
       "        vertical-align: top;\n",
       "    }\n",
       "\n",
       "    .dataframe thead th {\n",
       "        text-align: right;\n",
       "    }\n",
       "</style>\n",
       "<table border=\"1\" class=\"dataframe\">\n",
       "  <thead>\n",
       "    <tr style=\"text-align: right;\">\n",
       "      <th></th>\n",
       "      <th>ORIGIN</th>\n",
       "      <th>ORIGIN_CITY_NAME</th>\n",
       "      <th>ORIGIN_WAC</th>\n",
       "    </tr>\n",
       "  </thead>\n",
       "  <tbody>\n",
       "    <tr>\n",
       "      <th>0</th>\n",
       "      <td>DFW</td>\n",
       "      <td>Dallas/Fort Worth, TX</td>\n",
       "      <td>74</td>\n",
       "    </tr>\n",
       "    <tr>\n",
       "      <th>26</th>\n",
       "      <td>DTW</td>\n",
       "      <td>Detroit, MI</td>\n",
       "      <td>43</td>\n",
       "    </tr>\n",
       "    <tr>\n",
       "      <th>57</th>\n",
       "      <td>SEA</td>\n",
       "      <td>Seattle, WA</td>\n",
       "      <td>93</td>\n",
       "    </tr>\n",
       "    <tr>\n",
       "      <th>88</th>\n",
       "      <td>JFK</td>\n",
       "      <td>New York, NY</td>\n",
       "      <td>22</td>\n",
       "    </tr>\n",
       "    <tr>\n",
       "      <th>119</th>\n",
       "      <td>SJC</td>\n",
       "      <td>San Jose, CA</td>\n",
       "      <td>91</td>\n",
       "    </tr>\n",
       "    <tr>\n",
       "      <th>...</th>\n",
       "      <td>...</td>\n",
       "      <td>...</td>\n",
       "      <td>...</td>\n",
       "    </tr>\n",
       "    <tr>\n",
       "      <th>316863</th>\n",
       "      <td>DHN</td>\n",
       "      <td>Dothan, AL</td>\n",
       "      <td>51</td>\n",
       "    </tr>\n",
       "    <tr>\n",
       "      <th>318158</th>\n",
       "      <td>EWN</td>\n",
       "      <td>New Bern/Morehead/Beaufort, NC</td>\n",
       "      <td>36</td>\n",
       "    </tr>\n",
       "    <tr>\n",
       "      <th>320976</th>\n",
       "      <td>ABY</td>\n",
       "      <td>Albany, GA</td>\n",
       "      <td>34</td>\n",
       "    </tr>\n",
       "    <tr>\n",
       "      <th>338095</th>\n",
       "      <td>ISP</td>\n",
       "      <td>Islip, NY</td>\n",
       "      <td>22</td>\n",
       "    </tr>\n",
       "    <tr>\n",
       "      <th>352363</th>\n",
       "      <td>LAR</td>\n",
       "      <td>Laramie, WY</td>\n",
       "      <td>88</td>\n",
       "    </tr>\n",
       "  </tbody>\n",
       "</table>\n",
       "<p>294 rows × 3 columns</p>\n",
       "</div>"
      ],
      "text/plain": [
       "       ORIGIN                ORIGIN_CITY_NAME  ORIGIN_WAC\n",
       "0         DFW           Dallas/Fort Worth, TX          74\n",
       "26        DTW                     Detroit, MI          43\n",
       "57        SEA                     Seattle, WA          93\n",
       "88        JFK                    New York, NY          22\n",
       "119       SJC                    San Jose, CA          91\n",
       "...       ...                             ...         ...\n",
       "316863    DHN                      Dothan, AL          51\n",
       "318158    EWN  New Bern/Morehead/Beaufort, NC          36\n",
       "320976    ABY                      Albany, GA          34\n",
       "338095    ISP                       Islip, NY          22\n",
       "352363    LAR                     Laramie, WY          88\n",
       "\n",
       "[294 rows x 3 columns]"
      ]
     },
     "execution_count": 12,
     "metadata": {},
     "output_type": "execute_result"
    }
   ],
   "source": [
    "airlines_unique = df[[\"ORIGIN\", \"ORIGIN_CITY_NAME\", \"ORIGIN_WAC\"]].drop_duplicates()\n",
    "airlines_unique"
   ]
  },
  {
   "cell_type": "code",
   "execution_count": 7,
   "metadata": {},
   "outputs": [
    {
     "name": "stdout",
     "output_type": "stream",
     "text": [
      "<class 'pandas.core.frame.DataFrame'>\n",
      "RangeIndex: 445827 entries, 0 to 445826\n",
      "Data columns (total 65 columns):\n",
      " #   Column                 Non-Null Count   Dtype  \n",
      "---  ------                 --------------   -----  \n",
      " 0   YEAR                   445827 non-null  int64  \n",
      " 1   QUARTER                445827 non-null  int64  \n",
      " 2   MONTH                  445827 non-null  int64  \n",
      " 3   DAY_OF_MONTH           445827 non-null  int64  \n",
      " 4   DAY_OF_WEEK            445827 non-null  int64  \n",
      " 5   FL_DATE                445827 non-null  object \n",
      " 6   UNIQUE_CARRIER         445827 non-null  object \n",
      " 7   AIRLINE_ID             445827 non-null  int64  \n",
      " 8   CARRIER                445827 non-null  object \n",
      " 9   TAIL_NUM               441583 non-null  object \n",
      " 10  FL_NUM                 445827 non-null  int64  \n",
      " 11  ORIGIN_AIRPORT_ID      445827 non-null  int64  \n",
      " 12  ORIGIN_AIRPORT_SEQ_ID  445827 non-null  int64  \n",
      " 13  ORIGIN_CITY_MARKET_ID  445827 non-null  int64  \n",
      " 14  ORIGIN                 445827 non-null  object \n",
      " 15  ORIGIN_CITY_NAME       445827 non-null  object \n",
      " 16  ORIGIN_STATE_ABR       445827 non-null  object \n",
      " 17  ORIGIN_STATE_FIPS      445827 non-null  int64  \n",
      " 18  ORIGIN_STATE_NM        445827 non-null  object \n",
      " 19  ORIGIN_WAC             445827 non-null  int64  \n",
      " 20  DEST_AIRPORT_ID        445827 non-null  int64  \n",
      " 21  DEST_AIRPORT_SEQ_ID    445827 non-null  int64  \n",
      " 22  DEST_CITY_MARKET_ID    445827 non-null  int64  \n",
      " 23  DEST                   445827 non-null  object \n",
      " 24  DEST_CITY_NAME         445827 non-null  object \n",
      " 25  DEST_STATE_ABR         445827 non-null  object \n",
      " 26  DEST_STATE_FIPS        445827 non-null  int64  \n",
      " 27  DEST_STATE_NM          445827 non-null  object \n",
      " 28  DEST_WAC               445827 non-null  int64  \n",
      " 29  CRS_DEP_TIME           445827 non-null  int64  \n",
      " 30  DEP_TIME               434354 non-null  float64\n",
      " 31  DEP_DELAY              434354 non-null  float64\n",
      " 32  DEP_DELAY_NEW          434354 non-null  float64\n",
      " 33  DEP_DEL15              434354 non-null  float64\n",
      " 34  DEP_DELAY_GROUP        434354 non-null  float64\n",
      " 35  DEP_TIME_BLK           445827 non-null  object \n",
      " 36  TAXI_OUT               434227 non-null  float64\n",
      " 37  WHEELS_OFF             434227 non-null  float64\n",
      " 38  WHEELS_ON              433920 non-null  float64\n",
      " 39  TAXI_IN                433920 non-null  float64\n",
      " 40  CRS_ARR_TIME           445827 non-null  int64  \n",
      " 41  ARR_TIME               433920 non-null  float64\n",
      " 42  ARR_DELAY              433298 non-null  float64\n",
      " 43  ARR_DELAY_NEW          433298 non-null  float64\n",
      " 44  ARR_DEL15              433298 non-null  float64\n",
      " 45  ARR_DELAY_GROUP        433298 non-null  float64\n",
      " 46  ARR_TIME_BLK           445827 non-null  object \n",
      " 47  CANCELLED              445827 non-null  float64\n",
      " 48  CANCELLATION_CODE      11665 non-null   object \n",
      " 49  DIVERTED               445827 non-null  float64\n",
      " 50  CRS_ELAPSED_TIME       445827 non-null  float64\n",
      " 51  ACTUAL_ELAPSED_TIME    433298 non-null  float64\n",
      " 52  AIR_TIME               433298 non-null  float64\n",
      " 53  FLIGHTS                445827 non-null  float64\n",
      " 54  DISTANCE               445827 non-null  float64\n",
      " 55  DISTANCE_GROUP         445827 non-null  int64  \n",
      " 56  CARRIER_DELAY          70882 non-null   float64\n",
      " 57  WEATHER_DELAY          70882 non-null   float64\n",
      " 58  NAS_DELAY              70882 non-null   float64\n",
      " 59  SECURITY_DELAY         70882 non-null   float64\n",
      " 60  LATE_AIRCRAFT_DELAY    70882 non-null   float64\n",
      " 61  FIRST_DEP_TIME         2552 non-null    float64\n",
      " 62  TOTAL_ADD_GTIME        2552 non-null    float64\n",
      " 63  LONGEST_ADD_GTIME      2552 non-null    float64\n",
      " 64  Unnamed: 64            0 non-null       float64\n",
      "dtypes: float64(30), int64(20), object(15)\n",
      "memory usage: 221.1+ MB\n"
     ]
    }
   ],
   "source": [
    "df.info()"
   ]
  },
  {
   "cell_type": "markdown",
   "metadata": {},
   "source": [
    "On remarque rapidement que la colonne `Unnamed: 64` ne contient aucune valeurs\n"
   ]
  },
  {
   "cell_type": "code",
   "execution_count": 8,
   "metadata": {},
   "outputs": [
    {
     "name": "stdout",
     "output_type": "stream",
     "text": [
      "<class 'pandas.core.series.Series'>\n",
      "RangeIndex: 445827 entries, 0 to 445826\n",
      "Series name: CANCELLATION_CODE\n",
      "Non-Null Count  Dtype \n",
      "--------------  ----- \n",
      "11665 non-null  object\n",
      "dtypes: object(1)\n",
      "memory usage: 3.4+ MB\n"
     ]
    }
   ],
   "source": [
    "df[\"CANCELLATION_CODE\"].info()"
   ]
  },
  {
   "cell_type": "code",
   "execution_count": 9,
   "metadata": {},
   "outputs": [],
   "source": [
    "cols_to_drop = [\"Unnamed: 64\"]"
   ]
  },
  {
   "cell_type": "code",
   "execution_count": 10,
   "metadata": {},
   "outputs": [
    {
     "name": "stdout",
     "output_type": "stream",
     "text": [
      "Nombre de colonnes float : 30\n",
      "\n",
      "Détails des colonnes float :\n",
      "- DEP_TIME: float64\n",
      "- DEP_DELAY: float64\n",
      "- DEP_DELAY_NEW: float64\n",
      "- DEP_DEL15: float64\n",
      "- DEP_DELAY_GROUP: float64\n",
      "- TAXI_OUT: float64\n",
      "- WHEELS_OFF: float64\n",
      "- WHEELS_ON: float64\n",
      "- TAXI_IN: float64\n",
      "- ARR_TIME: float64\n",
      "- ARR_DELAY: float64\n",
      "- ARR_DELAY_NEW: float64\n",
      "- ARR_DEL15: float64\n",
      "- ARR_DELAY_GROUP: float64\n",
      "- CANCELLED: float64\n",
      "- DIVERTED: float64\n",
      "- CRS_ELAPSED_TIME: float64\n",
      "- ACTUAL_ELAPSED_TIME: float64\n",
      "- AIR_TIME: float64\n",
      "- FLIGHTS: float64\n",
      "- DISTANCE: float64\n",
      "- CARRIER_DELAY: float64\n",
      "- WEATHER_DELAY: float64\n",
      "- NAS_DELAY: float64\n",
      "- SECURITY_DELAY: float64\n",
      "- LATE_AIRCRAFT_DELAY: float64\n",
      "- FIRST_DEP_TIME: float64\n",
      "- TOTAL_ADD_GTIME: float64\n",
      "- LONGEST_ADD_GTIME: float64\n",
      "- Unnamed: 64: float64\n"
     ]
    }
   ],
   "source": [
    "float_cols = df.select_dtypes(include=[\"float64\", \"float32\"]).columns\n",
    "\n",
    "print(f\"Nombre de colonnes float : {len(float_cols)}\")\n",
    "print(\"\\nDétails des colonnes float :\")\n",
    "for col in float_cols:\n",
    "    print(f\"- {col}: {df[col].dtype}\")"
   ]
  },
  {
   "cell_type": "code",
   "execution_count": 11,
   "metadata": {},
   "outputs": [
    {
     "name": "stdout",
     "output_type": "stream",
     "text": [
      "CRS_DEP_TIME a des décimales : False\n"
     ]
    }
   ],
   "source": [
    "def has_decimals(series):\n",
    "    \"\"\"Vérifie si une série contient des valeurs avec décimales\"\"\"\n",
    "    # Exclure les NaN\n",
    "    clean_series = series.dropna()\n",
    "\n",
    "    # Vérifier si toutes les valeurs sont égales à leur partie entière\n",
    "    all_integers = (clean_series == clean_series.astype(int)).all()\n",
    "\n",
    "    return not all_integers\n",
    "\n",
    "\n",
    "print(f\"CRS_DEP_TIME a des décimales : {has_decimals(df['CRS_DEP_TIME'])}\")"
   ]
  },
  {
   "cell_type": "code",
   "execution_count": 12,
   "metadata": {},
   "outputs": [],
   "source": [
    "for col in float_cols:\n",
    "    is_with_decimal = has_decimals(df[col])\n",
    "    if is_with_decimal:\n",
    "        print(f\"{col} a des décimales\")"
   ]
  },
  {
   "cell_type": "code",
   "execution_count": 13,
   "metadata": {},
   "outputs": [],
   "source": [
    "cols_to_drop += [\n",
    "    # Redundant Temporal Data\n",
    "    \"YEAR\",\n",
    "    \"QUARTER\",\n",
    "    \"DAY_OF_MONTH\",\n",
    "    \"MONTH\",\n",
    "    # Redundant with CARRIER\n",
    "    \"UNIQUE_CARRIER\",\n",
    "    \"AIRLINE_ID\",\n",
    "    # Data leakage risk\n",
    "    \"DEP_TIME\",\n",
    "    \"ARR_TIME\",\n",
    "    \"DEP_DELAY\",\n",
    "    \"DEP_DELAY_NEW\",\n",
    "    \"DEP_DEL15\",\n",
    "    \"DEP_DELAY_GROUP\",\n",
    "    \"ARR_DELAY\",\n",
    "    \"ARR_DELAY_NEW\",\n",
    "    \"ARR_DELAY_GROUP\",\n",
    "    \"WHEELS_OFF\",\n",
    "    \"WHEELS_ON\",\n",
    "    \"TAXI_OUT\",\n",
    "    \"TAXI_IN\",\n",
    "    \"ACTUAL_ELAPSED_TIME\",\n",
    "    \"AIR_TIME\",\n",
    "    # redundant with ORIGIN\n",
    "    \"ORIGIN_AIRPORT_ID\",\n",
    "    \"ORIGIN_AIRPORT_SEQ_ID\",\n",
    "    \"ORIGIN_WAC\",\n",
    "    # redundant with ORIGIN_CITY_NAME or ORIGIN_STATE_ABR\n",
    "    \"ORIGIN_CITY_MARKET_ID\",\n",
    "    \"ORIGIN_STATE_NM\",\n",
    "    \"ORIGIN_STATE_FIPS\",\n",
    "    # redundant with DEST\n",
    "    \"DEST_AIRPORT_ID\",\n",
    "    \"DEST_AIRPORT_SEQ_ID\",\n",
    "    \"DEST_WAC\",\n",
    "    # redundant with ORIGIN_CITY_NAME or DEST_STATE_ABR\n",
    "    \"DEST_CITY_MARKET_ID\",\n",
    "    \"ORIGIN_STATE_NM\",\n",
    "    \"DEST_STATE_NM\",\n",
    "    \"DEST_STATE_FIPS\",\n",
    "    #\n",
    "    \"ORIGIN_AIRPORT_ID\",\n",
    "    \"DEST_AIRPORT_ID\",\n",
    "    \"CRS_DEP_TIME\",\n",
    "    \"DEP_DELAY\",\n",
    "]"
   ]
  },
  {
   "cell_type": "code",
   "execution_count": 14,
   "metadata": {},
   "outputs": [],
   "source": [
    "df_clean = df.copy()\n",
    "df_clean = df_clean.dropna(subset=[\"ARR_DEL15\"])\n",
    "df_clean = df_clean.drop(columns=cols_to_drop)\n",
    "df_clean[\"ARR_DEL15\"] = df_clean[\"ARR_DEL15\"].astype(\"bool\")"
   ]
  },
  {
   "cell_type": "code",
   "execution_count": 15,
   "metadata": {},
   "outputs": [
    {
     "name": "stdout",
     "output_type": "stream",
     "text": [
      "<class 'pandas.core.frame.DataFrame'>\n",
      "Index: 433298 entries, 0 to 445826\n",
      "Data columns (total 30 columns):\n",
      " #   Column               Non-Null Count   Dtype  \n",
      "---  ------               --------------   -----  \n",
      " 0   DAY_OF_WEEK          433298 non-null  int64  \n",
      " 1   FL_DATE              433298 non-null  object \n",
      " 2   CARRIER              433298 non-null  object \n",
      " 3   TAIL_NUM             433298 non-null  object \n",
      " 4   FL_NUM               433298 non-null  int64  \n",
      " 5   ORIGIN               433298 non-null  object \n",
      " 6   ORIGIN_CITY_NAME     433298 non-null  object \n",
      " 7   ORIGIN_STATE_ABR     433298 non-null  object \n",
      " 8   DEST                 433298 non-null  object \n",
      " 9   DEST_CITY_NAME       433298 non-null  object \n",
      " 10  DEST_STATE_ABR       433298 non-null  object \n",
      " 11  DEP_TIME_BLK         433298 non-null  object \n",
      " 12  CRS_ARR_TIME         433298 non-null  int64  \n",
      " 13  ARR_DEL15            433298 non-null  bool   \n",
      " 14  ARR_TIME_BLK         433298 non-null  object \n",
      " 15  CANCELLED            433298 non-null  float64\n",
      " 16  CANCELLATION_CODE    0 non-null       object \n",
      " 17  DIVERTED             433298 non-null  float64\n",
      " 18  CRS_ELAPSED_TIME     433298 non-null  float64\n",
      " 19  FLIGHTS              433298 non-null  float64\n",
      " 20  DISTANCE             433298 non-null  float64\n",
      " 21  DISTANCE_GROUP       433298 non-null  int64  \n",
      " 22  CARRIER_DELAY        70882 non-null   float64\n",
      " 23  WEATHER_DELAY        70882 non-null   float64\n",
      " 24  NAS_DELAY            70882 non-null   float64\n",
      " 25  SECURITY_DELAY       70882 non-null   float64\n",
      " 26  LATE_AIRCRAFT_DELAY  70882 non-null   float64\n",
      " 27  FIRST_DEP_TIME       2409 non-null    float64\n",
      " 28  TOTAL_ADD_GTIME      2409 non-null    float64\n",
      " 29  LONGEST_ADD_GTIME    2409 non-null    float64\n",
      "dtypes: bool(1), float64(13), int64(4), object(12)\n",
      "memory usage: 99.6+ MB\n"
     ]
    }
   ],
   "source": [
    "df_clean.info()"
   ]
  },
  {
   "cell_type": "code",
   "execution_count": 16,
   "metadata": {},
   "outputs": [
    {
     "name": "stdout",
     "output_type": "stream",
     "text": [
      "Nombre de colonnes float : 13\n",
      "\n",
      "Détails des colonnes float :\n",
      "- CANCELLED: float64\n",
      "- DIVERTED: float64\n",
      "- CRS_ELAPSED_TIME: float64\n",
      "- FLIGHTS: float64\n",
      "- DISTANCE: float64\n",
      "- CARRIER_DELAY: float64\n",
      "- WEATHER_DELAY: float64\n",
      "- NAS_DELAY: float64\n",
      "- SECURITY_DELAY: float64\n",
      "- LATE_AIRCRAFT_DELAY: float64\n",
      "- FIRST_DEP_TIME: float64\n",
      "- TOTAL_ADD_GTIME: float64\n",
      "- LONGEST_ADD_GTIME: float64\n"
     ]
    }
   ],
   "source": [
    "float_cols = df_clean.select_dtypes(include=[\"float64\", \"float32\"]).columns\n",
    "\n",
    "print(f\"Nombre de colonnes float : {len(float_cols)}\")\n",
    "print(\"\\nDétails des colonnes float :\")\n",
    "for col in float_cols:\n",
    "    print(f\"- {col}: {df_clean[col].dtype}\")"
   ]
  },
  {
   "cell_type": "code",
   "execution_count": 17,
   "metadata": {},
   "outputs": [],
   "source": [
    "for col in float_cols:\n",
    "    is_with_decimal = has_decimals(df[col])\n",
    "    if is_with_decimal:\n",
    "        print(f\"{col} a des décimales\")"
   ]
  },
  {
   "cell_type": "code",
   "execution_count": 18,
   "metadata": {},
   "outputs": [
    {
     "name": "stdout",
     "output_type": "stream",
     "text": [
      "CANCELLED has 0 empty lines over 433298 (0.00%)\n",
      "DIVERTED has 0 empty lines over 433298 (0.00%)\n",
      "CRS_ELAPSED_TIME has 0 empty lines over 433298 (0.00%)\n",
      "FLIGHTS has 0 empty lines over 433298 (0.00%)\n",
      "DISTANCE has 0 empty lines over 433298 (0.00%)\n",
      "CARRIER_DELAY has 362416 empty lines over 433298 (83.64%)\n",
      "WEATHER_DELAY has 362416 empty lines over 433298 (83.64%)\n",
      "NAS_DELAY has 362416 empty lines over 433298 (83.64%)\n",
      "SECURITY_DELAY has 362416 empty lines over 433298 (83.64%)\n",
      "LATE_AIRCRAFT_DELAY has 362416 empty lines over 433298 (83.64%)\n",
      "FIRST_DEP_TIME has 430889 empty lines over 433298 (99.44%)\n",
      "TOTAL_ADD_GTIME has 430889 empty lines over 433298 (99.44%)\n",
      "LONGEST_ADD_GTIME has 430889 empty lines over 433298 (99.44%)\n"
     ]
    }
   ],
   "source": [
    "line_count = df_clean.shape[0]\n",
    "\n",
    "for col in float_cols:\n",
    "    na_count = df_clean[col].isna().sum()\n",
    "    na_percentage = na_count / line_count * 100\n",
    "    print(f\"{col} has {na_count} empty lines over {line_count} ({na_percentage:.2f}%)\")"
   ]
  },
  {
   "cell_type": "markdown",
   "metadata": {},
   "source": [
    "- CARRIER_DELAY,\n",
    "- WEATHER_DELAY,\n",
    "- NAS_DELAY,\n",
    "- SECURITY_DELAY,\n",
    "- LATE_AIRCRAFT_DELAY,\n",
    "- FIRST_DEP_TIME,\n",
    "- TOTAL_ADD_GTIME et\n",
    "- LONGEST_ADD_GTIME\n",
    "  ont plus de 80% de lignes vides et sont donc inexploitables\n"
   ]
  },
  {
   "cell_type": "code",
   "execution_count": 19,
   "metadata": {},
   "outputs": [],
   "source": [
    "empty_cols = [\n",
    "    \"CARRIER_DELAY\",\n",
    "    \"WEATHER_DELAY\",\n",
    "    \"NAS_DELAY\",\n",
    "    \"SECURITY_DELAY\",\n",
    "    \"LATE_AIRCRAFT_DELAY\",\n",
    "    \"FIRST_DEP_TIME\",\n",
    "    \"TOTAL_ADD_GTIME\",\n",
    "    \"LONGEST_ADD_GTIME\",\n",
    "]"
   ]
  },
  {
   "cell_type": "code",
   "execution_count": 20,
   "metadata": {},
   "outputs": [],
   "source": [
    "df_clean = df_clean.drop(columns=empty_cols)"
   ]
  },
  {
   "cell_type": "code",
   "execution_count": 21,
   "metadata": {},
   "outputs": [
    {
     "name": "stdout",
     "output_type": "stream",
     "text": [
      "CANCELLED a été transformée en int32\n",
      "DIVERTED a été transformée en int32\n",
      "CRS_ELAPSED_TIME a été transformée en int32\n",
      "FLIGHTS a été transformée en int32\n",
      "DISTANCE a été transformée en int32\n",
      "<class 'pandas.core.frame.DataFrame'>\n",
      "Index: 433298 entries, 0 to 445826\n",
      "Data columns (total 22 columns):\n",
      " #   Column             Non-Null Count   Dtype \n",
      "---  ------             --------------   ----- \n",
      " 0   DAY_OF_WEEK        433298 non-null  int64 \n",
      " 1   FL_DATE            433298 non-null  object\n",
      " 2   CARRIER            433298 non-null  object\n",
      " 3   TAIL_NUM           433298 non-null  object\n",
      " 4   FL_NUM             433298 non-null  int64 \n",
      " 5   ORIGIN             433298 non-null  object\n",
      " 6   ORIGIN_CITY_NAME   433298 non-null  object\n",
      " 7   ORIGIN_STATE_ABR   433298 non-null  object\n",
      " 8   DEST               433298 non-null  object\n",
      " 9   DEST_CITY_NAME     433298 non-null  object\n",
      " 10  DEST_STATE_ABR     433298 non-null  object\n",
      " 11  DEP_TIME_BLK       433298 non-null  object\n",
      " 12  CRS_ARR_TIME       433298 non-null  int64 \n",
      " 13  ARR_DEL15          433298 non-null  bool  \n",
      " 14  ARR_TIME_BLK       433298 non-null  object\n",
      " 15  CANCELLED          433298 non-null  int32 \n",
      " 16  CANCELLATION_CODE  0 non-null       object\n",
      " 17  DIVERTED           433298 non-null  int32 \n",
      " 18  CRS_ELAPSED_TIME   433298 non-null  int32 \n",
      " 19  FLIGHTS            433298 non-null  int32 \n",
      " 20  DISTANCE           433298 non-null  int32 \n",
      " 21  DISTANCE_GROUP     433298 non-null  int64 \n",
      "dtypes: bool(1), int32(5), int64(4), object(12)\n",
      "memory usage: 64.9+ MB\n"
     ]
    }
   ],
   "source": [
    "updated_float_cols = [col for col in float_cols if col not in empty_cols]\n",
    "\n",
    "for col in updated_float_cols:\n",
    "    df_clean[col] = df_clean[col].astype(\"int32\")\n",
    "    print(f\"{col} a été transformée en int32\")\n",
    "\n",
    "df_clean.info()"
   ]
  },
  {
   "cell_type": "markdown",
   "metadata": {},
   "source": [
    "FL_DATE : Pour extraire mois, jour, saisonnalité\n",
    "DAY_OF_WEEK : Pattern de trafic différent selon le jour\n",
    "CRS_DEP_TIME, CRS_ARR_TIME : Horaires prévus (heures de pointe = plus de retard)\n",
    "DEP_TIME_BLK, ARR_TIME_BLK : Plages horaires agrégées\n",
    "\n",
    "Identifiants de vol :\n",
    "\n",
    "UNIQUE_CARRIER : Performance historique par compagnie\n",
    "TAIL_NUM : Historique de l'avion spécifique\n",
    "FL_NUM : Certains numéros de vol sont chroniquement en retard\n",
    "\n",
    "Géographie :\n",
    "\n",
    "ORIGIN, DEST : Aéroports critiques (hubs vs régionaux)\n",
    "ORIGIN_CITY_NAME, DEST_CITY_NAME : Contexte urbain/météo\n",
    "ORIGIN_STATE_ABR, DEST_STATE_ABR : Contexte régional\n",
    "ORIGIN_WAC, DEST_WAC : Zones de contrôle aérien\n",
    "\n",
    "Métadonnées de vol :\n",
    "\n",
    "CRS_ELAPSED_TIME : Durée prévue (vols longs plus sensibles aux retards)\n",
    "CANCELLED, DIVERTED\n"
   ]
  },
  {
   "cell_type": "markdown",
   "metadata": {},
   "source": [
    "#### Variables temporelles\n",
    "\n",
    "- DAY_OF_WEEK : Jour de la semaine (1 = lundi, 7 = dimanche)\n",
    "- FL_DATE : Date complète du vol (format AAAA-MM-JJ)\n",
    "\n",
    "#### Informations sur le vol\n",
    "\n",
    "- UNIQUE_CARRIER : Code unique du transporteur (ex. : 'AA' pour American Airlines)\n",
    "- AIRLINE_ID : Identifiant numérique de la compagnie aérienne\n",
    "- CARRIER : Code du transporteur\n",
    "- TAIL_NUM : Numéro de queue de l'avion\n",
    "- FL_NUM : Numéro du vol\n",
    "\n",
    "#### Aéroport d'origine\n",
    "\n",
    "- ORIGIN_AIRPORT_ID : Identifiant de l'aéroport d'origine\n",
    "- ORIGIN_AIRPORT_SEQ_ID : Identifiant de séquence de l'aéroport d'origine\n",
    "- ORIGIN_CITY_MARKET_ID : Identifiant du marché de la ville d'origine\n",
    "- ORIGIN : Code IATA de l'aéroport d'origine (ex. : 'JFK')\n",
    "- ORIGIN_CITY_NAME : Nom de la ville d'origine\n",
    "- ORIGIN_STATE_ABR : Abréviation de l'État d'origine\n",
    "- ORIGIN_STATE_FIPS : Code FIPS de l'État d'origine\n",
    "- ORIGIN_STATE_NM : Nom complet de l'État d'origine\n",
    "- ORIGIN_WAC : Code de zone de l'aéroport d'origine\n",
    "\n",
    "#### Aéroport de destination\n",
    "\n",
    "- DEST_AIRPORT_ID : Identifiant de l'aéroport de destination\n",
    "- DEST_AIRPORT_SEQ_ID : Identifiant de séquence de l'aéroport de destination\n",
    "- DEST_CITY_MARKET_ID : Identifiant du marché de la ville de destination\n",
    "- DEST : Code IATA de l'aéroport de destination\n",
    "- DEST_CITY_NAME : Nom de la ville de destination\n",
    "- DEST_STATE_ABR : Abréviation de l'État de destination\n",
    "- DEST_STATE_FIPS : Code FIPS de l'État de destination\n",
    "- DEST_STATE_NM : Nom complet de l'État de destination\n",
    "- DEST_WAC : Code de zone de l'aéroport de destination\n",
    "\n",
    "#### Horaires et retards\n",
    "\n",
    "- CRS_DEP_TIME : Heure de départ prévue (au format HHMM)\n",
    "- DEP_TIME : Heure réelle de départ\n",
    "- DEP_DELAY : Retard au départ en minutes (négatif si en avance)\n",
    "- DEP_DELAY_NEW : Retard au départ, avec 0 pour les retards ≤ 0\n",
    "- DEP_DEL15 : Indicateur de retard au départ ≥ 15 minutes (1 = oui, 0 = non)\n",
    "- DEP_DELAY_GROUP : Groupe de retard au départ (par tranches de 15 minutes)\n",
    "- DEP_TIME_BLK : Plage horaire du départ (ex. : '0600-0659')\n",
    "- TAXI_OUT : Temps de roulage avant le décollage (en minutes)\n",
    "- WHEELS_OFF : Heure de décollage (roues quittant le sol)\n",
    "- WHEELS_ON : Heure d'atterrissage (roues touchant le sol)\n",
    "- TAXI_IN : Temps de roulage après l'atterrissage (en minutes)\n",
    "- CRS_ARR_TIME : Heure d'arrivée prévue\n",
    "- ARR_TIME : Heure réelle d'arrivée\n",
    "- ARR_DELAY : Retard à l'arrivée en minutes\n",
    "- ARR_DELAY_NEW : Retard à l'arrivée, avec 0 pour les retards ≤ 0\n",
    "- ARR_DEL15 : Indicateur de retard à l'arrivée ≥ 15 minutes (1 = oui, 0 = non)\n",
    "- ARR_DELAY_GROUP : Groupe de retard à l'arrivée (par tranches de 15 minutes)\n",
    "- ARR_TIME_BLK : Plage horaire de l'arrivée (ex. : '0900-0959')\n",
    "\n",
    "#### Annulations et détournements\n",
    "\n",
    "26-05-2025 / Promo 1\n",
    "\n",
    "- CANCELLED : Indicateur d'annulation du vol (1 = oui, 0 = non)\n",
    "- CANCELLATION_CODE : Code de la raison de l'annulation (A = transporteur, B = météo, C =\n",
    "  NAS, D = sécurité)\n",
    "- DIVERTED : Indicateur de vol détourné (1 = oui, 0 = non)\n",
    "\n",
    "#### Durées et distances\n",
    "\n",
    "- CRS_ELAPSED_TIME : Durée prévue du vol (en minutes)\n",
    "- ACTUAL_ELAPSED_TIME : Durée réelle du vol (en minutes)\n",
    "- AIR_TIME : Temps de vol effectif (en minutes)\n"
   ]
  },
  {
   "cell_type": "code",
   "execution_count": null,
   "metadata": {},
   "outputs": [],
   "source": []
  },
  {
   "cell_type": "code",
   "execution_count": null,
   "metadata": {},
   "outputs": [],
   "source": []
  },
  {
   "cell_type": "markdown",
   "metadata": {},
   "source": [
    "## 4. VISUALISATIONS\n"
   ]
  },
  {
   "cell_type": "code",
   "execution_count": null,
   "metadata": {},
   "outputs": [],
   "source": []
  },
  {
   "cell_type": "markdown",
   "metadata": {},
   "source": [
    "## 5.MODÉLISATION\n"
   ]
  },
  {
   "cell_type": "code",
   "execution_count": null,
   "metadata": {},
   "outputs": [],
   "source": []
  }
 ],
 "metadata": {
  "kernelspec": {
   "display_name": ".venv (3.10.18)",
   "language": "python",
   "name": "python3"
  },
  "language_info": {
   "codemirror_mode": {
    "name": "ipython",
    "version": 3
   },
   "file_extension": ".py",
   "mimetype": "text/x-python",
   "name": "python",
   "nbconvert_exporter": "python",
   "pygments_lexer": "ipython3",
   "version": "3.10.18"
  }
 },
 "nbformat": 4,
 "nbformat_minor": 2
}
