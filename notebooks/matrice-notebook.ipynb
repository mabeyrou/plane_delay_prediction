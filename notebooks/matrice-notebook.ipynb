{
 "cells": [
  {
   "cell_type": "markdown",
   "metadata": {},
   "source": [
    "# PREDICTION DES RETARDS DE VOL\n"
   ]
  },
  {
   "cell_type": "markdown",
   "metadata": {},
   "source": [
    "## 1. IMPORT DES LIBRAIRIES\n"
   ]
  },
  {
   "cell_type": "code",
   "execution_count": 119,
   "metadata": {},
   "outputs": [],
   "source": [
    "import pandas as pd\n",
    "from os.path import join\n",
    "from sklearn.model_selection import train_test_split"
   ]
  },
  {
   "cell_type": "markdown",
   "metadata": {},
   "source": [
    "## 2. CHARGEMENT DES DONNÉES\n"
   ]
  },
  {
   "cell_type": "markdown",
   "metadata": {},
   "source": [
    "Les données sont réparties en 12 fichiers csv, un par mois de l'année 2016.  \n",
    "Chaque fichier comporte plus de 470000 lignes. Cela représente un total de plus de 5,5 millions de lignes. Il nous faut donc trouver une stratégie pour épargner notre mémoire.\n"
   ]
  },
  {
   "cell_type": "markdown",
   "metadata": {},
   "source": [
    "### 2.1. Exploration d'un unique fichier\n",
    "\n",
    "Dans ce cadre, nous décidons de commencer par analyser un fichier pour identifier les optimisations possibles afin de mes appliquer à tous les autres fichiers.\n"
   ]
  },
  {
   "cell_type": "code",
   "execution_count": 120,
   "metadata": {},
   "outputs": [],
   "source": [
    "raw_data_path = join(\"..\", \"data\", \"raw\")\n",
    "\n",
    "jan_data_path = join(raw_data_path, \"2016_01.csv\")"
   ]
  },
  {
   "cell_type": "code",
   "execution_count": 121,
   "metadata": {},
   "outputs": [
    {
     "data": {
      "application/vnd.microsoft.datawrangler.viewer.v0+json": {
       "columns": [
        {
         "name": "index",
         "rawType": "int64",
         "type": "integer"
        },
        {
         "name": "YEAR",
         "rawType": "int64",
         "type": "integer"
        },
        {
         "name": "QUARTER",
         "rawType": "int64",
         "type": "integer"
        },
        {
         "name": "MONTH",
         "rawType": "int64",
         "type": "integer"
        },
        {
         "name": "DAY_OF_MONTH",
         "rawType": "int64",
         "type": "integer"
        },
        {
         "name": "DAY_OF_WEEK",
         "rawType": "int64",
         "type": "integer"
        },
        {
         "name": "FL_DATE",
         "rawType": "object",
         "type": "string"
        },
        {
         "name": "UNIQUE_CARRIER",
         "rawType": "object",
         "type": "string"
        },
        {
         "name": "AIRLINE_ID",
         "rawType": "int64",
         "type": "integer"
        },
        {
         "name": "CARRIER",
         "rawType": "object",
         "type": "string"
        },
        {
         "name": "TAIL_NUM",
         "rawType": "object",
         "type": "string"
        },
        {
         "name": "FL_NUM",
         "rawType": "int64",
         "type": "integer"
        },
        {
         "name": "ORIGIN_AIRPORT_ID",
         "rawType": "int64",
         "type": "integer"
        },
        {
         "name": "ORIGIN_AIRPORT_SEQ_ID",
         "rawType": "int64",
         "type": "integer"
        },
        {
         "name": "ORIGIN_CITY_MARKET_ID",
         "rawType": "int64",
         "type": "integer"
        },
        {
         "name": "ORIGIN",
         "rawType": "object",
         "type": "string"
        },
        {
         "name": "ORIGIN_CITY_NAME",
         "rawType": "object",
         "type": "string"
        },
        {
         "name": "ORIGIN_STATE_ABR",
         "rawType": "object",
         "type": "string"
        },
        {
         "name": "ORIGIN_STATE_FIPS",
         "rawType": "int64",
         "type": "integer"
        },
        {
         "name": "ORIGIN_STATE_NM",
         "rawType": "object",
         "type": "string"
        },
        {
         "name": "ORIGIN_WAC",
         "rawType": "int64",
         "type": "integer"
        },
        {
         "name": "DEST_AIRPORT_ID",
         "rawType": "int64",
         "type": "integer"
        },
        {
         "name": "DEST_AIRPORT_SEQ_ID",
         "rawType": "int64",
         "type": "integer"
        },
        {
         "name": "DEST_CITY_MARKET_ID",
         "rawType": "int64",
         "type": "integer"
        },
        {
         "name": "DEST",
         "rawType": "object",
         "type": "string"
        },
        {
         "name": "DEST_CITY_NAME",
         "rawType": "object",
         "type": "string"
        },
        {
         "name": "DEST_STATE_ABR",
         "rawType": "object",
         "type": "string"
        },
        {
         "name": "DEST_STATE_FIPS",
         "rawType": "int64",
         "type": "integer"
        },
        {
         "name": "DEST_STATE_NM",
         "rawType": "object",
         "type": "string"
        },
        {
         "name": "DEST_WAC",
         "rawType": "int64",
         "type": "integer"
        },
        {
         "name": "CRS_DEP_TIME",
         "rawType": "int64",
         "type": "integer"
        },
        {
         "name": "DEP_TIME",
         "rawType": "float64",
         "type": "float"
        },
        {
         "name": "DEP_DELAY",
         "rawType": "float64",
         "type": "float"
        },
        {
         "name": "DEP_DELAY_NEW",
         "rawType": "float64",
         "type": "float"
        },
        {
         "name": "DEP_DEL15",
         "rawType": "float64",
         "type": "float"
        },
        {
         "name": "DEP_DELAY_GROUP",
         "rawType": "float64",
         "type": "float"
        },
        {
         "name": "DEP_TIME_BLK",
         "rawType": "object",
         "type": "string"
        },
        {
         "name": "TAXI_OUT",
         "rawType": "float64",
         "type": "float"
        },
        {
         "name": "WHEELS_OFF",
         "rawType": "float64",
         "type": "float"
        },
        {
         "name": "WHEELS_ON",
         "rawType": "float64",
         "type": "float"
        },
        {
         "name": "TAXI_IN",
         "rawType": "float64",
         "type": "float"
        },
        {
         "name": "CRS_ARR_TIME",
         "rawType": "int64",
         "type": "integer"
        },
        {
         "name": "ARR_TIME",
         "rawType": "float64",
         "type": "float"
        },
        {
         "name": "ARR_DELAY",
         "rawType": "float64",
         "type": "float"
        },
        {
         "name": "ARR_DELAY_NEW",
         "rawType": "float64",
         "type": "float"
        },
        {
         "name": "ARR_DEL15",
         "rawType": "float64",
         "type": "float"
        },
        {
         "name": "ARR_DELAY_GROUP",
         "rawType": "float64",
         "type": "float"
        },
        {
         "name": "ARR_TIME_BLK",
         "rawType": "object",
         "type": "string"
        },
        {
         "name": "CANCELLED",
         "rawType": "float64",
         "type": "float"
        },
        {
         "name": "CANCELLATION_CODE",
         "rawType": "object",
         "type": "unknown"
        },
        {
         "name": "DIVERTED",
         "rawType": "float64",
         "type": "float"
        },
        {
         "name": "CRS_ELAPSED_TIME",
         "rawType": "float64",
         "type": "float"
        },
        {
         "name": "ACTUAL_ELAPSED_TIME",
         "rawType": "float64",
         "type": "float"
        },
        {
         "name": "AIR_TIME",
         "rawType": "float64",
         "type": "float"
        },
        {
         "name": "FLIGHTS",
         "rawType": "float64",
         "type": "float"
        },
        {
         "name": "DISTANCE",
         "rawType": "float64",
         "type": "float"
        },
        {
         "name": "DISTANCE_GROUP",
         "rawType": "int64",
         "type": "integer"
        },
        {
         "name": "CARRIER_DELAY",
         "rawType": "float64",
         "type": "float"
        },
        {
         "name": "WEATHER_DELAY",
         "rawType": "float64",
         "type": "float"
        },
        {
         "name": "NAS_DELAY",
         "rawType": "float64",
         "type": "float"
        },
        {
         "name": "SECURITY_DELAY",
         "rawType": "float64",
         "type": "float"
        },
        {
         "name": "LATE_AIRCRAFT_DELAY",
         "rawType": "float64",
         "type": "float"
        },
        {
         "name": "FIRST_DEP_TIME",
         "rawType": "float64",
         "type": "float"
        },
        {
         "name": "TOTAL_ADD_GTIME",
         "rawType": "float64",
         "type": "float"
        },
        {
         "name": "LONGEST_ADD_GTIME",
         "rawType": "float64",
         "type": "float"
        },
        {
         "name": "Unnamed: 64",
         "rawType": "float64",
         "type": "float"
        }
       ],
       "ref": "fab3e681-fb70-4c49-aef2-2d7aed336764",
       "rows": [
        [
         "0",
         "2016",
         "1",
         "1",
         "6",
         "3",
         "2016-01-06",
         "AA",
         "19805",
         "AA",
         "N4YBAA",
         "43",
         "11298",
         "1129804",
         "30194",
         "DFW",
         "Dallas/Fort Worth, TX",
         "TX",
         "48",
         "Texas",
         "74",
         "11433",
         "1143302",
         "31295",
         "DTW",
         "Detroit, MI",
         "MI",
         "26",
         "Michigan",
         "43",
         "1100",
         "1057.0",
         "-3.0",
         "0.0",
         "0.0",
         "-1.0",
         "1100-1159",
         "15.0",
         "1112.0",
         "1424.0",
         "8.0",
         "1438",
         "1432.0",
         "-6.0",
         "0.0",
         "0.0",
         "-1.0",
         "1400-1459",
         "0.0",
         null,
         "0.0",
         "158.0",
         "155.0",
         "132.0",
         "1.0",
         "986.0",
         "4",
         null,
         null,
         null,
         null,
         null,
         null,
         null,
         null,
         null
        ],
        [
         "1",
         "2016",
         "1",
         "1",
         "7",
         "4",
         "2016-01-07",
         "AA",
         "19805",
         "AA",
         "N434AA",
         "43",
         "11298",
         "1129804",
         "30194",
         "DFW",
         "Dallas/Fort Worth, TX",
         "TX",
         "48",
         "Texas",
         "74",
         "11433",
         "1143302",
         "31295",
         "DTW",
         "Detroit, MI",
         "MI",
         "26",
         "Michigan",
         "43",
         "1100",
         "1056.0",
         "-4.0",
         "0.0",
         "0.0",
         "-1.0",
         "1100-1159",
         "14.0",
         "1110.0",
         "1416.0",
         "10.0",
         "1438",
         "1426.0",
         "-12.0",
         "0.0",
         "0.0",
         "-1.0",
         "1400-1459",
         "0.0",
         null,
         "0.0",
         "158.0",
         "150.0",
         "126.0",
         "1.0",
         "986.0",
         "4",
         null,
         null,
         null,
         null,
         null,
         null,
         null,
         null,
         null
        ],
        [
         "2",
         "2016",
         "1",
         "1",
         "8",
         "5",
         "2016-01-08",
         "AA",
         "19805",
         "AA",
         "N541AA",
         "43",
         "11298",
         "1129804",
         "30194",
         "DFW",
         "Dallas/Fort Worth, TX",
         "TX",
         "48",
         "Texas",
         "74",
         "11433",
         "1143302",
         "31295",
         "DTW",
         "Detroit, MI",
         "MI",
         "26",
         "Michigan",
         "43",
         "1100",
         "1055.0",
         "-5.0",
         "0.0",
         "0.0",
         "-1.0",
         "1100-1159",
         "21.0",
         "1116.0",
         "1431.0",
         "14.0",
         "1438",
         "1445.0",
         "7.0",
         "7.0",
         "0.0",
         "0.0",
         "1400-1459",
         "0.0",
         null,
         "0.0",
         "158.0",
         "170.0",
         "135.0",
         "1.0",
         "986.0",
         "4",
         null,
         null,
         null,
         null,
         null,
         null,
         null,
         null,
         null
        ],
        [
         "3",
         "2016",
         "1",
         "1",
         "9",
         "6",
         "2016-01-09",
         "AA",
         "19805",
         "AA",
         "N489AA",
         "43",
         "11298",
         "1129804",
         "30194",
         "DFW",
         "Dallas/Fort Worth, TX",
         "TX",
         "48",
         "Texas",
         "74",
         "11433",
         "1143302",
         "31295",
         "DTW",
         "Detroit, MI",
         "MI",
         "26",
         "Michigan",
         "43",
         "1100",
         "1102.0",
         "2.0",
         "2.0",
         "0.0",
         "0.0",
         "1100-1159",
         "13.0",
         "1115.0",
         "1424.0",
         "9.0",
         "1438",
         "1433.0",
         "-5.0",
         "0.0",
         "0.0",
         "-1.0",
         "1400-1459",
         "0.0",
         null,
         "0.0",
         "158.0",
         "151.0",
         "129.0",
         "1.0",
         "986.0",
         "4",
         null,
         null,
         null,
         null,
         null,
         null,
         null,
         null,
         null
        ],
        [
         "4",
         "2016",
         "1",
         "1",
         "10",
         "7",
         "2016-01-10",
         "AA",
         "19805",
         "AA",
         "N439AA",
         "43",
         "11298",
         "1129804",
         "30194",
         "DFW",
         "Dallas/Fort Worth, TX",
         "TX",
         "48",
         "Texas",
         "74",
         "11433",
         "1143302",
         "31295",
         "DTW",
         "Detroit, MI",
         "MI",
         "26",
         "Michigan",
         "43",
         "1100",
         "1240.0",
         "100.0",
         "100.0",
         "1.0",
         "6.0",
         "1100-1159",
         "20.0",
         "1300.0",
         "1617.0",
         "14.0",
         "1438",
         "1631.0",
         "113.0",
         "113.0",
         "1.0",
         "7.0",
         "1400-1459",
         "0.0",
         null,
         "0.0",
         "158.0",
         "171.0",
         "137.0",
         "1.0",
         "986.0",
         "4",
         "0.0",
         "0.0",
         "47.0",
         "0.0",
         "66.0",
         null,
         null,
         null,
         null
        ]
       ],
       "shape": {
        "columns": 65,
        "rows": 5
       }
      },
      "text/html": [
       "<div>\n",
       "<style scoped>\n",
       "    .dataframe tbody tr th:only-of-type {\n",
       "        vertical-align: middle;\n",
       "    }\n",
       "\n",
       "    .dataframe tbody tr th {\n",
       "        vertical-align: top;\n",
       "    }\n",
       "\n",
       "    .dataframe thead th {\n",
       "        text-align: right;\n",
       "    }\n",
       "</style>\n",
       "<table border=\"1\" class=\"dataframe\">\n",
       "  <thead>\n",
       "    <tr style=\"text-align: right;\">\n",
       "      <th></th>\n",
       "      <th>YEAR</th>\n",
       "      <th>QUARTER</th>\n",
       "      <th>MONTH</th>\n",
       "      <th>DAY_OF_MONTH</th>\n",
       "      <th>DAY_OF_WEEK</th>\n",
       "      <th>FL_DATE</th>\n",
       "      <th>UNIQUE_CARRIER</th>\n",
       "      <th>AIRLINE_ID</th>\n",
       "      <th>CARRIER</th>\n",
       "      <th>TAIL_NUM</th>\n",
       "      <th>FL_NUM</th>\n",
       "      <th>ORIGIN_AIRPORT_ID</th>\n",
       "      <th>ORIGIN_AIRPORT_SEQ_ID</th>\n",
       "      <th>ORIGIN_CITY_MARKET_ID</th>\n",
       "      <th>ORIGIN</th>\n",
       "      <th>ORIGIN_CITY_NAME</th>\n",
       "      <th>ORIGIN_STATE_ABR</th>\n",
       "      <th>ORIGIN_STATE_FIPS</th>\n",
       "      <th>ORIGIN_STATE_NM</th>\n",
       "      <th>ORIGIN_WAC</th>\n",
       "      <th>DEST_AIRPORT_ID</th>\n",
       "      <th>DEST_AIRPORT_SEQ_ID</th>\n",
       "      <th>DEST_CITY_MARKET_ID</th>\n",
       "      <th>DEST</th>\n",
       "      <th>DEST_CITY_NAME</th>\n",
       "      <th>DEST_STATE_ABR</th>\n",
       "      <th>DEST_STATE_FIPS</th>\n",
       "      <th>DEST_STATE_NM</th>\n",
       "      <th>DEST_WAC</th>\n",
       "      <th>CRS_DEP_TIME</th>\n",
       "      <th>DEP_TIME</th>\n",
       "      <th>DEP_DELAY</th>\n",
       "      <th>DEP_DELAY_NEW</th>\n",
       "      <th>DEP_DEL15</th>\n",
       "      <th>DEP_DELAY_GROUP</th>\n",
       "      <th>DEP_TIME_BLK</th>\n",
       "      <th>TAXI_OUT</th>\n",
       "      <th>WHEELS_OFF</th>\n",
       "      <th>WHEELS_ON</th>\n",
       "      <th>TAXI_IN</th>\n",
       "      <th>CRS_ARR_TIME</th>\n",
       "      <th>ARR_TIME</th>\n",
       "      <th>ARR_DELAY</th>\n",
       "      <th>ARR_DELAY_NEW</th>\n",
       "      <th>ARR_DEL15</th>\n",
       "      <th>ARR_DELAY_GROUP</th>\n",
       "      <th>ARR_TIME_BLK</th>\n",
       "      <th>CANCELLED</th>\n",
       "      <th>CANCELLATION_CODE</th>\n",
       "      <th>DIVERTED</th>\n",
       "      <th>CRS_ELAPSED_TIME</th>\n",
       "      <th>ACTUAL_ELAPSED_TIME</th>\n",
       "      <th>AIR_TIME</th>\n",
       "      <th>FLIGHTS</th>\n",
       "      <th>DISTANCE</th>\n",
       "      <th>DISTANCE_GROUP</th>\n",
       "      <th>CARRIER_DELAY</th>\n",
       "      <th>WEATHER_DELAY</th>\n",
       "      <th>NAS_DELAY</th>\n",
       "      <th>SECURITY_DELAY</th>\n",
       "      <th>LATE_AIRCRAFT_DELAY</th>\n",
       "      <th>FIRST_DEP_TIME</th>\n",
       "      <th>TOTAL_ADD_GTIME</th>\n",
       "      <th>LONGEST_ADD_GTIME</th>\n",
       "      <th>Unnamed: 64</th>\n",
       "    </tr>\n",
       "  </thead>\n",
       "  <tbody>\n",
       "    <tr>\n",
       "      <th>0</th>\n",
       "      <td>2016</td>\n",
       "      <td>1</td>\n",
       "      <td>1</td>\n",
       "      <td>6</td>\n",
       "      <td>3</td>\n",
       "      <td>2016-01-06</td>\n",
       "      <td>AA</td>\n",
       "      <td>19805</td>\n",
       "      <td>AA</td>\n",
       "      <td>N4YBAA</td>\n",
       "      <td>43</td>\n",
       "      <td>11298</td>\n",
       "      <td>1129804</td>\n",
       "      <td>30194</td>\n",
       "      <td>DFW</td>\n",
       "      <td>Dallas/Fort Worth, TX</td>\n",
       "      <td>TX</td>\n",
       "      <td>48</td>\n",
       "      <td>Texas</td>\n",
       "      <td>74</td>\n",
       "      <td>11433</td>\n",
       "      <td>1143302</td>\n",
       "      <td>31295</td>\n",
       "      <td>DTW</td>\n",
       "      <td>Detroit, MI</td>\n",
       "      <td>MI</td>\n",
       "      <td>26</td>\n",
       "      <td>Michigan</td>\n",
       "      <td>43</td>\n",
       "      <td>1100</td>\n",
       "      <td>1057.0</td>\n",
       "      <td>-3.0</td>\n",
       "      <td>0.0</td>\n",
       "      <td>0.0</td>\n",
       "      <td>-1.0</td>\n",
       "      <td>1100-1159</td>\n",
       "      <td>15.0</td>\n",
       "      <td>1112.0</td>\n",
       "      <td>1424.0</td>\n",
       "      <td>8.0</td>\n",
       "      <td>1438</td>\n",
       "      <td>1432.0</td>\n",
       "      <td>-6.0</td>\n",
       "      <td>0.0</td>\n",
       "      <td>0.0</td>\n",
       "      <td>-1.0</td>\n",
       "      <td>1400-1459</td>\n",
       "      <td>0.0</td>\n",
       "      <td>NaN</td>\n",
       "      <td>0.0</td>\n",
       "      <td>158.0</td>\n",
       "      <td>155.0</td>\n",
       "      <td>132.0</td>\n",
       "      <td>1.0</td>\n",
       "      <td>986.0</td>\n",
       "      <td>4</td>\n",
       "      <td>NaN</td>\n",
       "      <td>NaN</td>\n",
       "      <td>NaN</td>\n",
       "      <td>NaN</td>\n",
       "      <td>NaN</td>\n",
       "      <td>NaN</td>\n",
       "      <td>NaN</td>\n",
       "      <td>NaN</td>\n",
       "      <td>NaN</td>\n",
       "    </tr>\n",
       "    <tr>\n",
       "      <th>1</th>\n",
       "      <td>2016</td>\n",
       "      <td>1</td>\n",
       "      <td>1</td>\n",
       "      <td>7</td>\n",
       "      <td>4</td>\n",
       "      <td>2016-01-07</td>\n",
       "      <td>AA</td>\n",
       "      <td>19805</td>\n",
       "      <td>AA</td>\n",
       "      <td>N434AA</td>\n",
       "      <td>43</td>\n",
       "      <td>11298</td>\n",
       "      <td>1129804</td>\n",
       "      <td>30194</td>\n",
       "      <td>DFW</td>\n",
       "      <td>Dallas/Fort Worth, TX</td>\n",
       "      <td>TX</td>\n",
       "      <td>48</td>\n",
       "      <td>Texas</td>\n",
       "      <td>74</td>\n",
       "      <td>11433</td>\n",
       "      <td>1143302</td>\n",
       "      <td>31295</td>\n",
       "      <td>DTW</td>\n",
       "      <td>Detroit, MI</td>\n",
       "      <td>MI</td>\n",
       "      <td>26</td>\n",
       "      <td>Michigan</td>\n",
       "      <td>43</td>\n",
       "      <td>1100</td>\n",
       "      <td>1056.0</td>\n",
       "      <td>-4.0</td>\n",
       "      <td>0.0</td>\n",
       "      <td>0.0</td>\n",
       "      <td>-1.0</td>\n",
       "      <td>1100-1159</td>\n",
       "      <td>14.0</td>\n",
       "      <td>1110.0</td>\n",
       "      <td>1416.0</td>\n",
       "      <td>10.0</td>\n",
       "      <td>1438</td>\n",
       "      <td>1426.0</td>\n",
       "      <td>-12.0</td>\n",
       "      <td>0.0</td>\n",
       "      <td>0.0</td>\n",
       "      <td>-1.0</td>\n",
       "      <td>1400-1459</td>\n",
       "      <td>0.0</td>\n",
       "      <td>NaN</td>\n",
       "      <td>0.0</td>\n",
       "      <td>158.0</td>\n",
       "      <td>150.0</td>\n",
       "      <td>126.0</td>\n",
       "      <td>1.0</td>\n",
       "      <td>986.0</td>\n",
       "      <td>4</td>\n",
       "      <td>NaN</td>\n",
       "      <td>NaN</td>\n",
       "      <td>NaN</td>\n",
       "      <td>NaN</td>\n",
       "      <td>NaN</td>\n",
       "      <td>NaN</td>\n",
       "      <td>NaN</td>\n",
       "      <td>NaN</td>\n",
       "      <td>NaN</td>\n",
       "    </tr>\n",
       "    <tr>\n",
       "      <th>2</th>\n",
       "      <td>2016</td>\n",
       "      <td>1</td>\n",
       "      <td>1</td>\n",
       "      <td>8</td>\n",
       "      <td>5</td>\n",
       "      <td>2016-01-08</td>\n",
       "      <td>AA</td>\n",
       "      <td>19805</td>\n",
       "      <td>AA</td>\n",
       "      <td>N541AA</td>\n",
       "      <td>43</td>\n",
       "      <td>11298</td>\n",
       "      <td>1129804</td>\n",
       "      <td>30194</td>\n",
       "      <td>DFW</td>\n",
       "      <td>Dallas/Fort Worth, TX</td>\n",
       "      <td>TX</td>\n",
       "      <td>48</td>\n",
       "      <td>Texas</td>\n",
       "      <td>74</td>\n",
       "      <td>11433</td>\n",
       "      <td>1143302</td>\n",
       "      <td>31295</td>\n",
       "      <td>DTW</td>\n",
       "      <td>Detroit, MI</td>\n",
       "      <td>MI</td>\n",
       "      <td>26</td>\n",
       "      <td>Michigan</td>\n",
       "      <td>43</td>\n",
       "      <td>1100</td>\n",
       "      <td>1055.0</td>\n",
       "      <td>-5.0</td>\n",
       "      <td>0.0</td>\n",
       "      <td>0.0</td>\n",
       "      <td>-1.0</td>\n",
       "      <td>1100-1159</td>\n",
       "      <td>21.0</td>\n",
       "      <td>1116.0</td>\n",
       "      <td>1431.0</td>\n",
       "      <td>14.0</td>\n",
       "      <td>1438</td>\n",
       "      <td>1445.0</td>\n",
       "      <td>7.0</td>\n",
       "      <td>7.0</td>\n",
       "      <td>0.0</td>\n",
       "      <td>0.0</td>\n",
       "      <td>1400-1459</td>\n",
       "      <td>0.0</td>\n",
       "      <td>NaN</td>\n",
       "      <td>0.0</td>\n",
       "      <td>158.0</td>\n",
       "      <td>170.0</td>\n",
       "      <td>135.0</td>\n",
       "      <td>1.0</td>\n",
       "      <td>986.0</td>\n",
       "      <td>4</td>\n",
       "      <td>NaN</td>\n",
       "      <td>NaN</td>\n",
       "      <td>NaN</td>\n",
       "      <td>NaN</td>\n",
       "      <td>NaN</td>\n",
       "      <td>NaN</td>\n",
       "      <td>NaN</td>\n",
       "      <td>NaN</td>\n",
       "      <td>NaN</td>\n",
       "    </tr>\n",
       "    <tr>\n",
       "      <th>3</th>\n",
       "      <td>2016</td>\n",
       "      <td>1</td>\n",
       "      <td>1</td>\n",
       "      <td>9</td>\n",
       "      <td>6</td>\n",
       "      <td>2016-01-09</td>\n",
       "      <td>AA</td>\n",
       "      <td>19805</td>\n",
       "      <td>AA</td>\n",
       "      <td>N489AA</td>\n",
       "      <td>43</td>\n",
       "      <td>11298</td>\n",
       "      <td>1129804</td>\n",
       "      <td>30194</td>\n",
       "      <td>DFW</td>\n",
       "      <td>Dallas/Fort Worth, TX</td>\n",
       "      <td>TX</td>\n",
       "      <td>48</td>\n",
       "      <td>Texas</td>\n",
       "      <td>74</td>\n",
       "      <td>11433</td>\n",
       "      <td>1143302</td>\n",
       "      <td>31295</td>\n",
       "      <td>DTW</td>\n",
       "      <td>Detroit, MI</td>\n",
       "      <td>MI</td>\n",
       "      <td>26</td>\n",
       "      <td>Michigan</td>\n",
       "      <td>43</td>\n",
       "      <td>1100</td>\n",
       "      <td>1102.0</td>\n",
       "      <td>2.0</td>\n",
       "      <td>2.0</td>\n",
       "      <td>0.0</td>\n",
       "      <td>0.0</td>\n",
       "      <td>1100-1159</td>\n",
       "      <td>13.0</td>\n",
       "      <td>1115.0</td>\n",
       "      <td>1424.0</td>\n",
       "      <td>9.0</td>\n",
       "      <td>1438</td>\n",
       "      <td>1433.0</td>\n",
       "      <td>-5.0</td>\n",
       "      <td>0.0</td>\n",
       "      <td>0.0</td>\n",
       "      <td>-1.0</td>\n",
       "      <td>1400-1459</td>\n",
       "      <td>0.0</td>\n",
       "      <td>NaN</td>\n",
       "      <td>0.0</td>\n",
       "      <td>158.0</td>\n",
       "      <td>151.0</td>\n",
       "      <td>129.0</td>\n",
       "      <td>1.0</td>\n",
       "      <td>986.0</td>\n",
       "      <td>4</td>\n",
       "      <td>NaN</td>\n",
       "      <td>NaN</td>\n",
       "      <td>NaN</td>\n",
       "      <td>NaN</td>\n",
       "      <td>NaN</td>\n",
       "      <td>NaN</td>\n",
       "      <td>NaN</td>\n",
       "      <td>NaN</td>\n",
       "      <td>NaN</td>\n",
       "    </tr>\n",
       "    <tr>\n",
       "      <th>4</th>\n",
       "      <td>2016</td>\n",
       "      <td>1</td>\n",
       "      <td>1</td>\n",
       "      <td>10</td>\n",
       "      <td>7</td>\n",
       "      <td>2016-01-10</td>\n",
       "      <td>AA</td>\n",
       "      <td>19805</td>\n",
       "      <td>AA</td>\n",
       "      <td>N439AA</td>\n",
       "      <td>43</td>\n",
       "      <td>11298</td>\n",
       "      <td>1129804</td>\n",
       "      <td>30194</td>\n",
       "      <td>DFW</td>\n",
       "      <td>Dallas/Fort Worth, TX</td>\n",
       "      <td>TX</td>\n",
       "      <td>48</td>\n",
       "      <td>Texas</td>\n",
       "      <td>74</td>\n",
       "      <td>11433</td>\n",
       "      <td>1143302</td>\n",
       "      <td>31295</td>\n",
       "      <td>DTW</td>\n",
       "      <td>Detroit, MI</td>\n",
       "      <td>MI</td>\n",
       "      <td>26</td>\n",
       "      <td>Michigan</td>\n",
       "      <td>43</td>\n",
       "      <td>1100</td>\n",
       "      <td>1240.0</td>\n",
       "      <td>100.0</td>\n",
       "      <td>100.0</td>\n",
       "      <td>1.0</td>\n",
       "      <td>6.0</td>\n",
       "      <td>1100-1159</td>\n",
       "      <td>20.0</td>\n",
       "      <td>1300.0</td>\n",
       "      <td>1617.0</td>\n",
       "      <td>14.0</td>\n",
       "      <td>1438</td>\n",
       "      <td>1631.0</td>\n",
       "      <td>113.0</td>\n",
       "      <td>113.0</td>\n",
       "      <td>1.0</td>\n",
       "      <td>7.0</td>\n",
       "      <td>1400-1459</td>\n",
       "      <td>0.0</td>\n",
       "      <td>NaN</td>\n",
       "      <td>0.0</td>\n",
       "      <td>158.0</td>\n",
       "      <td>171.0</td>\n",
       "      <td>137.0</td>\n",
       "      <td>1.0</td>\n",
       "      <td>986.0</td>\n",
       "      <td>4</td>\n",
       "      <td>0.0</td>\n",
       "      <td>0.0</td>\n",
       "      <td>47.0</td>\n",
       "      <td>0.0</td>\n",
       "      <td>66.0</td>\n",
       "      <td>NaN</td>\n",
       "      <td>NaN</td>\n",
       "      <td>NaN</td>\n",
       "      <td>NaN</td>\n",
       "    </tr>\n",
       "  </tbody>\n",
       "</table>\n",
       "</div>"
      ],
      "text/plain": [
       "   YEAR  QUARTER  MONTH  DAY_OF_MONTH  DAY_OF_WEEK     FL_DATE UNIQUE_CARRIER  \\\n",
       "0  2016        1      1             6            3  2016-01-06             AA   \n",
       "1  2016        1      1             7            4  2016-01-07             AA   \n",
       "2  2016        1      1             8            5  2016-01-08             AA   \n",
       "3  2016        1      1             9            6  2016-01-09             AA   \n",
       "4  2016        1      1            10            7  2016-01-10             AA   \n",
       "\n",
       "   AIRLINE_ID CARRIER TAIL_NUM  FL_NUM  ORIGIN_AIRPORT_ID  \\\n",
       "0       19805      AA   N4YBAA      43              11298   \n",
       "1       19805      AA   N434AA      43              11298   \n",
       "2       19805      AA   N541AA      43              11298   \n",
       "3       19805      AA   N489AA      43              11298   \n",
       "4       19805      AA   N439AA      43              11298   \n",
       "\n",
       "   ORIGIN_AIRPORT_SEQ_ID  ORIGIN_CITY_MARKET_ID ORIGIN       ORIGIN_CITY_NAME  \\\n",
       "0                1129804                  30194    DFW  Dallas/Fort Worth, TX   \n",
       "1                1129804                  30194    DFW  Dallas/Fort Worth, TX   \n",
       "2                1129804                  30194    DFW  Dallas/Fort Worth, TX   \n",
       "3                1129804                  30194    DFW  Dallas/Fort Worth, TX   \n",
       "4                1129804                  30194    DFW  Dallas/Fort Worth, TX   \n",
       "\n",
       "  ORIGIN_STATE_ABR  ORIGIN_STATE_FIPS ORIGIN_STATE_NM  ORIGIN_WAC  \\\n",
       "0               TX                 48           Texas          74   \n",
       "1               TX                 48           Texas          74   \n",
       "2               TX                 48           Texas          74   \n",
       "3               TX                 48           Texas          74   \n",
       "4               TX                 48           Texas          74   \n",
       "\n",
       "   DEST_AIRPORT_ID  DEST_AIRPORT_SEQ_ID  DEST_CITY_MARKET_ID DEST  \\\n",
       "0            11433              1143302                31295  DTW   \n",
       "1            11433              1143302                31295  DTW   \n",
       "2            11433              1143302                31295  DTW   \n",
       "3            11433              1143302                31295  DTW   \n",
       "4            11433              1143302                31295  DTW   \n",
       "\n",
       "  DEST_CITY_NAME DEST_STATE_ABR  DEST_STATE_FIPS DEST_STATE_NM  DEST_WAC  \\\n",
       "0    Detroit, MI             MI               26      Michigan        43   \n",
       "1    Detroit, MI             MI               26      Michigan        43   \n",
       "2    Detroit, MI             MI               26      Michigan        43   \n",
       "3    Detroit, MI             MI               26      Michigan        43   \n",
       "4    Detroit, MI             MI               26      Michigan        43   \n",
       "\n",
       "   CRS_DEP_TIME  DEP_TIME  DEP_DELAY  DEP_DELAY_NEW  DEP_DEL15  \\\n",
       "0          1100    1057.0       -3.0            0.0        0.0   \n",
       "1          1100    1056.0       -4.0            0.0        0.0   \n",
       "2          1100    1055.0       -5.0            0.0        0.0   \n",
       "3          1100    1102.0        2.0            2.0        0.0   \n",
       "4          1100    1240.0      100.0          100.0        1.0   \n",
       "\n",
       "   DEP_DELAY_GROUP DEP_TIME_BLK  TAXI_OUT  WHEELS_OFF  WHEELS_ON  TAXI_IN  \\\n",
       "0             -1.0    1100-1159      15.0      1112.0     1424.0      8.0   \n",
       "1             -1.0    1100-1159      14.0      1110.0     1416.0     10.0   \n",
       "2             -1.0    1100-1159      21.0      1116.0     1431.0     14.0   \n",
       "3              0.0    1100-1159      13.0      1115.0     1424.0      9.0   \n",
       "4              6.0    1100-1159      20.0      1300.0     1617.0     14.0   \n",
       "\n",
       "   CRS_ARR_TIME  ARR_TIME  ARR_DELAY  ARR_DELAY_NEW  ARR_DEL15  \\\n",
       "0          1438    1432.0       -6.0            0.0        0.0   \n",
       "1          1438    1426.0      -12.0            0.0        0.0   \n",
       "2          1438    1445.0        7.0            7.0        0.0   \n",
       "3          1438    1433.0       -5.0            0.0        0.0   \n",
       "4          1438    1631.0      113.0          113.0        1.0   \n",
       "\n",
       "   ARR_DELAY_GROUP ARR_TIME_BLK  CANCELLED CANCELLATION_CODE  DIVERTED  \\\n",
       "0             -1.0    1400-1459        0.0               NaN       0.0   \n",
       "1             -1.0    1400-1459        0.0               NaN       0.0   \n",
       "2              0.0    1400-1459        0.0               NaN       0.0   \n",
       "3             -1.0    1400-1459        0.0               NaN       0.0   \n",
       "4              7.0    1400-1459        0.0               NaN       0.0   \n",
       "\n",
       "   CRS_ELAPSED_TIME  ACTUAL_ELAPSED_TIME  AIR_TIME  FLIGHTS  DISTANCE  \\\n",
       "0             158.0                155.0     132.0      1.0     986.0   \n",
       "1             158.0                150.0     126.0      1.0     986.0   \n",
       "2             158.0                170.0     135.0      1.0     986.0   \n",
       "3             158.0                151.0     129.0      1.0     986.0   \n",
       "4             158.0                171.0     137.0      1.0     986.0   \n",
       "\n",
       "   DISTANCE_GROUP  CARRIER_DELAY  WEATHER_DELAY  NAS_DELAY  SECURITY_DELAY  \\\n",
       "0               4            NaN            NaN        NaN             NaN   \n",
       "1               4            NaN            NaN        NaN             NaN   \n",
       "2               4            NaN            NaN        NaN             NaN   \n",
       "3               4            NaN            NaN        NaN             NaN   \n",
       "4               4            0.0            0.0       47.0             0.0   \n",
       "\n",
       "   LATE_AIRCRAFT_DELAY  FIRST_DEP_TIME  TOTAL_ADD_GTIME  LONGEST_ADD_GTIME  \\\n",
       "0                  NaN             NaN              NaN                NaN   \n",
       "1                  NaN             NaN              NaN                NaN   \n",
       "2                  NaN             NaN              NaN                NaN   \n",
       "3                  NaN             NaN              NaN                NaN   \n",
       "4                 66.0             NaN              NaN                NaN   \n",
       "\n",
       "   Unnamed: 64  \n",
       "0          NaN  \n",
       "1          NaN  \n",
       "2          NaN  \n",
       "3          NaN  \n",
       "4          NaN  "
      ]
     },
     "execution_count": 121,
     "metadata": {},
     "output_type": "execute_result"
    }
   ],
   "source": [
    "df_jan = pd.read_csv(jan_data_path, on_bad_lines=\"warn\", low_memory=False)\n",
    "df_jan.head()"
   ]
  },
  {
   "cell_type": "code",
   "execution_count": 122,
   "metadata": {},
   "outputs": [
    {
     "data": {
      "text/plain": [
       "Index(['YEAR', 'QUARTER', 'MONTH', 'DAY_OF_MONTH', 'DAY_OF_WEEK', 'FL_DATE',\n",
       "       'UNIQUE_CARRIER', 'AIRLINE_ID', 'CARRIER', 'TAIL_NUM', 'FL_NUM',\n",
       "       'ORIGIN_AIRPORT_ID', 'ORIGIN_AIRPORT_SEQ_ID', 'ORIGIN_CITY_MARKET_ID',\n",
       "       'ORIGIN', 'ORIGIN_CITY_NAME', 'ORIGIN_STATE_ABR', 'ORIGIN_STATE_FIPS',\n",
       "       'ORIGIN_STATE_NM', 'ORIGIN_WAC', 'DEST_AIRPORT_ID',\n",
       "       'DEST_AIRPORT_SEQ_ID', 'DEST_CITY_MARKET_ID', 'DEST', 'DEST_CITY_NAME',\n",
       "       'DEST_STATE_ABR', 'DEST_STATE_FIPS', 'DEST_STATE_NM', 'DEST_WAC',\n",
       "       'CRS_DEP_TIME', 'DEP_TIME', 'DEP_DELAY', 'DEP_DELAY_NEW', 'DEP_DEL15',\n",
       "       'DEP_DELAY_GROUP', 'DEP_TIME_BLK', 'TAXI_OUT', 'WHEELS_OFF',\n",
       "       'WHEELS_ON', 'TAXI_IN', 'CRS_ARR_TIME', 'ARR_TIME', 'ARR_DELAY',\n",
       "       'ARR_DELAY_NEW', 'ARR_DEL15', 'ARR_DELAY_GROUP', 'ARR_TIME_BLK',\n",
       "       'CANCELLED', 'CANCELLATION_CODE', 'DIVERTED', 'CRS_ELAPSED_TIME',\n",
       "       'ACTUAL_ELAPSED_TIME', 'AIR_TIME', 'FLIGHTS', 'DISTANCE',\n",
       "       'DISTANCE_GROUP', 'CARRIER_DELAY', 'WEATHER_DELAY', 'NAS_DELAY',\n",
       "       'SECURITY_DELAY', 'LATE_AIRCRAFT_DELAY', 'FIRST_DEP_TIME',\n",
       "       'TOTAL_ADD_GTIME', 'LONGEST_ADD_GTIME', 'Unnamed: 64'],\n",
       "      dtype='object')"
      ]
     },
     "execution_count": 122,
     "metadata": {},
     "output_type": "execute_result"
    }
   ],
   "source": [
    "columns = df_jan.columns\n",
    "columns"
   ]
  },
  {
   "cell_type": "markdown",
   "metadata": {},
   "source": [
    "#### 2.1.1 Détermination de la cible\n",
    "\n",
    "Nous avons identifié plusieurs candidats pour la cible : ARR_DELAY, ARR_DELAY_NEW, ARR_DEL15 et ARR_DELAY_GROUP\n"
   ]
  },
  {
   "cell_type": "code",
   "execution_count": 123,
   "metadata": {},
   "outputs": [
    {
     "name": "stdout",
     "output_type": "stream",
     "text": [
      "ARR_DELAY: Nombre de Valeurs Uniques\n",
      "--------------------------------------------------\n",
      "735\n",
      "--------------------------------------------------\n",
      "ARR_DELAY_NEW: Nombre de Valeurs Uniques\n",
      "--------------------------------------------------\n",
      "660\n",
      "--------------------------------------------------\n",
      "ARR_DEL15: Nombre de Valeurs Uniques\n",
      "--------------------------------------------------\n",
      "2\n",
      "[0. 1.]\n",
      "--------------------------------------------------\n",
      "ARR_DELAY_GROUP: Nombre de Valeurs Uniques\n",
      "--------------------------------------------------\n",
      "15\n",
      "--------------------------------------------------\n"
     ]
    }
   ],
   "source": [
    "potential_targets = [\"ARR_DELAY\", \"ARR_DELAY_NEW\", \"ARR_DEL15\", \"ARR_DELAY_GROUP\"]\n",
    "\n",
    "for target in potential_targets:\n",
    "    print(f\"{target}: Nombre de Valeurs Uniques\")\n",
    "    print(\"-\" * 50)\n",
    "    unique_count = df_jan[target].dropna().nunique()\n",
    "    print(unique_count)\n",
    "    if unique_count == 2:\n",
    "        print(df_jan[target].dropna().unique())\n",
    "    print(\"-\" * 50)"
   ]
  },
  {
   "cell_type": "markdown",
   "metadata": {},
   "source": [
    "Nous constatons que seuls la colonne `ARR_DEL15` est sous forme binaire (en retard ou à l'heure) conformément à ce que nous souhaitons prédire. Les autres colonnes sont redondantes et peuvent donc être supprimées.\n"
   ]
  },
  {
   "cell_type": "code",
   "execution_count": 124,
   "metadata": {},
   "outputs": [
    {
     "name": "stdout",
     "output_type": "stream",
     "text": [
      "['ARR_DELAY', 'ARR_DELAY_NEW', 'ARR_DELAY_GROUP']\n"
     ]
    }
   ],
   "source": [
    "target = \"ARR_DEL15\"\n",
    "redundant_targets = [col for col in potential_targets if col is not target]\n",
    "\n",
    "print(redundant_targets)"
   ]
  },
  {
   "cell_type": "markdown",
   "metadata": {},
   "source": [
    "Analysons cette colonne cible :\n"
   ]
  },
  {
   "cell_type": "code",
   "execution_count": 125,
   "metadata": {},
   "outputs": [
    {
     "name": "stdout",
     "output_type": "stream",
     "text": [
      "<class 'pandas.core.series.Series'>\n",
      "RangeIndex: 445827 entries, 0 to 445826\n",
      "Series name: ARR_DEL15\n",
      "Non-Null Count   Dtype  \n",
      "--------------   -----  \n",
      "433298 non-null  float64\n",
      "dtypes: float64(1)\n",
      "memory usage: 3.4 MB\n"
     ]
    }
   ],
   "source": [
    "df_jan[target].info()"
   ]
  },
  {
   "cell_type": "markdown",
   "metadata": {},
   "source": [
    "Nous constatons que le type de la colonne n'est pas adapté. Il faudrait le transformer en bouléen.\n"
   ]
  },
  {
   "cell_type": "code",
   "execution_count": 126,
   "metadata": {},
   "outputs": [
    {
     "name": "stdout",
     "output_type": "stream",
     "text": [
      "12529 lignes vide pour la cible ARR_DEL15\n"
     ]
    }
   ],
   "source": [
    "target_na_count = df_jan[target].isna().sum()\n",
    "print(f\"{target_na_count} lignes vide pour la cible {target}\")"
   ]
  },
  {
   "cell_type": "code",
   "execution_count": 127,
   "metadata": {},
   "outputs": [
    {
     "name": "stdout",
     "output_type": "stream",
     "text": [
      "12529 lignes vide pour la colonne ARR_DELAY\n",
      "12529 lignes vide pour la colonne ARR_DELAY_NEW\n",
      "12529 lignes vide pour la colonne ARR_DELAY_GROUP\n"
     ]
    }
   ],
   "source": [
    "for col in redundant_targets:\n",
    "    na_count = df_jan[col].isna().sum()\n",
    "    print(f\"{na_count} lignes vide pour la colonne {col}\")"
   ]
  },
  {
   "cell_type": "code",
   "execution_count": 128,
   "metadata": {},
   "outputs": [
    {
     "name": "stdout",
     "output_type": "stream",
     "text": [
      "Lignes où TOUTES les colonnes sont NA : 12529\n"
     ]
    }
   ],
   "source": [
    "all_na_mask = df_jan[potential_targets].isna().all(axis=1)\n",
    "all_na_count = all_na_mask.sum()\n",
    "\n",
    "print(f\"Lignes où TOUTES les colonnes sont NA : {all_na_count}\")"
   ]
  },
  {
   "cell_type": "markdown",
   "metadata": {},
   "source": [
    "Nous constatons que plusieurs milliers de lignes n'ont pas de valeurs cible. L'exploration des potentielles colonnes cibles précédemment écartées nous indique qu'il ne serait pas possible de reconstituer les valeurs manquantes avec ces autres colonnes.  \n",
    "Il semble donc indispensable de les supprimer car ces lignes ne peuvent pas permettre d'entraîner le futur modèle.\n"
   ]
  },
  {
   "cell_type": "markdown",
   "metadata": {},
   "source": [
    "#### 2.1.2. Identifications des colonnes aux valeurs manquantes\n"
   ]
  },
  {
   "cell_type": "code",
   "execution_count": 129,
   "metadata": {},
   "outputs": [
    {
     "name": "stdout",
     "output_type": "stream",
     "text": [
      "Colonnes avec plus de 50% de valeurs manquantes :\n",
      "- CANCELLATION_CODE: 97.38%\n",
      "- CARRIER_DELAY: 84.10%\n",
      "- WEATHER_DELAY: 84.10%\n",
      "- NAS_DELAY: 84.10%\n",
      "- SECURITY_DELAY: 84.10%\n",
      "- LATE_AIRCRAFT_DELAY: 84.10%\n",
      "- FIRST_DEP_TIME: 99.43%\n",
      "- TOTAL_ADD_GTIME: 99.43%\n",
      "- LONGEST_ADD_GTIME: 99.43%\n",
      "- Unnamed: 64: 100.00%\n",
      "\n",
      "Liste des colonnes (10) :\n",
      "['CANCELLATION_CODE', 'CARRIER_DELAY', 'WEATHER_DELAY', 'NAS_DELAY', 'SECURITY_DELAY', 'LATE_AIRCRAFT_DELAY', 'FIRST_DEP_TIME', 'TOTAL_ADD_GTIME', 'LONGEST_ADD_GTIME', 'Unnamed: 64']\n"
     ]
    }
   ],
   "source": [
    "na_percentages = (df_jan.isna().sum() / len(df_jan)) * 100\n",
    "\n",
    "high_na_cols = na_percentages[na_percentages > 50].index.tolist()\n",
    "\n",
    "print(\"Colonnes avec plus de 50% de valeurs manquantes :\")\n",
    "for col in high_na_cols:\n",
    "    print(f\"- {col}: {na_percentages[col]:.2f}%\")\n",
    "\n",
    "print(f\"\\nListe des colonnes ({len(high_na_cols)}) :\")\n",
    "print(high_na_cols)"
   ]
  },
  {
   "cell_type": "markdown",
   "metadata": {},
   "source": [
    "Nous avons identifié les colonnes pour lesquelles le taux de valeurs manquantes les rends caduques. Ces colonnes pourront être supprimées car il serait hasardeux d'essayer d'imputer les valeurs manquantes sur aussi peu de données.\n"
   ]
  },
  {
   "cell_type": "markdown",
   "metadata": {},
   "source": [
    "#### 2.1.3. Identification des colonnes à risque de data leakage\n"
   ]
  },
  {
   "cell_type": "markdown",
   "metadata": {},
   "source": [
    "Parmis les colonnes restantes certaines contiennent des informations qui influencent directement le résultat et qui ne seront normalement pas présente au moment de la prédiction :\n",
    "\n",
    "- `DEP_TIME`, `ARR_TIME` : Heures réelles inconnues au moment de la prédiction\n",
    "- `DEP_DELAY`, `DEP_DELAY_NEW`, `DEP_DEL15`, `DEP_DELAY_GROUP` : Retard au départ révèle directement le retard à l'arrivée\n",
    "- `ARR_DELAY`, `ARR_DELAY_NEW`, `ARR_DEL15`, `ARR_DELAY_GROUP` : Variables cibles (à prédire)\n",
    "- `WHEELS_OFF`, `WHEELS_ON`, `TAXI_OUT`, `TAXI_IN` : Données post-départ\n",
    "- `ACTUAL_ELAPSED_TIME`, `AIR_TIME` : Durées réelles inconnues a priori\n",
    "- `CANCELLED` et `DIVERTED` : Statuts du vol inconnus a priori\n",
    "\n",
    "Ces colonnes doivent donc être supprimées.\n"
   ]
  },
  {
   "cell_type": "code",
   "execution_count": 130,
   "metadata": {},
   "outputs": [],
   "source": [
    "data_leakage_cols = [\n",
    "    \"DEP_TIME\",\n",
    "    \"ARR_TIME\",\n",
    "    \"DEP_DELAY\",\n",
    "    \"DEP_DELAY_NEW\",\n",
    "    \"DEP_DEL15\",\n",
    "    \"DEP_DELAY_GROUP\",\n",
    "    \"ARR_DELAY\",\n",
    "    \"ARR_DELAY_NEW\",\n",
    "    \"ARR_DELAY_GROUP\",\n",
    "    \"WHEELS_OFF\",\n",
    "    \"WHEELS_ON\",\n",
    "    \"TAXI_OUT\",\n",
    "    \"TAXI_IN\",\n",
    "    \"ACTUAL_ELAPSED_TIME\",\n",
    "    \"AIR_TIME\",\n",
    "    \"CANCELLED\",\n",
    "    \"DIVERTED\",\n",
    "]"
   ]
  },
  {
   "cell_type": "markdown",
   "metadata": {},
   "source": [
    "#### 2.1.4. Identification des colonnes redondantes\n"
   ]
  },
  {
   "cell_type": "markdown",
   "metadata": {},
   "source": [
    "Parmi les colonnes restantes, nous identifions plusieurs colonnes redondantes entre elles :\n",
    "\n",
    "- `AIRLINE_ID`, `UNIQUE_CARRIER` et `CARRIER` représentent toutes trois une façon d'identifier les compagnies aériennes. Nous ne conserverons que `UNIQUE_CARRIER`.\n",
    "- Parmis les identifiants multiples pour l'origine et la destination, les codes IATA présents dans `ORIGIN` et `DEST` sont suffisament précis pour identifier à eux seuls l'aéroport d'origine et celui de destination.\n",
    "- `ORIGIN_STATE_NM` et `ORIGIN_STATE_ABR` sont clairement redondants, dans notre cas l'abréviation seule suffira (`ORIGIN_STATE_ABR`).\n",
    "- De la même façon, `DEST_STATE_NM` et `DEST_STATE_ABR` sont redondants. Nous ne conserverons que `DEST_STATE_ABR`\n",
    "- `DISTANCE` et `DISTANCE_GROUP` sont redondantes. Nous choisissons de conserver `DISTANCE` car il s'agit d'une valeur continue, plus facile à interpréter.\n"
   ]
  },
  {
   "cell_type": "markdown",
   "metadata": {},
   "source": [
    "Les colonnes redondantes n'apportant pas plus d'information, pourront être supprimées.\n"
   ]
  },
  {
   "cell_type": "code",
   "execution_count": 131,
   "metadata": {},
   "outputs": [],
   "source": [
    "redundant_cols = [\n",
    "    # Airline/Carrier related\n",
    "    \"AIRLINE_ID\",\n",
    "    \"CARRIER\",\n",
    "    # Origin related\n",
    "    \"ORIGIN_AIRPORT_ID\",\n",
    "    \"ORIGIN_AIRPORT_SEQ_ID\",\n",
    "    \"ORIGIN_CITY_MARKET_ID\",\n",
    "    \"ORIGIN_STATE_FIPS\",\n",
    "    \"ORIGIN_STATE_NM\",\n",
    "    \"ORIGIN_WAC\",\n",
    "    # Destination related\n",
    "    \"DEST_AIRPORT_ID\",\n",
    "    \"DEST_AIRPORT_SEQ_ID\",\n",
    "    \"DEST_CITY_MARKET_ID\",\n",
    "    \"DEST_STATE_FIPS\",\n",
    "    \"DEST_STATE_NM\",\n",
    "    \"DEST_WAC\",\n",
    "    # Distance related\n",
    "    \"DISTANCE_GROUP\",\n",
    "]"
   ]
  },
  {
   "cell_type": "markdown",
   "metadata": {},
   "source": [
    "#### 2.1.5. Analyse des colonnes temporelles\n"
   ]
  },
  {
   "cell_type": "markdown",
   "metadata": {},
   "source": [
    "Parmi les colonnes temporelles (`YEAR`, `QUARTER`, `MONTH`, `DAY_OF_MONTH`,`DAY_OF_WEEK` et `FL_DATE`), il existe une certaine redondance.  \n",
    "`FL_DATE` comporte toute l'information temporelle nécessaire en une seule colonne. Cependant, du point de vue du machine learning, il est plus facile de manipuler des valeurs numérique plutôt que des dates. Plusieurs stratégies s'offrent à nous :\n",
    "\n",
    "- Tout conserver, mais cela ne semble pas très efficient,\n",
    "- Ne conserver que `FL_DATE` dans notre future base de données et extraire les données temporelle en prétraitement\n",
    "- Ne conserver que les données segmentées dans la base de données afin de les fournir directement lors de l'entrainement du modèle.\n"
   ]
  },
  {
   "cell_type": "markdown",
   "metadata": {},
   "source": [
    "Nous choisirons la dernière méthode pour faciliter l'entraînement du modèle. Nous prenons églament le parti de supprimer la colonne `YEAR` car toutes nos données ne concernent que l'année 2016, cette colonne n'apporte donc aucune plus value à l'entraînement du modèle.\n"
   ]
  },
  {
   "cell_type": "code",
   "execution_count": 132,
   "metadata": {},
   "outputs": [],
   "source": [
    "removable_temporal_cols = [\"FL_DATE\", \"YEAR\"]"
   ]
  },
  {
   "cell_type": "markdown",
   "metadata": {},
   "source": [
    "#### 2.1.6 Cas de la colonne `FLIGHTS`\n"
   ]
  },
  {
   "cell_type": "code",
   "execution_count": 133,
   "metadata": {},
   "outputs": [
    {
     "data": {
      "application/vnd.microsoft.datawrangler.viewer.v0+json": {
       "columns": [
        {
         "name": "FLIGHTS",
         "rawType": "float64",
         "type": "float"
        },
        {
         "name": "count",
         "rawType": "int64",
         "type": "integer"
        }
       ],
       "ref": "25cd2079-118b-4dcb-81d8-d2ef7d71f9ca",
       "rows": [
        [
         "1.0",
         "445827"
        ]
       ],
       "shape": {
        "columns": 1,
        "rows": 1
       }
      },
      "text/plain": [
       "FLIGHTS\n",
       "1.0    445827\n",
       "Name: count, dtype: int64"
      ]
     },
     "execution_count": 133,
     "metadata": {},
     "output_type": "execute_result"
    }
   ],
   "source": [
    "df_jan[\"FLIGHTS\"].value_counts()"
   ]
  },
  {
   "cell_type": "markdown",
   "metadata": {},
   "source": [
    "Nous constatons que cette colonne, qui n'est d'ailleurs pas décrite, ne comprend qu'une valeur unique. Elle n'est donc pas nécessaire à la suite de l'analyse.\n"
   ]
  },
  {
   "cell_type": "code",
   "execution_count": 134,
   "metadata": {},
   "outputs": [],
   "source": [
    "useless_cols = [\"FLIGHTS\"]"
   ]
  },
  {
   "cell_type": "markdown",
   "metadata": {},
   "source": [
    "### 2.2. Application du traitement à tous les fichiers `.csv`\n"
   ]
  },
  {
   "cell_type": "markdown",
   "metadata": {},
   "source": [
    "Maintenant que nous avons identifié toutes les colonnes à supprimer, nous allons pouvoir appliquer ce traitement à tous les fichiers fournis afin de les alléger et de pouvoir les traiter dans leur ensemble.\n"
   ]
  },
  {
   "cell_type": "code",
   "execution_count": 135,
   "metadata": {},
   "outputs": [
    {
     "data": {
      "text/plain": [
       "20"
      ]
     },
     "execution_count": 135,
     "metadata": {},
     "output_type": "execute_result"
    }
   ],
   "source": [
    "cols_to_drop = (\n",
    "    redundant_targets\n",
    "    + high_na_cols\n",
    "    + data_leakage_cols\n",
    "    + redundant_cols\n",
    "    + removable_temporal_cols\n",
    "    + useless_cols\n",
    ")\n",
    "cols_to_keep = [col for col in columns if col not in cols_to_drop]\n",
    "len(cols_to_keep)"
   ]
  },
  {
   "cell_type": "markdown",
   "metadata": {},
   "source": [
    "#### 2.2.1. Cas des données d'avril\n",
    "\n",
    "Le fichier contenant les données du mois d'avril 2016 semble plus corrompu que les autres. Nous lui appliquerons donc un traitement particulier.\n"
   ]
  },
  {
   "cell_type": "code",
   "execution_count": 136,
   "metadata": {},
   "outputs": [
    {
     "data": {
      "application/vnd.microsoft.datawrangler.viewer.v0+json": {
       "columns": [
        {
         "name": "index",
         "rawType": "int64",
         "type": "integer"
        },
        {
         "name": "QUARTER",
         "rawType": "object",
         "type": "string"
        },
        {
         "name": "MONTH",
         "rawType": "int64",
         "type": "integer"
        },
        {
         "name": "DAY_OF_MONTH",
         "rawType": "object",
         "type": "string"
        },
        {
         "name": "DAY_OF_WEEK",
         "rawType": "object",
         "type": "string"
        },
        {
         "name": "UNIQUE_CARRIER",
         "rawType": "object",
         "type": "string"
        },
        {
         "name": "TAIL_NUM",
         "rawType": "object",
         "type": "string"
        },
        {
         "name": "FL_NUM",
         "rawType": "object",
         "type": "string"
        },
        {
         "name": "ORIGIN",
         "rawType": "object",
         "type": "string"
        },
        {
         "name": "ORIGIN_CITY_NAME",
         "rawType": "object",
         "type": "string"
        },
        {
         "name": "ORIGIN_STATE_ABR",
         "rawType": "object",
         "type": "string"
        },
        {
         "name": "DEST",
         "rawType": "object",
         "type": "string"
        },
        {
         "name": "DEST_CITY_NAME",
         "rawType": "object",
         "type": "string"
        },
        {
         "name": "DEST_STATE_ABR",
         "rawType": "object",
         "type": "string"
        },
        {
         "name": "CRS_DEP_TIME",
         "rawType": "object",
         "type": "string"
        },
        {
         "name": "DEP_TIME_BLK",
         "rawType": "object",
         "type": "string"
        },
        {
         "name": "CRS_ARR_TIME",
         "rawType": "object",
         "type": "string"
        },
        {
         "name": "ARR_DEL15",
         "rawType": "float64",
         "type": "float"
        },
        {
         "name": "ARR_TIME_BLK",
         "rawType": "object",
         "type": "string"
        },
        {
         "name": "CRS_ELAPSED_TIME",
         "rawType": "float64",
         "type": "float"
        },
        {
         "name": "DISTANCE",
         "rawType": "float64",
         "type": "float"
        }
       ],
       "ref": "c8881572-8d1b-4fda-8dcc-dcfa5661213d",
       "rows": [
        [
         "0",
         "2",
         "4",
         "3",
         "7",
         "DL",
         "N915DN",
         "759",
         "MSP",
         "Minneapolis, MN",
         "MN",
         "GEG",
         "Spokane, WA",
         "WA",
         "2000",
         "2000-2059",
         "2116",
         "0.0",
         "2100-2159",
         "196.0",
         "1175.0"
        ],
        [
         "1",
         "2",
         "4",
         "3",
         "7",
         "DL",
         "N3755D",
         "760",
         "ATL",
         "Atlanta, GA",
         "GA",
         "SMF",
         "Sacramento, CA",
         "CA",
         "0940",
         "0900-0959",
         "1156",
         "0.0",
         "1100-1159",
         "316.0",
         "2092.0"
        ],
        [
         "2",
         "2",
         "4",
         "3",
         "7",
         "DL",
         "N3755D",
         "760",
         "SMF",
         "Sacramento, CA",
         "CA",
         "ATL",
         "Atlanta, GA",
         "GA",
         "1248",
         "1200-1259",
         "2013",
         "0.0",
         "2000-2059",
         "265.0",
         "2092.0"
        ],
        [
         "3",
         "2",
         "4",
         "3",
         "7",
         "DL",
         "N325US",
         "761",
         "LAS",
         "Las Vegas, NV",
         "NV",
         "CVG",
         "Cincinnati, OH",
         "KY",
         "2345",
         "2300-2359",
         "0630",
         "0.0",
         "0600-0659",
         "225.0",
         "1678.0"
        ],
        [
         "4",
         "2",
         "4",
         "3",
         "7",
         "DL",
         "N366NB",
         "762",
         "ATL",
         "Atlanta, GA",
         "GA",
         "MDW",
         "Chicago, IL",
         "IL",
         "1647",
         "1600-1659",
         "1745",
         "0.0",
         "1700-1759",
         "118.0",
         "591.0"
        ]
       ],
       "shape": {
        "columns": 20,
        "rows": 5
       }
      },
      "text/html": [
       "<div>\n",
       "<style scoped>\n",
       "    .dataframe tbody tr th:only-of-type {\n",
       "        vertical-align: middle;\n",
       "    }\n",
       "\n",
       "    .dataframe tbody tr th {\n",
       "        vertical-align: top;\n",
       "    }\n",
       "\n",
       "    .dataframe thead th {\n",
       "        text-align: right;\n",
       "    }\n",
       "</style>\n",
       "<table border=\"1\" class=\"dataframe\">\n",
       "  <thead>\n",
       "    <tr style=\"text-align: right;\">\n",
       "      <th></th>\n",
       "      <th>QUARTER</th>\n",
       "      <th>MONTH</th>\n",
       "      <th>DAY_OF_MONTH</th>\n",
       "      <th>DAY_OF_WEEK</th>\n",
       "      <th>UNIQUE_CARRIER</th>\n",
       "      <th>TAIL_NUM</th>\n",
       "      <th>FL_NUM</th>\n",
       "      <th>ORIGIN</th>\n",
       "      <th>ORIGIN_CITY_NAME</th>\n",
       "      <th>ORIGIN_STATE_ABR</th>\n",
       "      <th>DEST</th>\n",
       "      <th>DEST_CITY_NAME</th>\n",
       "      <th>DEST_STATE_ABR</th>\n",
       "      <th>CRS_DEP_TIME</th>\n",
       "      <th>DEP_TIME_BLK</th>\n",
       "      <th>CRS_ARR_TIME</th>\n",
       "      <th>ARR_DEL15</th>\n",
       "      <th>ARR_TIME_BLK</th>\n",
       "      <th>CRS_ELAPSED_TIME</th>\n",
       "      <th>DISTANCE</th>\n",
       "    </tr>\n",
       "  </thead>\n",
       "  <tbody>\n",
       "    <tr>\n",
       "      <th>0</th>\n",
       "      <td>2</td>\n",
       "      <td>4</td>\n",
       "      <td>3</td>\n",
       "      <td>7</td>\n",
       "      <td>DL</td>\n",
       "      <td>N915DN</td>\n",
       "      <td>759</td>\n",
       "      <td>MSP</td>\n",
       "      <td>Minneapolis, MN</td>\n",
       "      <td>MN</td>\n",
       "      <td>GEG</td>\n",
       "      <td>Spokane, WA</td>\n",
       "      <td>WA</td>\n",
       "      <td>2000</td>\n",
       "      <td>2000-2059</td>\n",
       "      <td>2116</td>\n",
       "      <td>0.0</td>\n",
       "      <td>2100-2159</td>\n",
       "      <td>196.0</td>\n",
       "      <td>1175.0</td>\n",
       "    </tr>\n",
       "    <tr>\n",
       "      <th>1</th>\n",
       "      <td>2</td>\n",
       "      <td>4</td>\n",
       "      <td>3</td>\n",
       "      <td>7</td>\n",
       "      <td>DL</td>\n",
       "      <td>N3755D</td>\n",
       "      <td>760</td>\n",
       "      <td>ATL</td>\n",
       "      <td>Atlanta, GA</td>\n",
       "      <td>GA</td>\n",
       "      <td>SMF</td>\n",
       "      <td>Sacramento, CA</td>\n",
       "      <td>CA</td>\n",
       "      <td>0940</td>\n",
       "      <td>0900-0959</td>\n",
       "      <td>1156</td>\n",
       "      <td>0.0</td>\n",
       "      <td>1100-1159</td>\n",
       "      <td>316.0</td>\n",
       "      <td>2092.0</td>\n",
       "    </tr>\n",
       "    <tr>\n",
       "      <th>2</th>\n",
       "      <td>2</td>\n",
       "      <td>4</td>\n",
       "      <td>3</td>\n",
       "      <td>7</td>\n",
       "      <td>DL</td>\n",
       "      <td>N3755D</td>\n",
       "      <td>760</td>\n",
       "      <td>SMF</td>\n",
       "      <td>Sacramento, CA</td>\n",
       "      <td>CA</td>\n",
       "      <td>ATL</td>\n",
       "      <td>Atlanta, GA</td>\n",
       "      <td>GA</td>\n",
       "      <td>1248</td>\n",
       "      <td>1200-1259</td>\n",
       "      <td>2013</td>\n",
       "      <td>0.0</td>\n",
       "      <td>2000-2059</td>\n",
       "      <td>265.0</td>\n",
       "      <td>2092.0</td>\n",
       "    </tr>\n",
       "    <tr>\n",
       "      <th>3</th>\n",
       "      <td>2</td>\n",
       "      <td>4</td>\n",
       "      <td>3</td>\n",
       "      <td>7</td>\n",
       "      <td>DL</td>\n",
       "      <td>N325US</td>\n",
       "      <td>761</td>\n",
       "      <td>LAS</td>\n",
       "      <td>Las Vegas, NV</td>\n",
       "      <td>NV</td>\n",
       "      <td>CVG</td>\n",
       "      <td>Cincinnati, OH</td>\n",
       "      <td>KY</td>\n",
       "      <td>2345</td>\n",
       "      <td>2300-2359</td>\n",
       "      <td>0630</td>\n",
       "      <td>0.0</td>\n",
       "      <td>0600-0659</td>\n",
       "      <td>225.0</td>\n",
       "      <td>1678.0</td>\n",
       "    </tr>\n",
       "    <tr>\n",
       "      <th>4</th>\n",
       "      <td>2</td>\n",
       "      <td>4</td>\n",
       "      <td>3</td>\n",
       "      <td>7</td>\n",
       "      <td>DL</td>\n",
       "      <td>N366NB</td>\n",
       "      <td>762</td>\n",
       "      <td>ATL</td>\n",
       "      <td>Atlanta, GA</td>\n",
       "      <td>GA</td>\n",
       "      <td>MDW</td>\n",
       "      <td>Chicago, IL</td>\n",
       "      <td>IL</td>\n",
       "      <td>1647</td>\n",
       "      <td>1600-1659</td>\n",
       "      <td>1745</td>\n",
       "      <td>0.0</td>\n",
       "      <td>1700-1759</td>\n",
       "      <td>118.0</td>\n",
       "      <td>591.0</td>\n",
       "    </tr>\n",
       "  </tbody>\n",
       "</table>\n",
       "</div>"
      ],
      "text/plain": [
       "  QUARTER  MONTH DAY_OF_MONTH DAY_OF_WEEK UNIQUE_CARRIER TAIL_NUM FL_NUM  \\\n",
       "0       2      4            3           7             DL   N915DN    759   \n",
       "1       2      4            3           7             DL   N3755D    760   \n",
       "2       2      4            3           7             DL   N3755D    760   \n",
       "3       2      4            3           7             DL   N325US    761   \n",
       "4       2      4            3           7             DL   N366NB    762   \n",
       "\n",
       "  ORIGIN ORIGIN_CITY_NAME ORIGIN_STATE_ABR DEST  DEST_CITY_NAME  \\\n",
       "0    MSP  Minneapolis, MN               MN  GEG     Spokane, WA   \n",
       "1    ATL      Atlanta, GA               GA  SMF  Sacramento, CA   \n",
       "2    SMF   Sacramento, CA               CA  ATL     Atlanta, GA   \n",
       "3    LAS    Las Vegas, NV               NV  CVG  Cincinnati, OH   \n",
       "4    ATL      Atlanta, GA               GA  MDW     Chicago, IL   \n",
       "\n",
       "  DEST_STATE_ABR CRS_DEP_TIME DEP_TIME_BLK CRS_ARR_TIME  ARR_DEL15  \\\n",
       "0             WA         2000    2000-2059         2116        0.0   \n",
       "1             CA         0940    0900-0959         1156        0.0   \n",
       "2             GA         1248    1200-1259         2013        0.0   \n",
       "3             KY         2345    2300-2359         0630        0.0   \n",
       "4             IL         1647    1600-1659         1745        0.0   \n",
       "\n",
       "  ARR_TIME_BLK  CRS_ELAPSED_TIME  DISTANCE  \n",
       "0    2100-2159             196.0    1175.0  \n",
       "1    1100-1159             316.0    2092.0  \n",
       "2    2000-2059             265.0    2092.0  \n",
       "3    0600-0659             225.0    1678.0  \n",
       "4    1700-1759             118.0     591.0  "
      ]
     },
     "execution_count": 136,
     "metadata": {},
     "output_type": "execute_result"
    }
   ],
   "source": [
    "ap_data_path = join(raw_data_path, \"2016_04.csv\")\n",
    "df_ap_clean = pd.read_csv(\n",
    "    ap_data_path, on_bad_lines=\"warn\", low_memory=False, usecols=cols_to_keep\n",
    ")\n",
    "df_ap_clean.head()"
   ]
  },
  {
   "cell_type": "code",
   "execution_count": 137,
   "metadata": {},
   "outputs": [
    {
     "name": "stdout",
     "output_type": "stream",
     "text": [
      "<class 'pandas.core.frame.DataFrame'>\n",
      "RangeIndex: 479956 entries, 0 to 479955\n",
      "Data columns (total 20 columns):\n",
      " #   Column            Non-Null Count   Dtype  \n",
      "---  ------            --------------   -----  \n",
      " 0   QUARTER           479956 non-null  object \n",
      " 1   MONTH             479956 non-null  int64  \n",
      " 2   DAY_OF_MONTH      479956 non-null  object \n",
      " 3   DAY_OF_WEEK       479956 non-null  object \n",
      " 4   UNIQUE_CARRIER    479956 non-null  object \n",
      " 5   TAIL_NUM          479191 non-null  object \n",
      " 6   FL_NUM            479956 non-null  object \n",
      " 7   ORIGIN            479956 non-null  object \n",
      " 8   ORIGIN_CITY_NAME  479956 non-null  object \n",
      " 9   ORIGIN_STATE_ABR  479956 non-null  object \n",
      " 10  DEST              479955 non-null  object \n",
      " 11  DEST_CITY_NAME    479956 non-null  object \n",
      " 12  DEST_STATE_ABR    479955 non-null  object \n",
      " 13  CRS_DEP_TIME      479956 non-null  object \n",
      " 14  DEP_TIME_BLK      479954 non-null  object \n",
      " 15  CRS_ARR_TIME      479953 non-null  object \n",
      " 16  ARR_DEL15         474760 non-null  float64\n",
      " 17  ARR_TIME_BLK      479953 non-null  object \n",
      " 18  CRS_ELAPSED_TIME  479952 non-null  float64\n",
      " 19  DISTANCE          479951 non-null  float64\n",
      "dtypes: float64(3), int64(1), object(16)\n",
      "memory usage: 73.2+ MB\n"
     ]
    }
   ],
   "source": [
    "df_ap_clean.info()"
   ]
  },
  {
   "cell_type": "markdown",
   "metadata": {},
   "source": [
    "Nous constatons rapidement que des colonnes qui devraient être de type int ou float (comme pour le fichier de janvier) sont de type object, ce qui indique probablement un type mixte pour ces colonnes. Analysons ces colonnes problématiques.\n"
   ]
  },
  {
   "cell_type": "code",
   "execution_count": 138,
   "metadata": {},
   "outputs": [
    {
     "name": "stdout",
     "output_type": "stream",
     "text": [
      "--------------------------------------------------\n",
      "QUARTER\n",
      "--------------------------------------------------\n",
      "QUARTER\n",
      "2     362833\n",
      "1     117122\n",
      "EV         1\n",
      "Name: count, dtype: int64\n",
      "--------------------------------------------------\n",
      "DAY_OF_MONTH\n",
      "--------------------------------------------------\n",
      "DAY_OF_MONTH\n",
      "25    18089\n",
      "15    17895\n",
      "29    17791\n",
      "22    17762\n",
      "21    17606\n",
      "28    17398\n",
      "27    17249\n",
      "18    17077\n",
      "20    17059\n",
      "24    16783\n",
      "14    16641\n",
      "26    16330\n",
      "6     16285\n",
      "19    16254\n",
      "17    15656\n",
      "3     15608\n",
      "23    15571\n",
      "13    15188\n",
      "8     15041\n",
      "30    14990\n",
      "1     14880\n",
      "12    14874\n",
      "4     14800\n",
      "7     14741\n",
      "11    14619\n",
      "16    14581\n",
      "5     14326\n",
      "2     14002\n",
      "10    13899\n",
      "9     12570\n",
      "31     4390\n",
      "EV        1\n",
      "Name: count, dtype: int64\n",
      "--------------------------------------------------\n",
      "DAY_OF_WEEK\n",
      "--------------------------------------------------\n",
      "DAY_OF_WEEK\n",
      "5         76518\n",
      "2         70535\n",
      "4         69843\n",
      "3         69261\n",
      "1         66119\n",
      "6         64559\n",
      "7         63120\n",
      "N707EV        1\n",
      "Name: count, dtype: int64\n",
      "--------------------------------------------------\n",
      "FL_NUM\n",
      "--------------------------------------------------\n",
      "FL_NUM\n",
      "511            316\n",
      "1402           313\n",
      "321            285\n",
      "1983           280\n",
      "188            277\n",
      "              ... \n",
      "5506             1\n",
      "5641             1\n",
      "5521             1\n",
      "5609             1\n",
      "582700-1759      1\n",
      "Name: count, Length: 5949, dtype: int64\n",
      "--------------------------------------------------\n",
      "CRS_DEP_TIME\n",
      "--------------------------------------------------\n",
      "CRS_DEP_TIME\n",
      "0600      8672\n",
      "0700      6496\n",
      "0800      4170\n",
      "0900      3254\n",
      "0730      3243\n",
      "          ... \n",
      "2343         1\n",
      "-1           1\n",
      "127.00       1\n",
      "0027         1\n",
      "2304         1\n",
      "Name: count, Length: 1222, dtype: int64\n",
      "--------------------------------------------------\n",
      "CRS_ARR_TIME\n",
      "--------------------------------------------------\n",
      "CRS_ARR_TIME\n",
      "2015    1632\n",
      "1305    1561\n",
      "1430    1561\n",
      "1650    1496\n",
      "0910    1489\n",
      "        ... \n",
      "0204       1\n",
      "0          1\n",
      "0240       1\n",
      "0201       1\n",
      "0120       1\n",
      "Name: count, Length: 1323, dtype: int64\n",
      "--------------------------------------------------\n",
      "ARR_TIME_BLK\n",
      "--------------------------------------------------\n",
      "ARR_TIME_BLK\n",
      "1600-1659    32908\n",
      "2100-2159    30175\n",
      "1800-1859    29915\n",
      "1100-1159    28859\n",
      "1000-1059    28832\n",
      "1400-1459    28821\n",
      "2000-2059    28475\n",
      "0900-0959    28427\n",
      "1300-1359    28135\n",
      "1700-1759    27844\n",
      "1900-1959    27656\n",
      "1200-1259    27471\n",
      "1500-1559    26754\n",
      "2200-2259    24222\n",
      "0800-0859    22642\n",
      "2300-2359    20706\n",
      "0700-0759    17456\n",
      "0001-0559    12975\n",
      "0600-0659     7674\n",
      "13.00            1\n",
      "36               1\n",
      "0.00             1\n",
      "10.00            1\n",
      "1526             1\n",
      "80.00            1\n",
      "Name: count, dtype: int64\n"
     ]
    }
   ],
   "source": [
    "cols_to_check = [\n",
    "    \"QUARTER\",\n",
    "    \"DAY_OF_MONTH\",\n",
    "    \"DAY_OF_WEEK\",\n",
    "    \"FL_NUM\",\n",
    "    \"CRS_DEP_TIME\",\n",
    "    \"CRS_ARR_TIME\",\n",
    "    \"ARR_TIME_BLK\",\n",
    "]\n",
    "\n",
    "for col in cols_to_check:\n",
    "    print(\"-\" * 50)\n",
    "    print(col)\n",
    "    print(\"-\" * 50)\n",
    "    print(df_ap_clean[col].value_counts())"
   ]
  },
  {
   "cell_type": "markdown",
   "metadata": {},
   "source": [
    "Nous constatons certaines valeurs aberrantes parmi les valeurs uniques de certaines colonnes. Une seule ligne semble concernée à chaque fois. Regardons s'il s'agit toujours de la même ligne."
   ]
  },
  {
   "cell_type": "code",
   "execution_count": 139,
   "metadata": {},
   "outputs": [],
   "source": [
    "ev_rows = df_ap_clean[df_ap_clean[\"QUARTER\"] == \"EV\"]"
   ]
  },
  {
   "cell_type": "code",
   "execution_count": 140,
   "metadata": {},
   "outputs": [
    {
     "data": {
      "application/vnd.microsoft.datawrangler.viewer.v0+json": {
       "columns": [
        {
         "name": "index",
         "rawType": "int64",
         "type": "integer"
        },
        {
         "name": "QUARTER",
         "rawType": "object",
         "type": "string"
        },
        {
         "name": "MONTH",
         "rawType": "int64",
         "type": "integer"
        },
        {
         "name": "DAY_OF_MONTH",
         "rawType": "object",
         "type": "string"
        },
        {
         "name": "DAY_OF_WEEK",
         "rawType": "object",
         "type": "string"
        },
        {
         "name": "UNIQUE_CARRIER",
         "rawType": "object",
         "type": "string"
        },
        {
         "name": "TAIL_NUM",
         "rawType": "object",
         "type": "string"
        },
        {
         "name": "FL_NUM",
         "rawType": "object",
         "type": "string"
        },
        {
         "name": "ORIGIN",
         "rawType": "object",
         "type": "string"
        },
        {
         "name": "ORIGIN_CITY_NAME",
         "rawType": "object",
         "type": "string"
        },
        {
         "name": "ORIGIN_STATE_ABR",
         "rawType": "object",
         "type": "string"
        },
        {
         "name": "DEST",
         "rawType": "object",
         "type": "string"
        },
        {
         "name": "DEST_CITY_NAME",
         "rawType": "object",
         "type": "string"
        },
        {
         "name": "DEST_STATE_ABR",
         "rawType": "object",
         "type": "string"
        },
        {
         "name": "CRS_DEP_TIME",
         "rawType": "object",
         "type": "string"
        },
        {
         "name": "DEP_TIME_BLK",
         "rawType": "object",
         "type": "string"
        },
        {
         "name": "CRS_ARR_TIME",
         "rawType": "object",
         "type": "string"
        },
        {
         "name": "ARR_DEL15",
         "rawType": "float64",
         "type": "float"
        },
        {
         "name": "ARR_TIME_BLK",
         "rawType": "object",
         "type": "string"
        },
        {
         "name": "CRS_ELAPSED_TIME",
         "rawType": "float64",
         "type": "float"
        },
        {
         "name": "DISTANCE",
         "rawType": "float64",
         "type": "float"
        }
       ],
       "ref": "9876b804-6758-41d0-b01d-c68718791589",
       "rows": [],
       "shape": {
        "columns": 20,
        "rows": 0
       }
      },
      "text/html": [
       "<div>\n",
       "<style scoped>\n",
       "    .dataframe tbody tr th:only-of-type {\n",
       "        vertical-align: middle;\n",
       "    }\n",
       "\n",
       "    .dataframe tbody tr th {\n",
       "        vertical-align: top;\n",
       "    }\n",
       "\n",
       "    .dataframe thead th {\n",
       "        text-align: right;\n",
       "    }\n",
       "</style>\n",
       "<table border=\"1\" class=\"dataframe\">\n",
       "  <thead>\n",
       "    <tr style=\"text-align: right;\">\n",
       "      <th></th>\n",
       "      <th>QUARTER</th>\n",
       "      <th>MONTH</th>\n",
       "      <th>DAY_OF_MONTH</th>\n",
       "      <th>DAY_OF_WEEK</th>\n",
       "      <th>UNIQUE_CARRIER</th>\n",
       "      <th>TAIL_NUM</th>\n",
       "      <th>FL_NUM</th>\n",
       "      <th>ORIGIN</th>\n",
       "      <th>ORIGIN_CITY_NAME</th>\n",
       "      <th>ORIGIN_STATE_ABR</th>\n",
       "      <th>DEST</th>\n",
       "      <th>DEST_CITY_NAME</th>\n",
       "      <th>DEST_STATE_ABR</th>\n",
       "      <th>CRS_DEP_TIME</th>\n",
       "      <th>DEP_TIME_BLK</th>\n",
       "      <th>CRS_ARR_TIME</th>\n",
       "      <th>ARR_DEL15</th>\n",
       "      <th>ARR_TIME_BLK</th>\n",
       "      <th>CRS_ELAPSED_TIME</th>\n",
       "      <th>DISTANCE</th>\n",
       "    </tr>\n",
       "  </thead>\n",
       "  <tbody>\n",
       "  </tbody>\n",
       "</table>\n",
       "</div>"
      ],
      "text/plain": [
       "Empty DataFrame\n",
       "Columns: [QUARTER, MONTH, DAY_OF_MONTH, DAY_OF_WEEK, UNIQUE_CARRIER, TAIL_NUM, FL_NUM, ORIGIN, ORIGIN_CITY_NAME, ORIGIN_STATE_ABR, DEST, DEST_CITY_NAME, DEST_STATE_ABR, CRS_DEP_TIME, DEP_TIME_BLK, CRS_ARR_TIME, ARR_DEL15, ARR_TIME_BLK, CRS_ELAPSED_TIME, DISTANCE]\n",
       "Index: []"
      ]
     },
     "execution_count": 140,
     "metadata": {},
     "output_type": "execute_result"
    }
   ],
   "source": [
    "df_ap_clean = df_ap_clean.drop(index=461814)\n",
    "df_ap_clean[df_ap_clean[\"QUARTER\"] == \"EV\"]"
   ]
  },
  {
   "cell_type": "code",
   "execution_count": 141,
   "metadata": {},
   "outputs": [
    {
     "name": "stdout",
     "output_type": "stream",
     "text": [
      "--------------------------------------------------\n",
      "QUARTER\n",
      "--------------------------------------------------\n",
      "QUARTER\n",
      "2    362833\n",
      "1    117122\n",
      "Name: count, dtype: int64\n",
      "--------------------------------------------------\n",
      "DAY_OF_MONTH\n",
      "--------------------------------------------------\n",
      "DAY_OF_MONTH\n",
      "25    18089\n",
      "15    17895\n",
      "29    17791\n",
      "22    17762\n",
      "21    17606\n",
      "28    17398\n",
      "27    17249\n",
      "18    17077\n",
      "20    17059\n",
      "24    16783\n",
      "14    16641\n",
      "26    16330\n",
      "6     16285\n",
      "19    16254\n",
      "17    15656\n",
      "3     15608\n",
      "23    15571\n",
      "13    15188\n",
      "8     15041\n",
      "30    14990\n",
      "1     14880\n",
      "12    14874\n",
      "4     14800\n",
      "7     14741\n",
      "11    14619\n",
      "16    14581\n",
      "5     14326\n",
      "2     14002\n",
      "10    13899\n",
      "9     12570\n",
      "31     4390\n",
      "Name: count, dtype: int64\n",
      "--------------------------------------------------\n",
      "DAY_OF_WEEK\n",
      "--------------------------------------------------\n",
      "DAY_OF_WEEK\n",
      "5    76518\n",
      "2    70535\n",
      "4    69843\n",
      "3    69261\n",
      "1    66119\n",
      "6    64559\n",
      "7    63120\n",
      "Name: count, dtype: int64\n",
      "--------------------------------------------------\n",
      "FL_NUM\n",
      "--------------------------------------------------\n",
      "FL_NUM\n",
      "511     316\n",
      "1402    313\n",
      "321     285\n",
      "1983    280\n",
      "188     277\n",
      "       ... \n",
      "5457      1\n",
      "5612      1\n",
      "5521      1\n",
      "5517      1\n",
      "6568      1\n",
      "Name: count, Length: 5948, dtype: int64\n",
      "--------------------------------------------------\n",
      "CRS_DEP_TIME\n",
      "--------------------------------------------------\n",
      "CRS_DEP_TIME\n",
      "0600      8672\n",
      "0700      6496\n",
      "0800      4170\n",
      "0900      3254\n",
      "0730      3243\n",
      "          ... \n",
      "2303         1\n",
      "2306         1\n",
      "2334         1\n",
      "0027         1\n",
      "127.00       1\n",
      "Name: count, Length: 1221, dtype: int64\n",
      "--------------------------------------------------\n",
      "CRS_ARR_TIME\n",
      "--------------------------------------------------\n",
      "CRS_ARR_TIME\n",
      "2015               1632\n",
      "1305               1561\n",
      "1430               1561\n",
      "1650               1496\n",
      "0910               1489\n",
      "                   ... \n",
      "0418                  1\n",
      "San Antonio, TX       1\n",
      "Indiana               1\n",
      "31057                 1\n",
      "0240                  1\n",
      "Name: count, Length: 1322, dtype: int64\n",
      "--------------------------------------------------\n",
      "ARR_TIME_BLK\n",
      "--------------------------------------------------\n",
      "ARR_TIME_BLK\n",
      "1600-1659    32908\n",
      "2100-2159    30175\n",
      "1800-1859    29915\n",
      "1100-1159    28859\n",
      "1000-1059    28832\n",
      "1400-1459    28821\n",
      "2000-2059    28475\n",
      "0900-0959    28427\n",
      "1300-1359    28135\n",
      "1700-1759    27844\n",
      "1900-1959    27656\n",
      "1200-1259    27471\n",
      "1500-1559    26754\n",
      "2200-2259    24222\n",
      "0800-0859    22642\n",
      "2300-2359    20706\n",
      "0700-0759    17456\n",
      "0001-0559    12975\n",
      "0600-0659     7674\n",
      "13.00            1\n",
      "36               1\n",
      "0.00             1\n",
      "10.00            1\n",
      "1526             1\n",
      "Name: count, dtype: int64\n"
     ]
    }
   ],
   "source": [
    "cols_to_check = [\n",
    "    \"QUARTER\",\n",
    "    \"DAY_OF_MONTH\",\n",
    "    \"DAY_OF_WEEK\",\n",
    "    \"FL_NUM\",\n",
    "    \"CRS_DEP_TIME\",\n",
    "    \"CRS_ARR_TIME\",\n",
    "    \"ARR_TIME_BLK\",\n",
    "]\n",
    "\n",
    "for col in cols_to_check:\n",
    "    print(\"-\" * 50)\n",
    "    print(col)\n",
    "    print(\"-\" * 50)\n",
    "    print(df_ap_clean[col].value_counts())"
   ]
  },
  {
   "cell_type": "markdown",
   "metadata": {},
   "source": [
    "Nous constatons qu'étrangement, ce fichier qui est censé ne concerner que le mois d'avril contient un nombre significatif des valeurs de `QUARTER` à 1 au lieu de 2.\n",
    "\n",
    "**H0 (Hypothèse 0) :** Certaines entrées du mois de mars ont été incluses dans les données du mois d'avril\n",
    "\n",
    "**H1 (Hypothèse 1) :** Le fichier d'avril contient des données corrompues avec des valeurs non-numériques dans des colonnes qui devraient être numériques\n",
    "\n",
    "**H2 (Hypothèse 2) :** Il existe une incohérence dans l'encodage ou le format des données du fichier d'avril par rapport aux autres mois\n",
    "\n",
    "**H3 (Hypothèse 3) :** Certaines colonnes du fichier d'avril ont été mal parsées lors de l'extraction ou de la création du fichier CSV\n",
    "\n",
    "**H4 (Hypothèse 4) :** Le fichier d'avril contient des caractères spéciaux ou des délimiteurs incorrects qui causent une mauvaise lecture des données\n"
   ]
  },
  {
   "cell_type": "code",
   "execution_count": 142,
   "metadata": {},
   "outputs": [
    {
     "name": "stdout",
     "output_type": "stream",
     "text": [
      "Nombre de lignes incohérentes: 0\n"
     ]
    }
   ],
   "source": [
    "# Créer une condition de cohérence\n",
    "coherence_check = ((df_ap_clean[\"MONTH\"] == \"3\") & (df_ap_clean[\"QUARTER\"] == \"1\")) | (\n",
    "    (df_ap_clean[\"MONTH\"] == \"4\") & (df_ap_clean[\"QUARTER\"] == \"2\")\n",
    ")\n",
    "\n",
    "# Identifier les incohérences\n",
    "incoherent_rows = df_ap_clean[~coherence_check & df_ap_clean[\"MONTH\"].isin([\"3\", \"4\"])]\n",
    "\n",
    "print(f\"Nombre de lignes incohérentes: {len(incoherent_rows)}\")\n",
    "if len(incoherent_rows) > 0:\n",
    "    print(\"Échantillon des incohérences:\")\n",
    "    print(incoherent_rows[[\"MONTH\", \"QUARTER\"]].head())"
   ]
  },
  {
   "cell_type": "markdown",
   "metadata": {},
   "source": [
    "L'hypothèse selon laquelle des lignes du mois de mars sont incluses dans les données du mois d'avril se vérifie dans la mesure où il existe une cohérence parfaite entre le mois et le semestre.\n"
   ]
  },
  {
   "cell_type": "code",
   "execution_count": 143,
   "metadata": {},
   "outputs": [
    {
     "data": {
      "application/vnd.microsoft.datawrangler.viewer.v0+json": {
       "columns": [
        {
         "name": "MONTH",
         "rawType": "int64",
         "type": "integer"
        },
        {
         "name": "count",
         "rawType": "int64",
         "type": "integer"
        }
       ],
       "ref": "fd87c981-16bd-4ae8-b75e-269c799ae442",
       "rows": [
        [
         "4",
         "362833"
        ],
        [
         "3",
         "117122"
        ]
       ],
       "shape": {
        "columns": 1,
        "rows": 2
       }
      },
      "text/plain": [
       "MONTH\n",
       "4    362833\n",
       "3    117122\n",
       "Name: count, dtype: int64"
      ]
     },
     "execution_count": 143,
     "metadata": {},
     "output_type": "execute_result"
    }
   ],
   "source": [
    "df_ap_clean[\"MONTH\"].value_counts()"
   ]
  },
  {
   "cell_type": "code",
   "execution_count": 144,
   "metadata": {},
   "outputs": [
    {
     "name": "stdout",
     "output_type": "stream",
     "text": [
      "=== ANALYSE DES COLONNES OBJECT ===\n",
      "Colonnes object trouvées: 16\n",
      "--------------------------------------------------\n",
      "\n",
      "📊 Analyse de la colonne: QUARTER\n",
      "  ✅ Colonne entièrement numérique (peut être convertie)\n",
      "\n",
      "📊 Analyse de la colonne: DAY_OF_MONTH\n"
     ]
    },
    {
     "name": "stdout",
     "output_type": "stream",
     "text": [
      "  ✅ Colonne entièrement numérique (peut être convertie)\n",
      "\n",
      "📊 Analyse de la colonne: DAY_OF_WEEK\n",
      "  ✅ Colonne entièrement numérique (peut être convertie)\n",
      "\n",
      "📊 Analyse de la colonne: UNIQUE_CARRIER\n",
      "  ✅ Colonne entièrement non-numérique (normal)\n",
      "\n",
      "📊 Analyse de la colonne: TAIL_NUM\n",
      "  ✅ Colonne entièrement non-numérique (normal)\n",
      "\n",
      "📊 Analyse de la colonne: FL_NUM\n",
      "  ⚠️  Colonne mixte détectée!\n",
      "  Valeurs non-numériques: ['582700-1759']\n",
      "  Lignes affectées: 1/479955 (0.00%)\n",
      "\n",
      "📊 Analyse de la colonne: ORIGIN\n",
      "  ⚠️  Colonne mixte détectée!\n",
      "  Valeurs non-numériques: ['MSP', 'ATL', 'SMF', 'LAS', 'MDW', 'SLC', 'MKE', 'AUS', 'CLT', 'PBI', 'PDX', 'SAT', 'MIA', 'MSY', 'FLL', 'DEN', 'DCA', 'RNO', 'RSW', 'CVG', 'MCO', 'GSO', 'PHL', 'EWR', 'ORF', 'BOS', 'IAH', 'TPA', 'ORD', 'SAN', 'SNA', 'LAX', 'ANC', 'SEA', 'PHX', 'ECP', 'LGA', 'DTW', 'OAK', 'MCI', 'HNL', 'CHS', 'MSN', 'MEM', 'ELP', 'SFO', 'PIT', 'DFW', 'JAN', 'BWI', 'GRR', 'MYR', 'FNT', 'FSD', 'BNA', 'JAX', 'SJU', 'RDU', 'STT', 'STL', 'IND', 'ALB', 'BDL', 'GPT', 'TLH', 'SDF', 'AGS', 'BZN', 'OKC', 'OMA', 'SJC', 'PNS', 'CLE', 'DAB', 'JAC', 'LEX', 'TUL', 'IAD', 'JFK', 'BIS', 'CHA', 'BUF', 'PVD', 'VPS', 'CMH', 'XNA', 'CHO', 'SRQ', 'TYS', 'HOU', 'PWM', 'BHM', 'GSP', 'CAK', 'ABE', 'SAV', 'KOA', 'BIL', 'AVL', 'DAY', 'GRB', 'DAL', 'MLB', 'LIT', 'RIC', 'ICT', 'ROA', 'HSV', 'EVV', 'MSO', 'CAE', 'ATW', 'BOI', 'EYW', 'SYR', 'GEG', 'DSM', 'ROC', 'SHV', 'ONT', 'LIH', 'OGG', 'ABQ', 'JNU', 'MHT', 'CRW', 'GNV', 'COS', 'TVC', 'PHF', 'TUS', 'FAT', 'EGE', 'MDT', 'STX', 'FAR', 'ILM', 'LFT', 'FAY', 'AVP', 'PSC', 'PSP', 'MOB', 'SGF', 'TRI', 'ADQ', 'BET', 'BRW', 'SCC', 'FAI', 'KTN', 'YAK', 'CDV', 'SIT', 'PSG', 'WRG', 'OME', 'OTZ', 'LGB', 'PSE', 'SPI', 'MLU', 'HPN', 'BTV', 'SWF', 'ORH', 'AMA', 'BTR', 'CRP', 'SJT', 'ROW', 'SAF', 'LRD', 'BPT', 'GRK', 'GGG', 'TXK', 'LAW', 'FSM', 'BRO', 'MAF', 'ACT', 'JLN', 'SPS', 'DRO', 'CWA', 'SBN', 'HRL', 'MFE', 'ISN', 'LBB', 'MGM', 'AEX', 'MEI', 'PIB', 'SCE', 'TYR', 'CID', 'CLL', 'LAN', 'LCH', 'PIA', 'LNK', 'HOB', 'ELM', 'ERI', 'MLI', 'MTJ', 'AZO', 'BLI', 'ADK', 'BUR', 'BQN', 'DLH', 'HDN', 'TTN', 'ASE', 'ISP', 'GUM', 'UST', 'ITO', 'PPG', 'ACY', 'LBE', 'IAG', 'PBG', 'BTM', 'CDC', 'MRY', 'RDM', 'BRD', 'FLG', 'MOT', 'YUM', 'MBS', 'FCA', 'HLN', 'BFL', 'MFR', 'FWA', 'COD', 'CPR', 'EKO', 'ABR', 'PLN', 'ITH', 'LSE', 'SBA', 'MQT', 'APN', 'ESC', 'CIU', 'BJI', 'GJT', 'BGM', 'IDA', 'PAH', 'SGU', 'SBP', 'BMI', 'SUN', 'RST', 'RAP', 'GTF', 'GFK', 'TWF', 'EUG', 'RDD', 'CMX', 'EAU', 'RKS', 'MKG', 'GCC', 'HYS', 'LAR', 'VLD', 'ACV', 'SMX', 'DVL', 'JMS', 'MMH', 'LWS', 'RHI', 'IMT', 'HIB', 'PIH', 'INL', 'OTH', 'GUC', 'CSG', 'DHN', 'BQK', 'OAJ', 'GTR', 'EWN', 'ABY']\n",
      "  Lignes affectées: 479954/479955 (100.00%)\n",
      "\n",
      "📊 Analyse de la colonne: ORIGIN_CITY_NAME\n",
      "  ⚠️  Colonne mixte détectée!\n",
      "  Valeurs non-numériques: ['Minneapolis, MN', 'Atlanta, GA', 'Sacramento, CA', 'Las Vegas, NV', 'Chicago, IL', 'Salt Lake City, UT', 'Milwaukee, WI', 'Austin, TX', 'Charlotte, NC', 'West Palm Beach/Palm Beach, FL', 'Portland, OR', 'San Antonio, TX', 'Miami, FL', 'New Orleans, LA', 'Fort Lauderdale, FL', 'Denver, CO', 'Washington, DC', 'Reno, NV', 'Fort Myers, FL', 'Cincinnati, OH', 'Orlando, FL', 'Greensboro/High Point, NC', 'Philadelphia, PA', 'Newark, NJ', 'Norfolk, VA', 'Boston, MA', 'Houston, TX', 'Tampa, FL', 'San Diego, CA', 'Santa Ana, CA', 'Los Angeles, CA', 'Anchorage, AK', 'Seattle, WA', 'Phoenix, AZ', 'Panama City, FL', 'New York, NY', 'Detroit, MI', 'Oakland, CA', 'Kansas City, MO', 'Honolulu, HI', 'Charleston, SC', 'Madison, WI', 'Memphis, TN', 'El Paso, TX', 'San Francisco, CA', 'Pittsburgh, PA', 'Dallas/Fort Worth, TX', 'Jackson/Vicksburg, MS', 'Baltimore, MD', 'Grand Rapids, MI', 'Myrtle Beach, SC', 'Flint, MI', 'Sioux Falls, SD', 'Nashville, TN', 'Jacksonville, FL', 'San Juan, PR', 'Raleigh/Durham, NC', 'Charlotte Amalie, VI', 'St. Louis, MO', 'Indianapolis, IN', 'Albany, NY', 'Hartford, CT', 'Gulfport/Biloxi, MS', 'Tallahassee, FL', 'Louisville, KY', 'Augusta, GA', 'Bozeman, MT', 'Oklahoma City, OK', 'Omaha, NE', 'San Jose, CA', 'Pensacola, FL', 'Cleveland, OH', 'Daytona Beach, FL', 'Jackson, WY', 'Lexington, KY', 'Tulsa, OK', 'Bismarck/Mandan, ND', 'Chattanooga, TN', 'Buffalo, NY', 'Providence, RI', 'Valparaiso, FL', 'Columbus, OH', 'Fayetteville, AR', 'Charlottesville, VA', 'Sarasota/Bradenton, FL', 'Knoxville, TN', 'Portland, ME', 'Birmingham, AL', 'Greer, SC', 'Akron, OH', 'Allentown/Bethlehem/Easton, PA', 'Savannah, GA', 'Kona, HI', 'Billings, MT', 'Asheville, NC', 'Dayton, OH', 'Green Bay, WI', 'Dallas, TX', 'Melbourne, FL', 'Little Rock, AR', 'Richmond, VA', 'Wichita, KS', 'Roanoke, VA', 'Huntsville, AL', 'Evansville, IN', 'Missoula, MT', 'Columbia, SC', 'Appleton, WI', 'Boise, ID', 'Key West, FL', 'Syracuse, NY', 'Spokane, WA', 'Des Moines, IA', 'Rochester, NY', 'Shreveport, LA', 'Ontario, CA', 'Lihue, HI', 'Kahului, HI', 'Albuquerque, NM', 'Juneau, AK', 'Manchester, NH', 'Charleston/Dunbar, WV', 'Gainesville, FL', 'Colorado Springs, CO', 'Traverse City, MI', 'Newport News/Williamsburg, VA', 'Tucson, AZ', 'Fresno, CA', 'Eagle, CO', 'Harrisburg, PA', 'Christiansted, VI', 'Fargo, ND', 'Wilmington, NC', 'Lafayette, LA', 'Fayetteville, NC', 'Scranton/Wilkes-Barre, PA', 'Pasco/Kennewick/Richland, WA', 'Palm Springs, CA', 'Mobile, AL', 'Springfield, MO', 'Bristol/Johnson City/Kingsport, TN', 'Kodiak, AK', 'Bethel, AK', 'Barrow, AK', 'Deadhorse, AK', 'Fairbanks, AK', 'Ketchikan, AK', 'Yakutat, AK', 'Cordova, AK', 'Sitka, AK', 'Petersburg, AK', 'Wrangell, AK', 'Nome, AK', 'Kotzebue, AK', 'Long Beach, CA', 'Ponce, PR', 'Springfield, IL', 'Monroe, LA', 'White Plains, NY', 'Burlington, VT', 'Newburgh/Poughkeepsie, NY', 'Worcester, MA', 'Amarillo, TX', 'Baton Rouge, LA', 'Corpus Christi, TX', 'San Angelo, TX', 'Roswell, NM', 'Santa Fe, NM', 'Laredo, TX', 'Beaumont/Port Arthur, TX', 'Killeen, TX', 'Longview, TX', 'Texarkana, AR', 'Lawton/Fort Sill, OK', 'Fort Smith, AR', 'Brownsville, TX', 'Midland/Odessa, TX', 'Waco, TX', 'Joplin, MO', 'Wichita Falls, TX', 'Durango, CO', 'Mosinee, WI', 'South Bend, IN', 'Harlingen/San Benito, TX', 'Mission/McAllen/Edinburg, TX', 'Williston, ND', 'Lubbock, TX', 'Montgomery, AL', 'Alexandria, LA', 'Meridian, MS', 'Hattiesburg/Laurel, MS', 'State College, PA', 'Tyler, TX', 'Cedar Rapids/Iowa City, IA', 'College Station/Bryan, TX', 'Lansing, MI', 'Lake Charles, LA', 'Peoria, IL', 'Lincoln, NE', 'Hobbs, NM', 'Elmira/Corning, NY', 'Erie, PA', 'Moline, IL', 'Montrose/Delta, CO', 'Kalamazoo, MI', 'Bellingham, WA', 'Adak Island, AK', 'Burbank, CA', 'Aguadilla, PR', 'Duluth, MN', 'Hayden, CO', 'Trenton, NJ', 'Aspen, CO', 'Islip, NY', 'Guam, TT', 'St. Augustine, FL', 'Hilo, HI', 'Pago Pago, TT', 'Atlantic City, NJ', 'Latrobe, PA', 'Niagara Falls, NY', 'Plattsburgh, NY', 'Butte, MT', 'Cedar City, UT', 'Monterey, CA', 'Bend/Redmond, OR', 'Brainerd, MN', 'Flagstaff, AZ', 'Minot, ND', 'Yuma, AZ', 'Saginaw/Bay City/Midland, MI', 'Kalispell, MT', 'Helena, MT', 'Bakersfield, CA', 'Medford, OR', 'Fort Wayne, IN', 'Cody, WY', 'Casper, WY', 'Elko, NV', 'Aberdeen, SD', 'Pellston, MI', 'Ithaca/Cortland, NY', 'La Crosse, WI', 'Santa Barbara, CA', 'Marquette, MI', 'Alpena, MI', 'Escanaba, MI', 'Sault Ste. Marie, MI', 'Bemidji, MN', 'Grand Junction, CO', 'Binghamton, NY', 'Idaho Falls, ID', 'Paducah, KY', 'St. George, UT', 'San Luis Obispo, CA', 'Bloomington/Normal, IL', 'Sun Valley/Hailey/Ketchum, ID', 'Rochester, MN', 'Rapid City, SD', 'Great Falls, MT', 'Grand Forks, ND', 'Twin Falls, ID', 'Eugene, OR', 'Redding, CA', 'Hancock/Houghton, MI', 'Eau Claire, WI', 'Rock Springs, WY', 'Muskegon, MI', 'Gillette, WY', 'Hays, KS', 'Laramie, WY', 'Valdosta, GA', 'Arcata/Eureka, CA', 'Santa Maria, CA', 'Devils Lake, ND', 'Jamestown, ND', 'Mammoth Lakes, CA', 'Lewiston, ID', 'Rhinelander, WI', 'Iron Mountain/Kingsfd, MI', 'Hibbing, MN', 'Pocatello, ID', 'International Falls, MN', 'North Bend/Coos Bay, OR', 'Gunnison, CO', 'Columbus, GA', 'Dothan, AL', 'Brunswick, GA', 'Jacksonville/Camp Lejeune, NC', 'Columbus, MS', 'New Bern/Morehead/Beaufort, NC', 'Albany, GA']\n",
      "  Lignes affectées: 479954/479955 (100.00%)\n",
      "\n",
      "📊 Analyse de la colonne: ORIGIN_STATE_ABR\n",
      "  ⚠️  Colonne mixte détectée!\n",
      "  Valeurs non-numériques: ['MN', 'GA', 'CA', 'NV', 'IL', 'UT', 'WI', 'TX', 'NC', 'FL', 'OR', 'LA', 'CO', 'VA', 'KY', 'PA', 'NJ', 'MA', 'AK', 'WA', 'AZ', 'NY', 'MI', 'MO', 'HI', 'SC', 'TN', 'MS', 'MD', 'SD', 'PR', 'VI', 'IN', 'CT', 'MT', 'OK', 'NE', 'OH', 'WY', 'ND', 'RI', 'AR', 'ME', 'AL', 'KS', 'ID', 'IA', 'NM', 'NH', 'WV', 'VT', 'TT', 'AZ4']\n",
      "  Lignes affectées: 479954/479955 (100.00%)\n",
      "\n",
      "📊 Analyse de la colonne: DEST\n",
      "  ⚠️  Colonne mixte détectée!\n",
      "  Valeurs non-numériques: ['GEG', 'SMF', 'ATL', 'CVG', 'MDW', 'MSP', 'MKE', 'DTW', 'PBI', 'MCO', 'PVD', 'PDX', 'DFW', 'SRQ', 'SJU', 'JFK', 'SAT', 'OKC', 'LAS', 'LGA', 'DEN', 'SLC', 'SEA', 'RSW', 'TPA', 'ORD', 'PHL', 'BOS', 'CLT', 'ECP', 'CMH', 'DCA', 'SAN', 'OAK', 'MCI', 'HNL', 'MSN', 'MEM', 'FLL', 'LAX', 'BWI', 'AGS', 'PHX', 'GRR', 'SFO', 'JAX', 'RDU', 'STL', 'SYR', 'ALB', 'IND', 'BNA', 'GPT', 'MIA', 'BDL', 'ANC', 'SJC', 'PIT', 'DAB', 'JAC', 'ROC', 'RIC', 'IAD', 'OMA', 'EWR', 'MSY', 'STT', 'TRI', 'TLH', 'CLE', 'MOB', 'BUF', 'GSO', 'VPS', 'XNA', 'CHS', 'CHA', 'JAN', 'SNA', 'TYS', 'LEX', 'SDF', 'IAH', 'GSP', 'BIS', 'AUS', 'CAK', 'AVP', 'CRW', 'PSC', 'HSV', 'DAY', 'MSO', 'GRB', 'FNT', 'DAL', 'TUL', 'MLB', 'LIT', 'MDT', 'MYR', 'BHM', 'ATW', 'ORF', 'EVV', 'BOI', 'EYW', 'AVL', 'FSD', 'CAE', 'ICT', 'FAR', 'LIH', 'DSM', 'SHV', 'CHO', 'HOU', 'MHT', 'BZN', 'SAV', 'TUS', 'FAY', 'ABQ', 'PNS', 'JNU', 'RNO', 'ROA', 'ELP', 'SGF', 'GNV', 'EGE', 'COS', 'MFE', 'PWM', 'STX', 'OGG', 'KOA', 'PHF', 'ONT', 'ILM', 'ABE', 'BIL', 'PSP', 'TVC', 'LFT', 'BET', 'ADQ', 'BRW', 'SCC', 'FAI', 'KTN', 'CDV', 'YAK', 'SIT', 'PSG', 'WRG', 'OME', 'OTZ', 'LGB', 'BUR', 'SPI', 'MLU', 'BTV', 'HPN', 'SWF', 'ORH', 'AMA', 'LRD', 'SJT', 'ROW', 'SAF', 'BPT', 'BTR', 'GRK', 'GGG', 'TXK', 'LAW', 'FSM', 'BRO', 'MAF', 'ACT', 'SPS', 'JLN', 'DRO', 'LCH', 'SBN', 'GJT', 'HRL', 'LBB', 'LNK', 'MGM', 'AEX', 'MEI', 'PIB', 'LAN', 'HOB', 'PIA', 'ERI', 'CID', 'CLL', 'CRP', 'TYR', 'CWA', 'AZO', 'ELM', 'SCE', 'MLI', 'MTJ', 'ISN', '1800-1859', 'BLI', 'ADK', 'BQN', 'PSE', 'HDN', 'DLH', 'BMI', 'TTN', 'ASE', 'ISP', 'GUM', 'UST', 'ITO', 'PPG', 'ACY', 'IAG', 'LBE', 'PBG', 'BRD', 'BTM', 'CDC', 'IDA', 'RDM', 'HLN', 'MFR', 'EUG', 'SBA', 'FLG', 'MOT', 'YUM', 'FCA', 'RAP', 'SMX', 'COD', 'CPR', 'CIU', 'LWS', 'PLN', 'ABR', 'APN', 'FAT', 'BFL', 'BJI', 'MRY', 'FWA', 'MBS', 'MKG', 'PAH', 'SBP', 'OTH', 'RKS', 'GCC', 'MQT', 'CMX', 'EAU', 'GTF', 'RST', 'SUN', 'LSE', 'GFK', 'SGU', 'RDD', 'LAR', 'HYS', 'VLD', 'JMS', 'DVL', 'ACV', 'MMH', 'ESC', 'EKO', 'BGM', 'ITH', 'IMT', 'RHI', 'HIB', 'PIH', 'TWF', 'INL', 'GUC', 'CSG', 'DHN', 'GTR', 'EWN', 'OAJ', 'BQK', 'ABY']\n",
      "  Lignes affectées: 479953/479954 (100.00%)\n",
      "\n",
      "📊 Analyse de la colonne: DEST_CITY_NAME\n",
      "  ⚠️  Colonne mixte détectée!\n",
      "  Valeurs non-numériques: ['Spokane, WA', 'Sacramento, CA', 'Atlanta, GA', 'Cincinnati, OH', 'Chicago, IL', 'Minneapolis, MN', 'Milwaukee, WI', 'Detroit, MI', 'West Palm Beach/Palm Beach, FL', 'Orlando, FL', 'Providence, RI', 'Portland, OR', 'Dallas/Fort Worth, TX', 'Sarasota/Bradenton, FL', 'San Juan, PR', 'New York, NY', 'San Antonio, TX', 'Oklahoma City, OK', 'Las Vegas, NV', 'Denver, CO', 'Salt Lake City, UT', 'Seattle, WA', 'Fort Myers, FL', 'Tampa, FL', 'Philadelphia, PA', 'Boston, MA', 'Charlotte, NC', 'Panama City, FL', 'Columbus, OH', 'Washington, DC', 'San Diego, CA', 'Oakland, CA', 'Kansas City, MO', 'Honolulu, HI', 'Madison, WI', 'Memphis, TN', 'Fort Lauderdale, FL', 'Los Angeles, CA', 'Baltimore, MD', 'Augusta, GA', 'Phoenix, AZ', 'Grand Rapids, MI', 'San Francisco, CA', 'Jacksonville, FL', 'Raleigh/Durham, NC', 'St. Louis, MO', 'Syracuse, NY', 'Albany, NY', 'Indianapolis, IN', 'Nashville, TN', 'Gulfport/Biloxi, MS', 'Miami, FL', 'Hartford, CT', 'Anchorage, AK', 'San Jose, CA', 'Pittsburgh, PA', 'Daytona Beach, FL', 'Jackson, WY', 'Rochester, NY', 'Richmond, VA', 'Omaha, NE', 'Newark, NJ', 'New Orleans, LA', 'Charlotte Amalie, VI', 'Bristol/Johnson City/Kingsport, TN', 'Tallahassee, FL', 'Cleveland, OH', 'Mobile, AL', 'Buffalo, NY', 'Greensboro/High Point, NC', 'Valparaiso, FL', 'Fayetteville, AR', 'Charleston, SC', 'Chattanooga, TN', 'Jackson/Vicksburg, MS', 'Santa Ana, CA', 'Knoxville, TN', 'Lexington, KY', 'Louisville, KY', 'Houston, TX', 'Greer, SC', 'Bismarck/Mandan, ND', 'Austin, TX', 'Akron, OH', 'Scranton/Wilkes-Barre, PA', 'Charleston/Dunbar, WV', 'Pasco/Kennewick/Richland, WA', 'Huntsville, AL', 'Dayton, OH', 'Missoula, MT', 'Green Bay, WI', 'Flint, MI', 'Dallas, TX', 'Tulsa, OK', 'Melbourne, FL', 'Little Rock, AR', 'Harrisburg, PA', 'Myrtle Beach, SC', 'Birmingham, AL', 'Appleton, WI', 'Norfolk, VA', 'Evansville, IN', 'Boise, ID', 'Key West, FL', 'Asheville, NC', 'Sioux Falls, SD', 'Columbia, SC', 'Wichita, KS', 'Fargo, ND', 'Lihue, HI', 'Des Moines, IA', 'Shreveport, LA', 'Charlottesville, VA', 'Manchester, NH', 'Bozeman, MT', 'Savannah, GA', 'Tucson, AZ', 'Fayetteville, NC', 'Albuquerque, NM', 'Pensacola, FL', 'Juneau, AK', 'Reno, NV', 'Roanoke, VA', 'El Paso, TX', 'Springfield, MO', 'Gainesville, FL', 'Eagle, CO', 'Colorado Springs, CO', 'Mission/McAllen/Edinburg, TX', 'Portland, ME', 'Christiansted, VI', 'Kahului, HI', 'Kona, HI', 'Newport News/Williamsburg, VA', 'Ontario, CA', 'Wilmington, NC', 'Allentown/Bethlehem/Easton, PA', 'Billings, MT', 'Palm Springs, CA', 'Traverse City, MI', 'Lafayette, LA', 'Bethel, AK', 'Kodiak, AK', 'Barrow, AK', 'Deadhorse, AK', 'Fairbanks, AK', 'Ketchikan, AK', 'Cordova, AK', 'Yakutat, AK', 'Sitka, AK', 'Petersburg, AK', 'Wrangell, AK', 'Nome, AK', 'Kotzebue, AK', 'Long Beach, CA', 'Burbank, CA', 'Springfield, IL', 'Monroe, LA', 'Burlington, VT', 'White Plains, NY', 'Newburgh/Poughkeepsie, NY', 'Worcester, MA', 'Amarillo, TX', 'Laredo, TX', 'San Angelo, TX', 'Roswell, NM', 'Santa Fe, NM', 'Beaumont/Port Arthur, TX', 'Baton Rouge, LA', 'Killeen, TX', 'Longview, TX', 'Texarkana, AR', 'Lawton/Fort Sill, OK', 'Fort Smith, AR', 'Brownsville, TX', 'Midland/Odessa, TX', 'Waco, TX', 'Wichita Falls, TX', 'Joplin, MO', 'Durango, CO', 'Lake Charles, LA', 'South Bend, IN', 'Grand Junction, CO', 'Harlingen/San Benito, TX', 'Lubbock, TX', 'Lincoln, NE', 'Montgomery, AL', 'Alexandria, LA', 'Meridian, MS', 'Hattiesburg/Laurel, MS', 'Lansing, MI', 'Hobbs, NM', 'Peoria, IL', 'Erie, PA', 'Cedar Rapids/Iowa City, IA', 'College Station/Bryan, TX', 'Corpus Christi, TX', 'Tyler, TX', 'Mosinee, WI', 'Kalamazoo, MI', 'Elmira/Corning, NY', 'State College, PA', 'Moline, IL', 'Montrose/Delta, CO', 'Williston, ND', 'Bellingham, WA', 'Adak Island, AK', 'Aguadilla, PR', 'Ponce, PR', 'Hayden, CO', 'Duluth, MN', 'Bloomington/Normal, IL', 'Trenton, NJ', ',Santa Ana', 'Aspen, CO', 'Islip, NY', 'Guam, TT', 'St. Augustine, FL', 'Hilo, HI', 'Pago Pago, TT', 'Atlantic City, NJ', 'Niagara Falls, NY', 'Latrobe, PA', 'Plattsburgh, NY', 'Brainerd, MN', 'Butte, MT', 'Cedar City, UT', 'Idaho Falls, ID', 'Bend/Redmond, OR', 'Helena, MT', 'Medford, OR', 'Eugene, OR', 'Santa Barbara, CA', 'Flagstaff, AZ', 'Minot, ND', 'Yuma, AZ', 'Kalispell, MT', 'Rapid City, SD', 'Santa Maria, CA', 'Cody, WY', 'Casper, WY', 'Sault Ste. Marie, MI', 'Lewiston, ID', 'Pellston, MI', 'Aberdeen, SD', 'Alpena, MI', 'Fresno, CA', 'Bakersfield, CA', 'Bemidji, MN', 'Monterey, CA', 'Fort Wayne, IN', 'Saginaw/Bay City/Midland, MI', 'Muskegon, MI', 'Paducah, KY', 'San Luis Obispo, CA', 'North Bend/Coos Bay, OR', 'Rock Springs, WY', 'Gillette, WY', 'Marquette, MI', 'Hancock/Houghton, MI', 'Eau Claire, WI', 'Great Falls, MT', 'Rochester, MN', 'Sun Valley/Hailey/Ketchum, ID', 'La Crosse, WI', 'Grand Forks, ND', 'St. George, UT', 'Redding, CA', 'Laramie, WY', 'Hays, KS', 'Valdosta, GA', 'Jamestown, ND', 'Devils Lake, ND', 'Arcata/Eureka, CA', 'Mammoth Lakes, CA', 'Escanaba, MI', 'Elko, NV', 'Binghamton, NY', 'Ithaca/Cortland, NY', 'Iron Mountain/Kingsfd, MI', 'Rhinelander, WI', 'Hibbing, MN', 'Pocatello, ID', 'Twin Falls, ID', 'International Falls, MN', 'Gunnison, CO', 'Columbus, GA', 'Dothan, AL', 'Columbus, MS', 'New Bern/Morehead/Beaufort, NC', 'Jacksonville/Camp Lejeune, NC', 'Brunswick, GA', 'Albany, GA']\n",
      "  Lignes affectées: 479952/479955 (100.00%)\n",
      "\n",
      "📊 Analyse de la colonne: DEST_STATE_ABR\n",
      "  ⚠️  Colonne mixte détectée!\n",
      "  Valeurs non-numériques: ['WA', 'CA', 'GA', 'KY', 'IL', 'MN', 'WI', 'MI', 'FL', 'RI', 'OR', 'TX', 'PR', 'NY', 'OK', 'NV', 'CO', 'UT', 'PA', 'MA', 'NC', 'OH', 'VA', 'MO', 'HI', 'TN', 'MD', 'AZ', 'IN', 'MS', 'CT', 'AK', 'WY', 'NE', 'NJ', 'LA', 'VI', 'AL', 'AR', 'SC', 'ND', 'WV', 'MT', 'ID', 'SD', 'KS', 'IA', 'NH', 'NM', 'ME', 'VT', ' CA\"', 'TT']\n",
      "  Lignes affectées: 479952/479954 (100.00%)\n",
      "\n",
      "📊 Analyse de la colonne: CRS_DEP_TIME\n",
      "  ⚠️  Colonne mixte détectée!\n",
      "  Valeurs non-numériques: ['GA']\n",
      "  Lignes affectées: 1/479955 (0.00%)\n",
      "\n",
      "📊 Analyse de la colonne: DEP_TIME_BLK\n",
      "  ⚠️  Colonne mixte détectée!\n",
      "  Valeurs non-numériques: ['2000-2059', '0900-0959', '1200-1259', '2300-2359', '1600-1659', '1800-1859', '0800-0859', '1000-1059', '0600-0659', '1300-1359', '2200-2259', '0001-0559', '1900-1959', '2100-2159', '1400-1459', '0700-0759', '1500-1559', '1100-1159', '1700-1759', 'CA']\n",
      "  Lignes affectées: 479951/479953 (100.00%)\n",
      "\n",
      "📊 Analyse de la colonne: CRS_ARR_TIME\n",
      "  ⚠️  Colonne mixte détectée!\n",
      "  Valeurs non-numériques: ['Indiana', 'San Antonio, TX']\n",
      "  Lignes affectées: 2/479952 (0.00%)\n",
      "\n",
      "📊 Analyse de la colonne: ARR_TIME_BLK\n",
      "  ⚠️  Colonne mixte détectée!\n",
      "  Valeurs non-numériques: ['2100-2159', '1100-1159', '2000-2059', '0600-0659', '1700-1759', '2300-2359', '0900-0959', '1300-1359', '1500-1559', '1800-1859', '0001-0559', '0800-0859', '2200-2259', '1900-1959', '1000-1059', '1600-1659', '1200-1259', '1400-1459', '0700-0759']\n",
      "  Lignes affectées: 479947/479952 (100.00%)\n",
      "{'FL_NUM': {'non_numeric_values': ['582700-1759'], 'non_numeric_count': np.int64(1), 'total_count': 479955, 'percentage': np.float64(0.00020835286641455973)}, 'ORIGIN': {'non_numeric_values': ['MSP', 'ATL', 'SMF', 'LAS', 'MDW', 'SLC', 'MKE', 'AUS', 'CLT', 'PBI', 'PDX', 'SAT', 'MIA', 'MSY', 'FLL', 'DEN', 'DCA', 'RNO', 'RSW', 'CVG', 'MCO', 'GSO', 'PHL', 'EWR', 'ORF', 'BOS', 'IAH', 'TPA', 'ORD', 'SAN', 'SNA', 'LAX', 'ANC', 'SEA', 'PHX', 'ECP', 'LGA', 'DTW', 'OAK', 'MCI', 'HNL', 'CHS', 'MSN', 'MEM', 'ELP', 'SFO', 'PIT', 'DFW', 'JAN', 'BWI', 'GRR', 'MYR', 'FNT', 'FSD', 'BNA', 'JAX', 'SJU', 'RDU', 'STT', 'STL', 'IND', 'ALB', 'BDL', 'GPT', 'TLH', 'SDF', 'AGS', 'BZN', 'OKC', 'OMA', 'SJC', 'PNS', 'CLE', 'DAB', 'JAC', 'LEX', 'TUL', 'IAD', 'JFK', 'BIS', 'CHA', 'BUF', 'PVD', 'VPS', 'CMH', 'XNA', 'CHO', 'SRQ', 'TYS', 'HOU', 'PWM', 'BHM', 'GSP', 'CAK', 'ABE', 'SAV', 'KOA', 'BIL', 'AVL', 'DAY', 'GRB', 'DAL', 'MLB', 'LIT', 'RIC', 'ICT', 'ROA', 'HSV', 'EVV', 'MSO', 'CAE', 'ATW', 'BOI', 'EYW', 'SYR', 'GEG', 'DSM', 'ROC', 'SHV', 'ONT', 'LIH', 'OGG', 'ABQ', 'JNU', 'MHT', 'CRW', 'GNV', 'COS', 'TVC', 'PHF', 'TUS', 'FAT', 'EGE', 'MDT', 'STX', 'FAR', 'ILM', 'LFT', 'FAY', 'AVP', 'PSC', 'PSP', 'MOB', 'SGF', 'TRI', 'ADQ', 'BET', 'BRW', 'SCC', 'FAI', 'KTN', 'YAK', 'CDV', 'SIT', 'PSG', 'WRG', 'OME', 'OTZ', 'LGB', 'PSE', 'SPI', 'MLU', 'HPN', 'BTV', 'SWF', 'ORH', 'AMA', 'BTR', 'CRP', 'SJT', 'ROW', 'SAF', 'LRD', 'BPT', 'GRK', 'GGG', 'TXK', 'LAW', 'FSM', 'BRO', 'MAF', 'ACT', 'JLN', 'SPS', 'DRO', 'CWA', 'SBN', 'HRL', 'MFE', 'ISN', 'LBB', 'MGM', 'AEX', 'MEI', 'PIB', 'SCE', 'TYR', 'CID', 'CLL', 'LAN', 'LCH', 'PIA', 'LNK', 'HOB', 'ELM', 'ERI', 'MLI', 'MTJ', 'AZO', 'BLI', 'ADK', 'BUR', 'BQN', 'DLH', 'HDN', 'TTN', 'ASE', 'ISP', 'GUM', 'UST', 'ITO', 'PPG', 'ACY', 'LBE', 'IAG', 'PBG', 'BTM', 'CDC', 'MRY', 'RDM', 'BRD', 'FLG', 'MOT', 'YUM', 'MBS', 'FCA', 'HLN', 'BFL', 'MFR', 'FWA', 'COD', 'CPR', 'EKO', 'ABR', 'PLN', 'ITH', 'LSE', 'SBA', 'MQT', 'APN', 'ESC', 'CIU', 'BJI', 'GJT', 'BGM', 'IDA', 'PAH', 'SGU', 'SBP', 'BMI', 'SUN', 'RST', 'RAP', 'GTF', 'GFK', 'TWF', 'EUG', 'RDD', 'CMX', 'EAU', 'RKS', 'MKG', 'GCC', 'HYS', 'LAR', 'VLD', 'ACV', 'SMX', 'DVL', 'JMS', 'MMH', 'LWS', 'RHI', 'IMT', 'HIB', 'PIH', 'INL', 'OTH', 'GUC', 'CSG', 'DHN', 'BQK', 'OAJ', 'GTR', 'EWN', 'ABY'], 'non_numeric_count': np.int64(479954), 'total_count': 479955, 'percentage': np.float64(99.99979164713359)}, 'ORIGIN_CITY_NAME': {'non_numeric_values': ['Minneapolis, MN', 'Atlanta, GA', 'Sacramento, CA', 'Las Vegas, NV', 'Chicago, IL', 'Salt Lake City, UT', 'Milwaukee, WI', 'Austin, TX', 'Charlotte, NC', 'West Palm Beach/Palm Beach, FL', 'Portland, OR', 'San Antonio, TX', 'Miami, FL', 'New Orleans, LA', 'Fort Lauderdale, FL', 'Denver, CO', 'Washington, DC', 'Reno, NV', 'Fort Myers, FL', 'Cincinnati, OH', 'Orlando, FL', 'Greensboro/High Point, NC', 'Philadelphia, PA', 'Newark, NJ', 'Norfolk, VA', 'Boston, MA', 'Houston, TX', 'Tampa, FL', 'San Diego, CA', 'Santa Ana, CA', 'Los Angeles, CA', 'Anchorage, AK', 'Seattle, WA', 'Phoenix, AZ', 'Panama City, FL', 'New York, NY', 'Detroit, MI', 'Oakland, CA', 'Kansas City, MO', 'Honolulu, HI', 'Charleston, SC', 'Madison, WI', 'Memphis, TN', 'El Paso, TX', 'San Francisco, CA', 'Pittsburgh, PA', 'Dallas/Fort Worth, TX', 'Jackson/Vicksburg, MS', 'Baltimore, MD', 'Grand Rapids, MI', 'Myrtle Beach, SC', 'Flint, MI', 'Sioux Falls, SD', 'Nashville, TN', 'Jacksonville, FL', 'San Juan, PR', 'Raleigh/Durham, NC', 'Charlotte Amalie, VI', 'St. Louis, MO', 'Indianapolis, IN', 'Albany, NY', 'Hartford, CT', 'Gulfport/Biloxi, MS', 'Tallahassee, FL', 'Louisville, KY', 'Augusta, GA', 'Bozeman, MT', 'Oklahoma City, OK', 'Omaha, NE', 'San Jose, CA', 'Pensacola, FL', 'Cleveland, OH', 'Daytona Beach, FL', 'Jackson, WY', 'Lexington, KY', 'Tulsa, OK', 'Bismarck/Mandan, ND', 'Chattanooga, TN', 'Buffalo, NY', 'Providence, RI', 'Valparaiso, FL', 'Columbus, OH', 'Fayetteville, AR', 'Charlottesville, VA', 'Sarasota/Bradenton, FL', 'Knoxville, TN', 'Portland, ME', 'Birmingham, AL', 'Greer, SC', 'Akron, OH', 'Allentown/Bethlehem/Easton, PA', 'Savannah, GA', 'Kona, HI', 'Billings, MT', 'Asheville, NC', 'Dayton, OH', 'Green Bay, WI', 'Dallas, TX', 'Melbourne, FL', 'Little Rock, AR', 'Richmond, VA', 'Wichita, KS', 'Roanoke, VA', 'Huntsville, AL', 'Evansville, IN', 'Missoula, MT', 'Columbia, SC', 'Appleton, WI', 'Boise, ID', 'Key West, FL', 'Syracuse, NY', 'Spokane, WA', 'Des Moines, IA', 'Rochester, NY', 'Shreveport, LA', 'Ontario, CA', 'Lihue, HI', 'Kahului, HI', 'Albuquerque, NM', 'Juneau, AK', 'Manchester, NH', 'Charleston/Dunbar, WV', 'Gainesville, FL', 'Colorado Springs, CO', 'Traverse City, MI', 'Newport News/Williamsburg, VA', 'Tucson, AZ', 'Fresno, CA', 'Eagle, CO', 'Harrisburg, PA', 'Christiansted, VI', 'Fargo, ND', 'Wilmington, NC', 'Lafayette, LA', 'Fayetteville, NC', 'Scranton/Wilkes-Barre, PA', 'Pasco/Kennewick/Richland, WA', 'Palm Springs, CA', 'Mobile, AL', 'Springfield, MO', 'Bristol/Johnson City/Kingsport, TN', 'Kodiak, AK', 'Bethel, AK', 'Barrow, AK', 'Deadhorse, AK', 'Fairbanks, AK', 'Ketchikan, AK', 'Yakutat, AK', 'Cordova, AK', 'Sitka, AK', 'Petersburg, AK', 'Wrangell, AK', 'Nome, AK', 'Kotzebue, AK', 'Long Beach, CA', 'Ponce, PR', 'Springfield, IL', 'Monroe, LA', 'White Plains, NY', 'Burlington, VT', 'Newburgh/Poughkeepsie, NY', 'Worcester, MA', 'Amarillo, TX', 'Baton Rouge, LA', 'Corpus Christi, TX', 'San Angelo, TX', 'Roswell, NM', 'Santa Fe, NM', 'Laredo, TX', 'Beaumont/Port Arthur, TX', 'Killeen, TX', 'Longview, TX', 'Texarkana, AR', 'Lawton/Fort Sill, OK', 'Fort Smith, AR', 'Brownsville, TX', 'Midland/Odessa, TX', 'Waco, TX', 'Joplin, MO', 'Wichita Falls, TX', 'Durango, CO', 'Mosinee, WI', 'South Bend, IN', 'Harlingen/San Benito, TX', 'Mission/McAllen/Edinburg, TX', 'Williston, ND', 'Lubbock, TX', 'Montgomery, AL', 'Alexandria, LA', 'Meridian, MS', 'Hattiesburg/Laurel, MS', 'State College, PA', 'Tyler, TX', 'Cedar Rapids/Iowa City, IA', 'College Station/Bryan, TX', 'Lansing, MI', 'Lake Charles, LA', 'Peoria, IL', 'Lincoln, NE', 'Hobbs, NM', 'Elmira/Corning, NY', 'Erie, PA', 'Moline, IL', 'Montrose/Delta, CO', 'Kalamazoo, MI', 'Bellingham, WA', 'Adak Island, AK', 'Burbank, CA', 'Aguadilla, PR', 'Duluth, MN', 'Hayden, CO', 'Trenton, NJ', 'Aspen, CO', 'Islip, NY', 'Guam, TT', 'St. Augustine, FL', 'Hilo, HI', 'Pago Pago, TT', 'Atlantic City, NJ', 'Latrobe, PA', 'Niagara Falls, NY', 'Plattsburgh, NY', 'Butte, MT', 'Cedar City, UT', 'Monterey, CA', 'Bend/Redmond, OR', 'Brainerd, MN', 'Flagstaff, AZ', 'Minot, ND', 'Yuma, AZ', 'Saginaw/Bay City/Midland, MI', 'Kalispell, MT', 'Helena, MT', 'Bakersfield, CA', 'Medford, OR', 'Fort Wayne, IN', 'Cody, WY', 'Casper, WY', 'Elko, NV', 'Aberdeen, SD', 'Pellston, MI', 'Ithaca/Cortland, NY', 'La Crosse, WI', 'Santa Barbara, CA', 'Marquette, MI', 'Alpena, MI', 'Escanaba, MI', 'Sault Ste. Marie, MI', 'Bemidji, MN', 'Grand Junction, CO', 'Binghamton, NY', 'Idaho Falls, ID', 'Paducah, KY', 'St. George, UT', 'San Luis Obispo, CA', 'Bloomington/Normal, IL', 'Sun Valley/Hailey/Ketchum, ID', 'Rochester, MN', 'Rapid City, SD', 'Great Falls, MT', 'Grand Forks, ND', 'Twin Falls, ID', 'Eugene, OR', 'Redding, CA', 'Hancock/Houghton, MI', 'Eau Claire, WI', 'Rock Springs, WY', 'Muskegon, MI', 'Gillette, WY', 'Hays, KS', 'Laramie, WY', 'Valdosta, GA', 'Arcata/Eureka, CA', 'Santa Maria, CA', 'Devils Lake, ND', 'Jamestown, ND', 'Mammoth Lakes, CA', 'Lewiston, ID', 'Rhinelander, WI', 'Iron Mountain/Kingsfd, MI', 'Hibbing, MN', 'Pocatello, ID', 'International Falls, MN', 'North Bend/Coos Bay, OR', 'Gunnison, CO', 'Columbus, GA', 'Dothan, AL', 'Brunswick, GA', 'Jacksonville/Camp Lejeune, NC', 'Columbus, MS', 'New Bern/Morehead/Beaufort, NC', 'Albany, GA'], 'non_numeric_count': np.int64(479954), 'total_count': 479955, 'percentage': np.float64(99.99979164713359)}, 'ORIGIN_STATE_ABR': {'non_numeric_values': ['MN', 'GA', 'CA', 'NV', 'IL', 'UT', 'WI', 'TX', 'NC', 'FL', 'OR', 'LA', 'CO', 'VA', 'KY', 'PA', 'NJ', 'MA', 'AK', 'WA', 'AZ', 'NY', 'MI', 'MO', 'HI', 'SC', 'TN', 'MS', 'MD', 'SD', 'PR', 'VI', 'IN', 'CT', 'MT', 'OK', 'NE', 'OH', 'WY', 'ND', 'RI', 'AR', 'ME', 'AL', 'KS', 'ID', 'IA', 'NM', 'NH', 'WV', 'VT', 'TT', 'AZ4'], 'non_numeric_count': np.int64(479954), 'total_count': 479955, 'percentage': np.float64(99.99979164713359)}, 'DEST': {'non_numeric_values': ['GEG', 'SMF', 'ATL', 'CVG', 'MDW', 'MSP', 'MKE', 'DTW', 'PBI', 'MCO', 'PVD', 'PDX', 'DFW', 'SRQ', 'SJU', 'JFK', 'SAT', 'OKC', 'LAS', 'LGA', 'DEN', 'SLC', 'SEA', 'RSW', 'TPA', 'ORD', 'PHL', 'BOS', 'CLT', 'ECP', 'CMH', 'DCA', 'SAN', 'OAK', 'MCI', 'HNL', 'MSN', 'MEM', 'FLL', 'LAX', 'BWI', 'AGS', 'PHX', 'GRR', 'SFO', 'JAX', 'RDU', 'STL', 'SYR', 'ALB', 'IND', 'BNA', 'GPT', 'MIA', 'BDL', 'ANC', 'SJC', 'PIT', 'DAB', 'JAC', 'ROC', 'RIC', 'IAD', 'OMA', 'EWR', 'MSY', 'STT', 'TRI', 'TLH', 'CLE', 'MOB', 'BUF', 'GSO', 'VPS', 'XNA', 'CHS', 'CHA', 'JAN', 'SNA', 'TYS', 'LEX', 'SDF', 'IAH', 'GSP', 'BIS', 'AUS', 'CAK', 'AVP', 'CRW', 'PSC', 'HSV', 'DAY', 'MSO', 'GRB', 'FNT', 'DAL', 'TUL', 'MLB', 'LIT', 'MDT', 'MYR', 'BHM', 'ATW', 'ORF', 'EVV', 'BOI', 'EYW', 'AVL', 'FSD', 'CAE', 'ICT', 'FAR', 'LIH', 'DSM', 'SHV', 'CHO', 'HOU', 'MHT', 'BZN', 'SAV', 'TUS', 'FAY', 'ABQ', 'PNS', 'JNU', 'RNO', 'ROA', 'ELP', 'SGF', 'GNV', 'EGE', 'COS', 'MFE', 'PWM', 'STX', 'OGG', 'KOA', 'PHF', 'ONT', 'ILM', 'ABE', 'BIL', 'PSP', 'TVC', 'LFT', 'BET', 'ADQ', 'BRW', 'SCC', 'FAI', 'KTN', 'CDV', 'YAK', 'SIT', 'PSG', 'WRG', 'OME', 'OTZ', 'LGB', 'BUR', 'SPI', 'MLU', 'BTV', 'HPN', 'SWF', 'ORH', 'AMA', 'LRD', 'SJT', 'ROW', 'SAF', 'BPT', 'BTR', 'GRK', 'GGG', 'TXK', 'LAW', 'FSM', 'BRO', 'MAF', 'ACT', 'SPS', 'JLN', 'DRO', 'LCH', 'SBN', 'GJT', 'HRL', 'LBB', 'LNK', 'MGM', 'AEX', 'MEI', 'PIB', 'LAN', 'HOB', 'PIA', 'ERI', 'CID', 'CLL', 'CRP', 'TYR', 'CWA', 'AZO', 'ELM', 'SCE', 'MLI', 'MTJ', 'ISN', '1800-1859', 'BLI', 'ADK', 'BQN', 'PSE', 'HDN', 'DLH', 'BMI', 'TTN', 'ASE', 'ISP', 'GUM', 'UST', 'ITO', 'PPG', 'ACY', 'IAG', 'LBE', 'PBG', 'BRD', 'BTM', 'CDC', 'IDA', 'RDM', 'HLN', 'MFR', 'EUG', 'SBA', 'FLG', 'MOT', 'YUM', 'FCA', 'RAP', 'SMX', 'COD', 'CPR', 'CIU', 'LWS', 'PLN', 'ABR', 'APN', 'FAT', 'BFL', 'BJI', 'MRY', 'FWA', 'MBS', 'MKG', 'PAH', 'SBP', 'OTH', 'RKS', 'GCC', 'MQT', 'CMX', 'EAU', 'GTF', 'RST', 'SUN', 'LSE', 'GFK', 'SGU', 'RDD', 'LAR', 'HYS', 'VLD', 'JMS', 'DVL', 'ACV', 'MMH', 'ESC', 'EKO', 'BGM', 'ITH', 'IMT', 'RHI', 'HIB', 'PIH', 'TWF', 'INL', 'GUC', 'CSG', 'DHN', 'GTR', 'EWN', 'OAJ', 'BQK', 'ABY'], 'non_numeric_count': np.int64(479953), 'total_count': 479954, 'percentage': np.float64(99.99979164669948)}, 'DEST_CITY_NAME': {'non_numeric_values': ['Spokane, WA', 'Sacramento, CA', 'Atlanta, GA', 'Cincinnati, OH', 'Chicago, IL', 'Minneapolis, MN', 'Milwaukee, WI', 'Detroit, MI', 'West Palm Beach/Palm Beach, FL', 'Orlando, FL', 'Providence, RI', 'Portland, OR', 'Dallas/Fort Worth, TX', 'Sarasota/Bradenton, FL', 'San Juan, PR', 'New York, NY', 'San Antonio, TX', 'Oklahoma City, OK', 'Las Vegas, NV', 'Denver, CO', 'Salt Lake City, UT', 'Seattle, WA', 'Fort Myers, FL', 'Tampa, FL', 'Philadelphia, PA', 'Boston, MA', 'Charlotte, NC', 'Panama City, FL', 'Columbus, OH', 'Washington, DC', 'San Diego, CA', 'Oakland, CA', 'Kansas City, MO', 'Honolulu, HI', 'Madison, WI', 'Memphis, TN', 'Fort Lauderdale, FL', 'Los Angeles, CA', 'Baltimore, MD', 'Augusta, GA', 'Phoenix, AZ', 'Grand Rapids, MI', 'San Francisco, CA', 'Jacksonville, FL', 'Raleigh/Durham, NC', 'St. Louis, MO', 'Syracuse, NY', 'Albany, NY', 'Indianapolis, IN', 'Nashville, TN', 'Gulfport/Biloxi, MS', 'Miami, FL', 'Hartford, CT', 'Anchorage, AK', 'San Jose, CA', 'Pittsburgh, PA', 'Daytona Beach, FL', 'Jackson, WY', 'Rochester, NY', 'Richmond, VA', 'Omaha, NE', 'Newark, NJ', 'New Orleans, LA', 'Charlotte Amalie, VI', 'Bristol/Johnson City/Kingsport, TN', 'Tallahassee, FL', 'Cleveland, OH', 'Mobile, AL', 'Buffalo, NY', 'Greensboro/High Point, NC', 'Valparaiso, FL', 'Fayetteville, AR', 'Charleston, SC', 'Chattanooga, TN', 'Jackson/Vicksburg, MS', 'Santa Ana, CA', 'Knoxville, TN', 'Lexington, KY', 'Louisville, KY', 'Houston, TX', 'Greer, SC', 'Bismarck/Mandan, ND', 'Austin, TX', 'Akron, OH', 'Scranton/Wilkes-Barre, PA', 'Charleston/Dunbar, WV', 'Pasco/Kennewick/Richland, WA', 'Huntsville, AL', 'Dayton, OH', 'Missoula, MT', 'Green Bay, WI', 'Flint, MI', 'Dallas, TX', 'Tulsa, OK', 'Melbourne, FL', 'Little Rock, AR', 'Harrisburg, PA', 'Myrtle Beach, SC', 'Birmingham, AL', 'Appleton, WI', 'Norfolk, VA', 'Evansville, IN', 'Boise, ID', 'Key West, FL', 'Asheville, NC', 'Sioux Falls, SD', 'Columbia, SC', 'Wichita, KS', 'Fargo, ND', 'Lihue, HI', 'Des Moines, IA', 'Shreveport, LA', 'Charlottesville, VA', 'Manchester, NH', 'Bozeman, MT', 'Savannah, GA', 'Tucson, AZ', 'Fayetteville, NC', 'Albuquerque, NM', 'Pensacola, FL', 'Juneau, AK', 'Reno, NV', 'Roanoke, VA', 'El Paso, TX', 'Springfield, MO', 'Gainesville, FL', 'Eagle, CO', 'Colorado Springs, CO', 'Mission/McAllen/Edinburg, TX', 'Portland, ME', 'Christiansted, VI', 'Kahului, HI', 'Kona, HI', 'Newport News/Williamsburg, VA', 'Ontario, CA', 'Wilmington, NC', 'Allentown/Bethlehem/Easton, PA', 'Billings, MT', 'Palm Springs, CA', 'Traverse City, MI', 'Lafayette, LA', 'Bethel, AK', 'Kodiak, AK', 'Barrow, AK', 'Deadhorse, AK', 'Fairbanks, AK', 'Ketchikan, AK', 'Cordova, AK', 'Yakutat, AK', 'Sitka, AK', 'Petersburg, AK', 'Wrangell, AK', 'Nome, AK', 'Kotzebue, AK', 'Long Beach, CA', 'Burbank, CA', 'Springfield, IL', 'Monroe, LA', 'Burlington, VT', 'White Plains, NY', 'Newburgh/Poughkeepsie, NY', 'Worcester, MA', 'Amarillo, TX', 'Laredo, TX', 'San Angelo, TX', 'Roswell, NM', 'Santa Fe, NM', 'Beaumont/Port Arthur, TX', 'Baton Rouge, LA', 'Killeen, TX', 'Longview, TX', 'Texarkana, AR', 'Lawton/Fort Sill, OK', 'Fort Smith, AR', 'Brownsville, TX', 'Midland/Odessa, TX', 'Waco, TX', 'Wichita Falls, TX', 'Joplin, MO', 'Durango, CO', 'Lake Charles, LA', 'South Bend, IN', 'Grand Junction, CO', 'Harlingen/San Benito, TX', 'Lubbock, TX', 'Lincoln, NE', 'Montgomery, AL', 'Alexandria, LA', 'Meridian, MS', 'Hattiesburg/Laurel, MS', 'Lansing, MI', 'Hobbs, NM', 'Peoria, IL', 'Erie, PA', 'Cedar Rapids/Iowa City, IA', 'College Station/Bryan, TX', 'Corpus Christi, TX', 'Tyler, TX', 'Mosinee, WI', 'Kalamazoo, MI', 'Elmira/Corning, NY', 'State College, PA', 'Moline, IL', 'Montrose/Delta, CO', 'Williston, ND', 'Bellingham, WA', 'Adak Island, AK', 'Aguadilla, PR', 'Ponce, PR', 'Hayden, CO', 'Duluth, MN', 'Bloomington/Normal, IL', 'Trenton, NJ', ',Santa Ana', 'Aspen, CO', 'Islip, NY', 'Guam, TT', 'St. Augustine, FL', 'Hilo, HI', 'Pago Pago, TT', 'Atlantic City, NJ', 'Niagara Falls, NY', 'Latrobe, PA', 'Plattsburgh, NY', 'Brainerd, MN', 'Butte, MT', 'Cedar City, UT', 'Idaho Falls, ID', 'Bend/Redmond, OR', 'Helena, MT', 'Medford, OR', 'Eugene, OR', 'Santa Barbara, CA', 'Flagstaff, AZ', 'Minot, ND', 'Yuma, AZ', 'Kalispell, MT', 'Rapid City, SD', 'Santa Maria, CA', 'Cody, WY', 'Casper, WY', 'Sault Ste. Marie, MI', 'Lewiston, ID', 'Pellston, MI', 'Aberdeen, SD', 'Alpena, MI', 'Fresno, CA', 'Bakersfield, CA', 'Bemidji, MN', 'Monterey, CA', 'Fort Wayne, IN', 'Saginaw/Bay City/Midland, MI', 'Muskegon, MI', 'Paducah, KY', 'San Luis Obispo, CA', 'North Bend/Coos Bay, OR', 'Rock Springs, WY', 'Gillette, WY', 'Marquette, MI', 'Hancock/Houghton, MI', 'Eau Claire, WI', 'Great Falls, MT', 'Rochester, MN', 'Sun Valley/Hailey/Ketchum, ID', 'La Crosse, WI', 'Grand Forks, ND', 'St. George, UT', 'Redding, CA', 'Laramie, WY', 'Hays, KS', 'Valdosta, GA', 'Jamestown, ND', 'Devils Lake, ND', 'Arcata/Eureka, CA', 'Mammoth Lakes, CA', 'Escanaba, MI', 'Elko, NV', 'Binghamton, NY', 'Ithaca/Cortland, NY', 'Iron Mountain/Kingsfd, MI', 'Rhinelander, WI', 'Hibbing, MN', 'Pocatello, ID', 'Twin Falls, ID', 'International Falls, MN', 'Gunnison, CO', 'Columbus, GA', 'Dothan, AL', 'Columbus, MS', 'New Bern/Morehead/Beaufort, NC', 'Jacksonville/Camp Lejeune, NC', 'Brunswick, GA', 'Albany, GA'], 'non_numeric_count': np.int64(479952), 'total_count': 479955, 'percentage': np.float64(99.99937494140076)}, 'DEST_STATE_ABR': {'non_numeric_values': ['WA', 'CA', 'GA', 'KY', 'IL', 'MN', 'WI', 'MI', 'FL', 'RI', 'OR', 'TX', 'PR', 'NY', 'OK', 'NV', 'CO', 'UT', 'PA', 'MA', 'NC', 'OH', 'VA', 'MO', 'HI', 'TN', 'MD', 'AZ', 'IN', 'MS', 'CT', 'AK', 'WY', 'NE', 'NJ', 'LA', 'VI', 'AL', 'AR', 'SC', 'ND', 'WV', 'MT', 'ID', 'SD', 'KS', 'IA', 'NH', 'NM', 'ME', 'VT', ' CA\"', 'TT'], 'non_numeric_count': np.int64(479952), 'total_count': 479954, 'percentage': np.float64(99.99958329339896)}, 'CRS_DEP_TIME': {'non_numeric_values': ['GA'], 'non_numeric_count': np.int64(1), 'total_count': 479955, 'percentage': np.float64(0.00020835286641455973)}, 'DEP_TIME_BLK': {'non_numeric_values': ['2000-2059', '0900-0959', '1200-1259', '2300-2359', '1600-1659', '1800-1859', '0800-0859', '1000-1059', '0600-0659', '1300-1359', '2200-2259', '0001-0559', '1900-1959', '2100-2159', '1400-1459', '0700-0759', '1500-1559', '1100-1159', '1700-1759', 'CA'], 'non_numeric_count': np.int64(479951), 'total_count': 479953, 'percentage': np.float64(99.99958329253073)}, 'CRS_ARR_TIME': {'non_numeric_values': ['Indiana', 'San Antonio, TX'], 'non_numeric_count': np.int64(2), 'total_count': 479952, 'percentage': np.float64(0.00041670833750041673)}, 'ARR_TIME_BLK': {'non_numeric_values': ['2100-2159', '1100-1159', '2000-2059', '0600-0659', '1700-1759', '2300-2359', '0900-0959', '1300-1359', '1500-1559', '1800-1859', '0001-0559', '0800-0859', '2200-2259', '1900-1959', '1000-1059', '1600-1659', '1200-1259', '1400-1459', '0700-0759'], 'non_numeric_count': np.int64(479947), 'total_count': 479952, 'percentage': np.float64(99.99895822915626)}}\n"
     ]
    }
   ],
   "source": [
    "def analyze_object_columns(df, verbose=True):\n",
    "    \"\"\"Analyse les colonnes object pour identifier celles qui devraient être numériques\"\"\"\n",
    "\n",
    "    object_cols = df.select_dtypes(include=[\"object\"]).columns\n",
    "    problematic_cols = {}\n",
    "\n",
    "    if verbose:\n",
    "        print(\"=== ANALYSE DES COLONNES OBJECT ===\")\n",
    "        print(f\"Colonnes object trouvées: {len(object_cols)}\")\n",
    "        print(\"-\" * 50)\n",
    "\n",
    "    for col in object_cols:\n",
    "        if verbose:\n",
    "            print(f\"\\n📊 Analyse de la colonne: {col}\")\n",
    "\n",
    "        # Compter les valeurs uniques\n",
    "        unique_values = df[col].dropna().unique()\n",
    "\n",
    "        # Identifier les valeurs qui ne sont pas numériques\n",
    "        non_numeric_values = []\n",
    "        numeric_count = 0\n",
    "\n",
    "        for val in unique_values:\n",
    "            try:\n",
    "                float(val)\n",
    "                numeric_count += 1\n",
    "            except (ValueError, TypeError):\n",
    "                non_numeric_values.append(val)\n",
    "\n",
    "        if non_numeric_values and numeric_count > 0:\n",
    "            # Cette colonne contient un mélange de valeurs numériques et non-numériques\n",
    "            total_values = len(df[col].dropna())\n",
    "            non_numeric_rows = df[col].isin(non_numeric_values).sum()\n",
    "            percentage = (non_numeric_rows / total_values) * 100\n",
    "\n",
    "            problematic_cols[col] = {\n",
    "                \"non_numeric_values\": non_numeric_values,\n",
    "                \"non_numeric_count\": non_numeric_rows,\n",
    "                \"total_count\": total_values,\n",
    "                \"percentage\": percentage,\n",
    "            }\n",
    "\n",
    "            if verbose:\n",
    "                print(f\"  ⚠️  Colonne mixte détectée!\")\n",
    "                print(f\"  Valeurs non-numériques: {non_numeric_values}\")\n",
    "                print(\n",
    "                    f\"  Lignes affectées: {non_numeric_rows}/{total_values} ({percentage:.2f}%)\"\n",
    "                )\n",
    "\n",
    "        elif non_numeric_values and numeric_count == 0:\n",
    "            if verbose:\n",
    "                print(f\"  ✅ Colonne entièrement non-numérique (normal)\")\n",
    "        else:\n",
    "            if verbose:\n",
    "                print(f\"  ✅ Colonne entièrement numérique (peut être convertie)\")\n",
    "\n",
    "    return problematic_cols\n",
    "\n",
    "\n",
    "pb = analyze_object_columns(df_ap_clean)\n",
    "print(pb)"
   ]
  },
  {
   "cell_type": "code",
   "execution_count": 145,
   "metadata": {},
   "outputs": [
    {
     "name": "stdout",
     "output_type": "stream",
     "text": [
      "30\n",
      "3\n"
     ]
    }
   ],
   "source": [
    "jan_float_cols = df_jan.select_dtypes(include=[\"float64\", \"float32\"]).columns\n",
    "ap_float_cols = df_ap_clean.select_dtypes(include=[\"float64\", \"float32\"]).columns\n",
    "print(len(jan_float_cols))\n",
    "print(len(ap_float_cols))"
   ]
  },
  {
   "cell_type": "code",
   "execution_count": 146,
   "metadata": {},
   "outputs": [
    {
     "data": {
      "application/vnd.microsoft.datawrangler.viewer.v0+json": {
       "columns": [
        {
         "name": "index",
         "rawType": "int64",
         "type": "integer"
        },
        {
         "name": "QUARTER",
         "rawType": "object",
         "type": "string"
        }
       ],
       "ref": "d447bb64-4f3a-4b63-9334-2b8bdacaede5",
       "rows": [
        [
         "0",
         "2"
        ],
        [
         "1",
         "2"
        ],
        [
         "2",
         "2"
        ],
        [
         "3",
         "2"
        ],
        [
         "4",
         "2"
        ],
        [
         "5",
         "2"
        ],
        [
         "6",
         "2"
        ],
        [
         "7",
         "2"
        ],
        [
         "8",
         "2"
        ],
        [
         "9",
         "2"
        ],
        [
         "10",
         "2"
        ],
        [
         "11",
         "2"
        ],
        [
         "12",
         "2"
        ],
        [
         "13",
         "2"
        ],
        [
         "14",
         "2"
        ],
        [
         "15",
         "2"
        ],
        [
         "16",
         "2"
        ],
        [
         "17",
         "2"
        ],
        [
         "18",
         "2"
        ],
        [
         "19",
         "2"
        ],
        [
         "20",
         "2"
        ],
        [
         "21",
         "2"
        ],
        [
         "22",
         "2"
        ],
        [
         "23",
         "2"
        ],
        [
         "24",
         "2"
        ],
        [
         "25",
         "2"
        ],
        [
         "26",
         "2"
        ],
        [
         "27",
         "2"
        ],
        [
         "28",
         "2"
        ],
        [
         "29",
         "2"
        ],
        [
         "30",
         "2"
        ],
        [
         "31",
         "2"
        ],
        [
         "32",
         "2"
        ],
        [
         "33",
         "2"
        ],
        [
         "34",
         "2"
        ],
        [
         "35",
         "2"
        ],
        [
         "36",
         "2"
        ],
        [
         "37",
         "2"
        ],
        [
         "38",
         "2"
        ],
        [
         "39",
         "2"
        ],
        [
         "40",
         "2"
        ],
        [
         "41",
         "2"
        ],
        [
         "42",
         "2"
        ],
        [
         "43",
         "2"
        ],
        [
         "44",
         "2"
        ],
        [
         "45",
         "2"
        ],
        [
         "46",
         "2"
        ],
        [
         "47",
         "2"
        ],
        [
         "48",
         "2"
        ],
        [
         "49",
         "2"
        ]
       ],
       "shape": {
        "columns": 1,
        "rows": 479955
       }
      },
      "text/plain": [
       "0         2\n",
       "1         2\n",
       "2         2\n",
       "3         2\n",
       "4         2\n",
       "         ..\n",
       "479951    1\n",
       "479952    1\n",
       "479953    1\n",
       "479954    1\n",
       "479955    1\n",
       "Name: QUARTER, Length: 479955, dtype: object"
      ]
     },
     "execution_count": 146,
     "metadata": {},
     "output_type": "execute_result"
    }
   ],
   "source": [
    "df_ap_clean[\"QUARTER\"]"
   ]
  },
  {
   "cell_type": "code",
   "execution_count": 147,
   "metadata": {},
   "outputs": [
    {
     "name": "stdout",
     "output_type": "stream",
     "text": [
      "Nombre de lignes avec QUARTER = 'EV': 0\n",
      "Aucune ligne trouvée avec QUARTER = 'EV'\n"
     ]
    }
   ],
   "source": [
    "# Rechercher les lignes où QUARTER contient \"EV\"\n",
    "ev_rows = df_ap_clean[df_ap_clean[\"QUARTER\"] == \"EV\"]\n",
    "\n",
    "print(f\"Nombre de lignes avec QUARTER = 'EV': {len(ev_rows)}\")\n",
    "\n",
    "if len(ev_rows) > 0:\n",
    "    print(\"\\nÉchantillon des lignes avec QUARTER = 'EV':\")\n",
    "    print(ev_rows.head())\n",
    "\n",
    "    print(\"\\nInformations sur ces lignes:\")\n",
    "    print(ev_rows.info())\n",
    "\n",
    "    print(\"\\nValeurs des autres colonnes pour ces lignes:\")\n",
    "    print(ev_rows[[\"MONTH\", \"QUARTER\", \"DAY_OF_MONTH\", \"DAY_OF_WEEK\"]].head(10))\n",
    "else:\n",
    "    print(\"Aucune ligne trouvée avec QUARTER = 'EV'\")"
   ]
  },
  {
   "cell_type": "markdown",
   "metadata": {},
   "source": [
    "#### 2.2.2. Nettoyage de tous les fichiers\n"
   ]
  },
  {
   "cell_type": "code",
   "execution_count": null,
   "metadata": {},
   "outputs": [
    {
     "name": "stdout",
     "output_type": "stream",
     "text": [
      "==================================================\n",
      "----- RAPPORT : ../data/raw/2016_01.csv -----\n",
      "==================================================\n",
      "--------------------------------------------------\n",
      "----- Nettoyage de la cible (ARR_DEL15) -----\n",
      "--------------------------------------------------\n",
      "Type actuel de ARR_DEL15: float64\n",
      "La cible a été nettoyée et son type transformé en bouléen ✅\n",
      "--------------------------------------------------\n",
      "----- Optimisation des types -----\n",
      "--------------------------------------------------\n",
      "CRS_ELAPSED_TIME a été transformée en int32\n",
      "FLIGHTS a été transformée en int32\n",
      "DISTANCE a été transformée en int32\n",
      "QUARTER a été transformée en int32\n",
      "MONTH a été transformée en int32\n",
      "DAY_OF_MONTH a été transformée en int32\n",
      "DAY_OF_WEEK a été transformée en int32\n",
      "FL_NUM a été transformée en int32\n",
      "CRS_DEP_TIME a été transformée en int32\n",
      "CRS_ARR_TIME a été transformée en int32\n",
      "--------------------------------------------------\n",
      "---- Gestion des doublons de ligne ----\n",
      "--------------------------------------------------\n",
      "✅ Aucun doublon de ligne détecté\n",
      "433298 lines loaded from ../data/raw/2016_01.csv ✅\n",
      "==================================================\n",
      "----- RAPPORT : ../data/raw/2016_02.csv -----\n",
      "==================================================\n",
      "--------------------------------------------------\n",
      "----- Nettoyage de la cible (ARR_DEL15) -----\n",
      "--------------------------------------------------\n",
      "Type actuel de ARR_DEL15: float64\n",
      "La cible a été nettoyée et son type transformé en bouléen ✅\n",
      "--------------------------------------------------\n",
      "----- Optimisation des types -----\n",
      "--------------------------------------------------\n",
      "CRS_ELAPSED_TIME a été transformée en int32\n",
      "FLIGHTS a été transformée en int32\n",
      "DISTANCE a été transformée en int32\n",
      "QUARTER a été transformée en int32\n",
      "MONTH a été transformée en int32\n",
      "DAY_OF_MONTH a été transformée en int32\n",
      "DAY_OF_WEEK a été transformée en int32\n",
      "FL_NUM a été transformée en int32\n",
      "CRS_DEP_TIME a été transformée en int32\n",
      "CRS_ARR_TIME a été transformée en int32\n",
      "--------------------------------------------------\n",
      "---- Gestion des doublons de ligne ----\n",
      "--------------------------------------------------\n",
      "✅ Aucun doublon de ligne détecté\n",
      "416097 lines loaded from ../data/raw/2016_02.csv ✅\n",
      "==================================================\n",
      "----- RAPPORT : ../data/raw/2016_03.csv -----\n",
      "==================================================\n",
      "--------------------------------------------------\n",
      "----- Nettoyage de la cible (ARR_DEL15) -----\n",
      "--------------------------------------------------\n",
      "Type actuel de ARR_DEL15: float64\n",
      "La cible a été nettoyée et son type transformé en bouléen ✅\n",
      "--------------------------------------------------\n",
      "----- Optimisation des types -----\n",
      "--------------------------------------------------\n",
      "CRS_ELAPSED_TIME a été transformée en int32\n",
      "FLIGHTS a été transformée en int32\n",
      "DISTANCE a été transformée en int32\n",
      "QUARTER a été transformée en int32\n",
      "MONTH a été transformée en int32\n",
      "DAY_OF_MONTH a été transformée en int32\n",
      "DAY_OF_WEEK a été transformée en int32\n",
      "FL_NUM a été transformée en int32\n",
      "CRS_DEP_TIME a été transformée en int32\n",
      "CRS_ARR_TIME a été transformée en int32\n",
      "--------------------------------------------------\n",
      "---- Gestion des doublons de ligne ----\n",
      "--------------------------------------------------\n",
      "✅ Aucun doublon de ligne détecté\n",
      "473286 lines loaded from ../data/raw/2016_03.csv ✅\n",
      "==================================================\n",
      "----- RAPPORT : ../data/raw/2016_04.csv -----\n",
      "==================================================\n",
      "--------------------------------------------------\n",
      "----- Nettoyage de la cible (ARR_DEL15) -----\n",
      "--------------------------------------------------\n",
      "Type actuel de ARR_DEL15: float64\n",
      "La cible a été nettoyée et son type transformé en bouléen ✅\n",
      "--------------------------------------------------\n",
      "----- Optimisation des types -----\n",
      "--------------------------------------------------\n",
      "CRS_ELAPSED_TIME a été transformée en int32\n",
      "DISTANCE a été transformée en int32\n",
      "MONTH a été transformée en int32\n",
      "--------------------------------------------------\n",
      "---- Gestion des doublons de ligne ----\n",
      "--------------------------------------------------\n",
      "✅ Aucun doublon de ligne détecté\n",
      "474758 lines loaded from ../data/raw/2016_04.csv ✅\n",
      "==================================================\n",
      "----- RAPPORT : ../data/raw/2016_05.csv -----\n",
      "==================================================\n",
      "--------------------------------------------------\n",
      "----- Nettoyage de la cible (ARR_DEL15) -----\n",
      "--------------------------------------------------\n",
      "Type actuel de ARR_DEL15: float64\n",
      "La cible a été nettoyée et son type transformé en bouléen ✅\n",
      "--------------------------------------------------\n",
      "----- Optimisation des types -----\n",
      "--------------------------------------------------\n",
      "CRS_ELAPSED_TIME a été transformée en int32\n",
      "FLIGHTS a été transformée en int32\n",
      "DISTANCE a été transformée en int32\n",
      "QUARTER a été transformée en int32\n",
      "MONTH a été transformée en int32\n",
      "DAY_OF_MONTH a été transformée en int32\n",
      "DAY_OF_WEEK a été transformée en int32\n",
      "FL_NUM a été transformée en int32\n",
      "CRS_DEP_TIME a été transformée en int32\n",
      "CRS_ARR_TIME a été transformée en int32\n",
      "--------------------------------------------------\n",
      "---- Gestion des doublons de ligne ----\n",
      "--------------------------------------------------\n",
      "✅ Aucun doublon de ligne détecté\n",
      "475499 lines loaded from ../data/raw/2016_05.csv ✅\n",
      "==================================================\n",
      "----- RAPPORT : ../data/raw/2016_06.csv -----\n",
      "==================================================\n",
      "--------------------------------------------------\n",
      "----- Nettoyage de la cible (ARR_DEL15) -----\n",
      "--------------------------------------------------\n",
      "Type actuel de ARR_DEL15: float64\n",
      "La cible a été nettoyée et son type transformé en bouléen ✅\n",
      "--------------------------------------------------\n",
      "----- Optimisation des types -----\n",
      "--------------------------------------------------\n",
      "CRS_ELAPSED_TIME a été transformée en int32\n",
      "FLIGHTS a été transformée en int32\n",
      "DISTANCE a été transformée en int32\n",
      "QUARTER a été transformée en int32\n",
      "MONTH a été transformée en int32\n",
      "DAY_OF_MONTH a été transformée en int32\n",
      "DAY_OF_WEEK a été transformée en int32\n",
      "FL_NUM a été transformée en int32\n",
      "CRS_DEP_TIME a été transformée en int32\n",
      "CRS_ARR_TIME a été transformée en int32\n",
      "--------------------------------------------------\n",
      "---- Gestion des doublons de ligne ----\n",
      "--------------------------------------------------\n",
      "✅ Aucun doublon de ligne détecté\n",
      "480916 lines loaded from ../data/raw/2016_06.csv ✅\n",
      "==================================================\n",
      "----- RAPPORT : ../data/raw/2016_07.csv -----\n",
      "==================================================\n",
      "--------------------------------------------------\n",
      "----- Nettoyage de la cible (ARR_DEL15) -----\n",
      "--------------------------------------------------\n",
      "Type actuel de ARR_DEL15: float64\n",
      "La cible a été nettoyée et son type transformé en bouléen ✅\n",
      "--------------------------------------------------\n",
      "----- Optimisation des types -----\n",
      "--------------------------------------------------\n",
      "CRS_ELAPSED_TIME a été transformée en int32\n",
      "FLIGHTS a été transformée en int32\n",
      "DISTANCE a été transformée en int32\n",
      "QUARTER a été transformée en int32\n",
      "MONTH a été transformée en int32\n",
      "DAY_OF_MONTH a été transformée en int32\n",
      "DAY_OF_WEEK a été transformée en int32\n",
      "FL_NUM a été transformée en int32\n",
      "CRS_DEP_TIME a été transformée en int32\n",
      "CRS_ARR_TIME a été transformée en int32\n",
      "--------------------------------------------------\n",
      "---- Gestion des doublons de ligne ----\n",
      "--------------------------------------------------\n",
      "✅ Aucun doublon de ligne détecté\n",
      "491198 lines loaded from ../data/raw/2016_07.csv ✅\n",
      "==================================================\n",
      "----- RAPPORT : ../data/raw/2016_08.csv -----\n",
      "==================================================\n",
      "--------------------------------------------------\n",
      "----- Nettoyage de la cible (ARR_DEL15) -----\n",
      "--------------------------------------------------\n",
      "Type actuel de ARR_DEL15: float64\n",
      "La cible a été nettoyée et son type transformé en bouléen ✅\n",
      "--------------------------------------------------\n",
      "----- Optimisation des types -----\n",
      "--------------------------------------------------\n",
      "CRS_ELAPSED_TIME a été transformée en int32\n",
      "FLIGHTS a été transformée en int32\n",
      "DISTANCE a été transformée en int32\n",
      "QUARTER a été transformée en int32\n",
      "MONTH a été transformée en int32\n",
      "DAY_OF_MONTH a été transformée en int32\n",
      "DAY_OF_WEEK a été transformée en int32\n",
      "FL_NUM a été transformée en int32\n",
      "CRS_DEP_TIME a été transformée en int32\n",
      "CRS_ARR_TIME a été transformée en int32\n",
      "--------------------------------------------------\n",
      "---- Gestion des doublons de ligne ----\n",
      "--------------------------------------------------\n",
      "✅ Aucun doublon de ligne détecté\n",
      "489965 lines loaded from ../data/raw/2016_08.csv ✅\n",
      "==================================================\n",
      "----- RAPPORT : ../data/raw/2016_09.csv -----\n",
      "==================================================\n",
      "--------------------------------------------------\n",
      "----- Nettoyage de la cible (ARR_DEL15) -----\n",
      "--------------------------------------------------\n",
      "Type actuel de ARR_DEL15: float64\n",
      "La cible a été nettoyée et son type transformé en bouléen ✅\n",
      "--------------------------------------------------\n",
      "----- Optimisation des types -----\n",
      "--------------------------------------------------\n",
      "CRS_ELAPSED_TIME a été transformée en int32\n",
      "FLIGHTS a été transformée en int32\n",
      "DISTANCE a été transformée en int32\n",
      "QUARTER a été transformée en int32\n",
      "MONTH a été transformée en int32\n",
      "DAY_OF_MONTH a été transformée en int32\n",
      "DAY_OF_WEEK a été transformée en int32\n",
      "FL_NUM a été transformée en int32\n",
      "CRS_DEP_TIME a été transformée en int32\n",
      "CRS_ARR_TIME a été transformée en int32\n",
      "--------------------------------------------------\n",
      "---- Gestion des doublons de ligne ----\n",
      "--------------------------------------------------\n",
      "✅ Aucun doublon de ligne détecté\n",
      "452558 lines loaded from ../data/raw/2016_09.csv ✅\n",
      "==================================================\n",
      "----- RAPPORT : ../data/raw/2016_10.csv -----\n",
      "==================================================\n",
      "--------------------------------------------------\n",
      "----- Nettoyage de la cible (ARR_DEL15) -----\n",
      "--------------------------------------------------\n",
      "Type actuel de ARR_DEL15: float64\n",
      "La cible a été nettoyée et son type transformé en bouléen ✅\n",
      "--------------------------------------------------\n",
      "----- Optimisation des types -----\n",
      "--------------------------------------------------\n",
      "CRS_ELAPSED_TIME a été transformée en int32\n",
      "FLIGHTS a été transformée en int32\n",
      "DISTANCE a été transformée en int32\n",
      "QUARTER a été transformée en int32\n",
      "MONTH a été transformée en int32\n",
      "DAY_OF_MONTH a été transformée en int32\n",
      "DAY_OF_WEEK a été transformée en int32\n",
      "FL_NUM a été transformée en int32\n",
      "CRS_DEP_TIME a été transformée en int32\n",
      "CRS_ARR_TIME a été transformée en int32\n",
      "--------------------------------------------------\n",
      "---- Gestion des doublons de ligne ----\n",
      "--------------------------------------------------\n",
      "✅ Aucun doublon de ligne détecté\n",
      "467486 lines loaded from ../data/raw/2016_10.csv ✅\n",
      "==================================================\n",
      "----- RAPPORT : ../data/raw/2016_11.csv -----\n",
      "==================================================\n",
      "--------------------------------------------------\n",
      "----- Nettoyage de la cible (ARR_DEL15) -----\n",
      "--------------------------------------------------\n",
      "Type actuel de ARR_DEL15: float64\n",
      "La cible a été nettoyée et son type transformé en bouléen ✅\n",
      "--------------------------------------------------\n",
      "----- Optimisation des types -----\n",
      "--------------------------------------------------\n",
      "CRS_ELAPSED_TIME a été transformée en int32\n",
      "FLIGHTS a été transformée en int32\n",
      "DISTANCE a été transformée en int32\n",
      "QUARTER a été transformée en int32\n",
      "MONTH a été transformée en int32\n",
      "DAY_OF_MONTH a été transformée en int32\n",
      "DAY_OF_WEEK a été transformée en int32\n",
      "FL_NUM a été transformée en int32\n",
      "CRS_DEP_TIME a été transformée en int32\n",
      "CRS_ARR_TIME a été transformée en int32\n",
      "--------------------------------------------------\n",
      "---- Gestion des doublons de ligne ----\n",
      "--------------------------------------------------\n",
      "✅ Aucun doublon de ligne détecté\n",
      "448911 lines loaded from ../data/raw/2016_11.csv ✅\n",
      "==================================================\n",
      "----- RAPPORT : ../data/raw/2016_12.csv -----\n",
      "==================================================\n",
      "--------------------------------------------------\n",
      "----- Nettoyage de la cible (ARR_DEL15) -----\n",
      "--------------------------------------------------\n",
      "Type actuel de ARR_DEL15: float64\n",
      "La cible a été nettoyée et son type transformé en bouléen ✅\n",
      "--------------------------------------------------\n",
      "----- Optimisation des types -----\n",
      "--------------------------------------------------\n",
      "CRS_ELAPSED_TIME a été transformée en int32\n",
      "FLIGHTS a été transformée en int32\n",
      "DISTANCE a été transformée en int32\n",
      "QUARTER a été transformée en int32\n",
      "MONTH a été transformée en int32\n",
      "DAY_OF_MONTH a été transformée en int32\n",
      "DAY_OF_WEEK a été transformée en int32\n",
      "FL_NUM a été transformée en int32\n",
      "CRS_DEP_TIME a été transformée en int32\n",
      "CRS_ARR_TIME a été transformée en int32\n",
      "--------------------------------------------------\n",
      "---- Gestion des doublons de ligne ----\n",
      "--------------------------------------------------\n",
      "✅ Aucun doublon de ligne détecté\n",
      "452229 lines loaded from ../data/raw/2016_12.csv ✅\n",
      "For a total lines count of: 5556201\n"
     ]
    }
   ],
   "source": [
    "pd.set_option(\"display.max_rows\", 65)\n",
    "pd.set_option(\"display.max_columns\", 65)\n",
    "\n",
    "df_year = []\n",
    "total_lines_count = 0\n",
    "\n",
    "\n",
    "def clean_target_column(df, target_col=\"ARR_DEL15\"):\n",
    "    \"\"\"Nettoie et convertit la colonne cible\"\"\"\n",
    "    print(\"-\" * 50)\n",
    "    print(f\"----- Nettoyage de la cible ({target_col}) -----\")\n",
    "    print(\"-\" * 50)\n",
    "\n",
    "    df_clean = df.copy()\n",
    "\n",
    "    df_clean = df_clean.dropna(subset=[target_col])\n",
    "\n",
    "    current_dtype = df_clean[target_col].dtype\n",
    "    print(f\"Type actuel de {target_col}: {current_dtype}\")\n",
    "\n",
    "    if current_dtype in [\"float64\", \"float32\"]:\n",
    "        # Convertir float -> int -> bool\n",
    "        df_clean[target_col] = df_clean[target_col].astype(\"int8\").astype(\"bool\")\n",
    "    elif current_dtype in [\"int64\", \"int32\", \"int8\"]:\n",
    "        # Convertir int -> bool\n",
    "        df_clean[target_col] = df_clean[target_col].astype(\"bool\")\n",
    "    else:\n",
    "        # Conversion directe pour les autres types\n",
    "        df_clean[target_col] = df_clean[target_col].astype(\"bool\")\n",
    "\n",
    "    print(\"La cible a été nettoyée et son type transformé en bouléen ✅\")\n",
    "    return df_clean\n",
    "\n",
    "\n",
    "def optimize_dtypes(df, verbose=True):\n",
    "    \"\"\"Optimise les types de données pour économiser la mémoire\"\"\"\n",
    "    print(\"-\" * 50)\n",
    "    print(\"----- Optimisation des types -----\")\n",
    "    print(\"-\" * 50)\n",
    "\n",
    "    # Convertir float64/float32 vers int32\n",
    "    float_cols = df.select_dtypes(include=[\"float64\", \"float32\"]).columns\n",
    "    for col in float_cols:\n",
    "        df[col] = df[col].astype(\"int32\")\n",
    "        if verbose:\n",
    "            print(f\"{col} a été transformée en int32\")\n",
    "\n",
    "    # Convertir int64 vers int32\n",
    "    int64_cols = df.select_dtypes(include=[\"int64\"]).columns\n",
    "    for col in int64_cols:\n",
    "        df[col] = df[col].astype(\"int32\")\n",
    "        if verbose:\n",
    "            print(f\"{col} a été transformée en int32\")\n",
    "\n",
    "    return df\n",
    "\n",
    "\n",
    "def delete_duplicates(df):\n",
    "    \"\"\"Supprime les doublons de ligne\"\"\"\n",
    "    print(\"-\" * 50)\n",
    "    print(\"---- Gestion des doublons de ligne ----\")\n",
    "    print(\"-\" * 50)\n",
    "\n",
    "    duplicated_rows = df.duplicated()\n",
    "    nb_duplicates = duplicated_rows.sum()\n",
    "\n",
    "    if nb_duplicates > 0:\n",
    "        print(\"⚠️ DOUBLONS DÉTECTÉS!\")\n",
    "        print(f\"Nombre de lignes dupliquées: {nb_duplicates}\")\n",
    "        print(f\"Pourcentage de doublons: {(nb_duplicates / len(df)) * 100:.2f}%\")\n",
    "        print(f\"Lignes avant suppression: {len(df)}\")\n",
    "\n",
    "        df = df.drop_duplicates()\n",
    "\n",
    "        print(f\"Lignes après suppression: {len(df)}\")\n",
    "        print(f\"Lignes supprimées: {nb_duplicates}\")\n",
    "    else:\n",
    "        print(\"✅ Aucun doublon de ligne détecté\")\n",
    "\n",
    "    return df\n",
    "\n",
    "\n",
    "for month in range(1, 13):\n",
    "    data_path = join(raw_data_path, f\"2016_{month:02}.csv\")\n",
    "    print(\"=\" * 50)\n",
    "    print(f\"----- RAPPORT : {data_path} -----\")\n",
    "    print(\"=\" * 50)\n",
    "    try:\n",
    "        month_df = pd.read_csv(\n",
    "            data_path, on_bad_lines=\"warn\", low_memory=False, usecols=cols_to_keep\n",
    "        )\n",
    "        if month == 4:\n",
    "            month_df = month_df.dropna()\n",
    "\n",
    "        month_df = clean_target_column(month_df)\n",
    "        month_df = optimize_dtypes(month_df)\n",
    "        month_df = delete_duplicates(month_df)\n",
    "\n",
    "        df_year.append(month_df)\n",
    "        lines_count = month_df.shape[0]\n",
    "        total_lines_count += lines_count\n",
    "        print(f\"{lines_count} lines loaded from {data_path} ✅\")\n",
    "    except pd.errors.ParserError as err:\n",
    "        print(f\"ParserError for {data_path}: {err}\")\n",
    "\n",
    "print(f\"For a total lines count of: {total_lines_count}\")\n"
   ]
  },
  {
   "cell_type": "markdown",
   "metadata": {},
   "source": [
    "#### 2.2.3. Concaténation de toutes les données\n"
   ]
  },
  {
   "cell_type": "code",
   "execution_count": null,
   "metadata": {},
   "outputs": [],
   "source": [
    "complete_df = pd.concat(df_year, ignore_index=True)"
   ]
  },
  {
   "cell_type": "code",
   "execution_count": null,
   "metadata": {},
   "outputs": [],
   "source": [
    "df = complete_df.copy()\n",
    "df = df.drop_duplicates()"
   ]
  },
  {
   "cell_type": "markdown",
   "metadata": {},
   "source": [
    "Nous commentons les lignes suivantes pour éviter la génération du csv concaténé à chaque fois que nous lançons le notebook.\n"
   ]
  },
  {
   "cell_type": "code",
   "execution_count": null,
   "metadata": {},
   "outputs": [],
   "source": [
    "# complete_data_path = join(raw_data_path, \"complete.csv\")\n",
    "# df.to_csv(complete_data_path)"
   ]
  },
  {
   "cell_type": "markdown",
   "metadata": {},
   "source": [
    "## 3. EXPLORATION DES DONNÉES\n"
   ]
  },
  {
   "cell_type": "code",
   "execution_count": null,
   "metadata": {},
   "outputs": [
    {
     "name": "stdout",
     "output_type": "stream",
     "text": [
      "Nombre total d'aéroports uniques: 312\n"
     ]
    }
   ],
   "source": [
    "origins = complete_df[\"ORIGIN\"].unique().tolist()\n",
    "dest = complete_df[\"DEST\"].unique().tolist()\n",
    "\n",
    "airports = pd.Series(origins + dest).unique().tolist()\n",
    "\n",
    "print(f\"Nombre total d'aéroports uniques: {len(airports)}\")"
   ]
  },
  {
   "cell_type": "code",
   "execution_count": null,
   "metadata": {},
   "outputs": [
    {
     "name": "stdout",
     "output_type": "stream",
     "text": [
      "Nombre total d'états uniques: 55\n"
     ]
    }
   ],
   "source": [
    "origin_states = complete_df[\"ORIGIN_STATE_ABR\"].unique().tolist()\n",
    "dest_states = complete_df[\"DEST_STATE_ABR\"].unique().tolist()\n",
    "\n",
    "states = pd.Series(origin_states + dest_states).unique().tolist()\n",
    "\n",
    "print(f\"Nombre total d'états uniques: {len(states)}\")"
   ]
  },
  {
   "cell_type": "code",
   "execution_count": null,
   "metadata": {},
   "outputs": [
    {
     "name": "stdout",
     "output_type": "stream",
     "text": [
      "Nombre total de villes uniques: 306\n"
     ]
    }
   ],
   "source": [
    "origin_cities = complete_df[\"ORIGIN_CITY_NAME\"].unique().tolist()\n",
    "dest_cities = complete_df[\"ORIGIN_CITY_NAME\"].unique().tolist()\n",
    "\n",
    "cities = pd.Series(origin_cities + dest_cities).unique().tolist()\n",
    "\n",
    "print(f\"Nombre total de villes uniques: {len(cities)}\")"
   ]
  },
  {
   "cell_type": "code",
   "execution_count": null,
   "metadata": {},
   "outputs": [
    {
     "name": "stdout",
     "output_type": "stream",
     "text": [
      "Nombre total de compagnies aériennes uniques: 12\n"
     ]
    }
   ],
   "source": [
    "airlines = complete_df[\"UNIQUE_CARRIER\"].unique().tolist()\n",
    "\n",
    "print(f\"Nombre total de compagnies aériennes uniques: {len(airlines)}\")"
   ]
  },
  {
   "cell_type": "markdown",
   "metadata": {},
   "source": [
    "## 4. VISUALISATIONS\n"
   ]
  },
  {
   "cell_type": "code",
   "execution_count": null,
   "metadata": {},
   "outputs": [],
   "source": []
  },
  {
   "cell_type": "markdown",
   "metadata": {},
   "source": [
    "## 5.MODÉLISATION\n"
   ]
  },
  {
   "cell_type": "code",
   "execution_count": null,
   "metadata": {},
   "outputs": [],
   "source": []
  }
 ],
 "metadata": {
  "kernelspec": {
   "display_name": ".venv",
   "language": "python",
   "name": "python3"
  },
  "language_info": {
   "codemirror_mode": {
    "name": "ipython",
    "version": 3
   },
   "file_extension": ".py",
   "mimetype": "text/x-python",
   "name": "python",
   "nbconvert_exporter": "python",
   "pygments_lexer": "ipython3",
   "version": "3.10.18"
  }
 },
 "nbformat": 4,
 "nbformat_minor": 2
}
