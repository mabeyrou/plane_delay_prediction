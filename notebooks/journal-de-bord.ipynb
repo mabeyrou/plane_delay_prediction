{
 "cells": [
  {
   "cell_type": "markdown",
   "metadata": {},
   "source": [
    "# Journal de bord\n"
   ]
  },
  {
   "cell_type": "markdown",
   "metadata": {},
   "source": [
    "## 📅 Journal de bord – Jour 1 (19/07/2025)\n"
   ]
  },
  {
   "cell_type": "markdown",
   "metadata": {},
   "source": [
    "### 🔧 Étapes / Actions réalisées\n",
    "\n",
    "- Lecture du sujet\n",
    "- Découverte du dataset\n"
   ]
  },
  {
   "cell_type": "markdown",
   "metadata": {},
   "source": [
    "### 📝 Observations / Difficultés\n",
    "\n",
    "- Dataset plus conséquent que ceux avec lesquels j'ai déjà travaillé\n",
    "- Potentiels problèmes de mémoire à anticiper\n",
    "- Seules 49 des 64 colonnes du dataset sont décrites\n"
   ]
  },
  {
   "cell_type": "markdown",
   "metadata": {},
   "source": [
    "### ✅ Prochaines étapes\n",
    "\n",
    "- Gestion des 12 fichiers csv\n",
    "- Analyse et sélection des différentes colonnes à conserver\n"
   ]
  },
  {
   "cell_type": "markdown",
   "metadata": {},
   "source": [
    "## 📅 Journal de bord – Jour 2 (20/07/2025)\n"
   ]
  },
  {
   "cell_type": "markdown",
   "metadata": {},
   "source": [
    "### 🔧 Étapes / Actions réalisées\n",
    "\n",
    "- concaténation de tous les fichiers csv en un seul dataframe\n",
    "- première analyse des colonnes\n",
    "- tentative de split du dataset concaténé pour faciliter l'analyse\n"
   ]
  },
  {
   "cell_type": "markdown",
   "metadata": {},
   "source": [
    "### 📝 Observations / Difficultés\n",
    "\n",
    "- Le dataset est bien trop important pour cette approche\n",
    "- Problèmes de mémoire récurents\n"
   ]
  },
  {
   "cell_type": "markdown",
   "metadata": {},
   "source": [
    "### ✅ Prochaines étapes\n",
    "\n",
    "- Changer d'approche pour analyser le dataset\n"
   ]
  },
  {
   "cell_type": "markdown",
   "metadata": {},
   "source": [
    "## 📅 Journal de bord – Jour 3 (21/07/2025)\n"
   ]
  },
  {
   "cell_type": "markdown",
   "metadata": {},
   "source": [
    "### 🔧 Étapes / Actions réalisées\n",
    "\n",
    "- Travail uniquement sur le premier dataset pour explorer finement les colonnes\n",
    "- Identification des colonnes redondantes ou inutiles\n",
    "- Optimisation des types de colonnes\n",
    "- Vérification de ces observations sur tous les csv\n"
   ]
  },
  {
   "cell_type": "markdown",
   "metadata": {},
   "source": [
    "### 📝 Observations / Difficultés\n",
    "\n",
    "- Cette nouvelle approche me permettra de réduire la taille des datasets et donc peut-être de le traiter de façon plus globale\n"
   ]
  },
  {
   "cell_type": "markdown",
   "metadata": {},
   "source": [
    "### ✅ Prochaines étapes\n",
    "\n",
    "- Terminer l'analyse des données\n",
    "- Commencer la partie applicative\n"
   ]
  },
  {
   "cell_type": "markdown",
   "metadata": {},
   "source": [
    "## 📅 Journal de bord – Jour 4 (22/07/2025)\n"
   ]
  },
  {
   "cell_type": "markdown",
   "metadata": {},
   "source": [
    "### 🔧 Étapes / Actions réalisées\n",
    "\n",
    "- Création du template de l'application de prédiction\n",
    "- Dockerisation et orchestration des différents services (api data, api IA, base de données, MLFlow, monitoring)\n",
    "- Création des modèles de la base de données\n",
    "- Migration de la base de données\n",
    "- Création d'un seeder pour insérer les données des CSV dans la base de données.\n",
    "- Création du CRUD pour les ressources en base de données\n"
   ]
  },
  {
   "cell_type": "markdown",
   "metadata": {},
   "source": [
    "### 📝 Observations / Difficultés\n",
    "\n",
    "- Difficulté à seeder la totalité des données, les temps de traitements sont très longs\n"
   ]
  },
  {
   "cell_type": "markdown",
   "metadata": {},
   "source": [
    "### ✅ Prochaines étapes\n",
    "\n",
    "- Il va falloir trouver une autre façon de travailler avec la donnée de façon efficace, notamment pour le choix et l'entrainement du modèle.\n"
   ]
  },
  {
   "cell_type": "markdown",
   "metadata": {},
   "source": [
    "## 📅 Journal de bord – Jour 5 (23/07/2025)\n"
   ]
  },
  {
   "cell_type": "markdown",
   "metadata": {},
   "source": [
    "### 🔧 Étapes / Actions réalisées\n",
    "\n",
    "- Conversion des fichiers csv en autant de fichiers parquet\n",
    "- Création d'un fichier parquet global\n",
    "- Création de 2 samples équilibrés (50% de vols retardés) de 100 000 et 250 000 lignes pour faciliter la création du modèle.\n",
    "- Analyse et visualisation des données."
   ]
  },
  {
   "cell_type": "markdown",
   "metadata": {},
   "source": [
    "### 📝 Observations / Difficultés\n",
    "\n",
    "- Difficultés à créer le fichier parquet global (problèmes de mémoire vive persistant)\n",
    "- Une fois le fichier créé et chargé dans un notebook séparé, il est bien plus facile de travailler avec ce format\n"
   ]
  },
  {
   "cell_type": "markdown",
   "metadata": {},
   "source": [
    "### ✅ Prochaines étapes\n",
    "\n",
    "- Partie data science : exploration des modèles, cross validation, comparaison des différentes approches\n",
    "- Terminer l'application\n"
   ]
  },
  {
   "cell_type": "markdown",
   "metadata": {},
   "source": [
    "## 📅 Journal de bord – Jour 6 (24/07/2025)\n"
   ]
  },
  {
   "cell_type": "markdown",
   "metadata": {},
   "source": [
    "### 🔧 Étapes / Actions réalisées\n",
    "\n",
    "- Exploration de 3 modèles :\n",
    "  - régression linéaire\n",
    "  - LightGBM\n",
    "  - Random Forest\n",
    "- Choix des hyperparamètres avec cross validation\n",
    "- Choix de LightGBM\n",
    "- Création et tracking du modèle (MLFlow) sur la partie applicative\n",
    "- Création du formulaire streamlit et de la route de prédiction\n"
   ]
  },
  {
   "cell_type": "markdown",
   "metadata": {},
   "source": [
    "### 📝 Observations / Difficultés\n",
    "\n",
    "- Malgré la réduction des données (utilisation du sample de 100 000 lignes) la cross validation a été longue (~30min par type de modèle)\n"
   ]
  },
  {
   "cell_type": "markdown",
   "metadata": {},
   "source": [
    "### ✅ Prochaines étapes\n",
    "\n",
    "- Rendu\n"
   ]
  }
 ],
 "metadata": {
  "language_info": {
   "name": "python"
  }
 },
 "nbformat": 4,
 "nbformat_minor": 2
}
