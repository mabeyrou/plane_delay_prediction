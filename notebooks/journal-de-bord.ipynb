{
 "cells": [
  {
   "cell_type": "markdown",
   "metadata": {},
   "source": [
    "# Journal de bord"
   ]
  },
  {
   "cell_type": "markdown",
   "metadata": {},
   "source": [
    "## 📅 Journal de bord – Jour 1 (19/07/2025)"
   ]
  },
  {
   "cell_type": "markdown",
   "metadata": {},
   "source": [
    "### 🔧 Étapes / Actions réalisées\n",
    "- Lecture du sujet\n",
    "- Découverte du dataset"
   ]
  },
  {
   "cell_type": "markdown",
   "metadata": {},
   "source": [
    "### 📝 Observations / Difficultés\n",
    "- Dataset plus conséquent que ceux avec lesquels j'ai déjà travaillé\n",
    "- Potentiels problèmes de mémoire à anticiper\n",
    "- Seules 49 des 64 colonnes du dataset sont décrites"
   ]
  },
  {
   "cell_type": "markdown",
   "metadata": {},
   "source": [
    "### ✅ Prochaines étapes\n",
    "- Gestion des 12 fichiers csv\n",
    "- Analyse et sélection des différentes colonnes à conserver"
   ]
  },
  {
   "cell_type": "markdown",
   "metadata": {},
   "source": [
    "## 📅 Journal de bord – Jour 2 (20/07/2025)"
   ]
  },
  {
   "cell_type": "markdown",
   "metadata": {},
   "source": [
    "### 🔧 Étapes / Actions réalisées\n",
    "- concaténation de tous les fichiers csv en un seul dataframe\n",
    "- première analyse des colonnes\n",
    "- tentative de split du dataset concaténé pour faciliter l'analyse"
   ]
  },
  {
   "cell_type": "markdown",
   "metadata": {},
   "source": [
    "### 📝 Observations / Difficultés\n",
    "- Le dataset est bien trop important pour cette approche\n",
    "- Problèmes de mémoire récurents"
   ]
  },
  {
   "cell_type": "markdown",
   "metadata": {},
   "source": [
    "### ✅ Prochaines étapes\n",
    "- Changer d'approche pour analyser le dataset"
   ]
  },
  {
   "cell_type": "markdown",
   "metadata": {},
   "source": [
    "## 📅 Journal de bord – Jour 3 (21/07/2025)"
   ]
  },
  {
   "cell_type": "markdown",
   "metadata": {},
   "source": [
    "### 🔧 Étapes / Actions réalisées\n",
    "- Travail uniquement sur le premier dataset pour explorer finement les colonnes\n",
    "- Identification des colonnes redondantes ou inutiles\n",
    "- Optimisation des types de colonnes\n",
    "- Vérification de ces observations sur tous les csv"
   ]
  },
  {
   "cell_type": "markdown",
   "metadata": {},
   "source": [
    "### 📝 Observations / Difficultés\n",
    "- Cette nouvelle approche me permettra de réduire la taille des datasets et donc peut-être de le traiter de façon plus globale"
   ]
  },
  {
   "cell_type": "markdown",
   "metadata": {},
   "source": [
    "### ✅ Prochaines étapes\n",
    "- Terminer l'analyse des données"
   ]
  },
  {
   "cell_type": "markdown",
   "metadata": {},
   "source": [
    "## 📅 Journal de bord – Jour 4 (22/07/2025)"
   ]
  },
  {
   "cell_type": "markdown",
   "metadata": {},
   "source": [
    "### 🔧 Étapes / Actions réalisées\n",
    "-"
   ]
  },
  {
   "cell_type": "markdown",
   "metadata": {},
   "source": [
    "### 📝 Observations / Difficultés\n",
    "- "
   ]
  },
  {
   "cell_type": "markdown",
   "metadata": {},
   "source": [
    "### ✅ Prochaines étapes\n",
    "- "
   ]
  },
  {
   "cell_type": "markdown",
   "metadata": {},
   "source": [
    "## 📅 Journal de bord – Jour 5 (23/07/2025)"
   ]
  },
  {
   "cell_type": "markdown",
   "metadata": {},
   "source": [
    "### 🔧 Étapes / Actions réalisées\n",
    "-"
   ]
  },
  {
   "cell_type": "markdown",
   "metadata": {},
   "source": [
    "### 📝 Observations / Difficultés\n",
    "- "
   ]
  },
  {
   "cell_type": "markdown",
   "metadata": {},
   "source": [
    "### ✅ Prochaines étapes\n",
    "- "
   ]
  },
  {
   "cell_type": "markdown",
   "metadata": {},
   "source": []
  },
  {
   "cell_type": "markdown",
   "metadata": {},
   "source": [
    "### ✅ Prochaines étapes\n",
    "- Analys du dataset"
   ]
  },
  {
   "cell_type": "code",
   "execution_count": null,
   "metadata": {},
   "outputs": [],
   "source": []
  },
  {
   "cell_type": "markdown",
   "metadata": {},
   "source": []
  }
 ],
 "metadata": {
  "language_info": {
   "name": "python"
  }
 },
 "nbformat": 4,
 "nbformat_minor": 2
}
