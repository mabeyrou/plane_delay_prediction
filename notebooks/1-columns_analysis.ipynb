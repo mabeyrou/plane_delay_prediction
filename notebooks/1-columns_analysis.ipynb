{
 "cells": [
  {
   "cell_type": "markdown",
   "metadata": {},
   "source": [
    "# PREDICTION DES RETARDS DE VOL\n"
   ]
  },
  {
   "cell_type": "markdown",
   "metadata": {},
   "source": [
    "## 1. IMPORT DES LIBRAIRIES\n"
   ]
  },
  {
   "cell_type": "code",
   "execution_count": 2,
   "metadata": {},
   "outputs": [],
   "source": [
    "import pandas as pd\n",
    "from os.path import join"
   ]
  },
  {
   "cell_type": "markdown",
   "metadata": {},
   "source": [
    "## 2. CHARGEMENT DES DONNÉES\n"
   ]
  },
  {
   "cell_type": "markdown",
   "metadata": {},
   "source": [
    "Les données sont réparties en 12 fichiers csv, un par mois de l'année 2016.  \n",
    "Chaque fichier comporte plus de 470000 lignes. Cela représente un total de plus de 5,5 millions de lignes. Il nous faut donc trouver une stratégie pour épargner notre mémoire.\n"
   ]
  },
  {
   "cell_type": "markdown",
   "metadata": {},
   "source": [
    "### 2.1. Exploration d'un unique (`2016_01.csv`)\n",
    "\n",
    "Dans ce cadre, nous décidons de commencer par analyser un fichier pour identifier les optimisations possibles afin de les appliquer à tous les autres fichiers.\n"
   ]
  },
  {
   "cell_type": "code",
   "execution_count": 3,
   "metadata": {},
   "outputs": [],
   "source": [
    "raw_data_path = join(\"..\", \"data\", \"raw\")\n",
    "\n",
    "jan_data_path = join(raw_data_path, \"2016_01.csv\")"
   ]
  },
  {
   "cell_type": "code",
   "execution_count": 4,
   "metadata": {},
   "outputs": [
    {
     "data": {
      "application/vnd.microsoft.datawrangler.viewer.v0+json": {
       "columns": [
        {
         "name": "index",
         "rawType": "int64",
         "type": "integer"
        },
        {
         "name": "YEAR",
         "rawType": "int64",
         "type": "integer"
        },
        {
         "name": "QUARTER",
         "rawType": "int64",
         "type": "integer"
        },
        {
         "name": "MONTH",
         "rawType": "int64",
         "type": "integer"
        },
        {
         "name": "DAY_OF_MONTH",
         "rawType": "int64",
         "type": "integer"
        },
        {
         "name": "DAY_OF_WEEK",
         "rawType": "int64",
         "type": "integer"
        },
        {
         "name": "FL_DATE",
         "rawType": "object",
         "type": "string"
        },
        {
         "name": "UNIQUE_CARRIER",
         "rawType": "object",
         "type": "string"
        },
        {
         "name": "AIRLINE_ID",
         "rawType": "int64",
         "type": "integer"
        },
        {
         "name": "CARRIER",
         "rawType": "object",
         "type": "string"
        },
        {
         "name": "TAIL_NUM",
         "rawType": "object",
         "type": "string"
        },
        {
         "name": "FL_NUM",
         "rawType": "int64",
         "type": "integer"
        },
        {
         "name": "ORIGIN_AIRPORT_ID",
         "rawType": "int64",
         "type": "integer"
        },
        {
         "name": "ORIGIN_AIRPORT_SEQ_ID",
         "rawType": "int64",
         "type": "integer"
        },
        {
         "name": "ORIGIN_CITY_MARKET_ID",
         "rawType": "int64",
         "type": "integer"
        },
        {
         "name": "ORIGIN",
         "rawType": "object",
         "type": "string"
        },
        {
         "name": "ORIGIN_CITY_NAME",
         "rawType": "object",
         "type": "string"
        },
        {
         "name": "ORIGIN_STATE_ABR",
         "rawType": "object",
         "type": "string"
        },
        {
         "name": "ORIGIN_STATE_FIPS",
         "rawType": "int64",
         "type": "integer"
        },
        {
         "name": "ORIGIN_STATE_NM",
         "rawType": "object",
         "type": "string"
        },
        {
         "name": "ORIGIN_WAC",
         "rawType": "int64",
         "type": "integer"
        },
        {
         "name": "DEST_AIRPORT_ID",
         "rawType": "int64",
         "type": "integer"
        },
        {
         "name": "DEST_AIRPORT_SEQ_ID",
         "rawType": "int64",
         "type": "integer"
        },
        {
         "name": "DEST_CITY_MARKET_ID",
         "rawType": "int64",
         "type": "integer"
        },
        {
         "name": "DEST",
         "rawType": "object",
         "type": "string"
        },
        {
         "name": "DEST_CITY_NAME",
         "rawType": "object",
         "type": "string"
        },
        {
         "name": "DEST_STATE_ABR",
         "rawType": "object",
         "type": "string"
        },
        {
         "name": "DEST_STATE_FIPS",
         "rawType": "int64",
         "type": "integer"
        },
        {
         "name": "DEST_STATE_NM",
         "rawType": "object",
         "type": "string"
        },
        {
         "name": "DEST_WAC",
         "rawType": "int64",
         "type": "integer"
        },
        {
         "name": "CRS_DEP_TIME",
         "rawType": "int64",
         "type": "integer"
        },
        {
         "name": "DEP_TIME",
         "rawType": "float64",
         "type": "float"
        },
        {
         "name": "DEP_DELAY",
         "rawType": "float64",
         "type": "float"
        },
        {
         "name": "DEP_DELAY_NEW",
         "rawType": "float64",
         "type": "float"
        },
        {
         "name": "DEP_DEL15",
         "rawType": "float64",
         "type": "float"
        },
        {
         "name": "DEP_DELAY_GROUP",
         "rawType": "float64",
         "type": "float"
        },
        {
         "name": "DEP_TIME_BLK",
         "rawType": "object",
         "type": "string"
        },
        {
         "name": "TAXI_OUT",
         "rawType": "float64",
         "type": "float"
        },
        {
         "name": "WHEELS_OFF",
         "rawType": "float64",
         "type": "float"
        },
        {
         "name": "WHEELS_ON",
         "rawType": "float64",
         "type": "float"
        },
        {
         "name": "TAXI_IN",
         "rawType": "float64",
         "type": "float"
        },
        {
         "name": "CRS_ARR_TIME",
         "rawType": "int64",
         "type": "integer"
        },
        {
         "name": "ARR_TIME",
         "rawType": "float64",
         "type": "float"
        },
        {
         "name": "ARR_DELAY",
         "rawType": "float64",
         "type": "float"
        },
        {
         "name": "ARR_DELAY_NEW",
         "rawType": "float64",
         "type": "float"
        },
        {
         "name": "ARR_DEL15",
         "rawType": "float64",
         "type": "float"
        },
        {
         "name": "ARR_DELAY_GROUP",
         "rawType": "float64",
         "type": "float"
        },
        {
         "name": "ARR_TIME_BLK",
         "rawType": "object",
         "type": "string"
        },
        {
         "name": "CANCELLED",
         "rawType": "float64",
         "type": "float"
        },
        {
         "name": "CANCELLATION_CODE",
         "rawType": "object",
         "type": "unknown"
        },
        {
         "name": "DIVERTED",
         "rawType": "float64",
         "type": "float"
        },
        {
         "name": "CRS_ELAPSED_TIME",
         "rawType": "float64",
         "type": "float"
        },
        {
         "name": "ACTUAL_ELAPSED_TIME",
         "rawType": "float64",
         "type": "float"
        },
        {
         "name": "AIR_TIME",
         "rawType": "float64",
         "type": "float"
        },
        {
         "name": "FLIGHTS",
         "rawType": "float64",
         "type": "float"
        },
        {
         "name": "DISTANCE",
         "rawType": "float64",
         "type": "float"
        },
        {
         "name": "DISTANCE_GROUP",
         "rawType": "int64",
         "type": "integer"
        },
        {
         "name": "CARRIER_DELAY",
         "rawType": "float64",
         "type": "float"
        },
        {
         "name": "WEATHER_DELAY",
         "rawType": "float64",
         "type": "float"
        },
        {
         "name": "NAS_DELAY",
         "rawType": "float64",
         "type": "float"
        },
        {
         "name": "SECURITY_DELAY",
         "rawType": "float64",
         "type": "float"
        },
        {
         "name": "LATE_AIRCRAFT_DELAY",
         "rawType": "float64",
         "type": "float"
        },
        {
         "name": "FIRST_DEP_TIME",
         "rawType": "float64",
         "type": "float"
        },
        {
         "name": "TOTAL_ADD_GTIME",
         "rawType": "float64",
         "type": "float"
        },
        {
         "name": "LONGEST_ADD_GTIME",
         "rawType": "float64",
         "type": "float"
        },
        {
         "name": "Unnamed: 64",
         "rawType": "float64",
         "type": "float"
        }
       ],
       "ref": "6b512831-6893-4a80-b620-fbaa6f1cfe78",
       "rows": [
        [
         "0",
         "2016",
         "1",
         "1",
         "6",
         "3",
         "2016-01-06",
         "AA",
         "19805",
         "AA",
         "N4YBAA",
         "43",
         "11298",
         "1129804",
         "30194",
         "DFW",
         "Dallas/Fort Worth, TX",
         "TX",
         "48",
         "Texas",
         "74",
         "11433",
         "1143302",
         "31295",
         "DTW",
         "Detroit, MI",
         "MI",
         "26",
         "Michigan",
         "43",
         "1100",
         "1057.0",
         "-3.0",
         "0.0",
         "0.0",
         "-1.0",
         "1100-1159",
         "15.0",
         "1112.0",
         "1424.0",
         "8.0",
         "1438",
         "1432.0",
         "-6.0",
         "0.0",
         "0.0",
         "-1.0",
         "1400-1459",
         "0.0",
         null,
         "0.0",
         "158.0",
         "155.0",
         "132.0",
         "1.0",
         "986.0",
         "4",
         null,
         null,
         null,
         null,
         null,
         null,
         null,
         null,
         null
        ],
        [
         "1",
         "2016",
         "1",
         "1",
         "7",
         "4",
         "2016-01-07",
         "AA",
         "19805",
         "AA",
         "N434AA",
         "43",
         "11298",
         "1129804",
         "30194",
         "DFW",
         "Dallas/Fort Worth, TX",
         "TX",
         "48",
         "Texas",
         "74",
         "11433",
         "1143302",
         "31295",
         "DTW",
         "Detroit, MI",
         "MI",
         "26",
         "Michigan",
         "43",
         "1100",
         "1056.0",
         "-4.0",
         "0.0",
         "0.0",
         "-1.0",
         "1100-1159",
         "14.0",
         "1110.0",
         "1416.0",
         "10.0",
         "1438",
         "1426.0",
         "-12.0",
         "0.0",
         "0.0",
         "-1.0",
         "1400-1459",
         "0.0",
         null,
         "0.0",
         "158.0",
         "150.0",
         "126.0",
         "1.0",
         "986.0",
         "4",
         null,
         null,
         null,
         null,
         null,
         null,
         null,
         null,
         null
        ],
        [
         "2",
         "2016",
         "1",
         "1",
         "8",
         "5",
         "2016-01-08",
         "AA",
         "19805",
         "AA",
         "N541AA",
         "43",
         "11298",
         "1129804",
         "30194",
         "DFW",
         "Dallas/Fort Worth, TX",
         "TX",
         "48",
         "Texas",
         "74",
         "11433",
         "1143302",
         "31295",
         "DTW",
         "Detroit, MI",
         "MI",
         "26",
         "Michigan",
         "43",
         "1100",
         "1055.0",
         "-5.0",
         "0.0",
         "0.0",
         "-1.0",
         "1100-1159",
         "21.0",
         "1116.0",
         "1431.0",
         "14.0",
         "1438",
         "1445.0",
         "7.0",
         "7.0",
         "0.0",
         "0.0",
         "1400-1459",
         "0.0",
         null,
         "0.0",
         "158.0",
         "170.0",
         "135.0",
         "1.0",
         "986.0",
         "4",
         null,
         null,
         null,
         null,
         null,
         null,
         null,
         null,
         null
        ],
        [
         "3",
         "2016",
         "1",
         "1",
         "9",
         "6",
         "2016-01-09",
         "AA",
         "19805",
         "AA",
         "N489AA",
         "43",
         "11298",
         "1129804",
         "30194",
         "DFW",
         "Dallas/Fort Worth, TX",
         "TX",
         "48",
         "Texas",
         "74",
         "11433",
         "1143302",
         "31295",
         "DTW",
         "Detroit, MI",
         "MI",
         "26",
         "Michigan",
         "43",
         "1100",
         "1102.0",
         "2.0",
         "2.0",
         "0.0",
         "0.0",
         "1100-1159",
         "13.0",
         "1115.0",
         "1424.0",
         "9.0",
         "1438",
         "1433.0",
         "-5.0",
         "0.0",
         "0.0",
         "-1.0",
         "1400-1459",
         "0.0",
         null,
         "0.0",
         "158.0",
         "151.0",
         "129.0",
         "1.0",
         "986.0",
         "4",
         null,
         null,
         null,
         null,
         null,
         null,
         null,
         null,
         null
        ],
        [
         "4",
         "2016",
         "1",
         "1",
         "10",
         "7",
         "2016-01-10",
         "AA",
         "19805",
         "AA",
         "N439AA",
         "43",
         "11298",
         "1129804",
         "30194",
         "DFW",
         "Dallas/Fort Worth, TX",
         "TX",
         "48",
         "Texas",
         "74",
         "11433",
         "1143302",
         "31295",
         "DTW",
         "Detroit, MI",
         "MI",
         "26",
         "Michigan",
         "43",
         "1100",
         "1240.0",
         "100.0",
         "100.0",
         "1.0",
         "6.0",
         "1100-1159",
         "20.0",
         "1300.0",
         "1617.0",
         "14.0",
         "1438",
         "1631.0",
         "113.0",
         "113.0",
         "1.0",
         "7.0",
         "1400-1459",
         "0.0",
         null,
         "0.0",
         "158.0",
         "171.0",
         "137.0",
         "1.0",
         "986.0",
         "4",
         "0.0",
         "0.0",
         "47.0",
         "0.0",
         "66.0",
         null,
         null,
         null,
         null
        ]
       ],
       "shape": {
        "columns": 65,
        "rows": 5
       }
      },
      "text/html": [
       "<div>\n",
       "<style scoped>\n",
       "    .dataframe tbody tr th:only-of-type {\n",
       "        vertical-align: middle;\n",
       "    }\n",
       "\n",
       "    .dataframe tbody tr th {\n",
       "        vertical-align: top;\n",
       "    }\n",
       "\n",
       "    .dataframe thead th {\n",
       "        text-align: right;\n",
       "    }\n",
       "</style>\n",
       "<table border=\"1\" class=\"dataframe\">\n",
       "  <thead>\n",
       "    <tr style=\"text-align: right;\">\n",
       "      <th></th>\n",
       "      <th>YEAR</th>\n",
       "      <th>QUARTER</th>\n",
       "      <th>MONTH</th>\n",
       "      <th>DAY_OF_MONTH</th>\n",
       "      <th>DAY_OF_WEEK</th>\n",
       "      <th>FL_DATE</th>\n",
       "      <th>UNIQUE_CARRIER</th>\n",
       "      <th>AIRLINE_ID</th>\n",
       "      <th>CARRIER</th>\n",
       "      <th>TAIL_NUM</th>\n",
       "      <th>...</th>\n",
       "      <th>DISTANCE_GROUP</th>\n",
       "      <th>CARRIER_DELAY</th>\n",
       "      <th>WEATHER_DELAY</th>\n",
       "      <th>NAS_DELAY</th>\n",
       "      <th>SECURITY_DELAY</th>\n",
       "      <th>LATE_AIRCRAFT_DELAY</th>\n",
       "      <th>FIRST_DEP_TIME</th>\n",
       "      <th>TOTAL_ADD_GTIME</th>\n",
       "      <th>LONGEST_ADD_GTIME</th>\n",
       "      <th>Unnamed: 64</th>\n",
       "    </tr>\n",
       "  </thead>\n",
       "  <tbody>\n",
       "    <tr>\n",
       "      <th>0</th>\n",
       "      <td>2016</td>\n",
       "      <td>1</td>\n",
       "      <td>1</td>\n",
       "      <td>6</td>\n",
       "      <td>3</td>\n",
       "      <td>2016-01-06</td>\n",
       "      <td>AA</td>\n",
       "      <td>19805</td>\n",
       "      <td>AA</td>\n",
       "      <td>N4YBAA</td>\n",
       "      <td>...</td>\n",
       "      <td>4</td>\n",
       "      <td>NaN</td>\n",
       "      <td>NaN</td>\n",
       "      <td>NaN</td>\n",
       "      <td>NaN</td>\n",
       "      <td>NaN</td>\n",
       "      <td>NaN</td>\n",
       "      <td>NaN</td>\n",
       "      <td>NaN</td>\n",
       "      <td>NaN</td>\n",
       "    </tr>\n",
       "    <tr>\n",
       "      <th>1</th>\n",
       "      <td>2016</td>\n",
       "      <td>1</td>\n",
       "      <td>1</td>\n",
       "      <td>7</td>\n",
       "      <td>4</td>\n",
       "      <td>2016-01-07</td>\n",
       "      <td>AA</td>\n",
       "      <td>19805</td>\n",
       "      <td>AA</td>\n",
       "      <td>N434AA</td>\n",
       "      <td>...</td>\n",
       "      <td>4</td>\n",
       "      <td>NaN</td>\n",
       "      <td>NaN</td>\n",
       "      <td>NaN</td>\n",
       "      <td>NaN</td>\n",
       "      <td>NaN</td>\n",
       "      <td>NaN</td>\n",
       "      <td>NaN</td>\n",
       "      <td>NaN</td>\n",
       "      <td>NaN</td>\n",
       "    </tr>\n",
       "    <tr>\n",
       "      <th>2</th>\n",
       "      <td>2016</td>\n",
       "      <td>1</td>\n",
       "      <td>1</td>\n",
       "      <td>8</td>\n",
       "      <td>5</td>\n",
       "      <td>2016-01-08</td>\n",
       "      <td>AA</td>\n",
       "      <td>19805</td>\n",
       "      <td>AA</td>\n",
       "      <td>N541AA</td>\n",
       "      <td>...</td>\n",
       "      <td>4</td>\n",
       "      <td>NaN</td>\n",
       "      <td>NaN</td>\n",
       "      <td>NaN</td>\n",
       "      <td>NaN</td>\n",
       "      <td>NaN</td>\n",
       "      <td>NaN</td>\n",
       "      <td>NaN</td>\n",
       "      <td>NaN</td>\n",
       "      <td>NaN</td>\n",
       "    </tr>\n",
       "    <tr>\n",
       "      <th>3</th>\n",
       "      <td>2016</td>\n",
       "      <td>1</td>\n",
       "      <td>1</td>\n",
       "      <td>9</td>\n",
       "      <td>6</td>\n",
       "      <td>2016-01-09</td>\n",
       "      <td>AA</td>\n",
       "      <td>19805</td>\n",
       "      <td>AA</td>\n",
       "      <td>N489AA</td>\n",
       "      <td>...</td>\n",
       "      <td>4</td>\n",
       "      <td>NaN</td>\n",
       "      <td>NaN</td>\n",
       "      <td>NaN</td>\n",
       "      <td>NaN</td>\n",
       "      <td>NaN</td>\n",
       "      <td>NaN</td>\n",
       "      <td>NaN</td>\n",
       "      <td>NaN</td>\n",
       "      <td>NaN</td>\n",
       "    </tr>\n",
       "    <tr>\n",
       "      <th>4</th>\n",
       "      <td>2016</td>\n",
       "      <td>1</td>\n",
       "      <td>1</td>\n",
       "      <td>10</td>\n",
       "      <td>7</td>\n",
       "      <td>2016-01-10</td>\n",
       "      <td>AA</td>\n",
       "      <td>19805</td>\n",
       "      <td>AA</td>\n",
       "      <td>N439AA</td>\n",
       "      <td>...</td>\n",
       "      <td>4</td>\n",
       "      <td>0.0</td>\n",
       "      <td>0.0</td>\n",
       "      <td>47.0</td>\n",
       "      <td>0.0</td>\n",
       "      <td>66.0</td>\n",
       "      <td>NaN</td>\n",
       "      <td>NaN</td>\n",
       "      <td>NaN</td>\n",
       "      <td>NaN</td>\n",
       "    </tr>\n",
       "  </tbody>\n",
       "</table>\n",
       "<p>5 rows × 65 columns</p>\n",
       "</div>"
      ],
      "text/plain": [
       "   YEAR  QUARTER  MONTH  DAY_OF_MONTH  DAY_OF_WEEK     FL_DATE UNIQUE_CARRIER  \\\n",
       "0  2016        1      1             6            3  2016-01-06             AA   \n",
       "1  2016        1      1             7            4  2016-01-07             AA   \n",
       "2  2016        1      1             8            5  2016-01-08             AA   \n",
       "3  2016        1      1             9            6  2016-01-09             AA   \n",
       "4  2016        1      1            10            7  2016-01-10             AA   \n",
       "\n",
       "   AIRLINE_ID CARRIER TAIL_NUM  ...  DISTANCE_GROUP  CARRIER_DELAY  \\\n",
       "0       19805      AA   N4YBAA  ...               4            NaN   \n",
       "1       19805      AA   N434AA  ...               4            NaN   \n",
       "2       19805      AA   N541AA  ...               4            NaN   \n",
       "3       19805      AA   N489AA  ...               4            NaN   \n",
       "4       19805      AA   N439AA  ...               4            0.0   \n",
       "\n",
       "   WEATHER_DELAY  NAS_DELAY SECURITY_DELAY LATE_AIRCRAFT_DELAY FIRST_DEP_TIME  \\\n",
       "0            NaN        NaN            NaN                 NaN            NaN   \n",
       "1            NaN        NaN            NaN                 NaN            NaN   \n",
       "2            NaN        NaN            NaN                 NaN            NaN   \n",
       "3            NaN        NaN            NaN                 NaN            NaN   \n",
       "4            0.0       47.0            0.0                66.0            NaN   \n",
       "\n",
       "   TOTAL_ADD_GTIME LONGEST_ADD_GTIME  Unnamed: 64  \n",
       "0              NaN               NaN          NaN  \n",
       "1              NaN               NaN          NaN  \n",
       "2              NaN               NaN          NaN  \n",
       "3              NaN               NaN          NaN  \n",
       "4              NaN               NaN          NaN  \n",
       "\n",
       "[5 rows x 65 columns]"
      ]
     },
     "execution_count": 4,
     "metadata": {},
     "output_type": "execute_result"
    }
   ],
   "source": [
    "df_jan = pd.read_csv(jan_data_path, on_bad_lines=\"warn\", low_memory=False)\n",
    "df_jan.head()"
   ]
  },
  {
   "cell_type": "code",
   "execution_count": 5,
   "metadata": {},
   "outputs": [
    {
     "data": {
      "text/plain": [
       "Index(['YEAR', 'QUARTER', 'MONTH', 'DAY_OF_MONTH', 'DAY_OF_WEEK', 'FL_DATE',\n",
       "       'UNIQUE_CARRIER', 'AIRLINE_ID', 'CARRIER', 'TAIL_NUM', 'FL_NUM',\n",
       "       'ORIGIN_AIRPORT_ID', 'ORIGIN_AIRPORT_SEQ_ID', 'ORIGIN_CITY_MARKET_ID',\n",
       "       'ORIGIN', 'ORIGIN_CITY_NAME', 'ORIGIN_STATE_ABR', 'ORIGIN_STATE_FIPS',\n",
       "       'ORIGIN_STATE_NM', 'ORIGIN_WAC', 'DEST_AIRPORT_ID',\n",
       "       'DEST_AIRPORT_SEQ_ID', 'DEST_CITY_MARKET_ID', 'DEST', 'DEST_CITY_NAME',\n",
       "       'DEST_STATE_ABR', 'DEST_STATE_FIPS', 'DEST_STATE_NM', 'DEST_WAC',\n",
       "       'CRS_DEP_TIME', 'DEP_TIME', 'DEP_DELAY', 'DEP_DELAY_NEW', 'DEP_DEL15',\n",
       "       'DEP_DELAY_GROUP', 'DEP_TIME_BLK', 'TAXI_OUT', 'WHEELS_OFF',\n",
       "       'WHEELS_ON', 'TAXI_IN', 'CRS_ARR_TIME', 'ARR_TIME', 'ARR_DELAY',\n",
       "       'ARR_DELAY_NEW', 'ARR_DEL15', 'ARR_DELAY_GROUP', 'ARR_TIME_BLK',\n",
       "       'CANCELLED', 'CANCELLATION_CODE', 'DIVERTED', 'CRS_ELAPSED_TIME',\n",
       "       'ACTUAL_ELAPSED_TIME', 'AIR_TIME', 'FLIGHTS', 'DISTANCE',\n",
       "       'DISTANCE_GROUP', 'CARRIER_DELAY', 'WEATHER_DELAY', 'NAS_DELAY',\n",
       "       'SECURITY_DELAY', 'LATE_AIRCRAFT_DELAY', 'FIRST_DEP_TIME',\n",
       "       'TOTAL_ADD_GTIME', 'LONGEST_ADD_GTIME', 'Unnamed: 64'],\n",
       "      dtype='object')"
      ]
     },
     "execution_count": 5,
     "metadata": {},
     "output_type": "execute_result"
    }
   ],
   "source": [
    "columns = df_jan.columns\n",
    "columns"
   ]
  },
  {
   "cell_type": "markdown",
   "metadata": {},
   "source": [
    "#### 2.1.1 Détermination de la cible\n",
    "\n",
    "Nous avons identifié plusieurs candidats pour la cible : ARR_DELAY, ARR_DELAY_NEW, ARR_DEL15 et ARR_DELAY_GROUP\n"
   ]
  },
  {
   "cell_type": "code",
   "execution_count": 6,
   "metadata": {},
   "outputs": [
    {
     "name": "stdout",
     "output_type": "stream",
     "text": [
      "ARR_DELAY: Nombre de Valeurs Uniques\n",
      "--------------------------------------------------\n",
      "735\n",
      "--------------------------------------------------\n",
      "ARR_DELAY_NEW: Nombre de Valeurs Uniques\n",
      "--------------------------------------------------\n",
      "660\n",
      "--------------------------------------------------\n",
      "ARR_DEL15: Nombre de Valeurs Uniques\n",
      "--------------------------------------------------\n",
      "2\n",
      "[0. 1.]\n",
      "--------------------------------------------------\n",
      "ARR_DELAY_GROUP: Nombre de Valeurs Uniques\n",
      "--------------------------------------------------\n",
      "15\n",
      "--------------------------------------------------\n"
     ]
    }
   ],
   "source": [
    "potential_targets = [\"ARR_DELAY\", \"ARR_DELAY_NEW\", \"ARR_DEL15\", \"ARR_DELAY_GROUP\"]\n",
    "\n",
    "for target in potential_targets:\n",
    "    print(f\"{target}: Nombre de Valeurs Uniques\")\n",
    "    print(\"-\" * 50)\n",
    "    unique_count = df_jan[target].dropna().nunique()\n",
    "    print(unique_count)\n",
    "    if unique_count == 2:\n",
    "        print(df_jan[target].dropna().unique())\n",
    "    print(\"-\" * 50)"
   ]
  },
  {
   "cell_type": "markdown",
   "metadata": {},
   "source": [
    "Nous constatons que seuls la colonne `ARR_DEL15` est sous forme binaire (en retard ou à l'heure) conformément à ce que nous souhaitons prédire. Les autres colonnes sont redondantes et peuvent donc être supprimées.\n"
   ]
  },
  {
   "cell_type": "code",
   "execution_count": 7,
   "metadata": {},
   "outputs": [
    {
     "name": "stdout",
     "output_type": "stream",
     "text": [
      "['ARR_DELAY', 'ARR_DELAY_NEW', 'ARR_DELAY_GROUP']\n"
     ]
    }
   ],
   "source": [
    "target = \"ARR_DEL15\"\n",
    "redundant_targets = [col for col in potential_targets if col is not target]\n",
    "\n",
    "print(redundant_targets)"
   ]
  },
  {
   "cell_type": "markdown",
   "metadata": {},
   "source": [
    "Analysons cette colonne cible :\n"
   ]
  },
  {
   "cell_type": "code",
   "execution_count": 8,
   "metadata": {},
   "outputs": [
    {
     "name": "stdout",
     "output_type": "stream",
     "text": [
      "<class 'pandas.core.series.Series'>\n",
      "RangeIndex: 445827 entries, 0 to 445826\n",
      "Series name: ARR_DEL15\n",
      "Non-Null Count   Dtype  \n",
      "--------------   -----  \n",
      "433298 non-null  float64\n",
      "dtypes: float64(1)\n",
      "memory usage: 3.4 MB\n"
     ]
    }
   ],
   "source": [
    "df_jan[target].info()"
   ]
  },
  {
   "cell_type": "markdown",
   "metadata": {},
   "source": [
    "Nous constatons que le type de la colonne (float) n'est pas adapté. Il faudrait le transformer en bouléen.\n"
   ]
  },
  {
   "cell_type": "code",
   "execution_count": 9,
   "metadata": {},
   "outputs": [
    {
     "name": "stdout",
     "output_type": "stream",
     "text": [
      "12529 lignes vide pour la cible ARR_DEL15\n"
     ]
    }
   ],
   "source": [
    "target_na_count = df_jan[target].isna().sum()\n",
    "print(f\"{target_na_count} lignes vide pour la cible {target}\")"
   ]
  },
  {
   "cell_type": "code",
   "execution_count": 10,
   "metadata": {},
   "outputs": [
    {
     "name": "stdout",
     "output_type": "stream",
     "text": [
      "12529 lignes vide pour la colonne ARR_DELAY\n",
      "12529 lignes vide pour la colonne ARR_DELAY_NEW\n",
      "12529 lignes vide pour la colonne ARR_DELAY_GROUP\n"
     ]
    }
   ],
   "source": [
    "for col in redundant_targets:\n",
    "    na_count = df_jan[col].isna().sum()\n",
    "    print(f\"{na_count} lignes vide pour la colonne {col}\")"
   ]
  },
  {
   "cell_type": "code",
   "execution_count": 11,
   "metadata": {},
   "outputs": [
    {
     "name": "stdout",
     "output_type": "stream",
     "text": [
      "Lignes où TOUTES les colonnes sont NA : 12529\n"
     ]
    }
   ],
   "source": [
    "all_na_mask = df_jan[potential_targets].isna().all(axis=1)\n",
    "all_na_count = all_na_mask.sum()\n",
    "\n",
    "print(f\"Lignes où TOUTES les colonnes sont NA : {all_na_count}\")"
   ]
  },
  {
   "cell_type": "markdown",
   "metadata": {},
   "source": [
    "Nous constatons que plusieurs milliers de lignes n'ont pas de valeur cible. L'exploration des potentielles colonnes cibles précédemment écartées nous indique qu'il ne serait pas possible de reconstituer les valeurs manquantes avec ces autres colonnes.  \n",
    "Il semble donc indispensable de les supprimer car ces lignes ne peuvent pas permettre d'entraîner le futur modèle.\n"
   ]
  },
  {
   "cell_type": "code",
   "execution_count": 12,
   "metadata": {},
   "outputs": [],
   "source": [
    "df_jan = df_jan.dropna(subset=[\"ARR_DEL15\"])"
   ]
  },
  {
   "cell_type": "code",
   "execution_count": 33,
   "metadata": {},
   "outputs": [
    {
     "name": "stdout",
     "output_type": "stream",
     "text": [
      "Le taux de retard à l'arrivée en janvier est de 0.16\n"
     ]
    }
   ],
   "source": [
    "jan_delay_rate = df_jan[\"ARR_DEL15\"].mean()\n",
    "print(f\"Le taux de retard à l'arrivée en janvier est de {jan_delay_rate:.2f}\")"
   ]
  },
  {
   "cell_type": "markdown",
   "metadata": {},
   "source": [
    "#### 2.1.2. Identifications des colonnes aux valeurs manquantes\n"
   ]
  },
  {
   "cell_type": "code",
   "execution_count": 13,
   "metadata": {},
   "outputs": [
    {
     "name": "stdout",
     "output_type": "stream",
     "text": [
      "Colonnes avec plus de 50% de valeurs manquantes :\n",
      "- CANCELLATION_CODE: 100.00%\n",
      "- CARRIER_DELAY: 83.64%\n",
      "- WEATHER_DELAY: 83.64%\n",
      "- NAS_DELAY: 83.64%\n",
      "- SECURITY_DELAY: 83.64%\n",
      "- LATE_AIRCRAFT_DELAY: 83.64%\n",
      "- FIRST_DEP_TIME: 99.44%\n",
      "- TOTAL_ADD_GTIME: 99.44%\n",
      "- LONGEST_ADD_GTIME: 99.44%\n",
      "- Unnamed: 64: 100.00%\n",
      "\n",
      "Liste des colonnes (10) :\n",
      "['CANCELLATION_CODE', 'CARRIER_DELAY', 'WEATHER_DELAY', 'NAS_DELAY', 'SECURITY_DELAY', 'LATE_AIRCRAFT_DELAY', 'FIRST_DEP_TIME', 'TOTAL_ADD_GTIME', 'LONGEST_ADD_GTIME', 'Unnamed: 64']\n"
     ]
    }
   ],
   "source": [
    "na_percentages = (df_jan.isna().sum() / len(df_jan)) * 100\n",
    "\n",
    "high_na_cols = na_percentages[na_percentages > 80].index.tolist()\n",
    "\n",
    "print(\"Colonnes avec plus de 50% de valeurs manquantes :\")\n",
    "for col in high_na_cols:\n",
    "    print(f\"- {col}: {na_percentages[col]:.2f}%\")\n",
    "\n",
    "print(f\"\\nListe des colonnes ({len(high_na_cols)}) :\")\n",
    "print(high_na_cols)"
   ]
  },
  {
   "cell_type": "markdown",
   "metadata": {},
   "source": [
    "Nous avons identifié les colonnes pour lesquelles plus de 80% des données sont manquantes. Sans analyse plus approfondie, nous pourrions nous dire que ces données sont inutilisables, car avec un tel taux de données manquantes, il serait hasardeux d'essayer d'imputer les valeurs manquantes sur aussi peu de données. Attardons nous cependant sur ces colonnes.\n",
    "\n",
    "**Analyse colonne par colonne :**\n",
    "\n",
    "- `Unnamed: 64`: 100.00% => colonne entièrement vide, probablement due à une virgule surnuméraire en fin de ligne. Colonne à supprimer définitivement.\n",
    "- `CANCELLATION_CODE`: 97.38% => ici, nous supposons que les valeurs vides correspondent tout simplement à une absence de code d'annulation dans le cas où les vols ne sont pas annulés\n",
    "  Les colonnes suivantes ne sont pas décrites dans le sujet d'examen. Nous pouvons cependant réaliser quelques suppositions :\n",
    "- `CARRIER_DELAY`, `WEATHER_DELAY`, `NAS_DELAY`, `SECURITY_DELAY` et `LATE_AIRCRAFT_DELAY`: toutes à 84.10% => Nous supposons que les valeurs nulles correspondent aux vols non retardés\n",
    "- `FIRST_DEP_TIME`, `TOTAL_ADD_GTIME` et `LONGEST_ADD_GTIME`: toutes à 99.43% => Nous supposons que les valeurs manquantes correspondent aux vols n'ont pas été détournés.\n",
    "\n",
    "Nous allons analyser ces hypothèses.\n"
   ]
  },
  {
   "cell_type": "code",
   "execution_count": 14,
   "metadata": {},
   "outputs": [
    {
     "name": "stdout",
     "output_type": "stream",
     "text": [
      "Les valeurs NA de la colonne CANCELLATION_CODE correspondent aux vols non annulés.\n"
     ]
    }
   ],
   "source": [
    "mask_na = df_jan[\"CANCELLATION_CODE\"].isna()\n",
    "mask_is_not_cancelled = df_jan[\"CANCELLED\"] == 0.0\n",
    "\n",
    "if (mask_na == mask_is_not_cancelled).all():\n",
    "    print(\n",
    "        \"Les valeurs NA de la colonne CANCELLATION_CODE correspondent aux vols non annulés.\"\n",
    "    )\n",
    "else:\n",
    "    print(\n",
    "        \"Les valeurs NA de la colonne CANCELLATION_CODE ne correspondent pas aux vols non annulés.\"\n",
    "    )\n",
    "    print(df_jan[mask_na != mask_is_not_cancelled])\n"
   ]
  },
  {
   "cell_type": "markdown",
   "metadata": {},
   "source": [
    "L'hypothèse selon laquelle Les valeurs NA de la colonne CANCELLATION_CODE correspondent aux vols non annulés est vérifiée. Il serait envisageable d'imputer les valeurs manquantes avec un 4e code d'annulation, correspondant virtuellement à une non-annulation.\n"
   ]
  },
  {
   "cell_type": "code",
   "execution_count": 15,
   "metadata": {},
   "outputs": [
    {
     "name": "stdout",
     "output_type": "stream",
     "text": [
      "Nombre de lignes où toutes les colonnes de type de délai sont NA : 362416\n",
      "\n",
      "Les lignes où toutes les colonnes de type de délai sont NA correspondent aux vols non retardés.\n"
     ]
    }
   ],
   "source": [
    "mask_all_na = (\n",
    "    df_jan[\n",
    "        [\n",
    "            \"CARRIER_DELAY\",\n",
    "            \"WEATHER_DELAY\",\n",
    "            \"NAS_DELAY\",\n",
    "            \"SECURITY_DELAY\",\n",
    "            \"LATE_AIRCRAFT_DELAY\",\n",
    "        ]\n",
    "    ]\n",
    "    .isna()\n",
    "    .all(axis=1)\n",
    ")\n",
    "\n",
    "print(\n",
    "    f\"Nombre de lignes où toutes les colonnes de type de délai sont NA : {mask_all_na.sum()}\"\n",
    ")\n",
    "\n",
    "mask_is_not_delayed = df_jan[\"ARR_DEL15\"] == 0.0\n",
    "\n",
    "if (mask_all_na == mask_is_not_delayed).all():\n",
    "    print(\n",
    "        \"\\nLes lignes où toutes les colonnes de type de délai sont NA correspondent aux vols non retardés.\"\n",
    "    )\n",
    "else:\n",
    "    print(\"\\nIl existe des exceptions :\")\n",
    "    print(\n",
    "        df_jan[mask_all_na != mask_is_not_delayed][\n",
    "            [\n",
    "                \"ARR_DELAY\",\n",
    "                \"CARRIER_DELAY\",\n",
    "                \"WEATHER_DELAY\",\n",
    "                \"NAS_DELAY\",\n",
    "                \"SECURITY_DELAY\",\n",
    "                \"LATE_AIRCRAFT_DELAY\",\n",
    "                \"ARR_DEL15\",\n",
    "            ]\n",
    "        ]\n",
    "    )"
   ]
  },
  {
   "cell_type": "markdown",
   "metadata": {},
   "source": [
    "A première vue, l'hypothèse selon laquelle les lignes où toutes les colonnes de type de délai sont NA correspondent aux vols non retardés, semble fausse. Cependant, les exceptions relevées semblent correspondre à des lignes où le statut en retard ou à l'heure est également indéterminé. Les Lignes où les deux masques correspondent pourraient être remplies avec des valeurs nulles (0min de retard pour cette cause).\n"
   ]
  },
  {
   "cell_type": "code",
   "execution_count": 16,
   "metadata": {},
   "outputs": [
    {
     "name": "stdout",
     "output_type": "stream",
     "text": [
      "Nombre de lignes où toutes les colonnes de type de time sont NA : 430889\n",
      "\n",
      "Il existe des exceptions :\n",
      "        FIRST_DEP_TIME  TOTAL_ADD_GTIME  LONGEST_ADD_GTIME  DIVERTED\n",
      "70               642.0             11.0               11.0       0.0\n",
      "305             1336.0             19.0               19.0       0.0\n",
      "339             1053.0             12.0               12.0       0.0\n",
      "397             1511.0             22.0               22.0       0.0\n",
      "432              859.0             11.0               11.0       0.0\n",
      "...                ...              ...                ...       ...\n",
      "444013           751.0             14.0               14.0       0.0\n",
      "444687          1106.0             12.0               12.0       0.0\n",
      "445245          1213.0             30.0               30.0       0.0\n",
      "445302           903.0             16.0               16.0       0.0\n",
      "445543           733.0             57.0               57.0       0.0\n",
      "\n",
      "[2409 rows x 4 columns]\n"
     ]
    }
   ],
   "source": [
    "mask_all_na = (\n",
    "    df_jan[[\"FIRST_DEP_TIME\", \"TOTAL_ADD_GTIME\", \"LONGEST_ADD_GTIME\"]]\n",
    "    .isna()\n",
    "    .all(axis=1)\n",
    ")\n",
    "\n",
    "print(\n",
    "    f\"Nombre de lignes où toutes les colonnes de type de time sont NA : {mask_all_na.sum()}\"\n",
    ")\n",
    "\n",
    "mask_is_not_diverted = df_jan[\"DIVERTED\"] == 0.0\n",
    "\n",
    "if (mask_all_na == mask_is_not_diverted).all():\n",
    "    print(\n",
    "        \"\\nLes lignes où toutes les colonnes de type de délai sont NA correspondent aux vols non déviés.\"\n",
    "    )\n",
    "else:\n",
    "    print(\"\\nIl existe des exceptions :\")\n",
    "    print(\n",
    "        df_jan[mask_all_na != mask_is_not_diverted][\n",
    "            [\n",
    "                \"FIRST_DEP_TIME\",\n",
    "                \"TOTAL_ADD_GTIME\",\n",
    "                \"LONGEST_ADD_GTIME\",\n",
    "                \"DIVERTED\",\n",
    "            ]\n",
    "        ]\n",
    "    )"
   ]
  },
  {
   "cell_type": "markdown",
   "metadata": {},
   "source": [
    "Ici, l'hypothèse selon laquelle les lignes où toutes les colonnes de type de délai sont NA correspondent aux vols non déviés, semble fausse. Il semble donc hasardeux d'essayer d'imputer les valeurs manquantes.\n"
   ]
  },
  {
   "cell_type": "markdown",
   "metadata": {},
   "source": [
    "#### 2.1.3. Identification des colonnes à risque de data leakage\n"
   ]
  },
  {
   "cell_type": "markdown",
   "metadata": {},
   "source": [
    "Pour la suite de l'analyse, nous partirons du principe que le modèle s'attachera à prédire le retard d'un vol qui aura déjà décollé.\n",
    "\n",
    "Parmis les colonnes restantes certaines contiennent des informations qui influencent directement le résultat et qui ne seront normalement pas présentes au moment de la prédiction :\n",
    "\n",
    "- `ARR_TIME` : Heure réelle d'arrivée inconnues au moment de la prédiction\n",
    "- `ARR_DELAY`, `ARR_DELAY_NEW`, `ARR_DEL15`, `ARR_DELAY_GROUP` : Variables cibles (à prédire)\n",
    "- `WHEELS_ON`, `TAXI_IN` : Données post-départ\n",
    "- `ACTUAL_ELAPSED_TIME`, `AIR_TIME` : Durées réelles inconnues a priori\n",
    "- `CANCELLED` : Les vols annulés ne peuvent être à l'heure ou en retard\n",
    "- `DIVERTED` : Statut du vol potentiellement inconnu au moment de la prédiction\n",
    "\n",
    "Ces colonnes doivent donc être supprimées.\n"
   ]
  },
  {
   "cell_type": "code",
   "execution_count": 17,
   "metadata": {},
   "outputs": [],
   "source": [
    "data_leakage_cols = [\n",
    "    \"ARR_TIME\",\n",
    "    \"ARR_DELAY\",\n",
    "    \"ARR_DELAY_NEW\",\n",
    "    \"ARR_DELAY_GROUP\",\n",
    "    \"WHEELS_ON\",\n",
    "    \"TAXI_IN\",\n",
    "    \"ACTUAL_ELAPSED_TIME\",\n",
    "    \"AIR_TIME\",\n",
    "    \"CANCELLED\",\n",
    "    \"DIVERTED\",\n",
    "]"
   ]
  },
  {
   "cell_type": "markdown",
   "metadata": {},
   "source": [
    "#### 2.1.4. Identification des colonnes redondantes\n"
   ]
  },
  {
   "cell_type": "markdown",
   "metadata": {},
   "source": [
    "Parmi les colonnes restantes, nous identifions plusieurs colonnes redondantes entre elles :\n",
    "\n",
    "- `ARR_TIME_BLK` et `ARR_TIME` sont redondantes. Nous conserverons `ARR_TIME` car il s'agit d'une valeur numérique continue plutôt que catégorielle, cela permettra plus de précision.\n",
    "- `DEP_DELAY`, `DEP_DELAY_NEW`, `DEP_DEL15`, `DEP_DELAY_GROUP` et `DEP_TIME_BLK` représentent toutes les retard au départ. Nous conserverons `DEP_DELAY` car elle nous semble la plus précise de toutes ces valeurs : il s'agit d'une valeur numérique continue qui prend aussi en compte l'avance au départ (valeurs négatives) qui peut avoir une influence directe sur le retard à l'arrivée.\n",
    "- `AIRLINE_ID`, `UNIQUE_CARRIER` et `CARRIER` représentent toutes trois une façon d'identifier les compagnies aériennes. Nous ne conserverons que `UNIQUE_CARRIER`.\n",
    "- Parmis les identifiants multiples pour l'origine et la destination, les codes IATA présents dans `ORIGIN` et `DEST` sont suffisament précis pour identifier à eux seuls l'aéroport d'origine et celui de destination.\n",
    "- `ORIGIN_STATE_NM` et `ORIGIN_STATE_ABR` sont clairement redondants, l'abréviation seule pourrait suffire. Cependant, toute l'information géographique peut être portée par `ORIGIN`.\n",
    "- De la même façon, `DEST_STATE_NM` et `DEST_STATE_ABR` sont redondants. Même analyse que pour `ORIGIN`, ici nous ne conserverons que `DEST`.\n",
    "- `DISTANCE` et `DISTANCE_GROUP` sont redondantes. Nous choisissons de conserver `DISTANCE` car il s'agit d'une valeur continue, plus facile à interpréter.\n"
   ]
  },
  {
   "cell_type": "markdown",
   "metadata": {},
   "source": [
    "Les colonnes redondantes n'apportant pas plus d'information, pourront être supprimées.\n"
   ]
  },
  {
   "cell_type": "code",
   "execution_count": 18,
   "metadata": {},
   "outputs": [],
   "source": [
    "redundant_cols = [\n",
    "    # Arrival time related -> keeping ARR_TIME\n",
    "    \"ARR_TIME_BLK\",\n",
    "    # Departure related -> keeping DEP_DELAY\n",
    "    \"DEP_DELAY_NEW\",\n",
    "    \"DEP_DEL15\",\n",
    "    \"DEP_DELAY_GROUP\",\n",
    "    \"DEP_TIME_BLK\",\n",
    "    # Airline/Carrier related -> keeping UNIQUE_CARRIER\n",
    "    \"AIRLINE_ID\",\n",
    "    \"CARRIER\",\n",
    "    # Origin related -> keeping ORIGIN\n",
    "    \"ORIGIN_AIRPORT_ID\",\n",
    "    \"ORIGIN_AIRPORT_SEQ_ID\",\n",
    "    \"ORIGIN_CITY_MARKET_ID\",\n",
    "    \"ORIGIN_STATE_FIPS\",\n",
    "    \"ORIGIN_STATE_NM\",\n",
    "    \"ORIGIN_WAC\",\n",
    "    \"ORIGIN_CITY_NAME\",\n",
    "    \"ORIGIN_STATE_ABR\",\n",
    "    # Destination related -> keeping DEST\n",
    "    \"DEST_AIRPORT_ID\",\n",
    "    \"DEST_AIRPORT_SEQ_ID\",\n",
    "    \"DEST_CITY_MARKET_ID\",\n",
    "    \"DEST_STATE_FIPS\",\n",
    "    \"DEST_STATE_NM\",\n",
    "    \"DEST_WAC\",\n",
    "    \"DEST_CITY_NAME\",\n",
    "    \"DEST_STATE_ABR\",\n",
    "    # Distance related -> keeping DISTANCE\n",
    "    \"DISTANCE_GROUP\",\n",
    "]"
   ]
  },
  {
   "cell_type": "markdown",
   "metadata": {},
   "source": [
    "#### 2.1.5. Analyse des colonnes temporelles\n"
   ]
  },
  {
   "cell_type": "markdown",
   "metadata": {},
   "source": [
    "Parmi les colonnes temporelles (`YEAR`, `QUARTER`, `MONTH`, `DAY_OF_MONTH`,`DAY_OF_WEEK` et `FL_DATE`), il existe une certaine redondance.  \n",
    "`FL_DATE` comporte toute l'information temporelle nécessaire en une seule colonne. Cependant, du point de vue du machine learning, il est plus facile de manipuler des valeurs numérique plutôt que des dates. Plusieurs stratégies s'offrent à nous :\n",
    "\n",
    "- Tout conserver, mais cela ne semble pas très efficient,\n",
    "- Ne conserver que `FL_DATE` dans notre future base de données et extraire les données temporelle en prétraitement\n",
    "- Ne conserver que les données segmentées dans la base de données afin de les fournir directement lors de l'entrainement du modèle.\n"
   ]
  },
  {
   "cell_type": "markdown",
   "metadata": {},
   "source": [
    "Nous choisirons la dernière méthode pour faciliter l'entraînement du modèle. Nous prenons églament le parti de supprimer la colonne `YEAR` car toutes nos données ne concernent que l'année 2016, cette colonne n'apporte donc aucune plus value à l'entraînement du modèle.\n"
   ]
  },
  {
   "cell_type": "code",
   "execution_count": 19,
   "metadata": {},
   "outputs": [],
   "source": [
    "removable_temporal_cols = [\"FL_DATE\", \"YEAR\", \"QUARTER\"]"
   ]
  },
  {
   "cell_type": "markdown",
   "metadata": {},
   "source": [
    "#### 2.1.6 Cas de la colonne `FLIGHTS`\n"
   ]
  },
  {
   "cell_type": "code",
   "execution_count": 20,
   "metadata": {},
   "outputs": [
    {
     "data": {
      "application/vnd.microsoft.datawrangler.viewer.v0+json": {
       "columns": [
        {
         "name": "FLIGHTS",
         "rawType": "float64",
         "type": "float"
        },
        {
         "name": "count",
         "rawType": "int64",
         "type": "integer"
        }
       ],
       "ref": "b6a9bd36-22a9-4a31-a953-027d2878097b",
       "rows": [
        [
         "1.0",
         "433298"
        ]
       ],
       "shape": {
        "columns": 1,
        "rows": 1
       }
      },
      "text/plain": [
       "FLIGHTS\n",
       "1.0    433298\n",
       "Name: count, dtype: int64"
      ]
     },
     "execution_count": 20,
     "metadata": {},
     "output_type": "execute_result"
    }
   ],
   "source": [
    "df_jan[\"FLIGHTS\"].value_counts()"
   ]
  },
  {
   "cell_type": "markdown",
   "metadata": {},
   "source": [
    "Nous constatons que cette colonne, qui n'est d'ailleurs pas décrite, ne comprend qu'une valeur unique. Elle n'est donc pas nécessaire à la suite de l'analyse.\n"
   ]
  },
  {
   "cell_type": "code",
   "execution_count": 21,
   "metadata": {},
   "outputs": [],
   "source": [
    "useless_cols = [\"FLIGHTS\"]"
   ]
  },
  {
   "cell_type": "markdown",
   "metadata": {},
   "source": [
    "#### 2.1.7. Cas de `FL_NUM` et de `TAIL_NUM`\n"
   ]
  },
  {
   "cell_type": "code",
   "execution_count": 22,
   "metadata": {},
   "outputs": [
    {
     "name": "stdout",
     "output_type": "stream",
     "text": [
      "nombre de valeurs uniques de FL_NUM: 6654\n",
      "nombre de valeurs uniques de TAIL_NUM: 4236\n"
     ]
    }
   ],
   "source": [
    "fl_num_unique_count = df_jan[\"FL_NUM\"].nunique()\n",
    "tail_num_unique_count = df_jan[\"TAIL_NUM\"].nunique()\n",
    "print(f\"nombre de valeurs uniques de FL_NUM: {fl_num_unique_count}\")\n",
    "print(f\"nombre de valeurs uniques de TAIL_NUM: {tail_num_unique_count}\")"
   ]
  },
  {
   "cell_type": "markdown",
   "metadata": {},
   "source": [
    "Les numéros de vol et identifiants des appareils pourraient être pertinents dans notre prédiction. Cependant du fait du très grand nombre de catégorie et au vue de nos ressources limitées, nous les excluerons des colonnes à conserver pour notre modèle.\n"
   ]
  },
  {
   "cell_type": "code",
   "execution_count": 23,
   "metadata": {},
   "outputs": [],
   "source": [
    "useless_cols += [\"FL_NUM\", \"TAIL_NUM\"]"
   ]
  },
  {
   "cell_type": "markdown",
   "metadata": {},
   "source": [
    "### 2.2. Identification des colonnes à conserver\n",
    "\n",
    "Maintenant que nous avons identifié toutes les colonnes à supprimer, nous allons pouvoir appliquer ce traitement à tous les fichiers fournis afin de les alléger et de pouvoir les traiter dans leur ensemble.\n"
   ]
  },
  {
   "cell_type": "code",
   "execution_count": 24,
   "metadata": {},
   "outputs": [
    {
     "data": {
      "text/plain": [
       "['MONTH',\n",
       " 'DAY_OF_MONTH',\n",
       " 'DAY_OF_WEEK',\n",
       " 'UNIQUE_CARRIER',\n",
       " 'ORIGIN',\n",
       " 'DEST',\n",
       " 'CRS_DEP_TIME',\n",
       " 'DEP_TIME',\n",
       " 'DEP_DELAY',\n",
       " 'TAXI_OUT',\n",
       " 'WHEELS_OFF',\n",
       " 'CRS_ARR_TIME',\n",
       " 'ARR_DEL15',\n",
       " 'CRS_ELAPSED_TIME',\n",
       " 'DISTANCE']"
      ]
     },
     "execution_count": 24,
     "metadata": {},
     "output_type": "execute_result"
    }
   ],
   "source": [
    "cols_to_drop = (\n",
    "    redundant_targets\n",
    "    + high_na_cols\n",
    "    + data_leakage_cols\n",
    "    + redundant_cols\n",
    "    + removable_temporal_cols\n",
    "    + useless_cols\n",
    ")\n",
    "cols_to_keep = [col for col in columns if col not in cols_to_drop]\n",
    "target_col = \"ARR_DEL15\"\n",
    "\n",
    "cols_to_keep"
   ]
  },
  {
   "cell_type": "markdown",
   "metadata": {},
   "source": [
    "### 2.3. Conversion des fichiers `.csv` en `.parquet`\n",
    "\n",
    "Pour des raison de performances nous nous servirons désormais de fichiers au format parquet. Nous allons commencé par convertir l'ensemble des fichiers `.csv` individuels, puis nous concatènerons les fichiers individuels en un seul fichier `.parquet` comportant toutes les lignes.\n"
   ]
  },
  {
   "cell_type": "markdown",
   "metadata": {},
   "source": [
    "#### 2.3.1 Cas du mois d'avril\n",
    "\n",
    "Le fichier contenant les données du mois d'avril 2016 semble plus corrompu que les autres. Nous lui appliquerons donc un traitement particulier.\n"
   ]
  },
  {
   "cell_type": "code",
   "execution_count": 25,
   "metadata": {},
   "outputs": [
    {
     "name": "stderr",
     "output_type": "stream",
     "text": [
      "/tmp/ipykernel_151321/127148769.py:2: ParserWarning: Skipping line 121012: expected 65 fields, saw 75\n",
      "Skipping line 386249: expected 65 fields, saw 83\n",
      "Skipping line 388291: expected 65 fields, saw 78\n",
      "Skipping line 389371: expected 65 fields, saw 72\n",
      "Skipping line 389548: expected 65 fields, saw 81\n",
      "Skipping line 453858: expected 65 fields, saw 97\n",
      "\n",
      "  df_ap_clean = pd.read_csv(ap_data_path, on_bad_lines=\"warn\", low_memory=False)\n"
     ]
    },
    {
     "data": {
      "application/vnd.microsoft.datawrangler.viewer.v0+json": {
       "columns": [
        {
         "name": "index",
         "rawType": "int64",
         "type": "integer"
        },
        {
         "name": "YEAR",
         "rawType": "object",
         "type": "string"
        },
        {
         "name": "QUARTER",
         "rawType": "object",
         "type": "string"
        },
        {
         "name": "MONTH",
         "rawType": "int64",
         "type": "integer"
        },
        {
         "name": "DAY_OF_MONTH",
         "rawType": "object",
         "type": "string"
        },
        {
         "name": "DAY_OF_WEEK",
         "rawType": "object",
         "type": "string"
        },
        {
         "name": "FL_DATE",
         "rawType": "object",
         "type": "string"
        },
        {
         "name": "UNIQUE_CARRIER",
         "rawType": "object",
         "type": "string"
        },
        {
         "name": "AIRLINE_ID",
         "rawType": "int64",
         "type": "integer"
        },
        {
         "name": "CARRIER",
         "rawType": "object",
         "type": "string"
        },
        {
         "name": "TAIL_NUM",
         "rawType": "object",
         "type": "string"
        },
        {
         "name": "FL_NUM",
         "rawType": "object",
         "type": "string"
        },
        {
         "name": "ORIGIN_AIRPORT_ID",
         "rawType": "object",
         "type": "string"
        },
        {
         "name": "ORIGIN_AIRPORT_SEQ_ID",
         "rawType": "int64",
         "type": "integer"
        },
        {
         "name": "ORIGIN_CITY_MARKET_ID",
         "rawType": "object",
         "type": "string"
        },
        {
         "name": "ORIGIN",
         "rawType": "object",
         "type": "string"
        },
        {
         "name": "ORIGIN_CITY_NAME",
         "rawType": "object",
         "type": "string"
        },
        {
         "name": "ORIGIN_STATE_ABR",
         "rawType": "object",
         "type": "string"
        },
        {
         "name": "ORIGIN_STATE_FIPS",
         "rawType": "float64",
         "type": "float"
        },
        {
         "name": "ORIGIN_STATE_NM",
         "rawType": "object",
         "type": "string"
        },
        {
         "name": "ORIGIN_WAC",
         "rawType": "object",
         "type": "string"
        },
        {
         "name": "DEST_AIRPORT_ID",
         "rawType": "object",
         "type": "string"
        },
        {
         "name": "DEST_AIRPORT_SEQ_ID",
         "rawType": "object",
         "type": "string"
        },
        {
         "name": "DEST_CITY_MARKET_ID",
         "rawType": "object",
         "type": "string"
        },
        {
         "name": "DEST",
         "rawType": "object",
         "type": "string"
        },
        {
         "name": "DEST_CITY_NAME",
         "rawType": "object",
         "type": "string"
        },
        {
         "name": "DEST_STATE_ABR",
         "rawType": "object",
         "type": "string"
        },
        {
         "name": "DEST_STATE_FIPS",
         "rawType": "float64",
         "type": "float"
        },
        {
         "name": "DEST_STATE_NM",
         "rawType": "object",
         "type": "string"
        },
        {
         "name": "DEST_WAC",
         "rawType": "float64",
         "type": "float"
        },
        {
         "name": "CRS_DEP_TIME",
         "rawType": "float64",
         "type": "float"
        },
        {
         "name": "DEP_TIME",
         "rawType": "object",
         "type": "string"
        },
        {
         "name": "DEP_DELAY",
         "rawType": "float64",
         "type": "float"
        },
        {
         "name": "DEP_DELAY_NEW",
         "rawType": "float64",
         "type": "float"
        },
        {
         "name": "DEP_DEL15",
         "rawType": "float64",
         "type": "float"
        },
        {
         "name": "DEP_DELAY_GROUP",
         "rawType": "float64",
         "type": "float"
        },
        {
         "name": "DEP_TIME_BLK",
         "rawType": "object",
         "type": "string"
        },
        {
         "name": "TAXI_OUT",
         "rawType": "object",
         "type": "string"
        },
        {
         "name": "WHEELS_OFF",
         "rawType": "float64",
         "type": "float"
        },
        {
         "name": "WHEELS_ON",
         "rawType": "float64",
         "type": "float"
        },
        {
         "name": "TAXI_IN",
         "rawType": "float64",
         "type": "float"
        },
        {
         "name": "CRS_ARR_TIME",
         "rawType": "float64",
         "type": "float"
        },
        {
         "name": "ARR_TIME",
         "rawType": "object",
         "type": "string"
        },
        {
         "name": "ARR_DELAY",
         "rawType": "float64",
         "type": "float"
        },
        {
         "name": "ARR_DELAY_NEW",
         "rawType": "float64",
         "type": "float"
        },
        {
         "name": "ARR_DEL15",
         "rawType": "float64",
         "type": "float"
        },
        {
         "name": "ARR_DELAY_GROUP",
         "rawType": "float64",
         "type": "float"
        },
        {
         "name": "ARR_TIME_BLK",
         "rawType": "object",
         "type": "string"
        },
        {
         "name": "CANCELLED",
         "rawType": "float64",
         "type": "float"
        },
        {
         "name": "CANCELLATION_CODE",
         "rawType": "object",
         "type": "unknown"
        },
        {
         "name": "DIVERTED",
         "rawType": "float64",
         "type": "float"
        },
        {
         "name": "CRS_ELAPSED_TIME",
         "rawType": "float64",
         "type": "float"
        },
        {
         "name": "ACTUAL_ELAPSED_TIME",
         "rawType": "float64",
         "type": "float"
        },
        {
         "name": "AIR_TIME",
         "rawType": "float64",
         "type": "float"
        },
        {
         "name": "FLIGHTS",
         "rawType": "float64",
         "type": "float"
        },
        {
         "name": "DISTANCE",
         "rawType": "float64",
         "type": "float"
        },
        {
         "name": "DISTANCE_GROUP",
         "rawType": "float64",
         "type": "float"
        },
        {
         "name": "CARRIER_DELAY",
         "rawType": "float64",
         "type": "float"
        },
        {
         "name": "WEATHER_DELAY",
         "rawType": "float64",
         "type": "float"
        },
        {
         "name": "NAS_DELAY",
         "rawType": "float64",
         "type": "float"
        },
        {
         "name": "SECURITY_DELAY",
         "rawType": "float64",
         "type": "float"
        },
        {
         "name": "LATE_AIRCRAFT_DELAY",
         "rawType": "float64",
         "type": "float"
        },
        {
         "name": "FIRST_DEP_TIME",
         "rawType": "float64",
         "type": "float"
        },
        {
         "name": "TOTAL_ADD_GTIME",
         "rawType": "float64",
         "type": "float"
        },
        {
         "name": "LONGEST_ADD_GTIME",
         "rawType": "float64",
         "type": "float"
        },
        {
         "name": "Unnamed: 64",
         "rawType": "float64",
         "type": "float"
        }
       ],
       "ref": "47acf8c8-de2a-4429-9143-4fdae980f7e7",
       "rows": [
        [
         "0",
         "2016",
         "2",
         "4",
         "3",
         "7",
         "2016-04-03",
         "DL",
         "19790",
         "DL",
         "N915DN",
         "759",
         "13487",
         "1348702",
         "31650",
         "MSP",
         "Minneapolis, MN",
         "MN",
         "27.0",
         "Minnesota",
         "63",
         "11884",
         "1188402",
         "31884",
         "GEG",
         "Spokane, WA",
         "WA",
         "53.0",
         "Washington",
         "93.0",
         "2000.0",
         "2010",
         "10.0",
         "10.0",
         "0.0",
         "0.0",
         "2000-2059",
         "12.00",
         "2022.0",
         "2103.0",
         "4.0",
         "2116.0",
         "2107",
         "-9.0",
         "0.0",
         "0.0",
         "-1.0",
         "2100-2159",
         "0.0",
         null,
         "0.0",
         "196.0",
         "177.0",
         "161.0",
         "1.0",
         "1175.0",
         "5.0",
         null,
         null,
         null,
         null,
         null,
         null,
         null,
         null,
         null
        ],
        [
         "1",
         "2016",
         "2",
         "4",
         "3",
         "7",
         "2016-04-03",
         "DL",
         "19790",
         "DL",
         "N3755D",
         "760",
         "10397",
         "1039705",
         "30397",
         "ATL",
         "Atlanta, GA",
         "GA",
         "13.0",
         "Georgia",
         "34",
         "14893",
         "1489302",
         "33192",
         "SMF",
         "Sacramento, CA",
         "CA",
         "6.0",
         "California",
         "91.0",
         "940.0",
         "0937",
         "-3.0",
         "0.0",
         "0.0",
         "-1.0",
         "0900-0959",
         "23.00",
         "1000.0",
         "1129.0",
         "5.0",
         "1156.0",
         "1134",
         "-22.0",
         "0.0",
         "0.0",
         "-2.0",
         "1100-1159",
         "0.0",
         null,
         "0.0",
         "316.0",
         "297.0",
         "269.0",
         "1.0",
         "2092.0",
         "9.0",
         null,
         null,
         null,
         null,
         null,
         null,
         null,
         null,
         null
        ],
        [
         "2",
         "2016",
         "2",
         "4",
         "3",
         "7",
         "2016-04-03",
         "DL",
         "19790",
         "DL",
         "N3755D",
         "760",
         "14893",
         "1489302",
         "33192",
         "SMF",
         "Sacramento, CA",
         "CA",
         "6.0",
         "California",
         "91",
         "10397",
         "1039705",
         "30397",
         "ATL",
         "Atlanta, GA",
         "GA",
         "13.0",
         "Georgia",
         "34.0",
         "1248.0",
         "1246",
         "-2.0",
         "0.0",
         "0.0",
         "-1.0",
         "1200-1259",
         "11.00",
         "1257.0",
         "2001.0",
         "6.0",
         "2013.0",
         "2007",
         "-6.0",
         "0.0",
         "0.0",
         "-1.0",
         "2000-2059",
         "0.0",
         null,
         "0.0",
         "265.0",
         "261.0",
         "244.0",
         "1.0",
         "2092.0",
         "9.0",
         null,
         null,
         null,
         null,
         null,
         null,
         null,
         null,
         null
        ],
        [
         "3",
         "2016",
         "2",
         "4",
         "3",
         "7",
         "2016-04-03",
         "DL",
         "19790",
         "DL",
         "N325US",
         "761",
         "12889",
         "1288903",
         "32211",
         "LAS",
         "Las Vegas, NV",
         "NV",
         "32.0",
         "Nevada",
         "85",
         "11193",
         "1119302",
         "33105",
         "CVG",
         "Cincinnati, OH",
         "KY",
         "21.0",
         "Kentucky",
         "52.0",
         "2345.0",
         "2344",
         "-1.0",
         "0.0",
         "0.0",
         "-1.0",
         "2300-2359",
         "21.00",
         "5.0",
         "619.0",
         "7.0",
         "630.0",
         "0626",
         "-4.0",
         "0.0",
         "0.0",
         "-1.0",
         "0600-0659",
         "0.0",
         null,
         "0.0",
         "225.0",
         "222.0",
         "194.0",
         "1.0",
         "1678.0",
         "7.0",
         null,
         null,
         null,
         null,
         null,
         null,
         null,
         null,
         null
        ],
        [
         "4",
         "2016",
         "2",
         "4",
         "3",
         "7",
         "2016-04-03",
         "DL",
         "19790",
         "DL",
         "N366NB",
         "762",
         "10397",
         "1039705",
         "30397",
         "ATL",
         "Atlanta, GA",
         "GA",
         "13.0",
         "Georgia",
         "34",
         "13232",
         "1323202",
         "30977",
         "MDW",
         "Chicago, IL",
         "IL",
         "17.0",
         "Illinois",
         "41.0",
         "1647.0",
         "1702",
         "15.0",
         "15.0",
         "1.0",
         "1.0",
         "1600-1659",
         "12.00",
         "1714.0",
         "1743.0",
         "4.0",
         "1745.0",
         "1747",
         "2.0",
         "2.0",
         "0.0",
         "0.0",
         "1700-1759",
         "0.0",
         null,
         "0.0",
         "118.0",
         "105.0",
         "89.0",
         "1.0",
         "591.0",
         "3.0",
         null,
         null,
         null,
         null,
         null,
         null,
         null,
         null,
         null
        ]
       ],
       "shape": {
        "columns": 65,
        "rows": 5
       }
      },
      "text/html": [
       "<div>\n",
       "<style scoped>\n",
       "    .dataframe tbody tr th:only-of-type {\n",
       "        vertical-align: middle;\n",
       "    }\n",
       "\n",
       "    .dataframe tbody tr th {\n",
       "        vertical-align: top;\n",
       "    }\n",
       "\n",
       "    .dataframe thead th {\n",
       "        text-align: right;\n",
       "    }\n",
       "</style>\n",
       "<table border=\"1\" class=\"dataframe\">\n",
       "  <thead>\n",
       "    <tr style=\"text-align: right;\">\n",
       "      <th></th>\n",
       "      <th>YEAR</th>\n",
       "      <th>QUARTER</th>\n",
       "      <th>MONTH</th>\n",
       "      <th>DAY_OF_MONTH</th>\n",
       "      <th>DAY_OF_WEEK</th>\n",
       "      <th>FL_DATE</th>\n",
       "      <th>UNIQUE_CARRIER</th>\n",
       "      <th>AIRLINE_ID</th>\n",
       "      <th>CARRIER</th>\n",
       "      <th>TAIL_NUM</th>\n",
       "      <th>...</th>\n",
       "      <th>DISTANCE_GROUP</th>\n",
       "      <th>CARRIER_DELAY</th>\n",
       "      <th>WEATHER_DELAY</th>\n",
       "      <th>NAS_DELAY</th>\n",
       "      <th>SECURITY_DELAY</th>\n",
       "      <th>LATE_AIRCRAFT_DELAY</th>\n",
       "      <th>FIRST_DEP_TIME</th>\n",
       "      <th>TOTAL_ADD_GTIME</th>\n",
       "      <th>LONGEST_ADD_GTIME</th>\n",
       "      <th>Unnamed: 64</th>\n",
       "    </tr>\n",
       "  </thead>\n",
       "  <tbody>\n",
       "    <tr>\n",
       "      <th>0</th>\n",
       "      <td>2016</td>\n",
       "      <td>2</td>\n",
       "      <td>4</td>\n",
       "      <td>3</td>\n",
       "      <td>7</td>\n",
       "      <td>2016-04-03</td>\n",
       "      <td>DL</td>\n",
       "      <td>19790</td>\n",
       "      <td>DL</td>\n",
       "      <td>N915DN</td>\n",
       "      <td>...</td>\n",
       "      <td>5.0</td>\n",
       "      <td>NaN</td>\n",
       "      <td>NaN</td>\n",
       "      <td>NaN</td>\n",
       "      <td>NaN</td>\n",
       "      <td>NaN</td>\n",
       "      <td>NaN</td>\n",
       "      <td>NaN</td>\n",
       "      <td>NaN</td>\n",
       "      <td>NaN</td>\n",
       "    </tr>\n",
       "    <tr>\n",
       "      <th>1</th>\n",
       "      <td>2016</td>\n",
       "      <td>2</td>\n",
       "      <td>4</td>\n",
       "      <td>3</td>\n",
       "      <td>7</td>\n",
       "      <td>2016-04-03</td>\n",
       "      <td>DL</td>\n",
       "      <td>19790</td>\n",
       "      <td>DL</td>\n",
       "      <td>N3755D</td>\n",
       "      <td>...</td>\n",
       "      <td>9.0</td>\n",
       "      <td>NaN</td>\n",
       "      <td>NaN</td>\n",
       "      <td>NaN</td>\n",
       "      <td>NaN</td>\n",
       "      <td>NaN</td>\n",
       "      <td>NaN</td>\n",
       "      <td>NaN</td>\n",
       "      <td>NaN</td>\n",
       "      <td>NaN</td>\n",
       "    </tr>\n",
       "    <tr>\n",
       "      <th>2</th>\n",
       "      <td>2016</td>\n",
       "      <td>2</td>\n",
       "      <td>4</td>\n",
       "      <td>3</td>\n",
       "      <td>7</td>\n",
       "      <td>2016-04-03</td>\n",
       "      <td>DL</td>\n",
       "      <td>19790</td>\n",
       "      <td>DL</td>\n",
       "      <td>N3755D</td>\n",
       "      <td>...</td>\n",
       "      <td>9.0</td>\n",
       "      <td>NaN</td>\n",
       "      <td>NaN</td>\n",
       "      <td>NaN</td>\n",
       "      <td>NaN</td>\n",
       "      <td>NaN</td>\n",
       "      <td>NaN</td>\n",
       "      <td>NaN</td>\n",
       "      <td>NaN</td>\n",
       "      <td>NaN</td>\n",
       "    </tr>\n",
       "    <tr>\n",
       "      <th>3</th>\n",
       "      <td>2016</td>\n",
       "      <td>2</td>\n",
       "      <td>4</td>\n",
       "      <td>3</td>\n",
       "      <td>7</td>\n",
       "      <td>2016-04-03</td>\n",
       "      <td>DL</td>\n",
       "      <td>19790</td>\n",
       "      <td>DL</td>\n",
       "      <td>N325US</td>\n",
       "      <td>...</td>\n",
       "      <td>7.0</td>\n",
       "      <td>NaN</td>\n",
       "      <td>NaN</td>\n",
       "      <td>NaN</td>\n",
       "      <td>NaN</td>\n",
       "      <td>NaN</td>\n",
       "      <td>NaN</td>\n",
       "      <td>NaN</td>\n",
       "      <td>NaN</td>\n",
       "      <td>NaN</td>\n",
       "    </tr>\n",
       "    <tr>\n",
       "      <th>4</th>\n",
       "      <td>2016</td>\n",
       "      <td>2</td>\n",
       "      <td>4</td>\n",
       "      <td>3</td>\n",
       "      <td>7</td>\n",
       "      <td>2016-04-03</td>\n",
       "      <td>DL</td>\n",
       "      <td>19790</td>\n",
       "      <td>DL</td>\n",
       "      <td>N366NB</td>\n",
       "      <td>...</td>\n",
       "      <td>3.0</td>\n",
       "      <td>NaN</td>\n",
       "      <td>NaN</td>\n",
       "      <td>NaN</td>\n",
       "      <td>NaN</td>\n",
       "      <td>NaN</td>\n",
       "      <td>NaN</td>\n",
       "      <td>NaN</td>\n",
       "      <td>NaN</td>\n",
       "      <td>NaN</td>\n",
       "    </tr>\n",
       "  </tbody>\n",
       "</table>\n",
       "<p>5 rows × 65 columns</p>\n",
       "</div>"
      ],
      "text/plain": [
       "   YEAR QUARTER  MONTH DAY_OF_MONTH DAY_OF_WEEK     FL_DATE UNIQUE_CARRIER  \\\n",
       "0  2016       2      4            3           7  2016-04-03             DL   \n",
       "1  2016       2      4            3           7  2016-04-03             DL   \n",
       "2  2016       2      4            3           7  2016-04-03             DL   \n",
       "3  2016       2      4            3           7  2016-04-03             DL   \n",
       "4  2016       2      4            3           7  2016-04-03             DL   \n",
       "\n",
       "   AIRLINE_ID CARRIER TAIL_NUM  ... DISTANCE_GROUP CARRIER_DELAY  \\\n",
       "0       19790      DL   N915DN  ...            5.0           NaN   \n",
       "1       19790      DL   N3755D  ...            9.0           NaN   \n",
       "2       19790      DL   N3755D  ...            9.0           NaN   \n",
       "3       19790      DL   N325US  ...            7.0           NaN   \n",
       "4       19790      DL   N366NB  ...            3.0           NaN   \n",
       "\n",
       "   WEATHER_DELAY NAS_DELAY SECURITY_DELAY LATE_AIRCRAFT_DELAY FIRST_DEP_TIME  \\\n",
       "0            NaN       NaN            NaN                 NaN            NaN   \n",
       "1            NaN       NaN            NaN                 NaN            NaN   \n",
       "2            NaN       NaN            NaN                 NaN            NaN   \n",
       "3            NaN       NaN            NaN                 NaN            NaN   \n",
       "4            NaN       NaN            NaN                 NaN            NaN   \n",
       "\n",
       "   TOTAL_ADD_GTIME LONGEST_ADD_GTIME Unnamed: 64  \n",
       "0              NaN               NaN         NaN  \n",
       "1              NaN               NaN         NaN  \n",
       "2              NaN               NaN         NaN  \n",
       "3              NaN               NaN         NaN  \n",
       "4              NaN               NaN         NaN  \n",
       "\n",
       "[5 rows x 65 columns]"
      ]
     },
     "execution_count": 25,
     "metadata": {},
     "output_type": "execute_result"
    }
   ],
   "source": [
    "ap_data_path = join(raw_data_path, \"2016_04.csv\")\n",
    "df_ap_clean = pd.read_csv(ap_data_path, on_bad_lines=\"warn\", low_memory=False)\n",
    "df_ap_clean.head()"
   ]
  },
  {
   "cell_type": "code",
   "execution_count": 26,
   "metadata": {},
   "outputs": [
    {
     "name": "stdout",
     "output_type": "stream",
     "text": [
      "<class 'pandas.core.frame.DataFrame'>\n",
      "RangeIndex: 479950 entries, 0 to 479949\n",
      "Data columns (total 65 columns):\n",
      " #   Column                 Non-Null Count   Dtype  \n",
      "---  ------                 --------------   -----  \n",
      " 0   YEAR                   479950 non-null  object \n",
      " 1   QUARTER                479950 non-null  object \n",
      " 2   MONTH                  479950 non-null  int64  \n",
      " 3   DAY_OF_MONTH           479950 non-null  object \n",
      " 4   DAY_OF_WEEK            479950 non-null  object \n",
      " 5   FL_DATE                479950 non-null  object \n",
      " 6   UNIQUE_CARRIER         479950 non-null  object \n",
      " 7   AIRLINE_ID             479950 non-null  int64  \n",
      " 8   CARRIER                479950 non-null  object \n",
      " 9   TAIL_NUM               479185 non-null  object \n",
      " 10  FL_NUM                 479950 non-null  object \n",
      " 11  ORIGIN_AIRPORT_ID      479950 non-null  object \n",
      " 12  ORIGIN_AIRPORT_SEQ_ID  479950 non-null  int64  \n",
      " 13  ORIGIN_CITY_MARKET_ID  479950 non-null  object \n",
      " 14  ORIGIN                 479950 non-null  object \n",
      " 15  ORIGIN_CITY_NAME       479950 non-null  object \n",
      " 16  ORIGIN_STATE_ABR       479950 non-null  object \n",
      " 17  ORIGIN_STATE_FIPS      479950 non-null  float64\n",
      " 18  ORIGIN_STATE_NM        479950 non-null  object \n",
      " 19  ORIGIN_WAC             479950 non-null  object \n",
      " 20  DEST_AIRPORT_ID        479950 non-null  object \n",
      " 21  DEST_AIRPORT_SEQ_ID    479950 non-null  object \n",
      " 22  DEST_CITY_MARKET_ID    479950 non-null  object \n",
      " 23  DEST                   479949 non-null  object \n",
      " 24  DEST_CITY_NAME         479950 non-null  object \n",
      " 25  DEST_STATE_ABR         479949 non-null  object \n",
      " 26  DEST_STATE_FIPS        479950 non-null  float64\n",
      " 27  DEST_STATE_NM          479950 non-null  object \n",
      " 28  DEST_WAC               479950 non-null  float64\n",
      " 29  CRS_DEP_TIME           479950 non-null  float64\n",
      " 30  DEP_TIME               475872 non-null  object \n",
      " 31  DEP_DELAY              475871 non-null  float64\n",
      " 32  DEP_DELAY_NEW          475871 non-null  float64\n",
      " 33  DEP_DEL15              475870 non-null  float64\n",
      " 34  DEP_DELAY_GROUP        475870 non-null  float64\n",
      " 35  DEP_TIME_BLK           479948 non-null  object \n",
      " 36  TAXI_OUT               475753 non-null  object \n",
      " 37  WHEELS_OFF             475753 non-null  float64\n",
      " 38  WHEELS_ON              475609 non-null  float64\n",
      " 39  TAXI_IN                475609 non-null  float64\n",
      " 40  CRS_ARR_TIME           479947 non-null  float64\n",
      " 41  ARR_TIME               475608 non-null  object \n",
      " 42  ARR_DELAY              474754 non-null  float64\n",
      " 43  ARR_DELAY_NEW          474753 non-null  float64\n",
      " 44  ARR_DEL15              474754 non-null  float64\n",
      " 45  ARR_DELAY_GROUP        474754 non-null  float64\n",
      " 46  ARR_TIME_BLK           479947 non-null  object \n",
      " 47  CANCELLED              479947 non-null  float64\n",
      " 48  CANCELLATION_CODE      4223 non-null    object \n",
      " 49  DIVERTED               479946 non-null  float64\n",
      " 50  CRS_ELAPSED_TIME       479946 non-null  float64\n",
      " 51  ACTUAL_ELAPSED_TIME    474752 non-null  float64\n",
      " 52  AIR_TIME               474752 non-null  float64\n",
      " 53  FLIGHTS                479945 non-null  float64\n",
      " 54  DISTANCE               479945 non-null  float64\n",
      " 55  DISTANCE_GROUP         479945 non-null  float64\n",
      " 56  CARRIER_DELAY          70808 non-null   float64\n",
      " 57  WEATHER_DELAY          70808 non-null   float64\n",
      " 58  NAS_DELAY              70808 non-null   float64\n",
      " 59  SECURITY_DELAY         70808 non-null   float64\n",
      " 60  LATE_AIRCRAFT_DELAY    70808 non-null   float64\n",
      " 61  FIRST_DEP_TIME         2594 non-null    float64\n",
      " 62  TOTAL_ADD_GTIME        2594 non-null    float64\n",
      " 63  LONGEST_ADD_GTIME      2594 non-null    float64\n",
      " 64  Unnamed: 64            0 non-null       float64\n",
      "dtypes: float64(33), int64(3), object(29)\n",
      "memory usage: 238.0+ MB\n"
     ]
    }
   ],
   "source": [
    "df_ap_clean.info()"
   ]
  },
  {
   "cell_type": "markdown",
   "metadata": {},
   "source": [
    "Nous constatons rapidement que des colonnes qui devraient être de type int ou float (comme pour le fichier de janvier) sont de type object, ce qui indique probablement un type mixte pour ces colonnes. Analysons quelques unes de ces colonnes problématiques.\n"
   ]
  },
  {
   "cell_type": "code",
   "execution_count": 27,
   "metadata": {},
   "outputs": [
    {
     "name": "stdout",
     "output_type": "stream",
     "text": [
      "--------------------------------------------------\n",
      "QUARTER\n",
      "--------------------------------------------------\n",
      "QUARTER\n",
      "2     362831\n",
      "1     117118\n",
      "EV         1\n",
      "Name: count, dtype: int64\n",
      "--------------------------------------------------\n",
      "DAY_OF_MONTH\n",
      "--------------------------------------------------\n",
      "DAY_OF_MONTH\n",
      "25    18088\n",
      "15    17894\n",
      "29    17791\n",
      "22    17762\n",
      "21    17606\n",
      "28    17398\n",
      "27    17249\n",
      "18    17077\n",
      "20    17059\n",
      "24    16783\n",
      "14    16641\n",
      "26    16330\n",
      "6     16285\n",
      "19    16254\n",
      "17    15656\n",
      "3     15608\n",
      "23    15571\n",
      "13    15188\n",
      "8     15041\n",
      "30    14990\n",
      "1     14880\n",
      "12    14874\n",
      "4     14797\n",
      "7     14741\n",
      "11    14618\n",
      "16    14581\n",
      "5     14326\n",
      "2     14002\n",
      "10    13899\n",
      "9     12570\n",
      "31     4390\n",
      "EV        1\n",
      "Name: count, dtype: int64\n",
      "--------------------------------------------------\n",
      "DAY_OF_WEEK\n",
      "--------------------------------------------------\n",
      "DAY_OF_WEEK\n",
      "5         76515\n",
      "2         70534\n",
      "4         69843\n",
      "3         69261\n",
      "1         66117\n",
      "6         64559\n",
      "7         63120\n",
      "N707EV        1\n",
      "Name: count, dtype: int64\n",
      "--------------------------------------------------\n",
      "FL_NUM\n",
      "--------------------------------------------------\n",
      "FL_NUM\n",
      "511            316\n",
      "1402           313\n",
      "321            285\n",
      "1983           280\n",
      "188            277\n",
      "              ... \n",
      "5506             1\n",
      "5641             1\n",
      "5521             1\n",
      "5609             1\n",
      "582700-1759      1\n",
      "Name: count, Length: 5949, dtype: int64\n",
      "--------------------------------------------------\n",
      "CRS_DEP_TIME\n",
      "--------------------------------------------------\n",
      "CRS_DEP_TIME\n",
      " 600.0    8672\n",
      " 700.0    6496\n",
      " 800.0    4169\n",
      " 900.0    3254\n",
      " 730.0    3243\n",
      "          ... \n",
      " 27.0        1\n",
      "-1.0         1\n",
      " 13.0        1\n",
      " 503.0       1\n",
      " 235.0       1\n",
      "Name: count, Length: 1219, dtype: int64\n",
      "--------------------------------------------------\n",
      "CRS_ARR_TIME\n",
      "--------------------------------------------------\n",
      "CRS_ARR_TIME\n",
      "2015.0    1632\n",
      "1430.0    1561\n",
      "1305.0    1561\n",
      "1650.0    1496\n",
      "910.0     1489\n",
      "          ... \n",
      "352.0        1\n",
      "201.0        1\n",
      "347.0        1\n",
      "120.0        1\n",
      "0.0          1\n",
      "Name: count, Length: 1320, dtype: int64\n",
      "--------------------------------------------------\n",
      "ARR_TIME_BLK\n",
      "--------------------------------------------------\n",
      "ARR_TIME_BLK\n",
      "1600-1659    32908\n",
      "2100-2159    30175\n",
      "1800-1859    29915\n",
      "1100-1159    28859\n",
      "1000-1059    28832\n",
      "1400-1459    28821\n",
      "2000-2059    28475\n",
      "0900-0959    28426\n",
      "1300-1359    28135\n",
      "1700-1759    27844\n",
      "1900-1959    27656\n",
      "1200-1259    27471\n",
      "1500-1559    26754\n",
      "2200-2259    24222\n",
      "0800-0859    22642\n",
      "2300-2359    20706\n",
      "0700-0759    17456\n",
      "0001-0559    12975\n",
      "0600-0659     7674\n",
      "80.00            1\n",
      "Name: count, dtype: int64\n"
     ]
    }
   ],
   "source": [
    "cols_to_check = [\n",
    "    \"QUARTER\",\n",
    "    \"DAY_OF_MONTH\",\n",
    "    \"DAY_OF_WEEK\",\n",
    "    \"FL_NUM\",\n",
    "    \"CRS_DEP_TIME\",\n",
    "    \"CRS_ARR_TIME\",\n",
    "    \"ARR_TIME_BLK\",\n",
    "]\n",
    "\n",
    "for col in cols_to_check:\n",
    "    print(\"-\" * 50)\n",
    "    print(col)\n",
    "    print(\"-\" * 50)\n",
    "    print(df_ap_clean[col].value_counts())"
   ]
  },
  {
   "cell_type": "markdown",
   "metadata": {},
   "source": [
    "Nous constatons certaines valeurs aberrantes parmi les valeurs uniques de certaines colonnes. Une seule ligne semble concernée à chaque fois. Regardons s'il s'agit toujours de la même ligne.\n"
   ]
  },
  {
   "cell_type": "code",
   "execution_count": 28,
   "metadata": {},
   "outputs": [
    {
     "data": {
      "application/vnd.microsoft.datawrangler.viewer.v0+json": {
       "columns": [
        {
         "name": "index",
         "rawType": "int64",
         "type": "integer"
        },
        {
         "name": "YEAR",
         "rawType": "object",
         "type": "string"
        },
        {
         "name": "QUARTER",
         "rawType": "object",
         "type": "string"
        },
        {
         "name": "MONTH",
         "rawType": "int64",
         "type": "integer"
        },
        {
         "name": "DAY_OF_MONTH",
         "rawType": "object",
         "type": "string"
        },
        {
         "name": "DAY_OF_WEEK",
         "rawType": "object",
         "type": "string"
        },
        {
         "name": "FL_DATE",
         "rawType": "object",
         "type": "string"
        },
        {
         "name": "UNIQUE_CARRIER",
         "rawType": "object",
         "type": "string"
        },
        {
         "name": "AIRLINE_ID",
         "rawType": "int64",
         "type": "integer"
        },
        {
         "name": "CARRIER",
         "rawType": "object",
         "type": "string"
        },
        {
         "name": "TAIL_NUM",
         "rawType": "object",
         "type": "string"
        },
        {
         "name": "FL_NUM",
         "rawType": "object",
         "type": "string"
        },
        {
         "name": "ORIGIN_AIRPORT_ID",
         "rawType": "object",
         "type": "string"
        },
        {
         "name": "ORIGIN_AIRPORT_SEQ_ID",
         "rawType": "int64",
         "type": "integer"
        },
        {
         "name": "ORIGIN_CITY_MARKET_ID",
         "rawType": "object",
         "type": "string"
        },
        {
         "name": "ORIGIN",
         "rawType": "object",
         "type": "string"
        },
        {
         "name": "ORIGIN_CITY_NAME",
         "rawType": "object",
         "type": "string"
        },
        {
         "name": "ORIGIN_STATE_ABR",
         "rawType": "object",
         "type": "string"
        },
        {
         "name": "ORIGIN_STATE_FIPS",
         "rawType": "float64",
         "type": "float"
        },
        {
         "name": "ORIGIN_STATE_NM",
         "rawType": "object",
         "type": "string"
        },
        {
         "name": "ORIGIN_WAC",
         "rawType": "object",
         "type": "string"
        },
        {
         "name": "DEST_AIRPORT_ID",
         "rawType": "object",
         "type": "string"
        },
        {
         "name": "DEST_AIRPORT_SEQ_ID",
         "rawType": "object",
         "type": "string"
        },
        {
         "name": "DEST_CITY_MARKET_ID",
         "rawType": "object",
         "type": "string"
        },
        {
         "name": "DEST",
         "rawType": "object",
         "type": "string"
        },
        {
         "name": "DEST_CITY_NAME",
         "rawType": "object",
         "type": "string"
        },
        {
         "name": "DEST_STATE_ABR",
         "rawType": "object",
         "type": "string"
        },
        {
         "name": "DEST_STATE_FIPS",
         "rawType": "float64",
         "type": "float"
        },
        {
         "name": "DEST_STATE_NM",
         "rawType": "object",
         "type": "string"
        },
        {
         "name": "DEST_WAC",
         "rawType": "float64",
         "type": "float"
        },
        {
         "name": "CRS_DEP_TIME",
         "rawType": "float64",
         "type": "float"
        },
        {
         "name": "DEP_TIME",
         "rawType": "object",
         "type": "string"
        },
        {
         "name": "DEP_DELAY",
         "rawType": "float64",
         "type": "float"
        },
        {
         "name": "DEP_DELAY_NEW",
         "rawType": "float64",
         "type": "float"
        },
        {
         "name": "DEP_DEL15",
         "rawType": "float64",
         "type": "float"
        },
        {
         "name": "DEP_DELAY_GROUP",
         "rawType": "float64",
         "type": "float"
        },
        {
         "name": "DEP_TIME_BLK",
         "rawType": "object",
         "type": "string"
        },
        {
         "name": "TAXI_OUT",
         "rawType": "object",
         "type": "string"
        },
        {
         "name": "WHEELS_OFF",
         "rawType": "float64",
         "type": "float"
        },
        {
         "name": "WHEELS_ON",
         "rawType": "float64",
         "type": "float"
        },
        {
         "name": "TAXI_IN",
         "rawType": "float64",
         "type": "float"
        },
        {
         "name": "CRS_ARR_TIME",
         "rawType": "float64",
         "type": "float"
        },
        {
         "name": "ARR_TIME",
         "rawType": "object",
         "type": "string"
        },
        {
         "name": "ARR_DELAY",
         "rawType": "float64",
         "type": "float"
        },
        {
         "name": "ARR_DELAY_NEW",
         "rawType": "float64",
         "type": "float"
        },
        {
         "name": "ARR_DEL15",
         "rawType": "float64",
         "type": "float"
        },
        {
         "name": "ARR_DELAY_GROUP",
         "rawType": "float64",
         "type": "float"
        },
        {
         "name": "ARR_TIME_BLK",
         "rawType": "object",
         "type": "string"
        },
        {
         "name": "CANCELLED",
         "rawType": "float64",
         "type": "float"
        },
        {
         "name": "CANCELLATION_CODE",
         "rawType": "object",
         "type": "string"
        },
        {
         "name": "DIVERTED",
         "rawType": "float64",
         "type": "float"
        },
        {
         "name": "CRS_ELAPSED_TIME",
         "rawType": "float64",
         "type": "float"
        },
        {
         "name": "ACTUAL_ELAPSED_TIME",
         "rawType": "float64",
         "type": "float"
        },
        {
         "name": "AIR_TIME",
         "rawType": "float64",
         "type": "float"
        },
        {
         "name": "FLIGHTS",
         "rawType": "float64",
         "type": "float"
        },
        {
         "name": "DISTANCE",
         "rawType": "float64",
         "type": "float"
        },
        {
         "name": "DISTANCE_GROUP",
         "rawType": "float64",
         "type": "float"
        },
        {
         "name": "CARRIER_DELAY",
         "rawType": "float64",
         "type": "float"
        },
        {
         "name": "WEATHER_DELAY",
         "rawType": "float64",
         "type": "float"
        },
        {
         "name": "NAS_DELAY",
         "rawType": "float64",
         "type": "float"
        },
        {
         "name": "SECURITY_DELAY",
         "rawType": "float64",
         "type": "float"
        },
        {
         "name": "LATE_AIRCRAFT_DELAY",
         "rawType": "float64",
         "type": "float"
        },
        {
         "name": "FIRST_DEP_TIME",
         "rawType": "float64",
         "type": "float"
        },
        {
         "name": "TOTAL_ADD_GTIME",
         "rawType": "float64",
         "type": "float"
        },
        {
         "name": "LONGEST_ADD_GTIME",
         "rawType": "float64",
         "type": "float"
        },
        {
         "name": "Unnamed: 64",
         "rawType": "float64",
         "type": "float"
        }
       ],
       "ref": "94d788b5-9a43-4e7d-b199-75c486ec07a2",
       "rows": [
        [
         "461808",
         "16-03-04",
         "EV",
         "20366",
         "EV",
         "N707EV",
         "5059",
         "10397",
         "1039705",
         "30397",
         "ATL",
         "Atlanta, GA",
         "GA",
         "13",
         "Georgia",
         "34",
         "11953",
         "1195302",
         "31953.0",
         "GNV",
         "Gainesville, FL",
         "FL",
         "12",
         "Florida",
         "33",
         "1331",
         "1328",
         "-3.0",
         "0.00",
         "0.0",
         "-1.0",
         "1300-1359",
         "12.0",
         "1340.0",
         "1428.0",
         "20.0",
         "1440",
         "1448",
         "8.0",
         "8.0",
         "0.0",
         "0.0",
         "1400-1459",
         "0.0",
         null,
         "0.0",
         "69.0",
         "80.00",
         "48.0",
         "1.00",
         "300.0",
         "2.0",
         null,
         null,
         null,
         null,
         null,
         null,
         null,
         null,
         null,
         null,
         null,
         null,
         null,
         null
        ]
       ],
       "shape": {
        "columns": 65,
        "rows": 1
       }
      },
      "text/html": [
       "<div>\n",
       "<style scoped>\n",
       "    .dataframe tbody tr th:only-of-type {\n",
       "        vertical-align: middle;\n",
       "    }\n",
       "\n",
       "    .dataframe tbody tr th {\n",
       "        vertical-align: top;\n",
       "    }\n",
       "\n",
       "    .dataframe thead th {\n",
       "        text-align: right;\n",
       "    }\n",
       "</style>\n",
       "<table border=\"1\" class=\"dataframe\">\n",
       "  <thead>\n",
       "    <tr style=\"text-align: right;\">\n",
       "      <th></th>\n",
       "      <th>YEAR</th>\n",
       "      <th>QUARTER</th>\n",
       "      <th>MONTH</th>\n",
       "      <th>DAY_OF_MONTH</th>\n",
       "      <th>DAY_OF_WEEK</th>\n",
       "      <th>FL_DATE</th>\n",
       "      <th>UNIQUE_CARRIER</th>\n",
       "      <th>AIRLINE_ID</th>\n",
       "      <th>CARRIER</th>\n",
       "      <th>TAIL_NUM</th>\n",
       "      <th>...</th>\n",
       "      <th>DISTANCE_GROUP</th>\n",
       "      <th>CARRIER_DELAY</th>\n",
       "      <th>WEATHER_DELAY</th>\n",
       "      <th>NAS_DELAY</th>\n",
       "      <th>SECURITY_DELAY</th>\n",
       "      <th>LATE_AIRCRAFT_DELAY</th>\n",
       "      <th>FIRST_DEP_TIME</th>\n",
       "      <th>TOTAL_ADD_GTIME</th>\n",
       "      <th>LONGEST_ADD_GTIME</th>\n",
       "      <th>Unnamed: 64</th>\n",
       "    </tr>\n",
       "  </thead>\n",
       "  <tbody>\n",
       "    <tr>\n",
       "      <th>461808</th>\n",
       "      <td>16-03-04</td>\n",
       "      <td>EV</td>\n",
       "      <td>20366</td>\n",
       "      <td>EV</td>\n",
       "      <td>N707EV</td>\n",
       "      <td>5059</td>\n",
       "      <td>10397</td>\n",
       "      <td>1039705</td>\n",
       "      <td>30397</td>\n",
       "      <td>ATL</td>\n",
       "      <td>...</td>\n",
       "      <td>NaN</td>\n",
       "      <td>NaN</td>\n",
       "      <td>NaN</td>\n",
       "      <td>NaN</td>\n",
       "      <td>NaN</td>\n",
       "      <td>NaN</td>\n",
       "      <td>NaN</td>\n",
       "      <td>NaN</td>\n",
       "      <td>NaN</td>\n",
       "      <td>NaN</td>\n",
       "    </tr>\n",
       "  </tbody>\n",
       "</table>\n",
       "<p>1 rows × 65 columns</p>\n",
       "</div>"
      ],
      "text/plain": [
       "            YEAR QUARTER  MONTH DAY_OF_MONTH DAY_OF_WEEK FL_DATE  \\\n",
       "461808  16-03-04      EV  20366           EV      N707EV    5059   \n",
       "\n",
       "       UNIQUE_CARRIER  AIRLINE_ID CARRIER TAIL_NUM  ... DISTANCE_GROUP  \\\n",
       "461808          10397     1039705   30397      ATL  ...            NaN   \n",
       "\n",
       "       CARRIER_DELAY  WEATHER_DELAY NAS_DELAY SECURITY_DELAY  \\\n",
       "461808           NaN            NaN       NaN            NaN   \n",
       "\n",
       "       LATE_AIRCRAFT_DELAY FIRST_DEP_TIME  TOTAL_ADD_GTIME LONGEST_ADD_GTIME  \\\n",
       "461808                 NaN            NaN              NaN               NaN   \n",
       "\n",
       "       Unnamed: 64  \n",
       "461808         NaN  \n",
       "\n",
       "[1 rows x 65 columns]"
      ]
     },
     "execution_count": 28,
     "metadata": {},
     "output_type": "execute_result"
    }
   ],
   "source": [
    "ev_rows = df_ap_clean[df_ap_clean[\"QUARTER\"] == \"EV\"]\n",
    "ev_rows"
   ]
  },
  {
   "cell_type": "code",
   "execution_count": 29,
   "metadata": {},
   "outputs": [
    {
     "data": {
      "application/vnd.microsoft.datawrangler.viewer.v0+json": {
       "columns": [
        {
         "name": "index",
         "rawType": "int64",
         "type": "integer"
        },
        {
         "name": "YEAR",
         "rawType": "object",
         "type": "string"
        },
        {
         "name": "QUARTER",
         "rawType": "object",
         "type": "string"
        },
        {
         "name": "MONTH",
         "rawType": "int64",
         "type": "integer"
        },
        {
         "name": "DAY_OF_MONTH",
         "rawType": "object",
         "type": "string"
        },
        {
         "name": "DAY_OF_WEEK",
         "rawType": "object",
         "type": "string"
        },
        {
         "name": "FL_DATE",
         "rawType": "object",
         "type": "string"
        },
        {
         "name": "UNIQUE_CARRIER",
         "rawType": "object",
         "type": "string"
        },
        {
         "name": "AIRLINE_ID",
         "rawType": "int64",
         "type": "integer"
        },
        {
         "name": "CARRIER",
         "rawType": "object",
         "type": "string"
        },
        {
         "name": "TAIL_NUM",
         "rawType": "object",
         "type": "string"
        },
        {
         "name": "FL_NUM",
         "rawType": "object",
         "type": "string"
        },
        {
         "name": "ORIGIN_AIRPORT_ID",
         "rawType": "object",
         "type": "string"
        },
        {
         "name": "ORIGIN_AIRPORT_SEQ_ID",
         "rawType": "int64",
         "type": "integer"
        },
        {
         "name": "ORIGIN_CITY_MARKET_ID",
         "rawType": "object",
         "type": "string"
        },
        {
         "name": "ORIGIN",
         "rawType": "object",
         "type": "string"
        },
        {
         "name": "ORIGIN_CITY_NAME",
         "rawType": "object",
         "type": "string"
        },
        {
         "name": "ORIGIN_STATE_ABR",
         "rawType": "object",
         "type": "string"
        },
        {
         "name": "ORIGIN_STATE_FIPS",
         "rawType": "float64",
         "type": "float"
        },
        {
         "name": "ORIGIN_STATE_NM",
         "rawType": "object",
         "type": "string"
        },
        {
         "name": "ORIGIN_WAC",
         "rawType": "object",
         "type": "string"
        },
        {
         "name": "DEST_AIRPORT_ID",
         "rawType": "object",
         "type": "string"
        },
        {
         "name": "DEST_AIRPORT_SEQ_ID",
         "rawType": "object",
         "type": "string"
        },
        {
         "name": "DEST_CITY_MARKET_ID",
         "rawType": "object",
         "type": "string"
        },
        {
         "name": "DEST",
         "rawType": "object",
         "type": "string"
        },
        {
         "name": "DEST_CITY_NAME",
         "rawType": "object",
         "type": "string"
        },
        {
         "name": "DEST_STATE_ABR",
         "rawType": "object",
         "type": "string"
        },
        {
         "name": "DEST_STATE_FIPS",
         "rawType": "float64",
         "type": "float"
        },
        {
         "name": "DEST_STATE_NM",
         "rawType": "object",
         "type": "string"
        },
        {
         "name": "DEST_WAC",
         "rawType": "float64",
         "type": "float"
        },
        {
         "name": "CRS_DEP_TIME",
         "rawType": "float64",
         "type": "float"
        },
        {
         "name": "DEP_TIME",
         "rawType": "object",
         "type": "string"
        },
        {
         "name": "DEP_DELAY",
         "rawType": "float64",
         "type": "float"
        },
        {
         "name": "DEP_DELAY_NEW",
         "rawType": "float64",
         "type": "float"
        },
        {
         "name": "DEP_DEL15",
         "rawType": "float64",
         "type": "float"
        },
        {
         "name": "DEP_DELAY_GROUP",
         "rawType": "float64",
         "type": "float"
        },
        {
         "name": "DEP_TIME_BLK",
         "rawType": "object",
         "type": "string"
        },
        {
         "name": "TAXI_OUT",
         "rawType": "object",
         "type": "string"
        },
        {
         "name": "WHEELS_OFF",
         "rawType": "float64",
         "type": "float"
        },
        {
         "name": "WHEELS_ON",
         "rawType": "float64",
         "type": "float"
        },
        {
         "name": "TAXI_IN",
         "rawType": "float64",
         "type": "float"
        },
        {
         "name": "CRS_ARR_TIME",
         "rawType": "float64",
         "type": "float"
        },
        {
         "name": "ARR_TIME",
         "rawType": "object",
         "type": "string"
        },
        {
         "name": "ARR_DELAY",
         "rawType": "float64",
         "type": "float"
        },
        {
         "name": "ARR_DELAY_NEW",
         "rawType": "float64",
         "type": "float"
        },
        {
         "name": "ARR_DEL15",
         "rawType": "float64",
         "type": "float"
        },
        {
         "name": "ARR_DELAY_GROUP",
         "rawType": "float64",
         "type": "float"
        },
        {
         "name": "ARR_TIME_BLK",
         "rawType": "object",
         "type": "string"
        },
        {
         "name": "CANCELLED",
         "rawType": "float64",
         "type": "float"
        },
        {
         "name": "CANCELLATION_CODE",
         "rawType": "object",
         "type": "string"
        },
        {
         "name": "DIVERTED",
         "rawType": "float64",
         "type": "float"
        },
        {
         "name": "CRS_ELAPSED_TIME",
         "rawType": "float64",
         "type": "float"
        },
        {
         "name": "ACTUAL_ELAPSED_TIME",
         "rawType": "float64",
         "type": "float"
        },
        {
         "name": "AIR_TIME",
         "rawType": "float64",
         "type": "float"
        },
        {
         "name": "FLIGHTS",
         "rawType": "float64",
         "type": "float"
        },
        {
         "name": "DISTANCE",
         "rawType": "float64",
         "type": "float"
        },
        {
         "name": "DISTANCE_GROUP",
         "rawType": "float64",
         "type": "float"
        },
        {
         "name": "CARRIER_DELAY",
         "rawType": "float64",
         "type": "float"
        },
        {
         "name": "WEATHER_DELAY",
         "rawType": "float64",
         "type": "float"
        },
        {
         "name": "NAS_DELAY",
         "rawType": "float64",
         "type": "float"
        },
        {
         "name": "SECURITY_DELAY",
         "rawType": "float64",
         "type": "float"
        },
        {
         "name": "LATE_AIRCRAFT_DELAY",
         "rawType": "float64",
         "type": "float"
        },
        {
         "name": "FIRST_DEP_TIME",
         "rawType": "float64",
         "type": "float"
        },
        {
         "name": "TOTAL_ADD_GTIME",
         "rawType": "float64",
         "type": "float"
        },
        {
         "name": "LONGEST_ADD_GTIME",
         "rawType": "float64",
         "type": "float"
        },
        {
         "name": "Unnamed: 64",
         "rawType": "float64",
         "type": "float"
        }
       ],
       "ref": "aef34e49-e646-4232-850a-8653cf1a2025",
       "rows": [],
       "shape": {
        "columns": 65,
        "rows": 0
       }
      },
      "text/html": [
       "<div>\n",
       "<style scoped>\n",
       "    .dataframe tbody tr th:only-of-type {\n",
       "        vertical-align: middle;\n",
       "    }\n",
       "\n",
       "    .dataframe tbody tr th {\n",
       "        vertical-align: top;\n",
       "    }\n",
       "\n",
       "    .dataframe thead th {\n",
       "        text-align: right;\n",
       "    }\n",
       "</style>\n",
       "<table border=\"1\" class=\"dataframe\">\n",
       "  <thead>\n",
       "    <tr style=\"text-align: right;\">\n",
       "      <th></th>\n",
       "      <th>YEAR</th>\n",
       "      <th>QUARTER</th>\n",
       "      <th>MONTH</th>\n",
       "      <th>DAY_OF_MONTH</th>\n",
       "      <th>DAY_OF_WEEK</th>\n",
       "      <th>FL_DATE</th>\n",
       "      <th>UNIQUE_CARRIER</th>\n",
       "      <th>AIRLINE_ID</th>\n",
       "      <th>CARRIER</th>\n",
       "      <th>TAIL_NUM</th>\n",
       "      <th>...</th>\n",
       "      <th>DISTANCE_GROUP</th>\n",
       "      <th>CARRIER_DELAY</th>\n",
       "      <th>WEATHER_DELAY</th>\n",
       "      <th>NAS_DELAY</th>\n",
       "      <th>SECURITY_DELAY</th>\n",
       "      <th>LATE_AIRCRAFT_DELAY</th>\n",
       "      <th>FIRST_DEP_TIME</th>\n",
       "      <th>TOTAL_ADD_GTIME</th>\n",
       "      <th>LONGEST_ADD_GTIME</th>\n",
       "      <th>Unnamed: 64</th>\n",
       "    </tr>\n",
       "  </thead>\n",
       "  <tbody>\n",
       "  </tbody>\n",
       "</table>\n",
       "<p>0 rows × 65 columns</p>\n",
       "</div>"
      ],
      "text/plain": [
       "Empty DataFrame\n",
       "Columns: [YEAR, QUARTER, MONTH, DAY_OF_MONTH, DAY_OF_WEEK, FL_DATE, UNIQUE_CARRIER, AIRLINE_ID, CARRIER, TAIL_NUM, FL_NUM, ORIGIN_AIRPORT_ID, ORIGIN_AIRPORT_SEQ_ID, ORIGIN_CITY_MARKET_ID, ORIGIN, ORIGIN_CITY_NAME, ORIGIN_STATE_ABR, ORIGIN_STATE_FIPS, ORIGIN_STATE_NM, ORIGIN_WAC, DEST_AIRPORT_ID, DEST_AIRPORT_SEQ_ID, DEST_CITY_MARKET_ID, DEST, DEST_CITY_NAME, DEST_STATE_ABR, DEST_STATE_FIPS, DEST_STATE_NM, DEST_WAC, CRS_DEP_TIME, DEP_TIME, DEP_DELAY, DEP_DELAY_NEW, DEP_DEL15, DEP_DELAY_GROUP, DEP_TIME_BLK, TAXI_OUT, WHEELS_OFF, WHEELS_ON, TAXI_IN, CRS_ARR_TIME, ARR_TIME, ARR_DELAY, ARR_DELAY_NEW, ARR_DEL15, ARR_DELAY_GROUP, ARR_TIME_BLK, CANCELLED, CANCELLATION_CODE, DIVERTED, CRS_ELAPSED_TIME, ACTUAL_ELAPSED_TIME, AIR_TIME, FLIGHTS, DISTANCE, DISTANCE_GROUP, CARRIER_DELAY, WEATHER_DELAY, NAS_DELAY, SECURITY_DELAY, LATE_AIRCRAFT_DELAY, FIRST_DEP_TIME, TOTAL_ADD_GTIME, LONGEST_ADD_GTIME, Unnamed: 64]\n",
       "Index: []\n",
       "\n",
       "[0 rows x 65 columns]"
      ]
     },
     "execution_count": 29,
     "metadata": {},
     "output_type": "execute_result"
    }
   ],
   "source": [
    "df_ap_clean = df_ap_clean.drop(index=461808)\n",
    "df_ap_clean[df_ap_clean[\"QUARTER\"] == \"EV\"]"
   ]
  },
  {
   "cell_type": "code",
   "execution_count": 30,
   "metadata": {},
   "outputs": [
    {
     "name": "stdout",
     "output_type": "stream",
     "text": [
      "--------------------------------------------------\n",
      "QUARTER\n",
      "--------------------------------------------------\n",
      "QUARTER\n",
      "2    362831\n",
      "1    117118\n",
      "Name: count, dtype: int64\n",
      "--------------------------------------------------\n",
      "DAY_OF_MONTH\n",
      "--------------------------------------------------\n",
      "DAY_OF_MONTH\n",
      "25    18088\n",
      "15    17894\n",
      "29    17791\n",
      "22    17762\n",
      "21    17606\n",
      "28    17398\n",
      "27    17249\n",
      "18    17077\n",
      "20    17059\n",
      "24    16783\n",
      "14    16641\n",
      "26    16330\n",
      "6     16285\n",
      "19    16254\n",
      "17    15656\n",
      "3     15608\n",
      "23    15571\n",
      "13    15188\n",
      "8     15041\n",
      "30    14990\n",
      "1     14880\n",
      "12    14874\n",
      "4     14797\n",
      "7     14741\n",
      "11    14618\n",
      "16    14581\n",
      "5     14326\n",
      "2     14002\n",
      "10    13899\n",
      "9     12570\n",
      "31     4390\n",
      "Name: count, dtype: int64\n",
      "--------------------------------------------------\n",
      "DAY_OF_WEEK\n",
      "--------------------------------------------------\n",
      "DAY_OF_WEEK\n",
      "5    76515\n",
      "2    70534\n",
      "4    69843\n",
      "3    69261\n",
      "1    66117\n",
      "6    64559\n",
      "7    63120\n",
      "Name: count, dtype: int64\n",
      "--------------------------------------------------\n",
      "FL_NUM\n",
      "--------------------------------------------------\n",
      "FL_NUM\n",
      "511     316\n",
      "1402    313\n",
      "321     285\n",
      "1983    280\n",
      "188     277\n",
      "       ... \n",
      "5457      1\n",
      "5612      1\n",
      "5521      1\n",
      "5517      1\n",
      "6568      1\n",
      "Name: count, Length: 5948, dtype: int64\n",
      "--------------------------------------------------\n",
      "CRS_DEP_TIME\n",
      "--------------------------------------------------\n",
      "CRS_DEP_TIME\n",
      "600.0     8672\n",
      "700.0     6496\n",
      "800.0     4169\n",
      "900.0     3254\n",
      "730.0     3243\n",
      "          ... \n",
      "2327.0       1\n",
      "2303.0       1\n",
      "503.0        1\n",
      "2334.0       1\n",
      "127.0        1\n",
      "Name: count, Length: 1218, dtype: int64\n",
      "--------------------------------------------------\n",
      "CRS_ARR_TIME\n",
      "--------------------------------------------------\n",
      "CRS_ARR_TIME\n",
      "2015.0    1632\n",
      "1305.0    1561\n",
      "1430.0    1561\n",
      "1650.0    1496\n",
      "910.0     1489\n",
      "          ... \n",
      "240.0        1\n",
      "347.0        1\n",
      "352.0        1\n",
      "343.0        1\n",
      "418.0        1\n",
      "Name: count, Length: 1319, dtype: int64\n",
      "--------------------------------------------------\n",
      "ARR_TIME_BLK\n",
      "--------------------------------------------------\n",
      "ARR_TIME_BLK\n",
      "1600-1659    32908\n",
      "2100-2159    30175\n",
      "1800-1859    29915\n",
      "1100-1159    28859\n",
      "1000-1059    28832\n",
      "1400-1459    28821\n",
      "2000-2059    28475\n",
      "0900-0959    28426\n",
      "1300-1359    28135\n",
      "1700-1759    27844\n",
      "1900-1959    27656\n",
      "1200-1259    27471\n",
      "1500-1559    26754\n",
      "2200-2259    24222\n",
      "0800-0859    22642\n",
      "2300-2359    20706\n",
      "0700-0759    17456\n",
      "0001-0559    12975\n",
      "0600-0659     7674\n",
      "Name: count, dtype: int64\n"
     ]
    }
   ],
   "source": [
    "cols_to_check = [\n",
    "    \"QUARTER\",\n",
    "    \"DAY_OF_MONTH\",\n",
    "    \"DAY_OF_WEEK\",\n",
    "    \"FL_NUM\",\n",
    "    \"CRS_DEP_TIME\",\n",
    "    \"CRS_ARR_TIME\",\n",
    "    \"ARR_TIME_BLK\",\n",
    "]\n",
    "\n",
    "for col in cols_to_check:\n",
    "    print(\"-\" * 50)\n",
    "    print(col)\n",
    "    print(\"-\" * 50)\n",
    "    print(df_ap_clean[col].value_counts())"
   ]
  },
  {
   "cell_type": "markdown",
   "metadata": {},
   "source": [
    "Nous constatons qu'étrangement, ce fichier qui est censé ne concerner que le mois d'avril contient un nombre significatif des valeurs de `QUARTER` à 1 au lieu de 2.\n",
    "\n",
    "**Hypothèse :** Certaines entrées du mois de mars ont été incluses dans les données du mois d'avril\n"
   ]
  },
  {
   "cell_type": "code",
   "execution_count": 31,
   "metadata": {},
   "outputs": [
    {
     "name": "stdout",
     "output_type": "stream",
     "text": [
      "Nombre de lignes incohérentes: 0\n"
     ]
    }
   ],
   "source": [
    "coherence_check = ((df_ap_clean[\"MONTH\"] == \"3\") & (df_ap_clean[\"QUARTER\"] == \"1\")) | (\n",
    "    (df_ap_clean[\"MONTH\"] == \"4\") & (df_ap_clean[\"QUARTER\"] == \"2\")\n",
    ")\n",
    "\n",
    "incoherent_rows = df_ap_clean[~coherence_check & df_ap_clean[\"MONTH\"].isin([\"3\", \"4\"])]\n",
    "\n",
    "print(f\"Nombre de lignes incohérentes: {len(incoherent_rows)}\")\n",
    "if len(incoherent_rows) > 0:\n",
    "    print(\"Échantillon des incohérences:\")\n",
    "    print(incoherent_rows[[\"MONTH\", \"QUARTER\"]].head())"
   ]
  },
  {
   "cell_type": "markdown",
   "metadata": {},
   "source": [
    "L'hypothèse selon laquelle des lignes du mois de mars sont incluses dans les données du mois d'avril semble se vérifier dans la mesure où il existe une cohérence parfaite entre le mois et le semestre.\n"
   ]
  },
  {
   "cell_type": "code",
   "execution_count": 32,
   "metadata": {},
   "outputs": [
    {
     "name": "stdout",
     "output_type": "stream",
     "text": [
      "30\n",
      "33\n"
     ]
    }
   ],
   "source": [
    "jan_float_cols = df_jan.select_dtypes(include=[\"float64\", \"float32\"]).columns\n",
    "ap_float_cols = df_ap_clean.select_dtypes(include=[\"float64\", \"float32\"]).columns\n",
    "print(len(jan_float_cols))\n",
    "print(len(ap_float_cols))"
   ]
  },
  {
   "cell_type": "markdown",
   "metadata": {},
   "source": [
    "## 4. VISUALISATIONS\n"
   ]
  },
  {
   "cell_type": "code",
   "execution_count": null,
   "metadata": {},
   "outputs": [],
   "source": []
  },
  {
   "cell_type": "markdown",
   "metadata": {},
   "source": [
    "## 5.MODÉLISATION\n"
   ]
  },
  {
   "cell_type": "code",
   "execution_count": null,
   "metadata": {},
   "outputs": [],
   "source": []
  }
 ],
 "metadata": {
  "kernelspec": {
   "display_name": ".venv (3.10.18)",
   "language": "python",
   "name": "python3"
  },
  "language_info": {
   "codemirror_mode": {
    "name": "ipython",
    "version": 3
   },
   "file_extension": ".py",
   "mimetype": "text/x-python",
   "name": "python",
   "nbconvert_exporter": "python",
   "pygments_lexer": "ipython3",
   "version": "3.10.18"
  }
 },
 "nbformat": 4,
 "nbformat_minor": 2
}
