{
 "cells": [
  {
   "cell_type": "markdown",
   "metadata": {},
   "source": [
    "# PREDICTION DES RETARDS DE VOL\n"
   ]
  },
  {
   "cell_type": "markdown",
   "metadata": {},
   "source": [
    "## 1. IMPORT DES LIBRAIRIES\n"
   ]
  },
  {
   "cell_type": "code",
   "execution_count": 1,
   "metadata": {},
   "outputs": [],
   "source": [
    "import pandas as pd\n",
    "from os.path import join\n",
    "from sklearn.model_selection import train_test_split"
   ]
  },
  {
   "cell_type": "markdown",
   "metadata": {},
   "source": [
    "## 2. CHARGEMENT DES DONNÉES\n"
   ]
  },
  {
   "cell_type": "markdown",
   "metadata": {},
   "source": [
    "Les données sont réparties en 12 fichiers csv, un par mois de l'année 2016.  \n",
    "Chaque fichier comporte plus de 470000 lignes. Cela représente un total de plus de 5,5 millions de lignes. Il nous faut donc trouver une stratégie pour épargner notre mémoire.\n"
   ]
  },
  {
   "cell_type": "code",
   "execution_count": 2,
   "metadata": {},
   "outputs": [],
   "source": [
    "raw_data_path = join(\"..\", \"data\", \"raw\")"
   ]
  },
  {
   "cell_type": "code",
   "execution_count": 3,
   "metadata": {},
   "outputs": [
    {
     "name": "stdout",
     "output_type": "stream",
     "text": [
      "445827 lines loaded from ../data/raw/2016_01.csv ✅\n",
      "--------------------------------------------------\n",
      "423889 lines loaded from ../data/raw/2016_02.csv ✅\n",
      "--------------------------------------------------\n",
      "479122 lines loaded from ../data/raw/2016_03.csv ✅\n",
      "--------------------------------------------------\n"
     ]
    },
    {
     "name": "stderr",
     "output_type": "stream",
     "text": [
      "/tmp/ipykernel_64514/157580900.py:10: ParserWarning: Skipping line 121012: expected 65 fields, saw 75\n",
      "Skipping line 386249: expected 65 fields, saw 83\n",
      "Skipping line 388291: expected 65 fields, saw 78\n",
      "Skipping line 389371: expected 65 fields, saw 72\n",
      "Skipping line 389548: expected 65 fields, saw 81\n",
      "Skipping line 453858: expected 65 fields, saw 97\n",
      "\n",
      "  month_df = pd.read_csv(data_path, on_bad_lines=\"warn\", low_memory=False)\n"
     ]
    },
    {
     "name": "stdout",
     "output_type": "stream",
     "text": [
      "479950 lines loaded from ../data/raw/2016_04.csv ✅\n",
      "--------------------------------------------------\n",
      "479358 lines loaded from ../data/raw/2016_05.csv ✅\n",
      "--------------------------------------------------\n",
      "487637 lines loaded from ../data/raw/2016_06.csv ✅\n",
      "--------------------------------------------------\n",
      "502457 lines loaded from ../data/raw/2016_07.csv ✅\n",
      "--------------------------------------------------\n",
      "498347 lines loaded from ../data/raw/2016_08.csv ✅\n",
      "--------------------------------------------------\n",
      "454878 lines loaded from ../data/raw/2016_09.csv ✅\n",
      "--------------------------------------------------\n",
      "472626 lines loaded from ../data/raw/2016_10.csv ✅\n",
      "--------------------------------------------------\n",
      "450938 lines loaded from ../data/raw/2016_11.csv ✅\n",
      "--------------------------------------------------\n",
      "460949 lines loaded from ../data/raw/2016_12.csv ✅\n",
      "--------------------------------------------------\n",
      "For a total lines count of: 5635978\n"
     ]
    }
   ],
   "source": [
    "pd.set_option(\"display.max_rows\", 65)\n",
    "pd.set_option(\"display.max_columns\", 65)\n",
    "\n",
    "df_list = []\n",
    "total_lines_count = 0\n",
    "\n",
    "for month in range(1, 13):\n",
    "    data_path = join(raw_data_path, f\"2016_{month:02}.csv\")\n",
    "    try:\n",
    "        month_df = pd.read_csv(data_path, on_bad_lines=\"warn\", low_memory=False)\n",
    "        df_list.append(month_df)\n",
    "        lines_count = month_df.shape[0]\n",
    "        total_lines_count += lines_count\n",
    "        print(f\"{lines_count} lines loaded from {data_path} ✅\")\n",
    "    except pd.errors.ParserError as err:\n",
    "        print(f\"ParserError for {data_path}: {err}\")\n",
    "    print(\"-\" * 50)\n",
    "\n",
    "print(f\"For a total lines count of: {total_lines_count}\")\n"
   ]
  },
  {
   "cell_type": "markdown",
   "metadata": {},
   "source": [
    "Nous voilà donc avec une liste python des dataframes issus des 12 fichiers csv initiaux, pour un total de 5 635 978 lignes (soit plus de 5.6millions de lignes comme anticipé).\n"
   ]
  },
  {
   "cell_type": "code",
   "execution_count": 4,
   "metadata": {},
   "outputs": [],
   "source": [
    "concat_df = pd.concat(df_list, ignore_index=True)"
   ]
  },
  {
   "cell_type": "markdown",
   "metadata": {},
   "source": [
    "Nous avons identifié la colonne `ARR_DEL15` comme étant notre cible (target). Il est indispensable d'exclure toute ligne sans cible.\n"
   ]
  },
  {
   "cell_type": "code",
   "execution_count": 5,
   "metadata": {},
   "outputs": [
    {
     "name": "stdout",
     "output_type": "stream",
     "text": [
      "79781 lines have an empty target.\n",
      "The empty target lines represent 1.42% of the original dataset.\n"
     ]
    }
   ],
   "source": [
    "empty_target_lines_count = concat_df[\"ARR_DEL15\"].isna().sum()\n",
    "empty_target_percentage = empty_target_lines_count / total_lines_count * 100\n",
    "\n",
    "print(f\"{empty_target_lines_count} lines have an empty target.\")\n",
    "print(\n",
    "    f\"The empty target lines represent {empty_target_percentage:.2f}% of the original dataset.\"\n",
    ")"
   ]
  },
  {
   "cell_type": "markdown",
   "metadata": {},
   "source": [
    "Nous allons maintenant supprimer les lignes dont la cible est manquante.\n"
   ]
  },
  {
   "cell_type": "code",
   "execution_count": null,
   "metadata": {},
   "outputs": [],
   "source": [
    "clean_df = concat_df.dropna(subset=[\"ARR_DEL15\"])\n",
    "clean_df[\"ARR_DEL15\"] = clean_df[\"ARR_DEL15\"].astype(\"bool\")"
   ]
  },
  {
   "cell_type": "code",
   "execution_count": 7,
   "metadata": {},
   "outputs": [
    {
     "name": "stdout",
     "output_type": "stream",
     "text": [
      "79781 lines with empty target have been dropped with success.\n"
     ]
    }
   ],
   "source": [
    "actual_clean_df_line_count = int(clean_df.shape[0])\n",
    "expected_clean_df_line_count = int(total_lines_count - empty_target_lines_count)\n",
    "\n",
    "if actual_clean_df_line_count == expected_clean_df_line_count:\n",
    "    print(\n",
    "        f\"{empty_target_lines_count} lines with empty target have been dropped with success.\"\n",
    "    )\n",
    "else:\n",
    "    print(\"Something wrong happened while cleaning dataframe\")"
   ]
  },
  {
   "cell_type": "code",
   "execution_count": 8,
   "metadata": {},
   "outputs": [],
   "source": [
    "clean_data_path = join(raw_data_path, \"clean_concat.parquet\")\n",
    "clean_df.to_csv(clean_data_path)"
   ]
  },
  {
   "cell_type": "markdown",
   "metadata": {},
   "source": [
    "## 3. EXPLORATION DES DONNÉES\n"
   ]
  },
  {
   "cell_type": "markdown",
   "metadata": {},
   "source": [
    "Notre dataset est très volumineux, pour des questions de mémoire nous allons travailler sur un échantillon représentatif du dataset en terme de cible.\n"
   ]
  },
  {
   "cell_type": "code",
   "execution_count": null,
   "metadata": {},
   "outputs": [],
   "source": [
    "df_sample, _ = train_test_split(\n",
    "    clean_df, train_size=0.1, stratify=clean_df[\"ARR_DEL15\"], random_state=42\n",
    ")"
   ]
  },
  {
   "cell_type": "markdown",
   "metadata": {},
   "source": [
    "- La colonne `FL_DATE` contient à elle seule toutes les informations temporelles. Du point de vue du stockage, il pourrait être intéressant de ne conserver que cette donnée temporelle et de supprimer `YEAR`, `QUARTER`, `MONTH`, `DAY_OF_MONTH`, `DAY_OF_WEEK`\n"
   ]
  },
  {
   "cell_type": "code",
   "execution_count": null,
   "metadata": {},
   "outputs": [],
   "source": [
    "df = clean_df.copy()"
   ]
  },
  {
   "cell_type": "markdown",
   "metadata": {},
   "source": [
    "## 4. VISUALISATIONS\n"
   ]
  },
  {
   "cell_type": "code",
   "execution_count": null,
   "metadata": {},
   "outputs": [],
   "source": []
  },
  {
   "cell_type": "markdown",
   "metadata": {},
   "source": [
    "## 5.MODÉLISATION\n"
   ]
  },
  {
   "cell_type": "code",
   "execution_count": null,
   "metadata": {},
   "outputs": [],
   "source": []
  }
 ],
 "metadata": {
  "kernelspec": {
   "display_name": ".venv",
   "language": "python",
   "name": "python3"
  },
  "language_info": {
   "codemirror_mode": {
    "name": "ipython",
    "version": 3
   },
   "file_extension": ".py",
   "mimetype": "text/x-python",
   "name": "python",
   "nbconvert_exporter": "python",
   "pygments_lexer": "ipython3",
   "version": "3.10.18"
  }
 },
 "nbformat": 4,
 "nbformat_minor": 2
}
